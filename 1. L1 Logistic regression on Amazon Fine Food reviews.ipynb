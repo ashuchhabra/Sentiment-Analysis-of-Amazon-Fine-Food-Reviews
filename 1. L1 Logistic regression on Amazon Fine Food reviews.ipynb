{
 "cells": [
  {
   "cell_type": "markdown",
   "metadata": {},
   "source": [
    "## Sentiment Analysis of Amazon Fine Food Reviews using Logistic Regression (L1)"
   ]
  },
  {
   "cell_type": "markdown",
   "metadata": {},
   "source": [
    "## Importing Libraries"
   ]
  },
  {
   "cell_type": "code",
   "execution_count": 1,
   "metadata": {
    "scrolled": true
   },
   "outputs": [
    {
     "name": "stderr",
     "output_type": "stream",
     "text": [
      "C:\\Users\\hp\\Anaconda3\\lib\\site-packages\\statsmodels\\tools\\_testing.py:19: FutureWarning: pandas.util.testing is deprecated. Use the functions in the public API at pandas.testing instead.\n",
      "  import pandas.util.testing as tm\n"
     ]
    }
   ],
   "source": [
    "import pandas as pd\n",
    "import numpy as np\n",
    "import sqlite3\n",
    "import seaborn as sns\n",
    "\n",
    "from sklearn.linear_model import LogisticRegression\n",
    "from sklearn.model_selection import GridSearchCV\n",
    "from sklearn.model_selection import RandomizedSearchCV\n",
    "import matplotlib.pyplot as plt\n",
    "\n",
    "import random\n",
    "from scipy.stats import uniform\n",
    "\n",
    "from sklearn.feature_extraction.text import TfidfTransformer\n",
    "from sklearn.feature_extraction.text import TfidfVectorizer"
   ]
  },
  {
   "cell_type": "code",
   "execution_count": 2,
   "metadata": {},
   "outputs": [],
   "source": [
    "con = sqlite3.connect('database.sqlite')"
   ]
  },
  {
   "cell_type": "code",
   "execution_count": 3,
   "metadata": {},
   "outputs": [],
   "source": [
    "filtered_data=pd.read_sql_query(\"\"\"Select * FROM Reviews WHERE Score !=3 LIMIT 5000 \"\"\",con)"
   ]
  },
  {
   "cell_type": "code",
   "execution_count": 4,
   "metadata": {},
   "outputs": [
    {
     "data": {
      "text/html": [
       "<div>\n",
       "<style scoped>\n",
       "    .dataframe tbody tr th:only-of-type {\n",
       "        vertical-align: middle;\n",
       "    }\n",
       "\n",
       "    .dataframe tbody tr th {\n",
       "        vertical-align: top;\n",
       "    }\n",
       "\n",
       "    .dataframe thead th {\n",
       "        text-align: right;\n",
       "    }\n",
       "</style>\n",
       "<table border=\"1\" class=\"dataframe\">\n",
       "  <thead>\n",
       "    <tr style=\"text-align: right;\">\n",
       "      <th></th>\n",
       "      <th>Id</th>\n",
       "      <th>ProductId</th>\n",
       "      <th>UserId</th>\n",
       "      <th>ProfileName</th>\n",
       "      <th>HelpfulnessNumerator</th>\n",
       "      <th>HelpfulnessDenominator</th>\n",
       "      <th>Score</th>\n",
       "      <th>Time</th>\n",
       "      <th>Summary</th>\n",
       "      <th>Text</th>\n",
       "    </tr>\n",
       "  </thead>\n",
       "  <tbody>\n",
       "    <tr>\n",
       "      <th>0</th>\n",
       "      <td>1</td>\n",
       "      <td>B001E4KFG0</td>\n",
       "      <td>A3SGXH7AUHU8GW</td>\n",
       "      <td>delmartian</td>\n",
       "      <td>1</td>\n",
       "      <td>1</td>\n",
       "      <td>5</td>\n",
       "      <td>1303862400</td>\n",
       "      <td>Good Quality Dog Food</td>\n",
       "      <td>I have bought several of the Vitality canned d...</td>\n",
       "    </tr>\n",
       "    <tr>\n",
       "      <th>1</th>\n",
       "      <td>2</td>\n",
       "      <td>B00813GRG4</td>\n",
       "      <td>A1D87F6ZCVE5NK</td>\n",
       "      <td>dll pa</td>\n",
       "      <td>0</td>\n",
       "      <td>0</td>\n",
       "      <td>1</td>\n",
       "      <td>1346976000</td>\n",
       "      <td>Not as Advertised</td>\n",
       "      <td>Product arrived labeled as Jumbo Salted Peanut...</td>\n",
       "    </tr>\n",
       "    <tr>\n",
       "      <th>2</th>\n",
       "      <td>3</td>\n",
       "      <td>B000LQOCH0</td>\n",
       "      <td>ABXLMWJIXXAIN</td>\n",
       "      <td>Natalia Corres \"Natalia Corres\"</td>\n",
       "      <td>1</td>\n",
       "      <td>1</td>\n",
       "      <td>4</td>\n",
       "      <td>1219017600</td>\n",
       "      <td>\"Delight\" says it all</td>\n",
       "      <td>This is a confection that has been around a fe...</td>\n",
       "    </tr>\n",
       "    <tr>\n",
       "      <th>3</th>\n",
       "      <td>4</td>\n",
       "      <td>B000UA0QIQ</td>\n",
       "      <td>A395BORC6FGVXV</td>\n",
       "      <td>Karl</td>\n",
       "      <td>3</td>\n",
       "      <td>3</td>\n",
       "      <td>2</td>\n",
       "      <td>1307923200</td>\n",
       "      <td>Cough Medicine</td>\n",
       "      <td>If you are looking for the secret ingredient i...</td>\n",
       "    </tr>\n",
       "    <tr>\n",
       "      <th>4</th>\n",
       "      <td>5</td>\n",
       "      <td>B006K2ZZ7K</td>\n",
       "      <td>A1UQRSCLF8GW1T</td>\n",
       "      <td>Michael D. Bigham \"M. Wassir\"</td>\n",
       "      <td>0</td>\n",
       "      <td>0</td>\n",
       "      <td>5</td>\n",
       "      <td>1350777600</td>\n",
       "      <td>Great taffy</td>\n",
       "      <td>Great taffy at a great price.  There was a wid...</td>\n",
       "    </tr>\n",
       "  </tbody>\n",
       "</table>\n",
       "</div>"
      ],
      "text/plain": [
       "   Id   ProductId          UserId                      ProfileName  \\\n",
       "0   1  B001E4KFG0  A3SGXH7AUHU8GW                       delmartian   \n",
       "1   2  B00813GRG4  A1D87F6ZCVE5NK                           dll pa   \n",
       "2   3  B000LQOCH0   ABXLMWJIXXAIN  Natalia Corres \"Natalia Corres\"   \n",
       "3   4  B000UA0QIQ  A395BORC6FGVXV                             Karl   \n",
       "4   5  B006K2ZZ7K  A1UQRSCLF8GW1T    Michael D. Bigham \"M. Wassir\"   \n",
       "\n",
       "   HelpfulnessNumerator  HelpfulnessDenominator  Score        Time  \\\n",
       "0                     1                       1      5  1303862400   \n",
       "1                     0                       0      1  1346976000   \n",
       "2                     1                       1      4  1219017600   \n",
       "3                     3                       3      2  1307923200   \n",
       "4                     0                       0      5  1350777600   \n",
       "\n",
       "                 Summary                                               Text  \n",
       "0  Good Quality Dog Food  I have bought several of the Vitality canned d...  \n",
       "1      Not as Advertised  Product arrived labeled as Jumbo Salted Peanut...  \n",
       "2  \"Delight\" says it all  This is a confection that has been around a fe...  \n",
       "3         Cough Medicine  If you are looking for the secret ingredient i...  \n",
       "4            Great taffy  Great taffy at a great price.  There was a wid...  "
      ]
     },
     "execution_count": 4,
     "metadata": {},
     "output_type": "execute_result"
    }
   ],
   "source": [
    "filtered_data.head()"
   ]
  },
  {
   "cell_type": "code",
   "execution_count": 5,
   "metadata": {},
   "outputs": [],
   "source": [
    "def partition(x):\n",
    "    if x<3:\n",
    "        return 0\n",
    "    return 1\n",
    "actualScore = filtered_data['Score']\n",
    "positiveNegative = actualScore.map(partition)\n",
    "filtered_data['Score'] = positiveNegative"
   ]
  },
  {
   "cell_type": "code",
   "execution_count": 6,
   "metadata": {},
   "outputs": [
    {
     "data": {
      "text/plain": [
       "pandas.core.series.Series"
      ]
     },
     "execution_count": 6,
     "metadata": {},
     "output_type": "execute_result"
    }
   ],
   "source": [
    "type(positiveNegative)"
   ]
  },
  {
   "cell_type": "code",
   "execution_count": 7,
   "metadata": {},
   "outputs": [
    {
     "data": {
      "text/plain": [
       "0    1\n",
       "1    0\n",
       "2    1\n",
       "3    0\n",
       "4    1\n",
       "Name: Score, dtype: int64"
      ]
     },
     "execution_count": 7,
     "metadata": {},
     "output_type": "execute_result"
    }
   ],
   "source": [
    "positiveNegative.head()"
   ]
  },
  {
   "cell_type": "code",
   "execution_count": 8,
   "metadata": {},
   "outputs": [
    {
     "data": {
      "text/html": [
       "<div>\n",
       "<style scoped>\n",
       "    .dataframe tbody tr th:only-of-type {\n",
       "        vertical-align: middle;\n",
       "    }\n",
       "\n",
       "    .dataframe tbody tr th {\n",
       "        vertical-align: top;\n",
       "    }\n",
       "\n",
       "    .dataframe thead th {\n",
       "        text-align: right;\n",
       "    }\n",
       "</style>\n",
       "<table border=\"1\" class=\"dataframe\">\n",
       "  <thead>\n",
       "    <tr style=\"text-align: right;\">\n",
       "      <th></th>\n",
       "      <th>Id</th>\n",
       "      <th>ProductId</th>\n",
       "      <th>UserId</th>\n",
       "      <th>ProfileName</th>\n",
       "      <th>HelpfulnessNumerator</th>\n",
       "      <th>HelpfulnessDenominator</th>\n",
       "      <th>Score</th>\n",
       "      <th>Time</th>\n",
       "      <th>Summary</th>\n",
       "      <th>Text</th>\n",
       "    </tr>\n",
       "  </thead>\n",
       "  <tbody>\n",
       "    <tr>\n",
       "      <th>0</th>\n",
       "      <td>1</td>\n",
       "      <td>B001E4KFG0</td>\n",
       "      <td>A3SGXH7AUHU8GW</td>\n",
       "      <td>delmartian</td>\n",
       "      <td>1</td>\n",
       "      <td>1</td>\n",
       "      <td>1</td>\n",
       "      <td>1303862400</td>\n",
       "      <td>Good Quality Dog Food</td>\n",
       "      <td>I have bought several of the Vitality canned d...</td>\n",
       "    </tr>\n",
       "    <tr>\n",
       "      <th>1</th>\n",
       "      <td>2</td>\n",
       "      <td>B00813GRG4</td>\n",
       "      <td>A1D87F6ZCVE5NK</td>\n",
       "      <td>dll pa</td>\n",
       "      <td>0</td>\n",
       "      <td>0</td>\n",
       "      <td>0</td>\n",
       "      <td>1346976000</td>\n",
       "      <td>Not as Advertised</td>\n",
       "      <td>Product arrived labeled as Jumbo Salted Peanut...</td>\n",
       "    </tr>\n",
       "    <tr>\n",
       "      <th>2</th>\n",
       "      <td>3</td>\n",
       "      <td>B000LQOCH0</td>\n",
       "      <td>ABXLMWJIXXAIN</td>\n",
       "      <td>Natalia Corres \"Natalia Corres\"</td>\n",
       "      <td>1</td>\n",
       "      <td>1</td>\n",
       "      <td>1</td>\n",
       "      <td>1219017600</td>\n",
       "      <td>\"Delight\" says it all</td>\n",
       "      <td>This is a confection that has been around a fe...</td>\n",
       "    </tr>\n",
       "    <tr>\n",
       "      <th>3</th>\n",
       "      <td>4</td>\n",
       "      <td>B000UA0QIQ</td>\n",
       "      <td>A395BORC6FGVXV</td>\n",
       "      <td>Karl</td>\n",
       "      <td>3</td>\n",
       "      <td>3</td>\n",
       "      <td>0</td>\n",
       "      <td>1307923200</td>\n",
       "      <td>Cough Medicine</td>\n",
       "      <td>If you are looking for the secret ingredient i...</td>\n",
       "    </tr>\n",
       "    <tr>\n",
       "      <th>4</th>\n",
       "      <td>5</td>\n",
       "      <td>B006K2ZZ7K</td>\n",
       "      <td>A1UQRSCLF8GW1T</td>\n",
       "      <td>Michael D. Bigham \"M. Wassir\"</td>\n",
       "      <td>0</td>\n",
       "      <td>0</td>\n",
       "      <td>1</td>\n",
       "      <td>1350777600</td>\n",
       "      <td>Great taffy</td>\n",
       "      <td>Great taffy at a great price.  There was a wid...</td>\n",
       "    </tr>\n",
       "  </tbody>\n",
       "</table>\n",
       "</div>"
      ],
      "text/plain": [
       "   Id   ProductId          UserId                      ProfileName  \\\n",
       "0   1  B001E4KFG0  A3SGXH7AUHU8GW                       delmartian   \n",
       "1   2  B00813GRG4  A1D87F6ZCVE5NK                           dll pa   \n",
       "2   3  B000LQOCH0   ABXLMWJIXXAIN  Natalia Corres \"Natalia Corres\"   \n",
       "3   4  B000UA0QIQ  A395BORC6FGVXV                             Karl   \n",
       "4   5  B006K2ZZ7K  A1UQRSCLF8GW1T    Michael D. Bigham \"M. Wassir\"   \n",
       "\n",
       "   HelpfulnessNumerator  HelpfulnessDenominator  Score        Time  \\\n",
       "0                     1                       1      1  1303862400   \n",
       "1                     0                       0      0  1346976000   \n",
       "2                     1                       1      1  1219017600   \n",
       "3                     3                       3      0  1307923200   \n",
       "4                     0                       0      1  1350777600   \n",
       "\n",
       "                 Summary                                               Text  \n",
       "0  Good Quality Dog Food  I have bought several of the Vitality canned d...  \n",
       "1      Not as Advertised  Product arrived labeled as Jumbo Salted Peanut...  \n",
       "2  \"Delight\" says it all  This is a confection that has been around a fe...  \n",
       "3         Cough Medicine  If you are looking for the secret ingredient i...  \n",
       "4            Great taffy  Great taffy at a great price.  There was a wid...  "
      ]
     },
     "execution_count": 8,
     "metadata": {},
     "output_type": "execute_result"
    }
   ],
   "source": [
    "filtered_data.head()"
   ]
  },
  {
   "cell_type": "code",
   "execution_count": 9,
   "metadata": {},
   "outputs": [
    {
     "name": "stdout",
     "output_type": "stream",
     "text": [
      "Number of data points in our data (5000, 10)\n"
     ]
    }
   ],
   "source": [
    "print(\"Number of data points in our data\", filtered_data.shape)"
   ]
  },
  {
   "cell_type": "code",
   "execution_count": 10,
   "metadata": {},
   "outputs": [],
   "source": [
    "sorted_data=filtered_data.sort_values('ProductId',axis=0,ascending=True,kind='quicksort', na_position='last')"
   ]
  },
  {
   "cell_type": "code",
   "execution_count": 11,
   "metadata": {},
   "outputs": [
    {
     "data": {
      "text/plain": [
       "pandas.core.frame.DataFrame"
      ]
     },
     "execution_count": 11,
     "metadata": {},
     "output_type": "execute_result"
    }
   ],
   "source": [
    "type(sorted_data)"
   ]
  },
  {
   "cell_type": "code",
   "execution_count": 12,
   "metadata": {
    "scrolled": true
   },
   "outputs": [
    {
     "data": {
      "text/html": [
       "<div>\n",
       "<style scoped>\n",
       "    .dataframe tbody tr th:only-of-type {\n",
       "        vertical-align: middle;\n",
       "    }\n",
       "\n",
       "    .dataframe tbody tr th {\n",
       "        vertical-align: top;\n",
       "    }\n",
       "\n",
       "    .dataframe thead th {\n",
       "        text-align: right;\n",
       "    }\n",
       "</style>\n",
       "<table border=\"1\" class=\"dataframe\">\n",
       "  <thead>\n",
       "    <tr style=\"text-align: right;\">\n",
       "      <th></th>\n",
       "      <th>Id</th>\n",
       "      <th>ProductId</th>\n",
       "      <th>UserId</th>\n",
       "      <th>ProfileName</th>\n",
       "      <th>HelpfulnessNumerator</th>\n",
       "      <th>HelpfulnessDenominator</th>\n",
       "      <th>Score</th>\n",
       "      <th>Time</th>\n",
       "      <th>Summary</th>\n",
       "      <th>Text</th>\n",
       "    </tr>\n",
       "  </thead>\n",
       "  <tbody>\n",
       "    <tr>\n",
       "      <th>2546</th>\n",
       "      <td>2774</td>\n",
       "      <td>B00002NCJC</td>\n",
       "      <td>A196AJHU9EASJN</td>\n",
       "      <td>Alex Chaffee</td>\n",
       "      <td>0</td>\n",
       "      <td>0</td>\n",
       "      <td>1</td>\n",
       "      <td>1282953600</td>\n",
       "      <td>thirty bucks?</td>\n",
       "      <td>Why is this $[...] when the same product is av...</td>\n",
       "    </tr>\n",
       "    <tr>\n",
       "      <th>2547</th>\n",
       "      <td>2775</td>\n",
       "      <td>B00002NCJC</td>\n",
       "      <td>A13RRPGE79XFFH</td>\n",
       "      <td>reader48</td>\n",
       "      <td>0</td>\n",
       "      <td>0</td>\n",
       "      <td>1</td>\n",
       "      <td>1281052800</td>\n",
       "      <td>Flies Begone</td>\n",
       "      <td>We have used the Victor fly bait for 3 seasons...</td>\n",
       "    </tr>\n",
       "    <tr>\n",
       "      <th>1145</th>\n",
       "      <td>1244</td>\n",
       "      <td>B00002Z754</td>\n",
       "      <td>A3B8RCEI0FXFI6</td>\n",
       "      <td>B G Chase</td>\n",
       "      <td>10</td>\n",
       "      <td>10</td>\n",
       "      <td>1</td>\n",
       "      <td>962236800</td>\n",
       "      <td>WOW Make your own 'slickers' !</td>\n",
       "      <td>I just received my shipment and could hardly w...</td>\n",
       "    </tr>\n",
       "    <tr>\n",
       "      <th>1146</th>\n",
       "      <td>1245</td>\n",
       "      <td>B00002Z754</td>\n",
       "      <td>A29Z5PI9BW2PU3</td>\n",
       "      <td>Robbie</td>\n",
       "      <td>7</td>\n",
       "      <td>7</td>\n",
       "      <td>1</td>\n",
       "      <td>961718400</td>\n",
       "      <td>Great Product</td>\n",
       "      <td>This was a really good idea and the final prod...</td>\n",
       "    </tr>\n",
       "    <tr>\n",
       "      <th>2942</th>\n",
       "      <td>3204</td>\n",
       "      <td>B000084DVR</td>\n",
       "      <td>A1UGDJP1ZJWVPF</td>\n",
       "      <td>T. Moore \"thoughtful reader\"</td>\n",
       "      <td>1</td>\n",
       "      <td>1</td>\n",
       "      <td>1</td>\n",
       "      <td>1177977600</td>\n",
       "      <td>Good stuff!</td>\n",
       "      <td>I'm glad my 45lb cocker/standard poodle puppy ...</td>\n",
       "    </tr>\n",
       "  </tbody>\n",
       "</table>\n",
       "</div>"
      ],
      "text/plain": [
       "        Id   ProductId          UserId                   ProfileName  \\\n",
       "2546  2774  B00002NCJC  A196AJHU9EASJN                  Alex Chaffee   \n",
       "2547  2775  B00002NCJC  A13RRPGE79XFFH                      reader48   \n",
       "1145  1244  B00002Z754  A3B8RCEI0FXFI6                     B G Chase   \n",
       "1146  1245  B00002Z754  A29Z5PI9BW2PU3                        Robbie   \n",
       "2942  3204  B000084DVR  A1UGDJP1ZJWVPF  T. Moore \"thoughtful reader\"   \n",
       "\n",
       "      HelpfulnessNumerator  HelpfulnessDenominator  Score        Time  \\\n",
       "2546                     0                       0      1  1282953600   \n",
       "2547                     0                       0      1  1281052800   \n",
       "1145                    10                      10      1   962236800   \n",
       "1146                     7                       7      1   961718400   \n",
       "2942                     1                       1      1  1177977600   \n",
       "\n",
       "                             Summary  \\\n",
       "2546                   thirty bucks?   \n",
       "2547                    Flies Begone   \n",
       "1145  WOW Make your own 'slickers' !   \n",
       "1146                   Great Product   \n",
       "2942                     Good stuff!   \n",
       "\n",
       "                                                   Text  \n",
       "2546  Why is this $[...] when the same product is av...  \n",
       "2547  We have used the Victor fly bait for 3 seasons...  \n",
       "1145  I just received my shipment and could hardly w...  \n",
       "1146  This was a really good idea and the final prod...  \n",
       "2942  I'm glad my 45lb cocker/standard poodle puppy ...  "
      ]
     },
     "execution_count": 12,
     "metadata": {},
     "output_type": "execute_result"
    }
   ],
   "source": [
    "sorted_data.head()"
   ]
  },
  {
   "cell_type": "code",
   "execution_count": 13,
   "metadata": {},
   "outputs": [
    {
     "data": {
      "text/plain": [
       "5000"
      ]
     },
     "execution_count": 13,
     "metadata": {},
     "output_type": "execute_result"
    }
   ],
   "source": [
    "len(sorted_data)"
   ]
  },
  {
   "cell_type": "code",
   "execution_count": 14,
   "metadata": {},
   "outputs": [],
   "source": [
    "final = sorted_data.drop_duplicates(subset={\"UserId\",\"ProfileName\",\"Time\",\"Text\"},keep='first',inplace = False)"
   ]
  },
  {
   "cell_type": "code",
   "execution_count": 15,
   "metadata": {},
   "outputs": [
    {
     "data": {
      "text/plain": [
       "4986"
      ]
     },
     "execution_count": 15,
     "metadata": {},
     "output_type": "execute_result"
    }
   ],
   "source": [
    "len(final)"
   ]
  },
  {
   "cell_type": "code",
   "execution_count": 16,
   "metadata": {},
   "outputs": [],
   "source": [
    "# 14 duplicate enteries have been deleted."
   ]
  },
  {
   "cell_type": "code",
   "execution_count": 17,
   "metadata": {},
   "outputs": [],
   "source": [
    "display = pd.read_sql_query(\"\"\"Select * From Reviews Where Score!=3 and HelpfulnessNumerator > HelpfulnessDenominator\"\"\",con)"
   ]
  },
  {
   "cell_type": "code",
   "execution_count": 18,
   "metadata": {},
   "outputs": [
    {
     "data": {
      "text/html": [
       "<div>\n",
       "<style scoped>\n",
       "    .dataframe tbody tr th:only-of-type {\n",
       "        vertical-align: middle;\n",
       "    }\n",
       "\n",
       "    .dataframe tbody tr th {\n",
       "        vertical-align: top;\n",
       "    }\n",
       "\n",
       "    .dataframe thead th {\n",
       "        text-align: right;\n",
       "    }\n",
       "</style>\n",
       "<table border=\"1\" class=\"dataframe\">\n",
       "  <thead>\n",
       "    <tr style=\"text-align: right;\">\n",
       "      <th></th>\n",
       "      <th>Id</th>\n",
       "      <th>ProductId</th>\n",
       "      <th>UserId</th>\n",
       "      <th>ProfileName</th>\n",
       "      <th>HelpfulnessNumerator</th>\n",
       "      <th>HelpfulnessDenominator</th>\n",
       "      <th>Score</th>\n",
       "      <th>Time</th>\n",
       "      <th>Summary</th>\n",
       "      <th>Text</th>\n",
       "    </tr>\n",
       "  </thead>\n",
       "  <tbody>\n",
       "    <tr>\n",
       "      <th>0</th>\n",
       "      <td>44737</td>\n",
       "      <td>B001EQ55RW</td>\n",
       "      <td>A2V0I904FH7ABY</td>\n",
       "      <td>Ram</td>\n",
       "      <td>3</td>\n",
       "      <td>2</td>\n",
       "      <td>4</td>\n",
       "      <td>1212883200</td>\n",
       "      <td>Pure cocoa taste with crunchy almonds inside</td>\n",
       "      <td>It was almost a 'love at first bite' - the per...</td>\n",
       "    </tr>\n",
       "    <tr>\n",
       "      <th>1</th>\n",
       "      <td>64422</td>\n",
       "      <td>B000MIDROQ</td>\n",
       "      <td>A161DK06JJMCYF</td>\n",
       "      <td>J. E. Stephens \"Jeanne\"</td>\n",
       "      <td>3</td>\n",
       "      <td>1</td>\n",
       "      <td>5</td>\n",
       "      <td>1224892800</td>\n",
       "      <td>Bought This for My Son at College</td>\n",
       "      <td>My son loves spaghetti so I didn't hesitate or...</td>\n",
       "    </tr>\n",
       "  </tbody>\n",
       "</table>\n",
       "</div>"
      ],
      "text/plain": [
       "      Id   ProductId          UserId              ProfileName  \\\n",
       "0  44737  B001EQ55RW  A2V0I904FH7ABY                      Ram   \n",
       "1  64422  B000MIDROQ  A161DK06JJMCYF  J. E. Stephens \"Jeanne\"   \n",
       "\n",
       "   HelpfulnessNumerator  HelpfulnessDenominator  Score        Time  \\\n",
       "0                     3                       2      4  1212883200   \n",
       "1                     3                       1      5  1224892800   \n",
       "\n",
       "                                        Summary  \\\n",
       "0  Pure cocoa taste with crunchy almonds inside   \n",
       "1             Bought This for My Son at College   \n",
       "\n",
       "                                                Text  \n",
       "0  It was almost a 'love at first bite' - the per...  \n",
       "1  My son loves spaghetti so I didn't hesitate or...  "
      ]
     },
     "execution_count": 18,
     "metadata": {},
     "output_type": "execute_result"
    }
   ],
   "source": [
    "display"
   ]
  },
  {
   "cell_type": "code",
   "execution_count": null,
   "metadata": {},
   "outputs": [],
   "source": []
  },
  {
   "cell_type": "code",
   "execution_count": 19,
   "metadata": {},
   "outputs": [],
   "source": [
    "final=final[final.HelpfulnessNumerator<=final.HelpfulnessDenominator]"
   ]
  },
  {
   "cell_type": "code",
   "execution_count": 20,
   "metadata": {},
   "outputs": [
    {
     "name": "stdout",
     "output_type": "stream",
     "text": [
      "(4986, 10)\n"
     ]
    }
   ],
   "source": [
    "print(final.shape)"
   ]
  },
  {
   "cell_type": "code",
   "execution_count": 21,
   "metadata": {},
   "outputs": [
    {
     "data": {
      "text/html": [
       "<div>\n",
       "<style scoped>\n",
       "    .dataframe tbody tr th:only-of-type {\n",
       "        vertical-align: middle;\n",
       "    }\n",
       "\n",
       "    .dataframe tbody tr th {\n",
       "        vertical-align: top;\n",
       "    }\n",
       "\n",
       "    .dataframe thead th {\n",
       "        text-align: right;\n",
       "    }\n",
       "</style>\n",
       "<table border=\"1\" class=\"dataframe\">\n",
       "  <thead>\n",
       "    <tr style=\"text-align: right;\">\n",
       "      <th></th>\n",
       "      <th>Id</th>\n",
       "      <th>ProductId</th>\n",
       "      <th>UserId</th>\n",
       "      <th>ProfileName</th>\n",
       "      <th>HelpfulnessNumerator</th>\n",
       "      <th>HelpfulnessDenominator</th>\n",
       "      <th>Score</th>\n",
       "      <th>Time</th>\n",
       "      <th>Summary</th>\n",
       "      <th>Text</th>\n",
       "    </tr>\n",
       "  </thead>\n",
       "  <tbody>\n",
       "    <tr>\n",
       "      <th>2546</th>\n",
       "      <td>2774</td>\n",
       "      <td>B00002NCJC</td>\n",
       "      <td>A196AJHU9EASJN</td>\n",
       "      <td>Alex Chaffee</td>\n",
       "      <td>0</td>\n",
       "      <td>0</td>\n",
       "      <td>1</td>\n",
       "      <td>1282953600</td>\n",
       "      <td>thirty bucks?</td>\n",
       "      <td>Why is this $[...] when the same product is av...</td>\n",
       "    </tr>\n",
       "  </tbody>\n",
       "</table>\n",
       "</div>"
      ],
      "text/plain": [
       "        Id   ProductId          UserId   ProfileName  HelpfulnessNumerator  \\\n",
       "2546  2774  B00002NCJC  A196AJHU9EASJN  Alex Chaffee                     0   \n",
       "\n",
       "      HelpfulnessDenominator  Score        Time        Summary  \\\n",
       "2546                       0      1  1282953600  thirty bucks?   \n",
       "\n",
       "                                                   Text  \n",
       "2546  Why is this $[...] when the same product is av...  "
      ]
     },
     "execution_count": 21,
     "metadata": {},
     "output_type": "execute_result"
    }
   ],
   "source": [
    "final.head(1)"
   ]
  },
  {
   "cell_type": "code",
   "execution_count": 22,
   "metadata": {},
   "outputs": [
    {
     "data": {
      "text/plain": [
       "1    4178\n",
       "0     808\n",
       "Name: Score, dtype: int64"
      ]
     },
     "execution_count": 22,
     "metadata": {},
     "output_type": "execute_result"
    }
   ],
   "source": [
    "final[\"Score\"].value_counts()"
   ]
  },
  {
   "cell_type": "code",
   "execution_count": 23,
   "metadata": {},
   "outputs": [
    {
     "name": "stdout",
     "output_type": "stream",
     "text": [
      "Why is this $[...] when the same product is available for $[...] here?<br />http://www.amazon.com/VICTOR-FLY-MAGNET-BAIT-REFILL/dp/B00004RBDY<br /><br />The Victor M380 and M502 traps are unreal, of course -- total fly genocide. Pretty stinky, but only right nearby.\n"
     ]
    }
   ],
   "source": [
    "sent_0 = final['Text'].values[0]\n",
    "print(sent_0)"
   ]
  },
  {
   "cell_type": "code",
   "execution_count": 24,
   "metadata": {},
   "outputs": [],
   "source": [
    "#Removing html tags"
   ]
  },
  {
   "cell_type": "code",
   "execution_count": 25,
   "metadata": {},
   "outputs": [],
   "source": [
    "import re\n",
    "sent_0 = re.sub(r\"http\\S+\", \"\", sent_0)"
   ]
  },
  {
   "cell_type": "code",
   "execution_count": 26,
   "metadata": {},
   "outputs": [
    {
     "name": "stdout",
     "output_type": "stream",
     "text": [
      "Why is this $[...] when the same product is available for $[...] here?<br /> /><br />The Victor M380 and M502 traps are unreal, of course -- total fly genocide. Pretty stinky, but only right nearby.\n"
     ]
    }
   ],
   "source": [
    "print(sent_0)"
   ]
  },
  {
   "cell_type": "code",
   "execution_count": null,
   "metadata": {},
   "outputs": [],
   "source": []
  },
  {
   "cell_type": "code",
   "execution_count": 27,
   "metadata": {},
   "outputs": [],
   "source": [
    "from bs4 import BeautifulSoup"
   ]
  },
  {
   "cell_type": "code",
   "execution_count": 28,
   "metadata": {},
   "outputs": [],
   "source": [
    "# Data parsing is a process when one data format is transformed into another, more readable data format."
   ]
  },
  {
   "cell_type": "code",
   "execution_count": 29,
   "metadata": {},
   "outputs": [],
   "source": [
    "soup = BeautifulSoup(sent_0, 'lxml')"
   ]
  },
  {
   "cell_type": "code",
   "execution_count": 30,
   "metadata": {},
   "outputs": [
    {
     "name": "stdout",
     "output_type": "stream",
     "text": [
      "<html><body><p>Why is this $[...] when the same product is available for $[...] here?<br/> /&gt;<br/>The Victor M380 and M502 traps are unreal, of course -- total fly genocide. Pretty stinky, but only right nearby.</p></body></html>\n"
     ]
    }
   ],
   "source": [
    "print(soup)"
   ]
  },
  {
   "cell_type": "code",
   "execution_count": 31,
   "metadata": {},
   "outputs": [
    {
     "name": "stdout",
     "output_type": "stream",
     "text": [
      "Why is this $[...] when the same product is available for $[...] here? />The Victor M380 and M502 traps are unreal, of course -- total fly genocide. Pretty stinky, but only right nearby.\n"
     ]
    }
   ],
   "source": [
    "text = soup.get_text()\n",
    "print(text)"
   ]
  },
  {
   "cell_type": "code",
   "execution_count": null,
   "metadata": {},
   "outputs": [],
   "source": []
  },
  {
   "cell_type": "code",
   "execution_count": 32,
   "metadata": {},
   "outputs": [],
   "source": [
    "import re\n",
    "\n",
    "def decontracted(phrase):\n",
    "    # specific\n",
    "    phrase = re.sub(r\"won't\", \"will not\", phrase)\n",
    "    phrase = re.sub(r\"can\\'t\", \"can not\", phrase)\n",
    "\n",
    "    # general\n",
    "    phrase = re.sub(r\"n\\'t\", \" not\", phrase)\n",
    "    phrase = re.sub(r\"\\'re\", \" are\", phrase)\n",
    "    phrase = re.sub(r\"\\'s\", \" is\", phrase)\n",
    "    phrase = re.sub(r\"\\'d\", \" would\", phrase)\n",
    "    phrase = re.sub(r\"\\'ll\", \" will\", phrase)\n",
    "    phrase = re.sub(r\"\\'t\", \" not\", phrase)\n",
    "    phrase = re.sub(r\"\\'ve\", \" have\", phrase)\n",
    "    phrase = re.sub(r\"\\'m\", \" am\", phrase)\n",
    "    return phrase"
   ]
  },
  {
   "cell_type": "code",
   "execution_count": 33,
   "metadata": {},
   "outputs": [
    {
     "name": "stdout",
     "output_type": "stream",
     "text": [
      "Wow.  So far, two two-star reviews.  One obviously had no idea what they were ordering; the other wants crispy cookies.  Hey, I'm sorry; but these reviews do nobody any good beyond reminding us to look  before ordering.<br /><br />These are chocolate-oatmeal cookies.  If you don't like that combination, don't order this type of cookie.  I find the combo quite nice, really.  The oatmeal sort of \"calms\" the rich chocolate flavor and gives the cookie sort of a coconut-type consistency.  Now let's also remember that tastes differ; so, I've given my opinion.<br /><br />Then, these are soft, chewy cookies -- as advertised.  They are not \"crispy\" cookies, or the blurb would say \"crispy,\" rather than \"chewy.\"  I happen to like raw cookie dough; however, I don't see where these taste like raw cookie dough.  Both are soft, however, so is this the confusion?  And, yes, they stick together.  Soft cookies tend to do that.  They aren't individually wrapped, which would add to the cost.  Oh yeah, chocolate chip cookies tend to be somewhat sweet.<br /><br />So, if you want something hard and crisp, I suggest Nabiso's Ginger Snaps.  If you want a cookie that's soft, chewy and tastes like a combination of chocolate and oatmeal, give these a try.  I'm here to place my second order.\n"
     ]
    }
   ],
   "source": [
    "sent_1500 = final['Text'].values[1500]\n",
    "print(final['Text'].values[1500])"
   ]
  },
  {
   "cell_type": "code",
   "execution_count": 34,
   "metadata": {},
   "outputs": [],
   "source": [
    "sent_1500 = decontracted(sent_1500)"
   ]
  },
  {
   "cell_type": "code",
   "execution_count": 35,
   "metadata": {},
   "outputs": [
    {
     "name": "stdout",
     "output_type": "stream",
     "text": [
      "Wow.  So far, two two-star reviews.  One obviously had no idea what they were ordering; the other wants crispy cookies.  Hey, I am sorry; but these reviews do nobody any good beyond reminding us to look  before ordering.<br /><br />These are chocolate-oatmeal cookies.  If you do not like that combination, do not order this type of cookie.  I find the combo quite nice, really.  The oatmeal sort of \"calms\" the rich chocolate flavor and gives the cookie sort of a coconut-type consistency.  Now let is also remember that tastes differ; so, I have given my opinion.<br /><br />Then, these are soft, chewy cookies -- as advertised.  They are not \"crispy\" cookies, or the blurb would say \"crispy,\" rather than \"chewy.\"  I happen to like raw cookie dough; however, I do not see where these taste like raw cookie dough.  Both are soft, however, so is this the confusion?  And, yes, they stick together.  Soft cookies tend to do that.  They are not individually wrapped, which would add to the cost.  Oh yeah, chocolate chip cookies tend to be somewhat sweet.<br /><br />So, if you want something hard and crisp, I suggest Nabiso is Ginger Snaps.  If you want a cookie that is soft, chewy and tastes like a combination of chocolate and oatmeal, give these a try.  I am here to place my second order.\n"
     ]
    }
   ],
   "source": [
    "print(sent_1500)"
   ]
  },
  {
   "cell_type": "code",
   "execution_count": 36,
   "metadata": {},
   "outputs": [],
   "source": [
    "#remove words with numbers python"
   ]
  },
  {
   "cell_type": "code",
   "execution_count": 37,
   "metadata": {},
   "outputs": [
    {
     "name": "stdout",
     "output_type": "stream",
     "text": [
      "Why is this $[...] when the same product is available for $[...] here?<br /> /><br />The Victor M380 and M502 traps are unreal, of course -- total fly genocide. Pretty stinky, but only right nearby.\n"
     ]
    }
   ],
   "source": [
    "print(sent_0)"
   ]
  },
  {
   "cell_type": "code",
   "execution_count": 38,
   "metadata": {},
   "outputs": [
    {
     "name": "stdout",
     "output_type": "stream",
     "text": [
      "Why is this $[...] when the same product is available for $[...] here?<br /> /><br />The Victor  and  traps are unreal, of course -- total fly genocide. Pretty stinky, but only right nearby.\n"
     ]
    }
   ],
   "source": [
    "sent_0 = re.sub(\"\\S*\\d\\S*\", \"\", sent_0).strip()\n",
    "print(sent_0)"
   ]
  },
  {
   "cell_type": "code",
   "execution_count": 39,
   "metadata": {},
   "outputs": [],
   "source": [
    "stopwords= set(['br', 'the', 'i', 'me', 'my', 'myself', 'we', 'our', 'ours', 'ourselves', 'you', \"you're\", \"you've\",\\\n",
    "            \"you'll\", \"you'd\", 'your', 'yours', 'yourself', 'yourselves', 'he', 'him', 'his', 'himself', \\\n",
    "            'she', \"she's\", 'her', 'hers', 'herself', 'it', \"it's\", 'its', 'itself', 'they', 'them', 'their',\\\n",
    "            'theirs', 'themselves', 'what', 'which', 'who', 'whom', 'this', 'that', \"that'll\", 'these', 'those', \\\n",
    "            'am', 'is', 'are', 'was', 'were', 'be', 'been', 'being', 'have', 'has', 'had', 'having', 'do', 'does', \\\n",
    "            'did', 'doing', 'a', 'an', 'the', 'and', 'but', 'if', 'or', 'because', 'as', 'until', 'while', 'of', \\\n",
    "            'at', 'by', 'for', 'with', 'about', 'against', 'between', 'into', 'through', 'during', 'before', 'after',\\\n",
    "            'above', 'below', 'to', 'from', 'up', 'down', 'in', 'out', 'on', 'off', 'over', 'under', 'again', 'further',\\\n",
    "            'then', 'once', 'here', 'there', 'when', 'where', 'why', 'how', 'all', 'any', 'both', 'each', 'few', 'more',\\\n",
    "            'most', 'other', 'some', 'such', 'only', 'own', 'same', 'so', 'than', 'too', 'very', \\\n",
    "            's', 't', 'can', 'will', 'just', 'don', \"don't\", 'should', \"should've\", 'now', 'd', 'll', 'm', 'o', 're', \\\n",
    "            've', 'y', 'ain', 'aren', \"aren't\", 'couldn', \"couldn't\", 'didn', \"didn't\", 'doesn', \"doesn't\", 'hadn',\\\n",
    "            \"hadn't\", 'hasn', \"hasn't\", 'haven', \"haven't\", 'isn', \"isn't\", 'ma', 'mightn', \"mightn't\", 'mustn',\\\n",
    "            \"mustn't\", 'needn', \"needn't\", 'shan', \"shan't\", 'shouldn', \"shouldn't\", 'wasn', \"wasn't\", 'weren', \"weren't\", \\\n",
    "            'won', \"won't\", 'wouldn', \"wouldn't\"])"
   ]
  },
  {
   "cell_type": "code",
   "execution_count": 40,
   "metadata": {},
   "outputs": [
    {
     "name": "stderr",
     "output_type": "stream",
     "text": [
      "100%|████████████████████████████████████████████████████████████████████████████| 4986/4986 [00:03<00:00, 1258.53it/s]\n"
     ]
    }
   ],
   "source": [
    "from tqdm import tqdm\n",
    "\n",
    "preprocessed_reviews = []\n",
    "for sentance in tqdm(final['Text'].values):\n",
    "    sentance = re.sub(r\"http\\S+\", \"\", sentance)\n",
    "    sentance = BeautifulSoup(sentance, 'lxml').get_text()\n",
    "    sentance = decontracted(sentance)\n",
    "    sentance = re.sub(\"\\S*\\d\\S*\", \"\", sentance).strip()\n",
    "    sentance = re.sub('[^A-Za-z]+', ' ', sentance)\n",
    "    sentance = ' '.join(e.lower() for e in sentance.split() if e.lower() not in stopwords)\n",
    "    preprocessed_reviews.append(sentance.strip())\n",
    "    "
   ]
  },
  {
   "cell_type": "code",
   "execution_count": 41,
   "metadata": {},
   "outputs": [
    {
     "data": {
      "text/plain": [
       "'wow far two two star reviews one obviously no idea ordering wants crispy cookies hey sorry reviews nobody good beyond reminding us look ordering chocolate oatmeal cookies not like combination not order type cookie find combo quite nice really oatmeal sort calms rich chocolate flavor gives cookie sort coconut type consistency let also remember tastes differ given opinion soft chewy cookies advertised not crispy cookies blurb would say crispy rather chewy happen like raw cookie dough however not see taste like raw cookie dough soft however confusion yes stick together soft cookies tend not individually wrapped would add cost oh yeah chocolate chip cookies tend somewhat sweet want something hard crisp suggest nabiso ginger snaps want cookie soft chewy tastes like combination chocolate oatmeal give try place second order'"
      ]
     },
     "execution_count": 41,
     "metadata": {},
     "output_type": "execute_result"
    }
   ],
   "source": [
    "preprocessed_reviews[1500]"
   ]
  },
  {
   "cell_type": "code",
   "execution_count": 42,
   "metadata": {},
   "outputs": [
    {
     "data": {
      "text/plain": [
       "4986"
      ]
     },
     "execution_count": 42,
     "metadata": {},
     "output_type": "execute_result"
    }
   ],
   "source": [
    "len(preprocessed_reviews)"
   ]
  },
  {
   "cell_type": "code",
   "execution_count": 43,
   "metadata": {},
   "outputs": [
    {
     "data": {
      "text/plain": [
       "list"
      ]
     },
     "execution_count": 43,
     "metadata": {},
     "output_type": "execute_result"
    }
   ],
   "source": [
    "type(preprocessed_reviews)"
   ]
  },
  {
   "cell_type": "code",
   "execution_count": 44,
   "metadata": {},
   "outputs": [
    {
     "data": {
      "text/plain": [
       "(5000, 10)"
      ]
     },
     "execution_count": 44,
     "metadata": {},
     "output_type": "execute_result"
    }
   ],
   "source": [
    "filtered_data.shape"
   ]
  },
  {
   "cell_type": "code",
   "execution_count": null,
   "metadata": {},
   "outputs": [],
   "source": []
  },
  {
   "cell_type": "code",
   "execution_count": 45,
   "metadata": {},
   "outputs": [],
   "source": [
    "# Adding preprocessed text to the original dataframe"
   ]
  },
  {
   "cell_type": "code",
   "execution_count": 46,
   "metadata": {},
   "outputs": [],
   "source": [
    "final['preprocessed reviews'] = preprocessed_reviews"
   ]
  },
  {
   "cell_type": "code",
   "execution_count": 47,
   "metadata": {},
   "outputs": [
    {
     "data": {
      "text/html": [
       "<div>\n",
       "<style scoped>\n",
       "    .dataframe tbody tr th:only-of-type {\n",
       "        vertical-align: middle;\n",
       "    }\n",
       "\n",
       "    .dataframe tbody tr th {\n",
       "        vertical-align: top;\n",
       "    }\n",
       "\n",
       "    .dataframe thead th {\n",
       "        text-align: right;\n",
       "    }\n",
       "</style>\n",
       "<table border=\"1\" class=\"dataframe\">\n",
       "  <thead>\n",
       "    <tr style=\"text-align: right;\">\n",
       "      <th></th>\n",
       "      <th>Id</th>\n",
       "      <th>ProductId</th>\n",
       "      <th>UserId</th>\n",
       "      <th>ProfileName</th>\n",
       "      <th>HelpfulnessNumerator</th>\n",
       "      <th>HelpfulnessDenominator</th>\n",
       "      <th>Score</th>\n",
       "      <th>Time</th>\n",
       "      <th>Summary</th>\n",
       "      <th>Text</th>\n",
       "      <th>preprocessed reviews</th>\n",
       "    </tr>\n",
       "  </thead>\n",
       "  <tbody>\n",
       "    <tr>\n",
       "      <th>2546</th>\n",
       "      <td>2774</td>\n",
       "      <td>B00002NCJC</td>\n",
       "      <td>A196AJHU9EASJN</td>\n",
       "      <td>Alex Chaffee</td>\n",
       "      <td>0</td>\n",
       "      <td>0</td>\n",
       "      <td>1</td>\n",
       "      <td>1282953600</td>\n",
       "      <td>thirty bucks?</td>\n",
       "      <td>Why is this $[...] when the same product is av...</td>\n",
       "      <td>product available victor traps unreal course t...</td>\n",
       "    </tr>\n",
       "    <tr>\n",
       "      <th>2547</th>\n",
       "      <td>2775</td>\n",
       "      <td>B00002NCJC</td>\n",
       "      <td>A13RRPGE79XFFH</td>\n",
       "      <td>reader48</td>\n",
       "      <td>0</td>\n",
       "      <td>0</td>\n",
       "      <td>1</td>\n",
       "      <td>1281052800</td>\n",
       "      <td>Flies Begone</td>\n",
       "      <td>We have used the Victor fly bait for 3 seasons...</td>\n",
       "      <td>used victor fly bait seasons ca not beat great...</td>\n",
       "    </tr>\n",
       "    <tr>\n",
       "      <th>1145</th>\n",
       "      <td>1244</td>\n",
       "      <td>B00002Z754</td>\n",
       "      <td>A3B8RCEI0FXFI6</td>\n",
       "      <td>B G Chase</td>\n",
       "      <td>10</td>\n",
       "      <td>10</td>\n",
       "      <td>1</td>\n",
       "      <td>962236800</td>\n",
       "      <td>WOW Make your own 'slickers' !</td>\n",
       "      <td>I just received my shipment and could hardly w...</td>\n",
       "      <td>received shipment could hardly wait try produc...</td>\n",
       "    </tr>\n",
       "    <tr>\n",
       "      <th>1146</th>\n",
       "      <td>1245</td>\n",
       "      <td>B00002Z754</td>\n",
       "      <td>A29Z5PI9BW2PU3</td>\n",
       "      <td>Robbie</td>\n",
       "      <td>7</td>\n",
       "      <td>7</td>\n",
       "      <td>1</td>\n",
       "      <td>961718400</td>\n",
       "      <td>Great Product</td>\n",
       "      <td>This was a really good idea and the final prod...</td>\n",
       "      <td>really good idea final product outstanding use...</td>\n",
       "    </tr>\n",
       "    <tr>\n",
       "      <th>2942</th>\n",
       "      <td>3204</td>\n",
       "      <td>B000084DVR</td>\n",
       "      <td>A1UGDJP1ZJWVPF</td>\n",
       "      <td>T. Moore \"thoughtful reader\"</td>\n",
       "      <td>1</td>\n",
       "      <td>1</td>\n",
       "      <td>1</td>\n",
       "      <td>1177977600</td>\n",
       "      <td>Good stuff!</td>\n",
       "      <td>I'm glad my 45lb cocker/standard poodle puppy ...</td>\n",
       "      <td>glad cocker standard poodle puppy loves stuff ...</td>\n",
       "    </tr>\n",
       "  </tbody>\n",
       "</table>\n",
       "</div>"
      ],
      "text/plain": [
       "        Id   ProductId          UserId                   ProfileName  \\\n",
       "2546  2774  B00002NCJC  A196AJHU9EASJN                  Alex Chaffee   \n",
       "2547  2775  B00002NCJC  A13RRPGE79XFFH                      reader48   \n",
       "1145  1244  B00002Z754  A3B8RCEI0FXFI6                     B G Chase   \n",
       "1146  1245  B00002Z754  A29Z5PI9BW2PU3                        Robbie   \n",
       "2942  3204  B000084DVR  A1UGDJP1ZJWVPF  T. Moore \"thoughtful reader\"   \n",
       "\n",
       "      HelpfulnessNumerator  HelpfulnessDenominator  Score        Time  \\\n",
       "2546                     0                       0      1  1282953600   \n",
       "2547                     0                       0      1  1281052800   \n",
       "1145                    10                      10      1   962236800   \n",
       "1146                     7                       7      1   961718400   \n",
       "2942                     1                       1      1  1177977600   \n",
       "\n",
       "                             Summary  \\\n",
       "2546                   thirty bucks?   \n",
       "2547                    Flies Begone   \n",
       "1145  WOW Make your own 'slickers' !   \n",
       "1146                   Great Product   \n",
       "2942                     Good stuff!   \n",
       "\n",
       "                                                   Text  \\\n",
       "2546  Why is this $[...] when the same product is av...   \n",
       "2547  We have used the Victor fly bait for 3 seasons...   \n",
       "1145  I just received my shipment and could hardly w...   \n",
       "1146  This was a really good idea and the final prod...   \n",
       "2942  I'm glad my 45lb cocker/standard poodle puppy ...   \n",
       "\n",
       "                                   preprocessed reviews  \n",
       "2546  product available victor traps unreal course t...  \n",
       "2547  used victor fly bait seasons ca not beat great...  \n",
       "1145  received shipment could hardly wait try produc...  \n",
       "1146  really good idea final product outstanding use...  \n",
       "2942  glad cocker standard poodle puppy loves stuff ...  "
      ]
     },
     "execution_count": 47,
     "metadata": {},
     "output_type": "execute_result"
    }
   ],
   "source": [
    "final.head()"
   ]
  },
  {
   "cell_type": "code",
   "execution_count": null,
   "metadata": {},
   "outputs": [],
   "source": []
  },
  {
   "cell_type": "markdown",
   "metadata": {},
   "source": [
    "### Applying Train test split"
   ]
  },
  {
   "cell_type": "code",
   "execution_count": 48,
   "metadata": {},
   "outputs": [],
   "source": [
    "X = final['preprocessed reviews']\n",
    "Y = final['Score']"
   ]
  },
  {
   "cell_type": "code",
   "execution_count": 49,
   "metadata": {},
   "outputs": [
    {
     "name": "stdout",
     "output_type": "stream",
     "text": [
      "(4986,) (4986,)\n"
     ]
    }
   ],
   "source": [
    "print(X.shape,Y.shape)"
   ]
  },
  {
   "cell_type": "code",
   "execution_count": 50,
   "metadata": {},
   "outputs": [],
   "source": [
    "# Splitting the Data"
   ]
  },
  {
   "cell_type": "code",
   "execution_count": 51,
   "metadata": {},
   "outputs": [],
   "source": [
    "from sklearn.model_selection import train_test_split"
   ]
  },
  {
   "cell_type": "code",
   "execution_count": 52,
   "metadata": {},
   "outputs": [],
   "source": [
    "X_train,X_test,Y_train,Y_test = train_test_split(X,Y,test_size=0.3)"
   ]
  },
  {
   "cell_type": "code",
   "execution_count": 53,
   "metadata": {},
   "outputs": [
    {
     "name": "stdout",
     "output_type": "stream",
     "text": [
      "(3490,) (1496,) (3490,) (1496,)\n"
     ]
    }
   ],
   "source": [
    "print(X_train.shape,X_test.shape,Y_train.shape,Y_test.shape)"
   ]
  },
  {
   "cell_type": "code",
   "execution_count": null,
   "metadata": {},
   "outputs": [],
   "source": []
  },
  {
   "cell_type": "markdown",
   "metadata": {},
   "source": [
    "### Bag of Words (Unigrams)"
   ]
  },
  {
   "cell_type": "code",
   "execution_count": 54,
   "metadata": {},
   "outputs": [],
   "source": [
    "from sklearn.feature_extraction.text import CountVectorizer"
   ]
  },
  {
   "cell_type": "code",
   "execution_count": 55,
   "metadata": {},
   "outputs": [],
   "source": [
    "bow = CountVectorizer() # ngram_range=(1,1) --> unigram"
   ]
  },
  {
   "cell_type": "code",
   "execution_count": 56,
   "metadata": {},
   "outputs": [],
   "source": [
    "x_train_uni = bow.fit_transform(X_train)\n",
    "x_test_uni = bow.transform(X_test)"
   ]
  },
  {
   "cell_type": "code",
   "execution_count": 57,
   "metadata": {},
   "outputs": [],
   "source": [
    "# Data Standardization\n",
    "\n",
    "# StandardScaler : (mean = 0 & SD = 1) It transforms the data in such a manner that it has mean as 0 and standard deviation as 1. In short, it standardizes the data. Standardization is useful for data which has negative values. It arranges the data in a standard normal distribution. It is more useful in classification than regression\n",
    "# Standardization scales each input variable separately by subtracting the mean (called centering) and dividing by the standard deviation to shift the distribution to have a mean of zero and a standard deviation of one.\n",
    "# Normalizer : It squeezes the data between 0 and 1. It performs normalization\n",
    "\n",
    "# In other words Normalizer acts row-wise and StandardScaler column-wise. Normalizer does not remove the mean and scale by deviation but scales the whole row to unit norm."
   ]
  },
  {
   "cell_type": "code",
   "execution_count": 58,
   "metadata": {},
   "outputs": [],
   "source": [
    "from sklearn.preprocessing import StandardScaler\n",
    "x_train_uni = StandardScaler(with_mean= False).fit_transform(x_train_uni)\n",
    "x_test_uni = StandardScaler(with_mean= False).fit_transform(x_test_uni)"
   ]
  },
  {
   "cell_type": "code",
   "execution_count": null,
   "metadata": {},
   "outputs": [],
   "source": []
  },
  {
   "cell_type": "markdown",
   "metadata": {},
   "source": [
    "### Hyperparameter tuning using Grid Search CV to find the optimal C for Logistic Regression"
   ]
  },
  {
   "cell_type": "code",
   "execution_count": 59,
   "metadata": {},
   "outputs": [],
   "source": [
    "# https://scikit-learn.org/stable/modules/generated/sklearn.model_selection.GridSearchCV.html"
   ]
  },
  {
   "cell_type": "code",
   "execution_count": 60,
   "metadata": {},
   "outputs": [
    {
     "name": "stdout",
     "output_type": "stream",
     "text": [
      "Fitting 5 folds for each of 5 candidates, totalling 25 fits\n",
      "Best HyperParameter:  {'C': 100}\n",
      "0.8581654384794604\n"
     ]
    }
   ],
   "source": [
    "LR = LogisticRegression(penalty ='l1',solver='liblinear')\n",
    "C_values = [{'C':[10**-4,10**-2,10**0,10**2,10**4]}]\n",
    "gsv = GridSearchCV(LR,C_values,cv=5,verbose=1,scoring='f1_weighted',n_jobs=-1)\n",
    "# verbose = Controls the verbosity: the higher, the more messages.\n",
    "# scoring = 'f1_weighted' = F1 score Calculate metrics for each label, and find their average weighted by support (the number of true instances for each label).\n",
    "# n_jobs = -1 = Number of jobs to run in parallel, -1 means using all processors.\n",
    "\n",
    "gsv.fit(x_train_uni,Y_train)\n",
    "print(\"Best HyperParameter: \",gsv.best_params_)\n",
    "print(gsv.best_score_)\n",
    "optimal_C=gsv.best_params_"
   ]
  },
  {
   "cell_type": "code",
   "execution_count": 61,
   "metadata": {},
   "outputs": [],
   "source": [
    "result = gsv.cv_results_"
   ]
  },
  {
   "cell_type": "code",
   "execution_count": 62,
   "metadata": {},
   "outputs": [
    {
     "name": "stdout",
     "output_type": "stream",
     "text": [
      "{'mean_fit_time': array([0.08422103, 0.04787626, 0.13829422, 0.12941957, 0.10022111]), 'std_fit_time': array([0.05949792, 0.01057795, 0.01626366, 0.02129533, 0.0185802 ]), 'mean_score_time': array([0.00974216, 0.00312243, 0.00474715, 0.00819764, 0.00332303]), 'std_score_time': array([0.00842101, 0.00624485, 0.00630366, 0.00858776, 0.0061567 ]), 'param_C': masked_array(data=[0.0001, 0.01, 1, 100, 10000],\n",
      "             mask=[False, False, False, False, False],\n",
      "       fill_value='?',\n",
      "            dtype=object), 'params': [{'C': 0.0001}, {'C': 0.01}, {'C': 1}, {'C': 100}, {'C': 10000}], 'split0_test_score': array([0.04585939, 0.76227599, 0.86019758, 0.86089973, 0.8448952 ]), 'split1_test_score': array([0.04585939, 0.76227599, 0.84105345, 0.85441509, 0.85307058]), 'split2_test_score': array([0.04585939, 0.7690989 , 0.83200902, 0.84249459, 0.84188345]), 'split3_test_score': array([0.04511392, 0.76429259, 0.8694828 , 0.88202025, 0.85321244]), 'split4_test_score': array([0.04511392, 0.76772896, 0.85066983, 0.85099753, 0.8351783 ]), 'mean_test_score': array([0.0455612 , 0.76513449, 0.85068254, 0.85816544, 0.84564799]), 'std_test_score': array([0.0003652 , 0.00281065, 0.01330718, 0.01332327, 0.00687995]), 'rank_test_score': array([5, 4, 2, 1, 3])}\n"
     ]
    }
   ],
   "source": [
    "print(result)"
   ]
  },
  {
   "cell_type": "code",
   "execution_count": 63,
   "metadata": {},
   "outputs": [
    {
     "name": "stdout",
     "output_type": "stream",
     "text": [
      "<class 'dict'>\n"
     ]
    }
   ],
   "source": [
    "print(type(result))"
   ]
  },
  {
   "cell_type": "code",
   "execution_count": 64,
   "metadata": {},
   "outputs": [],
   "source": [
    "df = pd.DataFrame(result)"
   ]
  },
  {
   "cell_type": "code",
   "execution_count": 65,
   "metadata": {
    "scrolled": false
   },
   "outputs": [
    {
     "data": {
      "text/html": [
       "<div>\n",
       "<style scoped>\n",
       "    .dataframe tbody tr th:only-of-type {\n",
       "        vertical-align: middle;\n",
       "    }\n",
       "\n",
       "    .dataframe tbody tr th {\n",
       "        vertical-align: top;\n",
       "    }\n",
       "\n",
       "    .dataframe thead th {\n",
       "        text-align: right;\n",
       "    }\n",
       "</style>\n",
       "<table border=\"1\" class=\"dataframe\">\n",
       "  <thead>\n",
       "    <tr style=\"text-align: right;\">\n",
       "      <th></th>\n",
       "      <th>mean_fit_time</th>\n",
       "      <th>std_fit_time</th>\n",
       "      <th>mean_score_time</th>\n",
       "      <th>std_score_time</th>\n",
       "      <th>param_C</th>\n",
       "      <th>params</th>\n",
       "      <th>split0_test_score</th>\n",
       "      <th>split1_test_score</th>\n",
       "      <th>split2_test_score</th>\n",
       "      <th>split3_test_score</th>\n",
       "      <th>split4_test_score</th>\n",
       "      <th>mean_test_score</th>\n",
       "      <th>std_test_score</th>\n",
       "      <th>rank_test_score</th>\n",
       "    </tr>\n",
       "  </thead>\n",
       "  <tbody>\n",
       "    <tr>\n",
       "      <th>0</th>\n",
       "      <td>0.084221</td>\n",
       "      <td>0.059498</td>\n",
       "      <td>0.009742</td>\n",
       "      <td>0.008421</td>\n",
       "      <td>0.0001</td>\n",
       "      <td>{'C': 0.0001}</td>\n",
       "      <td>0.045859</td>\n",
       "      <td>0.045859</td>\n",
       "      <td>0.045859</td>\n",
       "      <td>0.045114</td>\n",
       "      <td>0.045114</td>\n",
       "      <td>0.045561</td>\n",
       "      <td>0.000365</td>\n",
       "      <td>5</td>\n",
       "    </tr>\n",
       "    <tr>\n",
       "      <th>1</th>\n",
       "      <td>0.047876</td>\n",
       "      <td>0.010578</td>\n",
       "      <td>0.003122</td>\n",
       "      <td>0.006245</td>\n",
       "      <td>0.01</td>\n",
       "      <td>{'C': 0.01}</td>\n",
       "      <td>0.762276</td>\n",
       "      <td>0.762276</td>\n",
       "      <td>0.769099</td>\n",
       "      <td>0.764293</td>\n",
       "      <td>0.767729</td>\n",
       "      <td>0.765134</td>\n",
       "      <td>0.002811</td>\n",
       "      <td>4</td>\n",
       "    </tr>\n",
       "    <tr>\n",
       "      <th>2</th>\n",
       "      <td>0.138294</td>\n",
       "      <td>0.016264</td>\n",
       "      <td>0.004747</td>\n",
       "      <td>0.006304</td>\n",
       "      <td>1</td>\n",
       "      <td>{'C': 1}</td>\n",
       "      <td>0.860198</td>\n",
       "      <td>0.841053</td>\n",
       "      <td>0.832009</td>\n",
       "      <td>0.869483</td>\n",
       "      <td>0.850670</td>\n",
       "      <td>0.850683</td>\n",
       "      <td>0.013307</td>\n",
       "      <td>2</td>\n",
       "    </tr>\n",
       "    <tr>\n",
       "      <th>3</th>\n",
       "      <td>0.129420</td>\n",
       "      <td>0.021295</td>\n",
       "      <td>0.008198</td>\n",
       "      <td>0.008588</td>\n",
       "      <td>100</td>\n",
       "      <td>{'C': 100}</td>\n",
       "      <td>0.860900</td>\n",
       "      <td>0.854415</td>\n",
       "      <td>0.842495</td>\n",
       "      <td>0.882020</td>\n",
       "      <td>0.850998</td>\n",
       "      <td>0.858165</td>\n",
       "      <td>0.013323</td>\n",
       "      <td>1</td>\n",
       "    </tr>\n",
       "    <tr>\n",
       "      <th>4</th>\n",
       "      <td>0.100221</td>\n",
       "      <td>0.018580</td>\n",
       "      <td>0.003323</td>\n",
       "      <td>0.006157</td>\n",
       "      <td>10000</td>\n",
       "      <td>{'C': 10000}</td>\n",
       "      <td>0.844895</td>\n",
       "      <td>0.853071</td>\n",
       "      <td>0.841883</td>\n",
       "      <td>0.853212</td>\n",
       "      <td>0.835178</td>\n",
       "      <td>0.845648</td>\n",
       "      <td>0.006880</td>\n",
       "      <td>3</td>\n",
       "    </tr>\n",
       "  </tbody>\n",
       "</table>\n",
       "</div>"
      ],
      "text/plain": [
       "   mean_fit_time  std_fit_time  mean_score_time  std_score_time param_C  \\\n",
       "0       0.084221      0.059498         0.009742        0.008421  0.0001   \n",
       "1       0.047876      0.010578         0.003122        0.006245    0.01   \n",
       "2       0.138294      0.016264         0.004747        0.006304       1   \n",
       "3       0.129420      0.021295         0.008198        0.008588     100   \n",
       "4       0.100221      0.018580         0.003323        0.006157   10000   \n",
       "\n",
       "          params  split0_test_score  split1_test_score  split2_test_score  \\\n",
       "0  {'C': 0.0001}           0.045859           0.045859           0.045859   \n",
       "1    {'C': 0.01}           0.762276           0.762276           0.769099   \n",
       "2       {'C': 1}           0.860198           0.841053           0.832009   \n",
       "3     {'C': 100}           0.860900           0.854415           0.842495   \n",
       "4   {'C': 10000}           0.844895           0.853071           0.841883   \n",
       "\n",
       "   split3_test_score  split4_test_score  mean_test_score  std_test_score  \\\n",
       "0           0.045114           0.045114         0.045561        0.000365   \n",
       "1           0.764293           0.767729         0.765134        0.002811   \n",
       "2           0.869483           0.850670         0.850683        0.013307   \n",
       "3           0.882020           0.850998         0.858165        0.013323   \n",
       "4           0.853212           0.835178         0.845648        0.006880   \n",
       "\n",
       "   rank_test_score  \n",
       "0                5  \n",
       "1                4  \n",
       "2                2  \n",
       "3                1  \n",
       "4                3  "
      ]
     },
     "execution_count": 65,
     "metadata": {},
     "output_type": "execute_result"
    }
   ],
   "source": [
    "df"
   ]
  },
  {
   "cell_type": "code",
   "execution_count": 66,
   "metadata": {},
   "outputs": [
    {
     "name": "stdout",
     "output_type": "stream",
     "text": [
      "{'C': 100}\n"
     ]
    }
   ],
   "source": [
    "print(gsv.best_params_)"
   ]
  },
  {
   "cell_type": "code",
   "execution_count": 67,
   "metadata": {},
   "outputs": [
    {
     "name": "stdout",
     "output_type": "stream",
     "text": [
      "5\n"
     ]
    }
   ],
   "source": [
    "print(gsv.n_splits_)"
   ]
  },
  {
   "cell_type": "code",
   "execution_count": 68,
   "metadata": {},
   "outputs": [],
   "source": [
    "# Plotting graph for different hyperparameter value combinations and the f1_weighted score computed by 5 fold CV"
   ]
  },
  {
   "cell_type": "code",
   "execution_count": 69,
   "metadata": {},
   "outputs": [
    {
     "data": {
      "text/html": [
       "<div>\n",
       "<style scoped>\n",
       "    .dataframe tbody tr th:only-of-type {\n",
       "        vertical-align: middle;\n",
       "    }\n",
       "\n",
       "    .dataframe tbody tr th {\n",
       "        vertical-align: top;\n",
       "    }\n",
       "\n",
       "    .dataframe thead th {\n",
       "        text-align: right;\n",
       "    }\n",
       "</style>\n",
       "<table border=\"1\" class=\"dataframe\">\n",
       "  <thead>\n",
       "    <tr style=\"text-align: right;\">\n",
       "      <th></th>\n",
       "      <th>mean_fit_time</th>\n",
       "      <th>std_fit_time</th>\n",
       "      <th>mean_score_time</th>\n",
       "      <th>std_score_time</th>\n",
       "      <th>param_C</th>\n",
       "      <th>params</th>\n",
       "      <th>split0_test_score</th>\n",
       "      <th>split1_test_score</th>\n",
       "      <th>split2_test_score</th>\n",
       "      <th>split3_test_score</th>\n",
       "      <th>split4_test_score</th>\n",
       "      <th>mean_test_score</th>\n",
       "      <th>std_test_score</th>\n",
       "      <th>rank_test_score</th>\n",
       "    </tr>\n",
       "  </thead>\n",
       "  <tbody>\n",
       "    <tr>\n",
       "      <th>0</th>\n",
       "      <td>0.084221</td>\n",
       "      <td>0.059498</td>\n",
       "      <td>0.009742</td>\n",
       "      <td>0.008421</td>\n",
       "      <td>0.0001</td>\n",
       "      <td>{'C': 0.0001}</td>\n",
       "      <td>0.045859</td>\n",
       "      <td>0.045859</td>\n",
       "      <td>0.045859</td>\n",
       "      <td>0.045114</td>\n",
       "      <td>0.045114</td>\n",
       "      <td>0.045561</td>\n",
       "      <td>0.000365</td>\n",
       "      <td>5</td>\n",
       "    </tr>\n",
       "    <tr>\n",
       "      <th>1</th>\n",
       "      <td>0.047876</td>\n",
       "      <td>0.010578</td>\n",
       "      <td>0.003122</td>\n",
       "      <td>0.006245</td>\n",
       "      <td>0.01</td>\n",
       "      <td>{'C': 0.01}</td>\n",
       "      <td>0.762276</td>\n",
       "      <td>0.762276</td>\n",
       "      <td>0.769099</td>\n",
       "      <td>0.764293</td>\n",
       "      <td>0.767729</td>\n",
       "      <td>0.765134</td>\n",
       "      <td>0.002811</td>\n",
       "      <td>4</td>\n",
       "    </tr>\n",
       "    <tr>\n",
       "      <th>2</th>\n",
       "      <td>0.138294</td>\n",
       "      <td>0.016264</td>\n",
       "      <td>0.004747</td>\n",
       "      <td>0.006304</td>\n",
       "      <td>1</td>\n",
       "      <td>{'C': 1}</td>\n",
       "      <td>0.860198</td>\n",
       "      <td>0.841053</td>\n",
       "      <td>0.832009</td>\n",
       "      <td>0.869483</td>\n",
       "      <td>0.850670</td>\n",
       "      <td>0.850683</td>\n",
       "      <td>0.013307</td>\n",
       "      <td>2</td>\n",
       "    </tr>\n",
       "    <tr>\n",
       "      <th>3</th>\n",
       "      <td>0.129420</td>\n",
       "      <td>0.021295</td>\n",
       "      <td>0.008198</td>\n",
       "      <td>0.008588</td>\n",
       "      <td>100</td>\n",
       "      <td>{'C': 100}</td>\n",
       "      <td>0.860900</td>\n",
       "      <td>0.854415</td>\n",
       "      <td>0.842495</td>\n",
       "      <td>0.882020</td>\n",
       "      <td>0.850998</td>\n",
       "      <td>0.858165</td>\n",
       "      <td>0.013323</td>\n",
       "      <td>1</td>\n",
       "    </tr>\n",
       "    <tr>\n",
       "      <th>4</th>\n",
       "      <td>0.100221</td>\n",
       "      <td>0.018580</td>\n",
       "      <td>0.003323</td>\n",
       "      <td>0.006157</td>\n",
       "      <td>10000</td>\n",
       "      <td>{'C': 10000}</td>\n",
       "      <td>0.844895</td>\n",
       "      <td>0.853071</td>\n",
       "      <td>0.841883</td>\n",
       "      <td>0.853212</td>\n",
       "      <td>0.835178</td>\n",
       "      <td>0.845648</td>\n",
       "      <td>0.006880</td>\n",
       "      <td>3</td>\n",
       "    </tr>\n",
       "  </tbody>\n",
       "</table>\n",
       "</div>"
      ],
      "text/plain": [
       "   mean_fit_time  std_fit_time  mean_score_time  std_score_time param_C  \\\n",
       "0       0.084221      0.059498         0.009742        0.008421  0.0001   \n",
       "1       0.047876      0.010578         0.003122        0.006245    0.01   \n",
       "2       0.138294      0.016264         0.004747        0.006304       1   \n",
       "3       0.129420      0.021295         0.008198        0.008588     100   \n",
       "4       0.100221      0.018580         0.003323        0.006157   10000   \n",
       "\n",
       "          params  split0_test_score  split1_test_score  split2_test_score  \\\n",
       "0  {'C': 0.0001}           0.045859           0.045859           0.045859   \n",
       "1    {'C': 0.01}           0.762276           0.762276           0.769099   \n",
       "2       {'C': 1}           0.860198           0.841053           0.832009   \n",
       "3     {'C': 100}           0.860900           0.854415           0.842495   \n",
       "4   {'C': 10000}           0.844895           0.853071           0.841883   \n",
       "\n",
       "   split3_test_score  split4_test_score  mean_test_score  std_test_score  \\\n",
       "0           0.045114           0.045114         0.045561        0.000365   \n",
       "1           0.764293           0.767729         0.765134        0.002811   \n",
       "2           0.869483           0.850670         0.850683        0.013307   \n",
       "3           0.882020           0.850998         0.858165        0.013323   \n",
       "4           0.853212           0.835178         0.845648        0.006880   \n",
       "\n",
       "   rank_test_score  \n",
       "0                5  \n",
       "1                4  \n",
       "2                2  \n",
       "3                1  \n",
       "4                3  "
      ]
     },
     "execution_count": 69,
     "metadata": {},
     "output_type": "execute_result"
    }
   ],
   "source": [
    "df"
   ]
  },
  {
   "cell_type": "code",
   "execution_count": 70,
   "metadata": {},
   "outputs": [
    {
     "data": {
      "image/png": "[encoded data removed]",
      "text/plain": [
       "<Figure size 576x432 with 1 Axes>"
      ]
     },
     "metadata": {
      "needs_background": "light"
     },
     "output_type": "display_data"
    }
   ],
   "source": [
    "plt.figure(figsize=(8,6))\n",
    "plt.xlabel(\"C\",fontsize=15)\n",
    "plt.ylabel(\"f1_weighted\")\n",
    "plt.title('f1_weighted v/s C')\n",
    "plt.plot(df['param_C'],df['mean_test_score'],linestyle='dashed', marker='o', markerfacecolor='red', markersize=6)\n",
    "plt.show()"
   ]
  },
  {
   "cell_type": "code",
   "execution_count": null,
   "metadata": {},
   "outputs": [],
   "source": []
  },
  {
   "cell_type": "markdown",
   "metadata": {},
   "source": [
    "### Finding the accuracy in Test data using calculated optimal C"
   ]
  },
  {
   "cell_type": "code",
   "execution_count": 71,
   "metadata": {},
   "outputs": [],
   "source": [
    "from sklearn.metrics import accuracy_score\n",
    "from sklearn.metrics import confusion_matrix\n",
    "from sklearn.metrics import precision_score\n",
    "from sklearn.metrics import f1_score\n",
    "from sklearn.metrics import recall_score"
   ]
  },
  {
   "cell_type": "code",
   "execution_count": 72,
   "metadata": {},
   "outputs": [],
   "source": [
    "LR = LogisticRegression(penalty='l1',C=100,solver='liblinear')\n",
    "LR.fit(x_train_uni,Y_train)\n",
    "y_pred = LR.predict(x_test_uni)"
   ]
  },
  {
   "cell_type": "markdown",
   "metadata": {},
   "source": [
    "### Plotting Heatmap"
   ]
  },
  {
   "cell_type": "code",
   "execution_count": 73,
   "metadata": {},
   "outputs": [],
   "source": [
    "cnf = confusion_matrix(Y_test, y_pred)"
   ]
  },
  {
   "cell_type": "code",
   "execution_count": 74,
   "metadata": {},
   "outputs": [
    {
     "data": {
      "text/plain": [
       "<matplotlib.axes._subplots.AxesSubplot at 0x1d040068da0>"
      ]
     },
     "execution_count": 74,
     "metadata": {},
     "output_type": "execute_result"
    },
    {
     "data": {
      "image/png": "[encoded data removed]",
      "text/plain": [
       "<Figure size 432x288 with 2 Axes>"
      ]
     },
     "metadata": {
      "needs_background": "light"
     },
     "output_type": "display_data"
    }
   ],
   "source": [
    "sns.heatmap(cnf,annot=True,fmt='d',annot_kws={'size':20})\n",
    "# fmt : String formatting code to use when adding annotations. d--> decimal, s-->string\n",
    "# annot: If True, write the data value in each cell. "
   ]
  },
  {
   "cell_type": "code",
   "execution_count": 75,
   "metadata": {},
   "outputs": [
    {
     "name": "stdout",
     "output_type": "stream",
     "text": [
      "Accuracy on test set: 88.168%\n",
      "Precision on test set: 0.793\n",
      "Recall on test set: 0.729\n",
      "F1-Score on test set: 0.754\n"
     ]
    }
   ],
   "source": [
    "print(\"Accuracy on test set: %0.3f%%\"%(accuracy_score(Y_test, y_pred)*100))\n",
    "print(\"Precision on test set: %0.3f\"%(precision_score(Y_test, y_pred,average='macro')))\n",
    "print(\"Recall on test set: %0.3f\"%(recall_score(Y_test, y_pred,average='macro')))\n",
    "print(\"F1-Score on test set: %0.3f\"%(f1_score(Y_test, y_pred,average='macro')))"
   ]
  },
  {
   "cell_type": "code",
   "execution_count": 76,
   "metadata": {},
   "outputs": [
    {
     "data": {
      "text/plain": [
       "pandas.core.series.Series"
      ]
     },
     "execution_count": 76,
     "metadata": {},
     "output_type": "execute_result"
    }
   ],
   "source": [
    "type(Y_test)"
   ]
  },
  {
   "cell_type": "code",
   "execution_count": 77,
   "metadata": {},
   "outputs": [
    {
     "data": {
      "text/plain": [
       "numpy.ndarray"
      ]
     },
     "execution_count": 77,
     "metadata": {},
     "output_type": "execute_result"
    }
   ],
   "source": [
    "type(y_pred)"
   ]
  },
  {
   "cell_type": "code",
   "execution_count": null,
   "metadata": {},
   "outputs": [],
   "source": []
  },
  {
   "cell_type": "markdown",
   "metadata": {},
   "source": [
    "### Hyperparameter tuning using Random Search CV to find the optimal C for Logistic Regression"
   ]
  },
  {
   "cell_type": "code",
   "execution_count": 78,
   "metadata": {},
   "outputs": [
    {
     "name": "stdout",
     "output_type": "stream",
     "text": [
      "Fitting 5 folds for each of 10 candidates, totalling 50 fits\n",
      "Best HyperParameter:  {'C': 0.03270188699761434}\n",
      "0.8716332378223497\n"
     ]
    }
   ],
   "source": [
    "LR = LogisticRegression()\n",
    "C_value = {'C':uniform()}\n",
    "rsv = RandomizedSearchCV(LR, param_distributions = C_value , cv=5,verbose=1, scoring='f1_micro', n_jobs=-1)\n",
    "\n",
    "rsv.fit(x_train_uni,Y_train)\n",
    "\n",
    "print(\"Best HyperParameter: \",rsv.best_params_)\n",
    "print(rsv.best_score_)\n",
    "optimal_C=rsv.best_score_"
   ]
  },
  {
   "cell_type": "code",
   "execution_count": 79,
   "metadata": {},
   "outputs": [
    {
     "name": "stdout",
     "output_type": "stream",
     "text": [
      "0.8716332378223497\n"
     ]
    }
   ],
   "source": [
    "print(optimal_C)"
   ]
  },
  {
   "cell_type": "code",
   "execution_count": 80,
   "metadata": {},
   "outputs": [],
   "source": [
    "result = rsv.cv_results_"
   ]
  },
  {
   "cell_type": "code",
   "execution_count": 81,
   "metadata": {},
   "outputs": [],
   "source": [
    "df = pd.DataFrame(result)"
   ]
  },
  {
   "cell_type": "code",
   "execution_count": 82,
   "metadata": {},
   "outputs": [
    {
     "data": {
      "text/html": [
       "<div>\n",
       "<style scoped>\n",
       "    .dataframe tbody tr th:only-of-type {\n",
       "        vertical-align: middle;\n",
       "    }\n",
       "\n",
       "    .dataframe tbody tr th {\n",
       "        vertical-align: top;\n",
       "    }\n",
       "\n",
       "    .dataframe thead th {\n",
       "        text-align: right;\n",
       "    }\n",
       "</style>\n",
       "<table border=\"1\" class=\"dataframe\">\n",
       "  <thead>\n",
       "    <tr style=\"text-align: right;\">\n",
       "      <th></th>\n",
       "      <th>mean_fit_time</th>\n",
       "      <th>std_fit_time</th>\n",
       "      <th>mean_score_time</th>\n",
       "      <th>std_score_time</th>\n",
       "      <th>param_C</th>\n",
       "      <th>params</th>\n",
       "      <th>split0_test_score</th>\n",
       "      <th>split1_test_score</th>\n",
       "      <th>split2_test_score</th>\n",
       "      <th>split3_test_score</th>\n",
       "      <th>split4_test_score</th>\n",
       "      <th>mean_test_score</th>\n",
       "      <th>std_test_score</th>\n",
       "      <th>rank_test_score</th>\n",
       "    </tr>\n",
       "  </thead>\n",
       "  <tbody>\n",
       "    <tr>\n",
       "      <th>0</th>\n",
       "      <td>0.702695</td>\n",
       "      <td>0.137229</td>\n",
       "      <td>0.000000</td>\n",
       "      <td>0.000000</td>\n",
       "      <td>0.987995</td>\n",
       "      <td>{'C': 0.9879950905823178}</td>\n",
       "      <td>0.875358</td>\n",
       "      <td>0.866762</td>\n",
       "      <td>0.865330</td>\n",
       "      <td>0.878223</td>\n",
       "      <td>0.861032</td>\n",
       "      <td>0.869341</td>\n",
       "      <td>0.006433</td>\n",
       "      <td>8</td>\n",
       "    </tr>\n",
       "    <tr>\n",
       "      <th>1</th>\n",
       "      <td>0.292709</td>\n",
       "      <td>0.022259</td>\n",
       "      <td>0.006460</td>\n",
       "      <td>0.005916</td>\n",
       "      <td>0.0327019</td>\n",
       "      <td>{'C': 0.03270188699761434}</td>\n",
       "      <td>0.876791</td>\n",
       "      <td>0.866762</td>\n",
       "      <td>0.863897</td>\n",
       "      <td>0.882521</td>\n",
       "      <td>0.868195</td>\n",
       "      <td>0.871633</td>\n",
       "      <td>0.006936</td>\n",
       "      <td>1</td>\n",
       "    </tr>\n",
       "    <tr>\n",
       "      <th>2</th>\n",
       "      <td>0.366520</td>\n",
       "      <td>0.027158</td>\n",
       "      <td>0.003126</td>\n",
       "      <td>0.006252</td>\n",
       "      <td>0.618104</td>\n",
       "      <td>{'C': 0.6181035010119665}</td>\n",
       "      <td>0.876791</td>\n",
       "      <td>0.866762</td>\n",
       "      <td>0.865330</td>\n",
       "      <td>0.878223</td>\n",
       "      <td>0.862464</td>\n",
       "      <td>0.869914</td>\n",
       "      <td>0.006369</td>\n",
       "      <td>3</td>\n",
       "    </tr>\n",
       "    <tr>\n",
       "      <th>3</th>\n",
       "      <td>0.350727</td>\n",
       "      <td>0.045498</td>\n",
       "      <td>0.007001</td>\n",
       "      <td>0.007166</td>\n",
       "      <td>0.316624</td>\n",
       "      <td>{'C': 0.3166239984982079}</td>\n",
       "      <td>0.875358</td>\n",
       "      <td>0.866762</td>\n",
       "      <td>0.865330</td>\n",
       "      <td>0.879656</td>\n",
       "      <td>0.862464</td>\n",
       "      <td>0.869914</td>\n",
       "      <td>0.006496</td>\n",
       "      <td>3</td>\n",
       "    </tr>\n",
       "    <tr>\n",
       "      <th>4</th>\n",
       "      <td>0.328717</td>\n",
       "      <td>0.019152</td>\n",
       "      <td>0.009763</td>\n",
       "      <td>0.007979</td>\n",
       "      <td>0.292554</td>\n",
       "      <td>{'C': 0.2925539277908118}</td>\n",
       "      <td>0.875358</td>\n",
       "      <td>0.866762</td>\n",
       "      <td>0.866762</td>\n",
       "      <td>0.881089</td>\n",
       "      <td>0.863897</td>\n",
       "      <td>0.870774</td>\n",
       "      <td>0.006433</td>\n",
       "      <td>2</td>\n",
       "    </tr>\n",
       "    <tr>\n",
       "      <th>5</th>\n",
       "      <td>0.383338</td>\n",
       "      <td>0.032978</td>\n",
       "      <td>0.003770</td>\n",
       "      <td>0.007539</td>\n",
       "      <td>0.982417</td>\n",
       "      <td>{'C': 0.9824168047644937}</td>\n",
       "      <td>0.875358</td>\n",
       "      <td>0.866762</td>\n",
       "      <td>0.865330</td>\n",
       "      <td>0.878223</td>\n",
       "      <td>0.861032</td>\n",
       "      <td>0.869341</td>\n",
       "      <td>0.006433</td>\n",
       "      <td>8</td>\n",
       "    </tr>\n",
       "    <tr>\n",
       "      <th>6</th>\n",
       "      <td>0.350134</td>\n",
       "      <td>0.032797</td>\n",
       "      <td>0.006245</td>\n",
       "      <td>0.007649</td>\n",
       "      <td>0.341281</td>\n",
       "      <td>{'C': 0.3412812387888253}</td>\n",
       "      <td>0.875358</td>\n",
       "      <td>0.866762</td>\n",
       "      <td>0.865330</td>\n",
       "      <td>0.878223</td>\n",
       "      <td>0.862464</td>\n",
       "      <td>0.869628</td>\n",
       "      <td>0.006078</td>\n",
       "      <td>5</td>\n",
       "    </tr>\n",
       "    <tr>\n",
       "      <th>7</th>\n",
       "      <td>0.372142</td>\n",
       "      <td>0.031498</td>\n",
       "      <td>0.003131</td>\n",
       "      <td>0.006262</td>\n",
       "      <td>0.868675</td>\n",
       "      <td>{'C': 0.8686750398109687}</td>\n",
       "      <td>0.876791</td>\n",
       "      <td>0.866762</td>\n",
       "      <td>0.865330</td>\n",
       "      <td>0.878223</td>\n",
       "      <td>0.861032</td>\n",
       "      <td>0.869628</td>\n",
       "      <td>0.006720</td>\n",
       "      <td>5</td>\n",
       "    </tr>\n",
       "    <tr>\n",
       "      <th>8</th>\n",
       "      <td>0.233939</td>\n",
       "      <td>0.023150</td>\n",
       "      <td>0.001131</td>\n",
       "      <td>0.002263</td>\n",
       "      <td>0.00531976</td>\n",
       "      <td>{'C': 0.0053197629754513365}</td>\n",
       "      <td>0.865330</td>\n",
       "      <td>0.858166</td>\n",
       "      <td>0.853868</td>\n",
       "      <td>0.869628</td>\n",
       "      <td>0.861032</td>\n",
       "      <td>0.861605</td>\n",
       "      <td>0.005482</td>\n",
       "      <td>10</td>\n",
       "    </tr>\n",
       "    <tr>\n",
       "      <th>9</th>\n",
       "      <td>0.341817</td>\n",
       "      <td>0.039525</td>\n",
       "      <td>0.003124</td>\n",
       "      <td>0.006247</td>\n",
       "      <td>0.919783</td>\n",
       "      <td>{'C': 0.9197832211605257}</td>\n",
       "      <td>0.876791</td>\n",
       "      <td>0.866762</td>\n",
       "      <td>0.865330</td>\n",
       "      <td>0.878223</td>\n",
       "      <td>0.861032</td>\n",
       "      <td>0.869628</td>\n",
       "      <td>0.006720</td>\n",
       "      <td>5</td>\n",
       "    </tr>\n",
       "  </tbody>\n",
       "</table>\n",
       "</div>"
      ],
      "text/plain": [
       "   mean_fit_time  std_fit_time  mean_score_time  std_score_time     param_C  \\\n",
       "0       0.702695      0.137229         0.000000        0.000000    0.987995   \n",
       "1       0.292709      0.022259         0.006460        0.005916   0.0327019   \n",
       "2       0.366520      0.027158         0.003126        0.006252    0.618104   \n",
       "3       0.350727      0.045498         0.007001        0.007166    0.316624   \n",
       "4       0.328717      0.019152         0.009763        0.007979    0.292554   \n",
       "5       0.383338      0.032978         0.003770        0.007539    0.982417   \n",
       "6       0.350134      0.032797         0.006245        0.007649    0.341281   \n",
       "7       0.372142      0.031498         0.003131        0.006262    0.868675   \n",
       "8       0.233939      0.023150         0.001131        0.002263  0.00531976   \n",
       "9       0.341817      0.039525         0.003124        0.006247    0.919783   \n",
       "\n",
       "                         params  split0_test_score  split1_test_score  \\\n",
       "0     {'C': 0.9879950905823178}           0.875358           0.866762   \n",
       "1    {'C': 0.03270188699761434}           0.876791           0.866762   \n",
       "2     {'C': 0.6181035010119665}           0.876791           0.866762   \n",
       "3     {'C': 0.3166239984982079}           0.875358           0.866762   \n",
       "4     {'C': 0.2925539277908118}           0.875358           0.866762   \n",
       "5     {'C': 0.9824168047644937}           0.875358           0.866762   \n",
       "6     {'C': 0.3412812387888253}           0.875358           0.866762   \n",
       "7     {'C': 0.8686750398109687}           0.876791           0.866762   \n",
       "8  {'C': 0.0053197629754513365}           0.865330           0.858166   \n",
       "9     {'C': 0.9197832211605257}           0.876791           0.866762   \n",
       "\n",
       "   split2_test_score  split3_test_score  split4_test_score  mean_test_score  \\\n",
       "0           0.865330           0.878223           0.861032         0.869341   \n",
       "1           0.863897           0.882521           0.868195         0.871633   \n",
       "2           0.865330           0.878223           0.862464         0.869914   \n",
       "3           0.865330           0.879656           0.862464         0.869914   \n",
       "4           0.866762           0.881089           0.863897         0.870774   \n",
       "5           0.865330           0.878223           0.861032         0.869341   \n",
       "6           0.865330           0.878223           0.862464         0.869628   \n",
       "7           0.865330           0.878223           0.861032         0.869628   \n",
       "8           0.853868           0.869628           0.861032         0.861605   \n",
       "9           0.865330           0.878223           0.861032         0.869628   \n",
       "\n",
       "   std_test_score  rank_test_score  \n",
       "0        0.006433                8  \n",
       "1        0.006936                1  \n",
       "2        0.006369                3  \n",
       "3        0.006496                3  \n",
       "4        0.006433                2  \n",
       "5        0.006433                8  \n",
       "6        0.006078                5  \n",
       "7        0.006720                5  \n",
       "8        0.005482               10  \n",
       "9        0.006720                5  "
      ]
     },
     "execution_count": 82,
     "metadata": {},
     "output_type": "execute_result"
    }
   ],
   "source": [
    "df"
   ]
  },
  {
   "cell_type": "code",
   "execution_count": 83,
   "metadata": {},
   "outputs": [
    {
     "data": {
      "image/png": "[encoded data removed]",
      "text/plain": [
       "<Figure size 576x432 with 1 Axes>"
      ]
     },
     "metadata": {
      "needs_background": "light"
     },
     "output_type": "display_data"
    }
   ],
   "source": [
    "plt.figure(figsize=(8,6))\n",
    "plt.xlabel(\"C\",fontsize=15)\n",
    "plt.ylabel(\"f1_weighted\")\n",
    "plt.title('f1_weighted v/s C')\n",
    "plt.plot(df['param_C'],df['mean_test_score'],linestyle='dashed', marker='o', markerfacecolor='red', markersize=8)\n",
    "plt.show()"
   ]
  },
  {
   "cell_type": "code",
   "execution_count": null,
   "metadata": {},
   "outputs": [],
   "source": []
  },
  {
   "cell_type": "markdown",
   "metadata": {},
   "source": [
    "### Finding the accuracy in Test data using calculated optimal C"
   ]
  },
  {
   "cell_type": "code",
   "execution_count": 84,
   "metadata": {
    "scrolled": true
   },
   "outputs": [],
   "source": [
    "LR = LogisticRegression(penalty='l1',C=0.8630372492836678,solver='liblinear')\n",
    "LR.fit(x_train_uni,Y_train)\n",
    "y_pred = LR.predict(x_test_uni)"
   ]
  },
  {
   "cell_type": "code",
   "execution_count": 85,
   "metadata": {},
   "outputs": [
    {
     "name": "stdout",
     "output_type": "stream",
     "text": [
      "Accuracy on test set: 88.035%\n",
      "Precision on test set: 0.795\n",
      "Recall on test set: 0.715\n",
      "F1-Score on test set: 0.744\n"
     ]
    }
   ],
   "source": [
    "print(\"Accuracy on test set: %0.3f%%\"%(accuracy_score(Y_test, y_pred)*100))\n",
    "print(\"Precision on test set: %0.3f\"%(precision_score(Y_test, y_pred,average='macro')))\n",
    "print(\"Recall on test set: %0.3f\"%(recall_score(Y_test, y_pred,average='macro')))\n",
    "print(\"F1-Score on test set: %0.3f\"%(f1_score(Y_test, y_pred,average='macro')))"
   ]
  },
  {
   "cell_type": "code",
   "execution_count": null,
   "metadata": {},
   "outputs": [],
   "source": []
  },
  {
   "cell_type": "code",
   "execution_count": 86,
   "metadata": {},
   "outputs": [],
   "source": [
    "# Plotting Heatmap"
   ]
  },
  {
   "cell_type": "code",
   "execution_count": 87,
   "metadata": {},
   "outputs": [
    {
     "data": {
      "text/plain": [
       "<matplotlib.axes._subplots.AxesSubplot at 0x1d041cc6390>"
      ]
     },
     "execution_count": 87,
     "metadata": {},
     "output_type": "execute_result"
    },
    {
     "data": {
      "image/png": "[encoded data removed]",
      "text/plain": [
       "<Figure size 432x288 with 2 Axes>"
      ]
     },
     "metadata": {
      "needs_background": "light"
     },
     "output_type": "display_data"
    }
   ],
   "source": [
    "cnf = confusion_matrix(Y_test, y_pred)\n",
    "sns.heatmap(cnf,annot=True,fmt='d',annot_kws={'size':20})"
   ]
  },
  {
   "cell_type": "code",
   "execution_count": null,
   "metadata": {},
   "outputs": [],
   "source": []
  },
  {
   "cell_type": "markdown",
   "metadata": {},
   "source": [
    "## Bi-Grams"
   ]
  },
  {
   "cell_type": "code",
   "execution_count": 88,
   "metadata": {},
   "outputs": [],
   "source": [
    "bi_gram = CountVectorizer(ngram_range=(1,2))\n",
    "x_tr_bi = bi_gram.fit_transform(X_train)\n",
    "x_test_bi = bi_gram.transform(X_test)\n",
    "\n",
    "x_tr_bi = StandardScaler(with_mean = False).fit_transform(x_tr_bi)\n",
    "x_test_bi = StandardScaler(with_mean = False).fit_transform(x_test_bi)"
   ]
  },
  {
   "cell_type": "code",
   "execution_count": null,
   "metadata": {},
   "outputs": [],
   "source": []
  },
  {
   "cell_type": "markdown",
   "metadata": {},
   "source": [
    "### Hyperparameter tuning using Grid Search CV to find the optimal C for Logistic Regression"
   ]
  },
  {
   "cell_type": "code",
   "execution_count": 89,
   "metadata": {},
   "outputs": [
    {
     "name": "stdout",
     "output_type": "stream",
     "text": [
      "Fitting 5 folds for each of 5 candidates, totalling 25 fits\n",
      "Best HyperParameter:  {'C': 1}\n",
      "0.8065978343494073\n"
     ]
    }
   ],
   "source": [
    "LR = LogisticRegression(penalty ='l1',solver='liblinear')\n",
    "C_values = [{'C': [10**-4, 10**-2, 10**0, 10**2, 10**4]}]\n",
    "gsv = GridSearchCV(LR,C_values,cv=5,verbose=1,scoring='f1_weighted',n_jobs=-1)\n",
    "# verbose = Controls the verbosity: the higher, the more messages.\n",
    "# scoring = 'f1_weighted' = F1 score Calculate metrics for each label, and find their average weighted by support (the number of true instances for each label).\n",
    "# n_jobs = -1 = Number of jobs to run in parallel, -1 means using all processors.\n",
    "\n",
    "gsv.fit(x_tr_bi,Y_train)\n",
    "print(\"Best HyperParameter: \",gsv.best_params_)\n",
    "print(gsv.best_score_)\n",
    "optimal_C=gsv.best_score_"
   ]
  },
  {
   "cell_type": "code",
   "execution_count": null,
   "metadata": {},
   "outputs": [],
   "source": []
  },
  {
   "cell_type": "code",
   "execution_count": 90,
   "metadata": {},
   "outputs": [
    {
     "data": {
      "text/plain": [
       "{'mean_fit_time': array([0.07039785, 0.52189026, 0.81767406, 0.879178  , 0.96127825]),\n",
       " 'std_fit_time': array([0.01375327, 0.04979729, 0.04471912, 0.0670626 , 0.10888841]),\n",
       " 'mean_score_time': array([0.00319614, 0.00625057, 0.01251135, 0.        , 0.00685778]),\n",
       " 'std_score_time': array([0.00391448, 0.00765536, 0.01170286, 0.        , 0.00616908]),\n",
       " 'param_C': masked_array(data=[0.0001, 0.01, 1, 100, 10000],\n",
       "              mask=[False, False, False, False, False],\n",
       "        fill_value='?',\n",
       "             dtype=object),\n",
       " 'params': [{'C': 0.0001}, {'C': 0.01}, {'C': 1}, {'C': 100}, {'C': 10000}],\n",
       " 'split0_test_score': array([0.04585939, 0.76571147, 0.8107959 , 0.77815927, 0.78050036]),\n",
       " 'split1_test_score': array([0.04585939, 0.76227599, 0.7985866 , 0.77243955, 0.7818992 ]),\n",
       " 'split2_test_score': array([0.04585939, 0.7690989 , 0.81284547, 0.78362593, 0.79184933]),\n",
       " 'split3_test_score': array([0.04511392, 0.76429259, 0.8034911 , 0.78737271, 0.79477351]),\n",
       " 'split4_test_score': array([0.04511392, 0.76772896, 0.80727011, 0.79049524, 0.78100237]),\n",
       " 'mean_test_score': array([0.0455612 , 0.76582158, 0.80659783, 0.78241854, 0.78600495]),\n",
       " 'std_test_score': array([0.0003652 , 0.00242075, 0.00511743, 0.00646462, 0.00605356]),\n",
       " 'rank_test_score': array([5, 4, 1, 3, 2])}"
      ]
     },
     "execution_count": 90,
     "metadata": {},
     "output_type": "execute_result"
    }
   ],
   "source": [
    "gsv.cv_results_"
   ]
  },
  {
   "cell_type": "code",
   "execution_count": 91,
   "metadata": {},
   "outputs": [],
   "source": [
    "df = pd.DataFrame(gsv.cv_results_)"
   ]
  },
  {
   "cell_type": "code",
   "execution_count": 92,
   "metadata": {},
   "outputs": [
    {
     "data": {
      "text/html": [
       "<div>\n",
       "<style scoped>\n",
       "    .dataframe tbody tr th:only-of-type {\n",
       "        vertical-align: middle;\n",
       "    }\n",
       "\n",
       "    .dataframe tbody tr th {\n",
       "        vertical-align: top;\n",
       "    }\n",
       "\n",
       "    .dataframe thead th {\n",
       "        text-align: right;\n",
       "    }\n",
       "</style>\n",
       "<table border=\"1\" class=\"dataframe\">\n",
       "  <thead>\n",
       "    <tr style=\"text-align: right;\">\n",
       "      <th></th>\n",
       "      <th>mean_fit_time</th>\n",
       "      <th>std_fit_time</th>\n",
       "      <th>mean_score_time</th>\n",
       "      <th>std_score_time</th>\n",
       "      <th>param_C</th>\n",
       "      <th>params</th>\n",
       "      <th>split0_test_score</th>\n",
       "      <th>split1_test_score</th>\n",
       "      <th>split2_test_score</th>\n",
       "      <th>split3_test_score</th>\n",
       "      <th>split4_test_score</th>\n",
       "      <th>mean_test_score</th>\n",
       "      <th>std_test_score</th>\n",
       "      <th>rank_test_score</th>\n",
       "    </tr>\n",
       "  </thead>\n",
       "  <tbody>\n",
       "    <tr>\n",
       "      <th>0</th>\n",
       "      <td>0.070398</td>\n",
       "      <td>0.013753</td>\n",
       "      <td>0.003196</td>\n",
       "      <td>0.003914</td>\n",
       "      <td>0.0001</td>\n",
       "      <td>{'C': 0.0001}</td>\n",
       "      <td>0.045859</td>\n",
       "      <td>0.045859</td>\n",
       "      <td>0.045859</td>\n",
       "      <td>0.045114</td>\n",
       "      <td>0.045114</td>\n",
       "      <td>0.045561</td>\n",
       "      <td>0.000365</td>\n",
       "      <td>5</td>\n",
       "    </tr>\n",
       "    <tr>\n",
       "      <th>1</th>\n",
       "      <td>0.521890</td>\n",
       "      <td>0.049797</td>\n",
       "      <td>0.006251</td>\n",
       "      <td>0.007655</td>\n",
       "      <td>0.01</td>\n",
       "      <td>{'C': 0.01}</td>\n",
       "      <td>0.765711</td>\n",
       "      <td>0.762276</td>\n",
       "      <td>0.769099</td>\n",
       "      <td>0.764293</td>\n",
       "      <td>0.767729</td>\n",
       "      <td>0.765822</td>\n",
       "      <td>0.002421</td>\n",
       "      <td>4</td>\n",
       "    </tr>\n",
       "    <tr>\n",
       "      <th>2</th>\n",
       "      <td>0.817674</td>\n",
       "      <td>0.044719</td>\n",
       "      <td>0.012511</td>\n",
       "      <td>0.011703</td>\n",
       "      <td>1</td>\n",
       "      <td>{'C': 1}</td>\n",
       "      <td>0.810796</td>\n",
       "      <td>0.798587</td>\n",
       "      <td>0.812845</td>\n",
       "      <td>0.803491</td>\n",
       "      <td>0.807270</td>\n",
       "      <td>0.806598</td>\n",
       "      <td>0.005117</td>\n",
       "      <td>1</td>\n",
       "    </tr>\n",
       "    <tr>\n",
       "      <th>3</th>\n",
       "      <td>0.879178</td>\n",
       "      <td>0.067063</td>\n",
       "      <td>0.000000</td>\n",
       "      <td>0.000000</td>\n",
       "      <td>100</td>\n",
       "      <td>{'C': 100}</td>\n",
       "      <td>0.778159</td>\n",
       "      <td>0.772440</td>\n",
       "      <td>0.783626</td>\n",
       "      <td>0.787373</td>\n",
       "      <td>0.790495</td>\n",
       "      <td>0.782419</td>\n",
       "      <td>0.006465</td>\n",
       "      <td>3</td>\n",
       "    </tr>\n",
       "    <tr>\n",
       "      <th>4</th>\n",
       "      <td>0.961278</td>\n",
       "      <td>0.108888</td>\n",
       "      <td>0.006858</td>\n",
       "      <td>0.006169</td>\n",
       "      <td>10000</td>\n",
       "      <td>{'C': 10000}</td>\n",
       "      <td>0.780500</td>\n",
       "      <td>0.781899</td>\n",
       "      <td>0.791849</td>\n",
       "      <td>0.794774</td>\n",
       "      <td>0.781002</td>\n",
       "      <td>0.786005</td>\n",
       "      <td>0.006054</td>\n",
       "      <td>2</td>\n",
       "    </tr>\n",
       "  </tbody>\n",
       "</table>\n",
       "</div>"
      ],
      "text/plain": [
       "   mean_fit_time  std_fit_time  mean_score_time  std_score_time param_C  \\\n",
       "0       0.070398      0.013753         0.003196        0.003914  0.0001   \n",
       "1       0.521890      0.049797         0.006251        0.007655    0.01   \n",
       "2       0.817674      0.044719         0.012511        0.011703       1   \n",
       "3       0.879178      0.067063         0.000000        0.000000     100   \n",
       "4       0.961278      0.108888         0.006858        0.006169   10000   \n",
       "\n",
       "          params  split0_test_score  split1_test_score  split2_test_score  \\\n",
       "0  {'C': 0.0001}           0.045859           0.045859           0.045859   \n",
       "1    {'C': 0.01}           0.765711           0.762276           0.769099   \n",
       "2       {'C': 1}           0.810796           0.798587           0.812845   \n",
       "3     {'C': 100}           0.778159           0.772440           0.783626   \n",
       "4   {'C': 10000}           0.780500           0.781899           0.791849   \n",
       "\n",
       "   split3_test_score  split4_test_score  mean_test_score  std_test_score  \\\n",
       "0           0.045114           0.045114         0.045561        0.000365   \n",
       "1           0.764293           0.767729         0.765822        0.002421   \n",
       "2           0.803491           0.807270         0.806598        0.005117   \n",
       "3           0.787373           0.790495         0.782419        0.006465   \n",
       "4           0.794774           0.781002         0.786005        0.006054   \n",
       "\n",
       "   rank_test_score  \n",
       "0                5  \n",
       "1                4  \n",
       "2                1  \n",
       "3                3  \n",
       "4                2  "
      ]
     },
     "execution_count": 92,
     "metadata": {},
     "output_type": "execute_result"
    }
   ],
   "source": [
    "df"
   ]
  },
  {
   "cell_type": "code",
   "execution_count": 93,
   "metadata": {},
   "outputs": [
    {
     "data": {
      "image/png": "[encoded data removed]",
      "text/plain": [
       "<Figure size 576x432 with 1 Axes>"
      ]
     },
     "metadata": {
      "needs_background": "light"
     },
     "output_type": "display_data"
    }
   ],
   "source": [
    "plt.figure(figsize=(8,6))\n",
    "plt.xlabel(\"C\",fontsize=15)\n",
    "plt.ylabel(\"f1_weighted\")\n",
    "plt.title('f1_weighted v/s C')\n",
    "plt.plot(df['param_C'],df['mean_test_score'],linestyle='dashed', marker='o', markerfacecolor='red', markersize=8)\n",
    "plt.show()"
   ]
  },
  {
   "cell_type": "code",
   "execution_count": null,
   "metadata": {},
   "outputs": [],
   "source": []
  },
  {
   "cell_type": "markdown",
   "metadata": {},
   "source": [
    "### Finding the accuracy in Test data using optimal C\n"
   ]
  },
  {
   "cell_type": "code",
   "execution_count": 94,
   "metadata": {},
   "outputs": [],
   "source": [
    "LR = LogisticRegression(penalty='l1',C=1,solver='liblinear')\n",
    "LR.fit(x_train_uni,Y_train)\n",
    "y_pred = LR.predict(x_test_uni)"
   ]
  },
  {
   "cell_type": "code",
   "execution_count": 95,
   "metadata": {},
   "outputs": [
    {
     "name": "stdout",
     "output_type": "stream",
     "text": [
      "Accuracy on test set: 87.834%\n",
      "Precision on test set: 0.788\n",
      "Recall on test set: 0.715\n",
      "F1-Score on test set: 0.743\n"
     ]
    }
   ],
   "source": [
    "print(\"Accuracy on test set: %0.3f%%\"%(accuracy_score(Y_test, y_pred)*100))\n",
    "print(\"Precision on test set: %0.3f\"%(precision_score(Y_test, y_pred,average='macro')))\n",
    "print(\"Recall on test set: %0.3f\"%(recall_score(Y_test, y_pred,average='macro')))\n",
    "print(\"F1-Score on test set: %0.3f\"%(f1_score(Y_test, y_pred,average='macro')))"
   ]
  },
  {
   "cell_type": "code",
   "execution_count": 96,
   "metadata": {},
   "outputs": [],
   "source": [
    "# Plotting Heatmap"
   ]
  },
  {
   "cell_type": "code",
   "execution_count": 97,
   "metadata": {},
   "outputs": [
    {
     "data": {
      "text/plain": [
       "<matplotlib.axes._subplots.AxesSubplot at 0x1d0421a8320>"
      ]
     },
     "execution_count": 97,
     "metadata": {},
     "output_type": "execute_result"
    },
    {
     "data": {
      "image/png": "[encoded data removed]",
      "text/plain": [
       "<Figure size 432x288 with 2 Axes>"
      ]
     },
     "metadata": {
      "needs_background": "light"
     },
     "output_type": "display_data"
    }
   ],
   "source": [
    "cnf = confusion_matrix(Y_test, y_pred)\n",
    "sns.heatmap(cnf,annot=True,fmt='d',annot_kws={'size':20})"
   ]
  },
  {
   "cell_type": "code",
   "execution_count": null,
   "metadata": {},
   "outputs": [],
   "source": []
  },
  {
   "cell_type": "markdown",
   "metadata": {},
   "source": [
    "### Hyperparameter tuning using Random Search CV to find the optimal C for Logistic Regression"
   ]
  },
  {
   "cell_type": "code",
   "execution_count": 98,
   "metadata": {},
   "outputs": [
    {
     "name": "stdout",
     "output_type": "stream",
     "text": [
      "Fitting 5 folds for each of 10 candidates, totalling 50 fits\n",
      "Best HyperParameter:  {'C': 0.02391931185758045}\n",
      "0.8120756599158359\n"
     ]
    }
   ],
   "source": [
    "LR = LogisticRegression(penalty ='l1',solver='liblinear')\n",
    "C_values = {'C': uniform()} \n",
    "gsv = RandomizedSearchCV(LR,C_values,cv=5,verbose=1,scoring='f1_weighted',n_jobs=-1)\n",
    "# verbose = Controls the verbosity: the higher, the more messages.\n",
    "# scoring = 'f1_weighted' = F1 score Calculate metrics for each label, and find their average weighted by support (the number of true instances for each label).\n",
    "# n_jobs = -1 = Number of jobs to run in parallel, -1 means using all processors.\n",
    "\n",
    "gsv.fit(x_tr_bi,Y_train)\n",
    "print(\"Best HyperParameter: \",gsv.best_params_)\n",
    "print(gsv.best_score_)\n",
    "optimal_C=gsv.best_score_"
   ]
  },
  {
   "cell_type": "code",
   "execution_count": 99,
   "metadata": {},
   "outputs": [
    {
     "data": {
      "text/html": [
       "<div>\n",
       "<style scoped>\n",
       "    .dataframe tbody tr th:only-of-type {\n",
       "        vertical-align: middle;\n",
       "    }\n",
       "\n",
       "    .dataframe tbody tr th {\n",
       "        vertical-align: top;\n",
       "    }\n",
       "\n",
       "    .dataframe thead th {\n",
       "        text-align: right;\n",
       "    }\n",
       "</style>\n",
       "<table border=\"1\" class=\"dataframe\">\n",
       "  <thead>\n",
       "    <tr style=\"text-align: right;\">\n",
       "      <th></th>\n",
       "      <th>mean_fit_time</th>\n",
       "      <th>std_fit_time</th>\n",
       "      <th>mean_score_time</th>\n",
       "      <th>std_score_time</th>\n",
       "      <th>param_C</th>\n",
       "      <th>params</th>\n",
       "      <th>split0_test_score</th>\n",
       "      <th>split1_test_score</th>\n",
       "      <th>split2_test_score</th>\n",
       "      <th>split3_test_score</th>\n",
       "      <th>split4_test_score</th>\n",
       "      <th>mean_test_score</th>\n",
       "      <th>std_test_score</th>\n",
       "      <th>rank_test_score</th>\n",
       "    </tr>\n",
       "  </thead>\n",
       "  <tbody>\n",
       "    <tr>\n",
       "      <th>0</th>\n",
       "      <td>0.862635</td>\n",
       "      <td>0.025408</td>\n",
       "      <td>0.003329</td>\n",
       "      <td>0.006171</td>\n",
       "      <td>0.602331</td>\n",
       "      <td>{'C': 0.6023311897992871}</td>\n",
       "      <td>0.808055</td>\n",
       "      <td>0.791127</td>\n",
       "      <td>0.811819</td>\n",
       "      <td>0.803313</td>\n",
       "      <td>0.803491</td>\n",
       "      <td>0.803561</td>\n",
       "      <td>0.006972</td>\n",
       "      <td>8</td>\n",
       "    </tr>\n",
       "    <tr>\n",
       "      <th>1</th>\n",
       "      <td>0.873535</td>\n",
       "      <td>0.041379</td>\n",
       "      <td>0.010500</td>\n",
       "      <td>0.006686</td>\n",
       "      <td>0.850517</td>\n",
       "      <td>{'C': 0.8505166246490746}</td>\n",
       "      <td>0.813506</td>\n",
       "      <td>0.795809</td>\n",
       "      <td>0.812845</td>\n",
       "      <td>0.797823</td>\n",
       "      <td>0.801638</td>\n",
       "      <td>0.804324</td>\n",
       "      <td>0.007469</td>\n",
       "      <td>7</td>\n",
       "    </tr>\n",
       "    <tr>\n",
       "      <th>2</th>\n",
       "      <td>0.966345</td>\n",
       "      <td>0.060343</td>\n",
       "      <td>0.008012</td>\n",
       "      <td>0.005063</td>\n",
       "      <td>0.626499</td>\n",
       "      <td>{'C': 0.6264986129451974}</td>\n",
       "      <td>0.809776</td>\n",
       "      <td>0.791127</td>\n",
       "      <td>0.811819</td>\n",
       "      <td>0.801541</td>\n",
       "      <td>0.803491</td>\n",
       "      <td>0.803551</td>\n",
       "      <td>0.007287</td>\n",
       "      <td>9</td>\n",
       "    </tr>\n",
       "    <tr>\n",
       "      <th>3</th>\n",
       "      <td>0.807233</td>\n",
       "      <td>0.049765</td>\n",
       "      <td>0.010974</td>\n",
       "      <td>0.011683</td>\n",
       "      <td>0.228948</td>\n",
       "      <td>{'C': 0.22894801109870155}</td>\n",
       "      <td>0.810418</td>\n",
       "      <td>0.791127</td>\n",
       "      <td>0.812845</td>\n",
       "      <td>0.808025</td>\n",
       "      <td>0.812775</td>\n",
       "      <td>0.807038</td>\n",
       "      <td>0.008151</td>\n",
       "      <td>5</td>\n",
       "    </tr>\n",
       "    <tr>\n",
       "      <th>4</th>\n",
       "      <td>0.741419</td>\n",
       "      <td>0.039165</td>\n",
       "      <td>0.006307</td>\n",
       "      <td>0.005829</td>\n",
       "      <td>0.0239193</td>\n",
       "      <td>{'C': 0.02391931185758045}</td>\n",
       "      <td>0.817780</td>\n",
       "      <td>0.809065</td>\n",
       "      <td>0.801577</td>\n",
       "      <td>0.818157</td>\n",
       "      <td>0.813800</td>\n",
       "      <td>0.812076</td>\n",
       "      <td>0.006193</td>\n",
       "      <td>1</td>\n",
       "    </tr>\n",
       "    <tr>\n",
       "      <th>5</th>\n",
       "      <td>0.851727</td>\n",
       "      <td>0.059158</td>\n",
       "      <td>0.006671</td>\n",
       "      <td>0.008181</td>\n",
       "      <td>0.111961</td>\n",
       "      <td>{'C': 0.11196051721586753}</td>\n",
       "      <td>0.813060</td>\n",
       "      <td>0.796655</td>\n",
       "      <td>0.818289</td>\n",
       "      <td>0.812387</td>\n",
       "      <td>0.810038</td>\n",
       "      <td>0.810086</td>\n",
       "      <td>0.007236</td>\n",
       "      <td>2</td>\n",
       "    </tr>\n",
       "    <tr>\n",
       "      <th>6</th>\n",
       "      <td>0.895984</td>\n",
       "      <td>0.046809</td>\n",
       "      <td>0.000905</td>\n",
       "      <td>0.001811</td>\n",
       "      <td>0.971938</td>\n",
       "      <td>{'C': 0.9719382281095088}</td>\n",
       "      <td>0.810796</td>\n",
       "      <td>0.789237</td>\n",
       "      <td>0.812845</td>\n",
       "      <td>0.797823</td>\n",
       "      <td>0.803491</td>\n",
       "      <td>0.802839</td>\n",
       "      <td>0.008649</td>\n",
       "      <td>10</td>\n",
       "    </tr>\n",
       "    <tr>\n",
       "      <th>7</th>\n",
       "      <td>0.721039</td>\n",
       "      <td>0.040285</td>\n",
       "      <td>0.003124</td>\n",
       "      <td>0.006249</td>\n",
       "      <td>0.112962</td>\n",
       "      <td>{'C': 0.11296227222938526}</td>\n",
       "      <td>0.813060</td>\n",
       "      <td>0.793906</td>\n",
       "      <td>0.818289</td>\n",
       "      <td>0.812387</td>\n",
       "      <td>0.812775</td>\n",
       "      <td>0.810083</td>\n",
       "      <td>0.008372</td>\n",
       "      <td>3</td>\n",
       "    </tr>\n",
       "    <tr>\n",
       "      <th>8</th>\n",
       "      <td>0.798440</td>\n",
       "      <td>0.053103</td>\n",
       "      <td>0.006257</td>\n",
       "      <td>0.007663</td>\n",
       "      <td>0.288542</td>\n",
       "      <td>{'C': 0.28854150634655473}</td>\n",
       "      <td>0.808760</td>\n",
       "      <td>0.793906</td>\n",
       "      <td>0.811819</td>\n",
       "      <td>0.808025</td>\n",
       "      <td>0.812775</td>\n",
       "      <td>0.807057</td>\n",
       "      <td>0.006814</td>\n",
       "      <td>4</td>\n",
       "    </tr>\n",
       "    <tr>\n",
       "      <th>9</th>\n",
       "      <td>0.710256</td>\n",
       "      <td>0.100909</td>\n",
       "      <td>0.009619</td>\n",
       "      <td>0.019237</td>\n",
       "      <td>0.902408</td>\n",
       "      <td>{'C': 0.9024082834271745}</td>\n",
       "      <td>0.810796</td>\n",
       "      <td>0.794857</td>\n",
       "      <td>0.810077</td>\n",
       "      <td>0.797797</td>\n",
       "      <td>0.811049</td>\n",
       "      <td>0.804915</td>\n",
       "      <td>0.007081</td>\n",
       "      <td>6</td>\n",
       "    </tr>\n",
       "  </tbody>\n",
       "</table>\n",
       "</div>"
      ],
      "text/plain": [
       "   mean_fit_time  std_fit_time  mean_score_time  std_score_time    param_C  \\\n",
       "0       0.862635      0.025408         0.003329        0.006171   0.602331   \n",
       "1       0.873535      0.041379         0.010500        0.006686   0.850517   \n",
       "2       0.966345      0.060343         0.008012        0.005063   0.626499   \n",
       "3       0.807233      0.049765         0.010974        0.011683   0.228948   \n",
       "4       0.741419      0.039165         0.006307        0.005829  0.0239193   \n",
       "5       0.851727      0.059158         0.006671        0.008181   0.111961   \n",
       "6       0.895984      0.046809         0.000905        0.001811   0.971938   \n",
       "7       0.721039      0.040285         0.003124        0.006249   0.112962   \n",
       "8       0.798440      0.053103         0.006257        0.007663   0.288542   \n",
       "9       0.710256      0.100909         0.009619        0.019237   0.902408   \n",
       "\n",
       "                       params  split0_test_score  split1_test_score  \\\n",
       "0   {'C': 0.6023311897992871}           0.808055           0.791127   \n",
       "1   {'C': 0.8505166246490746}           0.813506           0.795809   \n",
       "2   {'C': 0.6264986129451974}           0.809776           0.791127   \n",
       "3  {'C': 0.22894801109870155}           0.810418           0.791127   \n",
       "4  {'C': 0.02391931185758045}           0.817780           0.809065   \n",
       "5  {'C': 0.11196051721586753}           0.813060           0.796655   \n",
       "6   {'C': 0.9719382281095088}           0.810796           0.789237   \n",
       "7  {'C': 0.11296227222938526}           0.813060           0.793906   \n",
       "8  {'C': 0.28854150634655473}           0.808760           0.793906   \n",
       "9   {'C': 0.9024082834271745}           0.810796           0.794857   \n",
       "\n",
       "   split2_test_score  split3_test_score  split4_test_score  mean_test_score  \\\n",
       "0           0.811819           0.803313           0.803491         0.803561   \n",
       "1           0.812845           0.797823           0.801638         0.804324   \n",
       "2           0.811819           0.801541           0.803491         0.803551   \n",
       "3           0.812845           0.808025           0.812775         0.807038   \n",
       "4           0.801577           0.818157           0.813800         0.812076   \n",
       "5           0.818289           0.812387           0.810038         0.810086   \n",
       "6           0.812845           0.797823           0.803491         0.802839   \n",
       "7           0.818289           0.812387           0.812775         0.810083   \n",
       "8           0.811819           0.808025           0.812775         0.807057   \n",
       "9           0.810077           0.797797           0.811049         0.804915   \n",
       "\n",
       "   std_test_score  rank_test_score  \n",
       "0        0.006972                8  \n",
       "1        0.007469                7  \n",
       "2        0.007287                9  \n",
       "3        0.008151                5  \n",
       "4        0.006193                1  \n",
       "5        0.007236                2  \n",
       "6        0.008649               10  \n",
       "7        0.008372                3  \n",
       "8        0.006814                4  \n",
       "9        0.007081                6  "
      ]
     },
     "execution_count": 99,
     "metadata": {},
     "output_type": "execute_result"
    }
   ],
   "source": [
    "result = gsv.cv_results_\n",
    "df = pd.DataFrame(result)\n",
    "df"
   ]
  },
  {
   "cell_type": "code",
   "execution_count": null,
   "metadata": {},
   "outputs": [],
   "source": []
  },
  {
   "cell_type": "code",
   "execution_count": 100,
   "metadata": {},
   "outputs": [
    {
     "data": {
      "image/png": "[encoded data removed]",
      "text/plain": [
       "<Figure size 576x432 with 1 Axes>"
      ]
     },
     "metadata": {
      "needs_background": "light"
     },
     "output_type": "display_data"
    }
   ],
   "source": [
    "plt.figure(figsize=(8,6))\n",
    "plt.xlabel(\"C\",fontsize=15)\n",
    "plt.ylabel(\"f1_weighted\")\n",
    "plt.title('f1_weighted v/s C')\n",
    "plt.plot(df['param_C'],df['mean_test_score'],linestyle='dashed', marker='o', markerfacecolor='red', markersize=6)\n",
    "plt.show()"
   ]
  },
  {
   "cell_type": "code",
   "execution_count": null,
   "metadata": {},
   "outputs": [],
   "source": []
  },
  {
   "cell_type": "markdown",
   "metadata": {},
   "source": [
    "### Finding the accuracy in Test data using calculated optimal C"
   ]
  },
  {
   "cell_type": "code",
   "execution_count": 101,
   "metadata": {},
   "outputs": [],
   "source": [
    "LR = LogisticRegression(penalty='l1',C=0.5688620649727822,solver='liblinear')\n",
    "LR.fit(x_train_uni,Y_train)\n",
    "y_pred = LR.predict(x_test_uni)"
   ]
  },
  {
   "cell_type": "code",
   "execution_count": 102,
   "metadata": {
    "scrolled": true
   },
   "outputs": [
    {
     "name": "stdout",
     "output_type": "stream",
     "text": [
      "Accuracy on test set: 88.035%\n",
      "Precision on test set: 0.796\n",
      "Recall on test set: 0.711\n",
      "F1-Score on test set: 0.742\n"
     ]
    }
   ],
   "source": [
    "print(\"Accuracy on test set: %0.3f%%\"%(accuracy_score(Y_test, y_pred)*100))\n",
    "print(\"Precision on test set: %0.3f\"%(precision_score(Y_test, y_pred,average='macro')))\n",
    "print(\"Recall on test set: %0.3f\"%(recall_score(Y_test, y_pred,average='macro')))\n",
    "print(\"F1-Score on test set: %0.3f\"%(f1_score(Y_test, y_pred,average='macro')))"
   ]
  },
  {
   "cell_type": "code",
   "execution_count": null,
   "metadata": {},
   "outputs": [],
   "source": []
  },
  {
   "cell_type": "code",
   "execution_count": 103,
   "metadata": {},
   "outputs": [],
   "source": [
    "### Plotting Heatmap"
   ]
  },
  {
   "cell_type": "code",
   "execution_count": 104,
   "metadata": {},
   "outputs": [
    {
     "data": {
      "text/plain": [
       "<matplotlib.axes._subplots.AxesSubplot at 0x1d042540a20>"
      ]
     },
     "execution_count": 104,
     "metadata": {},
     "output_type": "execute_result"
    },
    {
     "data": {
      "image/png": "[encoded data removed]",
      "text/plain": [
       "<Figure size 432x288 with 2 Axes>"
      ]
     },
     "metadata": {
      "needs_background": "light"
     },
     "output_type": "display_data"
    }
   ],
   "source": [
    "cnf = confusion_matrix(Y_test, y_pred)\n",
    "sns.heatmap(cnf,annot=True,fmt='d',annot_kws={'size':20})"
   ]
  },
  {
   "cell_type": "code",
   "execution_count": null,
   "metadata": {},
   "outputs": [],
   "source": []
  },
  {
   "cell_type": "markdown",
   "metadata": {},
   "source": [
    "## TF-IDF"
   ]
  },
  {
   "cell_type": "code",
   "execution_count": 105,
   "metadata": {},
   "outputs": [],
   "source": [
    "tf_idf_vect = TfidfVectorizer()\n",
    "x_tr_tfidf = tf_idf_vect.fit_transform(X_train)\n",
    "x_test_tfidf = tf_idf_vect.transform(X_test)\n",
    "\n",
    "x_tr_tfidf = StandardScaler(with_mean = False).fit_transform(x_tr_tfidf)\n",
    "x_test_tfidf = StandardScaler(with_mean = False).fit_transform(x_test_tfidf)"
   ]
  },
  {
   "cell_type": "markdown",
   "metadata": {},
   "source": [
    "### Hyperparameter tuning using Grid Search CV to find the optimal C for Logistic Regression"
   ]
  },
  {
   "cell_type": "code",
   "execution_count": 106,
   "metadata": {},
   "outputs": [
    {
     "name": "stdout",
     "output_type": "stream",
     "text": [
      "Fitting 5 folds for each of 5 candidates, totalling 25 fits\n",
      "Best HyperParameter:  {'C': 100}\n",
      "0.8536451976067203\n"
     ]
    }
   ],
   "source": [
    "LR = LogisticRegression(penalty ='l1',solver='liblinear')\n",
    "C_values = [{'C':[10**-4,10**-2,10**0,10**2,10**4]}]\n",
    "gsv = GridSearchCV(LR,C_values,cv=5,verbose=1,scoring='f1_weighted',n_jobs=-1)\n",
    "gsv.fit(x_tr_tfidf,Y_train)\n",
    "print(\"Best HyperParameter: \",gsv.best_params_)\n",
    "print(gsv.best_score_)\n",
    "optimal_C=gsv.best_score_"
   ]
  },
  {
   "cell_type": "code",
   "execution_count": null,
   "metadata": {},
   "outputs": [],
   "source": []
  },
  {
   "cell_type": "code",
   "execution_count": 107,
   "metadata": {},
   "outputs": [
    {
     "data": {
      "text/html": [
       "<div>\n",
       "<style scoped>\n",
       "    .dataframe tbody tr th:only-of-type {\n",
       "        vertical-align: middle;\n",
       "    }\n",
       "\n",
       "    .dataframe tbody tr th {\n",
       "        vertical-align: top;\n",
       "    }\n",
       "\n",
       "    .dataframe thead th {\n",
       "        text-align: right;\n",
       "    }\n",
       "</style>\n",
       "<table border=\"1\" class=\"dataframe\">\n",
       "  <thead>\n",
       "    <tr style=\"text-align: right;\">\n",
       "      <th></th>\n",
       "      <th>mean_fit_time</th>\n",
       "      <th>std_fit_time</th>\n",
       "      <th>mean_score_time</th>\n",
       "      <th>std_score_time</th>\n",
       "      <th>param_C</th>\n",
       "      <th>params</th>\n",
       "      <th>split0_test_score</th>\n",
       "      <th>split1_test_score</th>\n",
       "      <th>split2_test_score</th>\n",
       "      <th>split3_test_score</th>\n",
       "      <th>split4_test_score</th>\n",
       "      <th>mean_test_score</th>\n",
       "      <th>std_test_score</th>\n",
       "      <th>rank_test_score</th>\n",
       "    </tr>\n",
       "  </thead>\n",
       "  <tbody>\n",
       "    <tr>\n",
       "      <th>0</th>\n",
       "      <td>0.016819</td>\n",
       "      <td>0.001189</td>\n",
       "      <td>0.001601</td>\n",
       "      <td>0.003202</td>\n",
       "      <td>0.0001</td>\n",
       "      <td>{'C': 0.0001}</td>\n",
       "      <td>0.045859</td>\n",
       "      <td>0.045859</td>\n",
       "      <td>0.045859</td>\n",
       "      <td>0.045114</td>\n",
       "      <td>0.045114</td>\n",
       "      <td>0.045561</td>\n",
       "      <td>0.000365</td>\n",
       "      <td>5</td>\n",
       "    </tr>\n",
       "    <tr>\n",
       "      <th>1</th>\n",
       "      <td>0.057507</td>\n",
       "      <td>0.004762</td>\n",
       "      <td>0.004927</td>\n",
       "      <td>0.006129</td>\n",
       "      <td>0.01</td>\n",
       "      <td>{'C': 0.01}</td>\n",
       "      <td>0.762276</td>\n",
       "      <td>0.762276</td>\n",
       "      <td>0.769099</td>\n",
       "      <td>0.764293</td>\n",
       "      <td>0.764293</td>\n",
       "      <td>0.764447</td>\n",
       "      <td>0.002495</td>\n",
       "      <td>4</td>\n",
       "    </tr>\n",
       "    <tr>\n",
       "      <th>2</th>\n",
       "      <td>0.140794</td>\n",
       "      <td>0.021855</td>\n",
       "      <td>0.005630</td>\n",
       "      <td>0.004838</td>\n",
       "      <td>1</td>\n",
       "      <td>{'C': 1}</td>\n",
       "      <td>0.865260</td>\n",
       "      <td>0.834753</td>\n",
       "      <td>0.824201</td>\n",
       "      <td>0.856576</td>\n",
       "      <td>0.836618</td>\n",
       "      <td>0.843482</td>\n",
       "      <td>0.015105</td>\n",
       "      <td>3</td>\n",
       "    </tr>\n",
       "    <tr>\n",
       "      <th>3</th>\n",
       "      <td>0.107838</td>\n",
       "      <td>0.015602</td>\n",
       "      <td>0.007697</td>\n",
       "      <td>0.010689</td>\n",
       "      <td>100</td>\n",
       "      <td>{'C': 100}</td>\n",
       "      <td>0.870898</td>\n",
       "      <td>0.845542</td>\n",
       "      <td>0.829048</td>\n",
       "      <td>0.880518</td>\n",
       "      <td>0.842220</td>\n",
       "      <td>0.853645</td>\n",
       "      <td>0.019084</td>\n",
       "      <td>1</td>\n",
       "    </tr>\n",
       "    <tr>\n",
       "      <th>4</th>\n",
       "      <td>0.105128</td>\n",
       "      <td>0.011369</td>\n",
       "      <td>0.003199</td>\n",
       "      <td>0.003918</td>\n",
       "      <td>10000</td>\n",
       "      <td>{'C': 10000}</td>\n",
       "      <td>0.850408</td>\n",
       "      <td>0.837765</td>\n",
       "      <td>0.836252</td>\n",
       "      <td>0.865259</td>\n",
       "      <td>0.844589</td>\n",
       "      <td>0.846855</td>\n",
       "      <td>0.010502</td>\n",
       "      <td>2</td>\n",
       "    </tr>\n",
       "  </tbody>\n",
       "</table>\n",
       "</div>"
      ],
      "text/plain": [
       "   mean_fit_time  std_fit_time  mean_score_time  std_score_time param_C  \\\n",
       "0       0.016819      0.001189         0.001601        0.003202  0.0001   \n",
       "1       0.057507      0.004762         0.004927        0.006129    0.01   \n",
       "2       0.140794      0.021855         0.005630        0.004838       1   \n",
       "3       0.107838      0.015602         0.007697        0.010689     100   \n",
       "4       0.105128      0.011369         0.003199        0.003918   10000   \n",
       "\n",
       "          params  split0_test_score  split1_test_score  split2_test_score  \\\n",
       "0  {'C': 0.0001}           0.045859           0.045859           0.045859   \n",
       "1    {'C': 0.01}           0.762276           0.762276           0.769099   \n",
       "2       {'C': 1}           0.865260           0.834753           0.824201   \n",
       "3     {'C': 100}           0.870898           0.845542           0.829048   \n",
       "4   {'C': 10000}           0.850408           0.837765           0.836252   \n",
       "\n",
       "   split3_test_score  split4_test_score  mean_test_score  std_test_score  \\\n",
       "0           0.045114           0.045114         0.045561        0.000365   \n",
       "1           0.764293           0.764293         0.764447        0.002495   \n",
       "2           0.856576           0.836618         0.843482        0.015105   \n",
       "3           0.880518           0.842220         0.853645        0.019084   \n",
       "4           0.865259           0.844589         0.846855        0.010502   \n",
       "\n",
       "   rank_test_score  \n",
       "0                5  \n",
       "1                4  \n",
       "2                3  \n",
       "3                1  \n",
       "4                2  "
      ]
     },
     "execution_count": 107,
     "metadata": {},
     "output_type": "execute_result"
    }
   ],
   "source": [
    "result = gsv.cv_results_\n",
    "df = pd.DataFrame(result)\n",
    "df"
   ]
  },
  {
   "cell_type": "code",
   "execution_count": null,
   "metadata": {},
   "outputs": [],
   "source": []
  },
  {
   "cell_type": "code",
   "execution_count": 108,
   "metadata": {},
   "outputs": [
    {
     "data": {
      "image/png": "[encoded data removed]",
      "text/plain": [
       "<Figure size 576x432 with 1 Axes>"
      ]
     },
     "metadata": {
      "needs_background": "light"
     },
     "output_type": "display_data"
    }
   ],
   "source": [
    "plt.figure(figsize=(8,6))\n",
    "plt.xlabel(\"C\",fontsize=15)\n",
    "plt.ylabel(\"f1_weighted\")\n",
    "plt.title('f1_weighted v/s C')\n",
    "plt.plot(df['param_C'],df['mean_test_score'],linestyle='dashed', marker='o', markerfacecolor='red', markersize=6)\n",
    "plt.show()"
   ]
  },
  {
   "cell_type": "code",
   "execution_count": null,
   "metadata": {},
   "outputs": [],
   "source": []
  },
  {
   "cell_type": "markdown",
   "metadata": {},
   "source": [
    "### Finding the accuracy in Test data using calculated optimal C"
   ]
  },
  {
   "cell_type": "code",
   "execution_count": 109,
   "metadata": {},
   "outputs": [],
   "source": [
    "LR = LogisticRegression(penalty='l1',C=100,solver='liblinear')\n",
    "LR.fit(x_tr_tfidf,Y_train)\n",
    "y_pred = LR.predict(x_test_tfidf)"
   ]
  },
  {
   "cell_type": "code",
   "execution_count": 110,
   "metadata": {},
   "outputs": [
    {
     "name": "stdout",
     "output_type": "stream",
     "text": [
      "Accuracy on test set: 87.968%\n",
      "Precision on test set: 0.802\n",
      "Recall on test set: 0.697\n",
      "F1-Score on test set: 0.732\n"
     ]
    }
   ],
   "source": [
    "print(\"Accuracy on test set: %0.3f%%\"%(accuracy_score(Y_test, y_pred)*100))\n",
    "print(\"Precision on test set: %0.3f\"%(precision_score(Y_test, y_pred,average='macro')))\n",
    "print(\"Recall on test set: %0.3f\"%(recall_score(Y_test, y_pred,average='macro')))\n",
    "print(\"F1-Score on test set: %0.3f\"%(f1_score(Y_test, y_pred,average='macro')))"
   ]
  },
  {
   "cell_type": "code",
   "execution_count": 111,
   "metadata": {},
   "outputs": [],
   "source": [
    "### Plotting Heatmap"
   ]
  },
  {
   "cell_type": "code",
   "execution_count": 112,
   "metadata": {},
   "outputs": [
    {
     "data": {
      "text/plain": [
       "<matplotlib.axes._subplots.AxesSubplot at 0x1d0428ed940>"
      ]
     },
     "execution_count": 112,
     "metadata": {},
     "output_type": "execute_result"
    },
    {
     "data": {
      "image/png": "[encoded data removed]",
      "text/plain": [
       "<Figure size 432x288 with 2 Axes>"
      ]
     },
     "metadata": {
      "needs_background": "light"
     },
     "output_type": "display_data"
    }
   ],
   "source": [
    "cnf = confusion_matrix(Y_test, y_pred)\n",
    "sns.heatmap(cnf,annot=True,fmt='d',annot_kws={'size':20})"
   ]
  },
  {
   "cell_type": "code",
   "execution_count": null,
   "metadata": {},
   "outputs": [],
   "source": []
  },
  {
   "cell_type": "markdown",
   "metadata": {},
   "source": [
    "## RandomSearch CV"
   ]
  },
  {
   "cell_type": "markdown",
   "metadata": {},
   "source": [
    "### Hyperparameter tuning using Random Search CV to find the optimal C for Logistic Regression"
   ]
  },
  {
   "cell_type": "code",
   "execution_count": 113,
   "metadata": {},
   "outputs": [],
   "source": [
    "LR = LogisticRegression(penalty ='l1',solver='liblinear')\n",
    "C_value = {'C':uniform()}\n",
    "rsv = RandomizedSearchCV(LR, param_distributions = C_value , cv=5,verbose=1, scoring='f1_micro', n_jobs=-1)"
   ]
  },
  {
   "cell_type": "code",
   "execution_count": 114,
   "metadata": {},
   "outputs": [
    {
     "name": "stdout",
     "output_type": "stream",
     "text": [
      "Fitting 5 folds for each of 10 candidates, totalling 50 fits\n"
     ]
    },
    {
     "data": {
      "text/plain": [
       "RandomizedSearchCV(cv=5,\n",
       "                   estimator=LogisticRegression(penalty='l1',\n",
       "                                                solver='liblinear'),\n",
       "                   n_jobs=-1,\n",
       "                   param_distributions={'C': <scipy.stats._distn_infrastructure.rv_frozen object at 0x000001D042AC25F8>},\n",
       "                   scoring='f1_micro', verbose=1)"
      ]
     },
     "execution_count": 114,
     "metadata": {},
     "output_type": "execute_result"
    }
   ],
   "source": [
    "rsv.fit(x_tr_tfidf,Y_train)"
   ]
  },
  {
   "cell_type": "code",
   "execution_count": 115,
   "metadata": {},
   "outputs": [
    {
     "name": "stdout",
     "output_type": "stream",
     "text": [
      "Best HyperParameter:  {'C': 0.3260333195074292}\n",
      "0.8684813753581662\n"
     ]
    }
   ],
   "source": [
    "print(\"Best HyperParameter: \",rsv.best_params_)\n",
    "print(rsv.best_score_)\n",
    "optimal_C=rsv.best_score_"
   ]
  },
  {
   "cell_type": "code",
   "execution_count": 116,
   "metadata": {},
   "outputs": [
    {
     "data": {
      "text/html": [
       "<div>\n",
       "<style scoped>\n",
       "    .dataframe tbody tr th:only-of-type {\n",
       "        vertical-align: middle;\n",
       "    }\n",
       "\n",
       "    .dataframe tbody tr th {\n",
       "        vertical-align: top;\n",
       "    }\n",
       "\n",
       "    .dataframe thead th {\n",
       "        text-align: right;\n",
       "    }\n",
       "</style>\n",
       "<table border=\"1\" class=\"dataframe\">\n",
       "  <thead>\n",
       "    <tr style=\"text-align: right;\">\n",
       "      <th></th>\n",
       "      <th>mean_fit_time</th>\n",
       "      <th>std_fit_time</th>\n",
       "      <th>mean_score_time</th>\n",
       "      <th>std_score_time</th>\n",
       "      <th>param_C</th>\n",
       "      <th>params</th>\n",
       "      <th>split0_test_score</th>\n",
       "      <th>split1_test_score</th>\n",
       "      <th>split2_test_score</th>\n",
       "      <th>split3_test_score</th>\n",
       "      <th>split4_test_score</th>\n",
       "      <th>mean_test_score</th>\n",
       "      <th>std_test_score</th>\n",
       "      <th>rank_test_score</th>\n",
       "    </tr>\n",
       "  </thead>\n",
       "  <tbody>\n",
       "    <tr>\n",
       "      <th>0</th>\n",
       "      <td>0.165843</td>\n",
       "      <td>0.020149</td>\n",
       "      <td>0.004795</td>\n",
       "      <td>0.006391</td>\n",
       "      <td>0.460237</td>\n",
       "      <td>{'C': 0.4602372873919697}</td>\n",
       "      <td>0.879656</td>\n",
       "      <td>0.862464</td>\n",
       "      <td>0.856734</td>\n",
       "      <td>0.873926</td>\n",
       "      <td>0.863897</td>\n",
       "      <td>0.867335</td>\n",
       "      <td>0.008285</td>\n",
       "      <td>3</td>\n",
       "    </tr>\n",
       "    <tr>\n",
       "      <th>1</th>\n",
       "      <td>0.105974</td>\n",
       "      <td>0.018651</td>\n",
       "      <td>0.001946</td>\n",
       "      <td>0.002450</td>\n",
       "      <td>0.0596691</td>\n",
       "      <td>{'C': 0.05966907830632562}</td>\n",
       "      <td>0.872493</td>\n",
       "      <td>0.859599</td>\n",
       "      <td>0.862464</td>\n",
       "      <td>0.869628</td>\n",
       "      <td>0.869628</td>\n",
       "      <td>0.866762</td>\n",
       "      <td>0.004879</td>\n",
       "      <td>7</td>\n",
       "    </tr>\n",
       "    <tr>\n",
       "      <th>2</th>\n",
       "      <td>0.130365</td>\n",
       "      <td>0.018642</td>\n",
       "      <td>0.010984</td>\n",
       "      <td>0.006237</td>\n",
       "      <td>0.492116</td>\n",
       "      <td>{'C': 0.49211589571437964}</td>\n",
       "      <td>0.882521</td>\n",
       "      <td>0.861032</td>\n",
       "      <td>0.853868</td>\n",
       "      <td>0.872493</td>\n",
       "      <td>0.863897</td>\n",
       "      <td>0.866762</td>\n",
       "      <td>0.009884</td>\n",
       "      <td>7</td>\n",
       "    </tr>\n",
       "    <tr>\n",
       "      <th>3</th>\n",
       "      <td>0.146939</td>\n",
       "      <td>0.011124</td>\n",
       "      <td>0.015233</td>\n",
       "      <td>0.017343</td>\n",
       "      <td>0.841486</td>\n",
       "      <td>{'C': 0.8414855125902198}</td>\n",
       "      <td>0.883954</td>\n",
       "      <td>0.859599</td>\n",
       "      <td>0.855301</td>\n",
       "      <td>0.869628</td>\n",
       "      <td>0.862464</td>\n",
       "      <td>0.866189</td>\n",
       "      <td>0.010033</td>\n",
       "      <td>10</td>\n",
       "    </tr>\n",
       "    <tr>\n",
       "      <th>4</th>\n",
       "      <td>0.144876</td>\n",
       "      <td>0.016949</td>\n",
       "      <td>0.005385</td>\n",
       "      <td>0.004520</td>\n",
       "      <td>0.105284</td>\n",
       "      <td>{'C': 0.10528403899097571}</td>\n",
       "      <td>0.875358</td>\n",
       "      <td>0.861032</td>\n",
       "      <td>0.856734</td>\n",
       "      <td>0.875358</td>\n",
       "      <td>0.868195</td>\n",
       "      <td>0.867335</td>\n",
       "      <td>0.007505</td>\n",
       "      <td>3</td>\n",
       "    </tr>\n",
       "    <tr>\n",
       "      <th>5</th>\n",
       "      <td>0.150898</td>\n",
       "      <td>0.018203</td>\n",
       "      <td>0.001802</td>\n",
       "      <td>0.003126</td>\n",
       "      <td>0.326033</td>\n",
       "      <td>{'C': 0.3260333195074292}</td>\n",
       "      <td>0.881089</td>\n",
       "      <td>0.862464</td>\n",
       "      <td>0.858166</td>\n",
       "      <td>0.875358</td>\n",
       "      <td>0.865330</td>\n",
       "      <td>0.868481</td>\n",
       "      <td>0.008471</td>\n",
       "      <td>1</td>\n",
       "    </tr>\n",
       "    <tr>\n",
       "      <th>6</th>\n",
       "      <td>0.153124</td>\n",
       "      <td>0.006445</td>\n",
       "      <td>0.003222</td>\n",
       "      <td>0.003947</td>\n",
       "      <td>0.159087</td>\n",
       "      <td>{'C': 0.15908722872399184}</td>\n",
       "      <td>0.876791</td>\n",
       "      <td>0.858166</td>\n",
       "      <td>0.856734</td>\n",
       "      <td>0.876791</td>\n",
       "      <td>0.866762</td>\n",
       "      <td>0.867049</td>\n",
       "      <td>0.008663</td>\n",
       "      <td>6</td>\n",
       "    </tr>\n",
       "    <tr>\n",
       "      <th>7</th>\n",
       "      <td>0.139121</td>\n",
       "      <td>0.018570</td>\n",
       "      <td>0.007499</td>\n",
       "      <td>0.006715</td>\n",
       "      <td>0.234942</td>\n",
       "      <td>{'C': 0.23494163319221084}</td>\n",
       "      <td>0.882521</td>\n",
       "      <td>0.861032</td>\n",
       "      <td>0.856734</td>\n",
       "      <td>0.875358</td>\n",
       "      <td>0.865330</td>\n",
       "      <td>0.868195</td>\n",
       "      <td>0.009460</td>\n",
       "      <td>2</td>\n",
       "    </tr>\n",
       "    <tr>\n",
       "      <th>8</th>\n",
       "      <td>0.166872</td>\n",
       "      <td>0.005730</td>\n",
       "      <td>0.006402</td>\n",
       "      <td>0.005988</td>\n",
       "      <td>0.443996</td>\n",
       "      <td>{'C': 0.4439959435287677}</td>\n",
       "      <td>0.882521</td>\n",
       "      <td>0.859599</td>\n",
       "      <td>0.855301</td>\n",
       "      <td>0.873926</td>\n",
       "      <td>0.863897</td>\n",
       "      <td>0.867049</td>\n",
       "      <td>0.009901</td>\n",
       "      <td>5</td>\n",
       "    </tr>\n",
       "    <tr>\n",
       "      <th>9</th>\n",
       "      <td>0.115846</td>\n",
       "      <td>0.022176</td>\n",
       "      <td>0.003354</td>\n",
       "      <td>0.003045</td>\n",
       "      <td>0.0729156</td>\n",
       "      <td>{'C': 0.07291563944321944}</td>\n",
       "      <td>0.872493</td>\n",
       "      <td>0.862464</td>\n",
       "      <td>0.859599</td>\n",
       "      <td>0.871060</td>\n",
       "      <td>0.868195</td>\n",
       "      <td>0.866762</td>\n",
       "      <td>0.004963</td>\n",
       "      <td>7</td>\n",
       "    </tr>\n",
       "  </tbody>\n",
       "</table>\n",
       "</div>"
      ],
      "text/plain": [
       "   mean_fit_time  std_fit_time  mean_score_time  std_score_time    param_C  \\\n",
       "0       0.165843      0.020149         0.004795        0.006391   0.460237   \n",
       "1       0.105974      0.018651         0.001946        0.002450  0.0596691   \n",
       "2       0.130365      0.018642         0.010984        0.006237   0.492116   \n",
       "3       0.146939      0.011124         0.015233        0.017343   0.841486   \n",
       "4       0.144876      0.016949         0.005385        0.004520   0.105284   \n",
       "5       0.150898      0.018203         0.001802        0.003126   0.326033   \n",
       "6       0.153124      0.006445         0.003222        0.003947   0.159087   \n",
       "7       0.139121      0.018570         0.007499        0.006715   0.234942   \n",
       "8       0.166872      0.005730         0.006402        0.005988   0.443996   \n",
       "9       0.115846      0.022176         0.003354        0.003045  0.0729156   \n",
       "\n",
       "                       params  split0_test_score  split1_test_score  \\\n",
       "0   {'C': 0.4602372873919697}           0.879656           0.862464   \n",
       "1  {'C': 0.05966907830632562}           0.872493           0.859599   \n",
       "2  {'C': 0.49211589571437964}           0.882521           0.861032   \n",
       "3   {'C': 0.8414855125902198}           0.883954           0.859599   \n",
       "4  {'C': 0.10528403899097571}           0.875358           0.861032   \n",
       "5   {'C': 0.3260333195074292}           0.881089           0.862464   \n",
       "6  {'C': 0.15908722872399184}           0.876791           0.858166   \n",
       "7  {'C': 0.23494163319221084}           0.882521           0.861032   \n",
       "8   {'C': 0.4439959435287677}           0.882521           0.859599   \n",
       "9  {'C': 0.07291563944321944}           0.872493           0.862464   \n",
       "\n",
       "   split2_test_score  split3_test_score  split4_test_score  mean_test_score  \\\n",
       "0           0.856734           0.873926           0.863897         0.867335   \n",
       "1           0.862464           0.869628           0.869628         0.866762   \n",
       "2           0.853868           0.872493           0.863897         0.866762   \n",
       "3           0.855301           0.869628           0.862464         0.866189   \n",
       "4           0.856734           0.875358           0.868195         0.867335   \n",
       "5           0.858166           0.875358           0.865330         0.868481   \n",
       "6           0.856734           0.876791           0.866762         0.867049   \n",
       "7           0.856734           0.875358           0.865330         0.868195   \n",
       "8           0.855301           0.873926           0.863897         0.867049   \n",
       "9           0.859599           0.871060           0.868195         0.866762   \n",
       "\n",
       "   std_test_score  rank_test_score  \n",
       "0        0.008285                3  \n",
       "1        0.004879                7  \n",
       "2        0.009884                7  \n",
       "3        0.010033               10  \n",
       "4        0.007505                3  \n",
       "5        0.008471                1  \n",
       "6        0.008663                6  \n",
       "7        0.009460                2  \n",
       "8        0.009901                5  \n",
       "9        0.004963                7  "
      ]
     },
     "execution_count": 116,
     "metadata": {},
     "output_type": "execute_result"
    }
   ],
   "source": [
    "result = rsv.cv_results_\n",
    "df = pd.DataFrame(result)\n",
    "df"
   ]
  },
  {
   "cell_type": "code",
   "execution_count": null,
   "metadata": {},
   "outputs": [],
   "source": []
  },
  {
   "cell_type": "code",
   "execution_count": 117,
   "metadata": {},
   "outputs": [
    {
     "data": {
      "image/png": "[encoded data removed]",
      "text/plain": [
       "<Figure size 576x432 with 1 Axes>"
      ]
     },
     "metadata": {
      "needs_background": "light"
     },
     "output_type": "display_data"
    }
   ],
   "source": [
    "plt.figure(figsize=(8,6))\n",
    "plt.xlabel(\"C\",fontsize=15)\n",
    "plt.ylabel(\"f1_weighted\")\n",
    "plt.title('f1_weighted v/s C')\n",
    "plt.plot(df['param_C'],df['mean_test_score'],linestyle='dashed', marker='o', markerfacecolor='red', markersize=6)\n",
    "plt.show()"
   ]
  },
  {
   "cell_type": "markdown",
   "metadata": {},
   "source": [
    "### Finding the accuracy in Test data using calculated optimal C"
   ]
  },
  {
   "cell_type": "code",
   "execution_count": 118,
   "metadata": {},
   "outputs": [],
   "source": [
    "LR = LogisticRegression(penalty='l1',C=0.7867324398813086,solver='liblinear')\n",
    "LR.fit(x_tr_tfidf,Y_train)\n",
    "y_pred = LR.predict(x_test_tfidf)"
   ]
  },
  {
   "cell_type": "code",
   "execution_count": 119,
   "metadata": {},
   "outputs": [
    {
     "name": "stdout",
     "output_type": "stream",
     "text": [
      "Accuracy on test set: 87.567%\n",
      "Precision on test set: 0.789\n",
      "Recall on test set: 0.693\n",
      "F1-Score on test set: 0.726\n"
     ]
    }
   ],
   "source": [
    "print(\"Accuracy on test set: %0.3f%%\"%(accuracy_score(Y_test, y_pred)*100))\n",
    "print(\"Precision on test set: %0.3f\"%(precision_score(Y_test, y_pred,average='macro')))\n",
    "print(\"Recall on test set: %0.3f\"%(recall_score(Y_test, y_pred,average='macro')))\n",
    "print(\"F1-Score on test set: %0.3f\"%(f1_score(Y_test, y_pred,average='macro')))"
   ]
  },
  {
   "cell_type": "markdown",
   "metadata": {},
   "source": [
    "### Plotting Heatmap"
   ]
  },
  {
   "cell_type": "code",
   "execution_count": 120,
   "metadata": {},
   "outputs": [
    {
     "data": {
      "text/plain": [
       "<matplotlib.axes._subplots.AxesSubplot at 0x1d04232c438>"
      ]
     },
     "execution_count": 120,
     "metadata": {},
     "output_type": "execute_result"
    },
    {
     "data": {
      "image/png": "[encoded data removed]",
      "text/plain": [
       "<Figure size 432x288 with 2 Axes>"
      ]
     },
     "metadata": {
      "needs_background": "light"
     },
     "output_type": "display_data"
    }
   ],
   "source": [
    "cnf = confusion_matrix(Y_test, y_pred)\n",
    "sns.heatmap(cnf,annot=True,fmt='d',annot_kws={'size':20})"
   ]
  },
  {
   "cell_type": "code",
   "execution_count": null,
   "metadata": {},
   "outputs": [],
   "source": []
  },
  {
   "cell_type": "markdown",
   "metadata": {},
   "source": [
    "## Word2Vec"
   ]
  },
  {
   "cell_type": "code",
   "execution_count": 121,
   "metadata": {},
   "outputs": [],
   "source": [
    "from gensim.models import Word2Vec"
   ]
  },
  {
   "cell_type": "code",
   "execution_count": 122,
   "metadata": {},
   "outputs": [
    {
     "data": {
      "text/plain": [
       "1998    ordered source past cancelled membership due e...\n",
       "698     pretty good regular style soy sauce not super ...\n",
       "3710    low sodium intake per day great good taste low...\n",
       "4836    grass sprouted quickly great germination rate ...\n",
       "2185    yummy good flavor wish softer not crumbly odd ...\n",
       "                              ...                        \n",
       "1352    sure could gone food crusade local grocery fin...\n",
       "4060    steal make lot gingerbread cookies holidays la...\n",
       "4901    walnuts chocolate high quality rich decadent s...\n",
       "4089    dried berries still texture quintessential aro...\n",
       "2564    even though chowder good add bar harbor choppe...\n",
       "Name: preprocessed reviews, Length: 3490, dtype: object"
      ]
     },
     "execution_count": 122,
     "metadata": {},
     "output_type": "execute_result"
    }
   ],
   "source": [
    "X_train"
   ]
  },
  {
   "cell_type": "markdown",
   "metadata": {},
   "source": []
  },
  {
   "cell_type": "code",
   "execution_count": 123,
   "metadata": {},
   "outputs": [],
   "source": [
    "i=0\n",
    "train_sent=[]\n",
    "for sent in X_train:\n",
    "    train_sent.append(sent.split())\n",
    "i=0\n",
    "test_sent=[]\n",
    "for sent in X_test:\n",
    "    test_sent.append(sent.split())"
   ]
  },
  {
   "cell_type": "code",
   "execution_count": null,
   "metadata": {},
   "outputs": [],
   "source": []
  },
  {
   "cell_type": "code",
   "execution_count": 124,
   "metadata": {},
   "outputs": [],
   "source": [
    "# For Train Set"
   ]
  },
  {
   "cell_type": "code",
   "execution_count": 125,
   "metadata": {},
   "outputs": [],
   "source": [
    "w2v_model_train=Word2Vec(train_sent,min_count=5,size=50, workers=4)"
   ]
  },
  {
   "cell_type": "code",
   "execution_count": 126,
   "metadata": {},
   "outputs": [
    {
     "name": "stdout",
     "output_type": "stream",
     "text": [
      "number of words that occured minimum 5 times  3153\n",
      "sample words  ['ordered', 'source', 'past', 'due', 'charges', 'every', 'month', 'happy', 'look', 'amazon', 'find', 'could', 'purchase', 'much', 'cheaper', 'use', 'prime', 'account', 'tea', 'not', 'one', 'came', 'black', 'box', 'brown', 'green', 'inside', 'fragile', 'bags', 'different', 'comes', 'packaged', 'taste', 'lost', 'pounds', 'last', 'months', 'drinking', 'morning', 'water', 'throughout', 'day', 'diet', 'change', 'used', 'half', 'new', 'weeks', 'dont', 'want']\n"
     ]
    }
   ],
   "source": [
    "w2v_words_train = list(w2v_model_train.wv.vocab)\n",
    "print(\"number of words that occured minimum 5 times \",len(w2v_words_train))\n",
    "print(\"sample words \", w2v_words_train[0:50])"
   ]
  },
  {
   "cell_type": "code",
   "execution_count": 127,
   "metadata": {},
   "outputs": [
    {
     "data": {
      "text/plain": [
       "3490"
      ]
     },
     "execution_count": 127,
     "metadata": {},
     "output_type": "execute_result"
    }
   ],
   "source": [
    "len(train_sent)"
   ]
  },
  {
   "cell_type": "code",
   "execution_count": 128,
   "metadata": {},
   "outputs": [
    {
     "data": {
      "text/plain": [
       "list"
      ]
     },
     "execution_count": 128,
     "metadata": {},
     "output_type": "execute_result"
    }
   ],
   "source": [
    "type(train_sent)"
   ]
  },
  {
   "cell_type": "code",
   "execution_count": 129,
   "metadata": {},
   "outputs": [
    {
     "data": {
      "text/plain": [
       "1496"
      ]
     },
     "execution_count": 129,
     "metadata": {},
     "output_type": "execute_result"
    }
   ],
   "source": [
    "len(test_sent)"
   ]
  },
  {
   "cell_type": "markdown",
   "metadata": {},
   "source": [
    "## Avg Word2Vec"
   ]
  },
  {
   "cell_type": "code",
   "execution_count": 130,
   "metadata": {},
   "outputs": [
    {
     "name": "stderr",
     "output_type": "stream",
     "text": [
      "100%|█████████████████████████████████████████████████████████████████████████████| 3490/3490 [00:05<00:00, 633.99it/s]"
     ]
    },
    {
     "name": "stdout",
     "output_type": "stream",
     "text": [
      "3490\n",
      "50\n"
     ]
    },
    {
     "name": "stderr",
     "output_type": "stream",
     "text": [
      "\n"
     ]
    }
   ],
   "source": [
    "sent_vectors_train = []; # the avg-w2v for each sentence/review is stored in this list\n",
    "for sent in tqdm(train_sent): # for each review/sentence\n",
    "    sent_vec = np.zeros(50) # as word vectors are of zero length 50\n",
    "    cnt_words =0; # num of words with a valid vector in the sentence/review\n",
    "    for word in sent: # for each word in a review/sentence\n",
    "        if word in w2v_words_train:\n",
    "            vec = w2v_model_train.wv[word]\n",
    "            sent_vec += vec\n",
    "            cnt_words += 1\n",
    "    if cnt_words != 0:\n",
    "        sent_vec /= cnt_words\n",
    "    sent_vectors_train.append(sent_vec)\n",
    "print(len(sent_vectors_train))\n",
    "print(len(sent_vectors_train[0]))"
   ]
  },
  {
   "cell_type": "code",
   "execution_count": 131,
   "metadata": {},
   "outputs": [],
   "source": [
    "# For Test Set"
   ]
  },
  {
   "cell_type": "code",
   "execution_count": 132,
   "metadata": {},
   "outputs": [],
   "source": [
    "w2v_model_test=Word2Vec(test_sent,min_count=5,size=50, workers=4)"
   ]
  },
  {
   "cell_type": "code",
   "execution_count": 133,
   "metadata": {},
   "outputs": [
    {
     "name": "stdout",
     "output_type": "stream",
     "text": [
      "number of words that occured minimum 5 times  1810\n",
      "sample words  ['restaurants', 'always', 'best', 'curry', 'pretty', 'tasty', 'easy', 'use', 'fast', 'add', 'meat', 'veggies', 'choice', 'something', 'spicy', 'might', 'little', 'less', 'right', 'like', 'red', 'pepper', 'since', 'coconut', 'milk', 'added', 'also', 'control', 'fat', 'content', 'go', 'light', 'much', 'creamy', 'stuff', 'find', 'green', 'maybe', 'regularly', 'purchase', 'item', 'bulk', 'loved', 'dairy', 'free', 'however', 'last', 'disappointing', 'opening', 'brand']\n"
     ]
    }
   ],
   "source": [
    "w2v_words_test = list(w2v_model_test.wv.vocab)\n",
    "print(\"number of words that occured minimum 5 times \",len(w2v_words_test))\n",
    "print(\"sample words \", w2v_words_test[0:50])"
   ]
  },
  {
   "cell_type": "code",
   "execution_count": 134,
   "metadata": {},
   "outputs": [
    {
     "name": "stderr",
     "output_type": "stream",
     "text": [
      "100%|████████████████████████████████████████████████████████████████████████████| 1496/1496 [00:01<00:00, 1090.92it/s]"
     ]
    },
    {
     "name": "stdout",
     "output_type": "stream",
     "text": [
      "1496\n",
      "50\n"
     ]
    },
    {
     "name": "stderr",
     "output_type": "stream",
     "text": [
      "\n"
     ]
    }
   ],
   "source": [
    "sent_vectors_test = []; # the avg-w2v for each sentence/review is stored in this list\n",
    "for sent in tqdm(test_sent): # for each review/sentence\n",
    "    sent_vec = np.zeros(50) # as word vectors are of zero length 50\n",
    "    cnt_words =0; # num of words with a valid vector in the sentence/review\n",
    "    for word in sent: # for each word in a review/sentence\n",
    "        if word in w2v_words_test:\n",
    "            vec = w2v_model_test.wv[word]\n",
    "            sent_vec += vec\n",
    "            cnt_words += 1\n",
    "        else:\n",
    "            pass\n",
    "    if cnt_words != 0:\n",
    "        sent_vec /= cnt_words\n",
    "    sent_vectors_test.append(sent_vec)\n",
    "print(len(sent_vectors_test))\n",
    "print(len(sent_vectors_test[0]))"
   ]
  },
  {
   "cell_type": "code",
   "execution_count": null,
   "metadata": {},
   "outputs": [],
   "source": []
  },
  {
   "cell_type": "markdown",
   "metadata": {},
   "source": [
    "### Finding the optimal C using GridSearchcv"
   ]
  },
  {
   "cell_type": "code",
   "execution_count": 135,
   "metadata": {},
   "outputs": [
    {
     "name": "stdout",
     "output_type": "stream",
     "text": [
      "Fitting 5 folds for each of 5 candidates, totalling 25 fits\n",
      "Best HyperParameter:  {'C': 10000}\n",
      "0.7959482305844718\n"
     ]
    },
    {
     "name": "stderr",
     "output_type": "stream",
     "text": [
      "C:\\Users\\hp\\Anaconda3\\lib\\site-packages\\sklearn\\svm\\_base.py:986: ConvergenceWarning: Liblinear failed to converge, increase the number of iterations.\n",
      "  \"the number of iterations.\", ConvergenceWarning)\n"
     ]
    }
   ],
   "source": [
    "LR = LogisticRegression(penalty ='l1',solver='liblinear')\n",
    "C_values = [{'C':[10**-4,10**-2,10**0,10**2,10**4]}]\n",
    "gsv = GridSearchCV(LR,C_values,cv=5,verbose=1,scoring='f1_weighted',n_jobs=-1)\n",
    "gsv.fit(sent_vectors_train,Y_train)\n",
    "print(\"Best HyperParameter: \",gsv.best_params_)\n",
    "print(gsv.best_score_)\n",
    "optimal_C=gsv.best_score_"
   ]
  },
  {
   "cell_type": "code",
   "execution_count": 136,
   "metadata": {},
   "outputs": [
    {
     "data": {
      "text/plain": [
       "3490"
      ]
     },
     "execution_count": 136,
     "metadata": {},
     "output_type": "execute_result"
    }
   ],
   "source": [
    "len(sent_vectors_train)"
   ]
  },
  {
   "cell_type": "code",
   "execution_count": 137,
   "metadata": {},
   "outputs": [
    {
     "data": {
      "text/plain": [
       "3490"
      ]
     },
     "execution_count": 137,
     "metadata": {},
     "output_type": "execute_result"
    }
   ],
   "source": [
    "len(Y_train)"
   ]
  },
  {
   "cell_type": "code",
   "execution_count": 138,
   "metadata": {},
   "outputs": [
    {
     "data": {
      "text/html": [
       "<div>\n",
       "<style scoped>\n",
       "    .dataframe tbody tr th:only-of-type {\n",
       "        vertical-align: middle;\n",
       "    }\n",
       "\n",
       "    .dataframe tbody tr th {\n",
       "        vertical-align: top;\n",
       "    }\n",
       "\n",
       "    .dataframe thead th {\n",
       "        text-align: right;\n",
       "    }\n",
       "</style>\n",
       "<table border=\"1\" class=\"dataframe\">\n",
       "  <thead>\n",
       "    <tr style=\"text-align: right;\">\n",
       "      <th></th>\n",
       "      <th>mean_fit_time</th>\n",
       "      <th>std_fit_time</th>\n",
       "      <th>mean_score_time</th>\n",
       "      <th>std_score_time</th>\n",
       "      <th>param_C</th>\n",
       "      <th>params</th>\n",
       "      <th>split0_test_score</th>\n",
       "      <th>split1_test_score</th>\n",
       "      <th>split2_test_score</th>\n",
       "      <th>split3_test_score</th>\n",
       "      <th>split4_test_score</th>\n",
       "      <th>mean_test_score</th>\n",
       "      <th>std_test_score</th>\n",
       "      <th>rank_test_score</th>\n",
       "    </tr>\n",
       "  </thead>\n",
       "  <tbody>\n",
       "    <tr>\n",
       "      <th>0</th>\n",
       "      <td>0.021362</td>\n",
       "      <td>0.007584</td>\n",
       "      <td>0.002909</td>\n",
       "      <td>0.002846</td>\n",
       "      <td>0.0001</td>\n",
       "      <td>{'C': 0.0001}</td>\n",
       "      <td>0.045859</td>\n",
       "      <td>0.045859</td>\n",
       "      <td>0.045859</td>\n",
       "      <td>0.045114</td>\n",
       "      <td>0.045114</td>\n",
       "      <td>0.045561</td>\n",
       "      <td>0.000365</td>\n",
       "      <td>5</td>\n",
       "    </tr>\n",
       "    <tr>\n",
       "      <th>1</th>\n",
       "      <td>0.028061</td>\n",
       "      <td>0.006994</td>\n",
       "      <td>0.000375</td>\n",
       "      <td>0.000751</td>\n",
       "      <td>0.01</td>\n",
       "      <td>{'C': 0.01}</td>\n",
       "      <td>0.762276</td>\n",
       "      <td>0.762276</td>\n",
       "      <td>0.762276</td>\n",
       "      <td>0.764293</td>\n",
       "      <td>0.764293</td>\n",
       "      <td>0.763083</td>\n",
       "      <td>0.000988</td>\n",
       "      <td>3</td>\n",
       "    </tr>\n",
       "    <tr>\n",
       "      <th>2</th>\n",
       "      <td>0.071341</td>\n",
       "      <td>0.021021</td>\n",
       "      <td>0.002970</td>\n",
       "      <td>0.003482</td>\n",
       "      <td>1</td>\n",
       "      <td>{'C': 1}</td>\n",
       "      <td>0.759424</td>\n",
       "      <td>0.758709</td>\n",
       "      <td>0.762276</td>\n",
       "      <td>0.764293</td>\n",
       "      <td>0.764293</td>\n",
       "      <td>0.761799</td>\n",
       "      <td>0.002360</td>\n",
       "      <td>4</td>\n",
       "    </tr>\n",
       "    <tr>\n",
       "      <th>3</th>\n",
       "      <td>29.383378</td>\n",
       "      <td>1.188994</td>\n",
       "      <td>0.000000</td>\n",
       "      <td>0.000000</td>\n",
       "      <td>100</td>\n",
       "      <td>{'C': 100}</td>\n",
       "      <td>0.785829</td>\n",
       "      <td>0.786379</td>\n",
       "      <td>0.782766</td>\n",
       "      <td>0.793115</td>\n",
       "      <td>0.805690</td>\n",
       "      <td>0.790756</td>\n",
       "      <td>0.008196</td>\n",
       "      <td>2</td>\n",
       "    </tr>\n",
       "    <tr>\n",
       "      <th>4</th>\n",
       "      <td>29.232221</td>\n",
       "      <td>4.355071</td>\n",
       "      <td>0.001296</td>\n",
       "      <td>0.001316</td>\n",
       "      <td>10000</td>\n",
       "      <td>{'C': 10000}</td>\n",
       "      <td>0.787061</td>\n",
       "      <td>0.796655</td>\n",
       "      <td>0.793775</td>\n",
       "      <td>0.797456</td>\n",
       "      <td>0.804793</td>\n",
       "      <td>0.795948</td>\n",
       "      <td>0.005740</td>\n",
       "      <td>1</td>\n",
       "    </tr>\n",
       "  </tbody>\n",
       "</table>\n",
       "</div>"
      ],
      "text/plain": [
       "   mean_fit_time  std_fit_time  mean_score_time  std_score_time param_C  \\\n",
       "0       0.021362      0.007584         0.002909        0.002846  0.0001   \n",
       "1       0.028061      0.006994         0.000375        0.000751    0.01   \n",
       "2       0.071341      0.021021         0.002970        0.003482       1   \n",
       "3      29.383378      1.188994         0.000000        0.000000     100   \n",
       "4      29.232221      4.355071         0.001296        0.001316   10000   \n",
       "\n",
       "          params  split0_test_score  split1_test_score  split2_test_score  \\\n",
       "0  {'C': 0.0001}           0.045859           0.045859           0.045859   \n",
       "1    {'C': 0.01}           0.762276           0.762276           0.762276   \n",
       "2       {'C': 1}           0.759424           0.758709           0.762276   \n",
       "3     {'C': 100}           0.785829           0.786379           0.782766   \n",
       "4   {'C': 10000}           0.787061           0.796655           0.793775   \n",
       "\n",
       "   split3_test_score  split4_test_score  mean_test_score  std_test_score  \\\n",
       "0           0.045114           0.045114         0.045561        0.000365   \n",
       "1           0.764293           0.764293         0.763083        0.000988   \n",
       "2           0.764293           0.764293         0.761799        0.002360   \n",
       "3           0.793115           0.805690         0.790756        0.008196   \n",
       "4           0.797456           0.804793         0.795948        0.005740   \n",
       "\n",
       "   rank_test_score  \n",
       "0                5  \n",
       "1                3  \n",
       "2                4  \n",
       "3                2  \n",
       "4                1  "
      ]
     },
     "execution_count": 138,
     "metadata": {},
     "output_type": "execute_result"
    }
   ],
   "source": [
    "result = gsv.cv_results_\n",
    "df = pd.DataFrame(result)\n",
    "df"
   ]
  },
  {
   "cell_type": "code",
   "execution_count": null,
   "metadata": {},
   "outputs": [],
   "source": []
  },
  {
   "cell_type": "code",
   "execution_count": 139,
   "metadata": {},
   "outputs": [
    {
     "data": {
      "image/png": "[encoded data removed]",
      "text/plain": [
       "<Figure size 576x432 with 1 Axes>"
      ]
     },
     "metadata": {
      "needs_background": "light"
     },
     "output_type": "display_data"
    }
   ],
   "source": [
    "plt.figure(figsize=(8,6))\n",
    "plt.xlabel(\"C\",fontsize=15)\n",
    "plt.ylabel(\"f1_weighted\")\n",
    "plt.title('f1_weighted v/s C')\n",
    "plt.plot(df['param_C'],df['mean_test_score'],linestyle='dashed', marker='o', markerfacecolor='red', markersize=6)\n",
    "plt.show()"
   ]
  },
  {
   "cell_type": "code",
   "execution_count": 140,
   "metadata": {},
   "outputs": [
    {
     "data": {
      "text/plain": [
       "1496"
      ]
     },
     "execution_count": 140,
     "metadata": {},
     "output_type": "execute_result"
    }
   ],
   "source": [
    "len(sent_vectors_test)"
   ]
  },
  {
   "cell_type": "code",
   "execution_count": 141,
   "metadata": {},
   "outputs": [
    {
     "data": {
      "text/plain": [
       "3490"
      ]
     },
     "execution_count": 141,
     "metadata": {},
     "output_type": "execute_result"
    }
   ],
   "source": [
    "len(sent_vectors_train)"
   ]
  },
  {
   "cell_type": "markdown",
   "metadata": {},
   "source": [
    "### Finding the accuracy in Test data using calculated optimal C"
   ]
  },
  {
   "cell_type": "code",
   "execution_count": 142,
   "metadata": {},
   "outputs": [
    {
     "name": "stderr",
     "output_type": "stream",
     "text": [
      "C:\\Users\\hp\\Anaconda3\\lib\\site-packages\\sklearn\\svm\\_base.py:986: ConvergenceWarning: Liblinear failed to converge, increase the number of iterations.\n",
      "  \"the number of iterations.\", ConvergenceWarning)\n"
     ]
    }
   ],
   "source": [
    "LR = LogisticRegression(penalty='l1',C=100,solver='liblinear')\n",
    "LR.fit(sent_vectors_train,Y_train)\n",
    "y_pred = LR.predict(sent_vectors_test)"
   ]
  },
  {
   "cell_type": "code",
   "execution_count": 143,
   "metadata": {},
   "outputs": [
    {
     "name": "stdout",
     "output_type": "stream",
     "text": [
      "Accuracy on test set: 83.957%\n",
      "Precision on test set: 0.420\n",
      "Recall on test set: 0.500\n",
      "F1-Score on test set: 0.456\n"
     ]
    },
    {
     "name": "stderr",
     "output_type": "stream",
     "text": [
      "C:\\Users\\hp\\Anaconda3\\lib\\site-packages\\sklearn\\metrics\\_classification.py:1248: UndefinedMetricWarning: Precision is ill-defined and being set to 0.0 in labels with no predicted samples. Use `zero_division` parameter to control this behavior.\n",
      "  _warn_prf(average, modifier, msg_start, len(result))\n"
     ]
    }
   ],
   "source": [
    "print(\"Accuracy on test set: %0.3f%%\"%(accuracy_score(Y_test, y_pred)*100))\n",
    "print(\"Precision on test set: %0.3f\"%(precision_score(Y_test, y_pred,average='macro')))\n",
    "print(\"Recall on test set: %0.3f\"%(recall_score(Y_test, y_pred,average='macro')))\n",
    "print(\"F1-Score on test set: %0.3f\"%(f1_score(Y_test, y_pred,average='macro')))"
   ]
  },
  {
   "cell_type": "code",
   "execution_count": 144,
   "metadata": {},
   "outputs": [
    {
     "data": {
      "text/plain": [
       "<matplotlib.axes._subplots.AxesSubplot at 0x1d042a93438>"
      ]
     },
     "execution_count": 144,
     "metadata": {},
     "output_type": "execute_result"
    },
    {
     "data": {
      "image/png": "[encoded data removed]",
      "text/plain": [
       "<Figure size 432x288 with 2 Axes>"
      ]
     },
     "metadata": {
      "needs_background": "light"
     },
     "output_type": "display_data"
    }
   ],
   "source": [
    "cnf = confusion_matrix(Y_test, y_pred)\n",
    "sns.heatmap(cnf,annot=True,fmt='d',annot_kws={'size':20})"
   ]
  },
  {
   "cell_type": "code",
   "execution_count": null,
   "metadata": {},
   "outputs": [],
   "source": []
  },
  {
   "cell_type": "markdown",
   "metadata": {},
   "source": [
    "### Finding the optimal C using RandomSearchCv"
   ]
  },
  {
   "cell_type": "code",
   "execution_count": 145,
   "metadata": {},
   "outputs": [
    {
     "name": "stdout",
     "output_type": "stream",
     "text": [
      "Fitting 5 folds for each of 10 candidates, totalling 50 fits\n",
      "Best HyperParameter:  {'C': 0.6710420008665089}\n",
      "0.8372492836676217\n"
     ]
    }
   ],
   "source": [
    "LR = LogisticRegression()\n",
    "C_value = {'C':uniform()}\n",
    "rsv = RandomizedSearchCV(LR, param_distributions = C_value , cv=5,verbose=1, scoring='f1_micro', n_jobs=-1)\n",
    "\n",
    "rsv.fit(sent_vectors_train,Y_train)\n",
    "\n",
    "print(\"Best HyperParameter: \",rsv.best_params_)\n",
    "print(rsv.best_score_)\n",
    "optimal_C=rsv.best_score_"
   ]
  },
  {
   "cell_type": "code",
   "execution_count": 146,
   "metadata": {},
   "outputs": [
    {
     "data": {
      "text/html": [
       "<div>\n",
       "<style scoped>\n",
       "    .dataframe tbody tr th:only-of-type {\n",
       "        vertical-align: middle;\n",
       "    }\n",
       "\n",
       "    .dataframe tbody tr th {\n",
       "        vertical-align: top;\n",
       "    }\n",
       "\n",
       "    .dataframe thead th {\n",
       "        text-align: right;\n",
       "    }\n",
       "</style>\n",
       "<table border=\"1\" class=\"dataframe\">\n",
       "  <thead>\n",
       "    <tr style=\"text-align: right;\">\n",
       "      <th></th>\n",
       "      <th>mean_fit_time</th>\n",
       "      <th>std_fit_time</th>\n",
       "      <th>mean_score_time</th>\n",
       "      <th>std_score_time</th>\n",
       "      <th>param_C</th>\n",
       "      <th>params</th>\n",
       "      <th>split0_test_score</th>\n",
       "      <th>split1_test_score</th>\n",
       "      <th>split2_test_score</th>\n",
       "      <th>split3_test_score</th>\n",
       "      <th>split4_test_score</th>\n",
       "      <th>mean_test_score</th>\n",
       "      <th>std_test_score</th>\n",
       "      <th>rank_test_score</th>\n",
       "    </tr>\n",
       "  </thead>\n",
       "  <tbody>\n",
       "    <tr>\n",
       "      <th>0</th>\n",
       "      <td>0.026181</td>\n",
       "      <td>0.010229</td>\n",
       "      <td>0.009017</td>\n",
       "      <td>0.007877</td>\n",
       "      <td>0.671042</td>\n",
       "      <td>{'C': 0.6710420008665089}</td>\n",
       "      <td>0.836676</td>\n",
       "      <td>0.836676</td>\n",
       "      <td>0.836676</td>\n",
       "      <td>0.838109</td>\n",
       "      <td>0.838109</td>\n",
       "      <td>0.837249</td>\n",
       "      <td>0.000702</td>\n",
       "      <td>1</td>\n",
       "    </tr>\n",
       "    <tr>\n",
       "      <th>1</th>\n",
       "      <td>0.039247</td>\n",
       "      <td>0.007482</td>\n",
       "      <td>0.004467</td>\n",
       "      <td>0.006082</td>\n",
       "      <td>0.463137</td>\n",
       "      <td>{'C': 0.46313692728268685}</td>\n",
       "      <td>0.836676</td>\n",
       "      <td>0.836676</td>\n",
       "      <td>0.836676</td>\n",
       "      <td>0.838109</td>\n",
       "      <td>0.838109</td>\n",
       "      <td>0.837249</td>\n",
       "      <td>0.000702</td>\n",
       "      <td>1</td>\n",
       "    </tr>\n",
       "    <tr>\n",
       "      <th>2</th>\n",
       "      <td>0.023021</td>\n",
       "      <td>0.008827</td>\n",
       "      <td>0.009405</td>\n",
       "      <td>0.007453</td>\n",
       "      <td>0.269368</td>\n",
       "      <td>{'C': 0.26936837690536775}</td>\n",
       "      <td>0.836676</td>\n",
       "      <td>0.836676</td>\n",
       "      <td>0.836676</td>\n",
       "      <td>0.838109</td>\n",
       "      <td>0.838109</td>\n",
       "      <td>0.837249</td>\n",
       "      <td>0.000702</td>\n",
       "      <td>1</td>\n",
       "    </tr>\n",
       "    <tr>\n",
       "      <th>3</th>\n",
       "      <td>0.028842</td>\n",
       "      <td>0.009589</td>\n",
       "      <td>0.008583</td>\n",
       "      <td>0.007418</td>\n",
       "      <td>0.727788</td>\n",
       "      <td>{'C': 0.727788494004639}</td>\n",
       "      <td>0.836676</td>\n",
       "      <td>0.836676</td>\n",
       "      <td>0.836676</td>\n",
       "      <td>0.838109</td>\n",
       "      <td>0.838109</td>\n",
       "      <td>0.837249</td>\n",
       "      <td>0.000702</td>\n",
       "      <td>1</td>\n",
       "    </tr>\n",
       "    <tr>\n",
       "      <th>4</th>\n",
       "      <td>0.031172</td>\n",
       "      <td>0.005650</td>\n",
       "      <td>0.000000</td>\n",
       "      <td>0.000000</td>\n",
       "      <td>0.472716</td>\n",
       "      <td>{'C': 0.4727158692994875}</td>\n",
       "      <td>0.836676</td>\n",
       "      <td>0.836676</td>\n",
       "      <td>0.836676</td>\n",
       "      <td>0.838109</td>\n",
       "      <td>0.838109</td>\n",
       "      <td>0.837249</td>\n",
       "      <td>0.000702</td>\n",
       "      <td>1</td>\n",
       "    </tr>\n",
       "    <tr>\n",
       "      <th>5</th>\n",
       "      <td>0.033880</td>\n",
       "      <td>0.009206</td>\n",
       "      <td>0.005688</td>\n",
       "      <td>0.007249</td>\n",
       "      <td>0.880669</td>\n",
       "      <td>{'C': 0.8806689228115692}</td>\n",
       "      <td>0.836676</td>\n",
       "      <td>0.836676</td>\n",
       "      <td>0.836676</td>\n",
       "      <td>0.838109</td>\n",
       "      <td>0.838109</td>\n",
       "      <td>0.837249</td>\n",
       "      <td>0.000702</td>\n",
       "      <td>1</td>\n",
       "    </tr>\n",
       "    <tr>\n",
       "      <th>6</th>\n",
       "      <td>0.031650</td>\n",
       "      <td>0.009870</td>\n",
       "      <td>0.005581</td>\n",
       "      <td>0.007131</td>\n",
       "      <td>0.510798</td>\n",
       "      <td>{'C': 0.5107978730274954}</td>\n",
       "      <td>0.836676</td>\n",
       "      <td>0.836676</td>\n",
       "      <td>0.836676</td>\n",
       "      <td>0.838109</td>\n",
       "      <td>0.838109</td>\n",
       "      <td>0.837249</td>\n",
       "      <td>0.000702</td>\n",
       "      <td>1</td>\n",
       "    </tr>\n",
       "    <tr>\n",
       "      <th>7</th>\n",
       "      <td>0.029616</td>\n",
       "      <td>0.011504</td>\n",
       "      <td>0.005457</td>\n",
       "      <td>0.006479</td>\n",
       "      <td>0.660841</td>\n",
       "      <td>{'C': 0.6608413699539728}</td>\n",
       "      <td>0.836676</td>\n",
       "      <td>0.836676</td>\n",
       "      <td>0.836676</td>\n",
       "      <td>0.838109</td>\n",
       "      <td>0.838109</td>\n",
       "      <td>0.837249</td>\n",
       "      <td>0.000702</td>\n",
       "      <td>1</td>\n",
       "    </tr>\n",
       "    <tr>\n",
       "      <th>8</th>\n",
       "      <td>0.032224</td>\n",
       "      <td>0.007429</td>\n",
       "      <td>0.006582</td>\n",
       "      <td>0.008077</td>\n",
       "      <td>0.841262</td>\n",
       "      <td>{'C': 0.8412624225402167}</td>\n",
       "      <td>0.836676</td>\n",
       "      <td>0.836676</td>\n",
       "      <td>0.836676</td>\n",
       "      <td>0.838109</td>\n",
       "      <td>0.838109</td>\n",
       "      <td>0.837249</td>\n",
       "      <td>0.000702</td>\n",
       "      <td>1</td>\n",
       "    </tr>\n",
       "    <tr>\n",
       "      <th>9</th>\n",
       "      <td>0.026547</td>\n",
       "      <td>0.008460</td>\n",
       "      <td>0.005370</td>\n",
       "      <td>0.007059</td>\n",
       "      <td>0.390195</td>\n",
       "      <td>{'C': 0.3901946107624773}</td>\n",
       "      <td>0.836676</td>\n",
       "      <td>0.836676</td>\n",
       "      <td>0.836676</td>\n",
       "      <td>0.838109</td>\n",
       "      <td>0.838109</td>\n",
       "      <td>0.837249</td>\n",
       "      <td>0.000702</td>\n",
       "      <td>1</td>\n",
       "    </tr>\n",
       "  </tbody>\n",
       "</table>\n",
       "</div>"
      ],
      "text/plain": [
       "   mean_fit_time  std_fit_time  mean_score_time  std_score_time   param_C  \\\n",
       "0       0.026181      0.010229         0.009017        0.007877  0.671042   \n",
       "1       0.039247      0.007482         0.004467        0.006082  0.463137   \n",
       "2       0.023021      0.008827         0.009405        0.007453  0.269368   \n",
       "3       0.028842      0.009589         0.008583        0.007418  0.727788   \n",
       "4       0.031172      0.005650         0.000000        0.000000  0.472716   \n",
       "5       0.033880      0.009206         0.005688        0.007249  0.880669   \n",
       "6       0.031650      0.009870         0.005581        0.007131  0.510798   \n",
       "7       0.029616      0.011504         0.005457        0.006479  0.660841   \n",
       "8       0.032224      0.007429         0.006582        0.008077  0.841262   \n",
       "9       0.026547      0.008460         0.005370        0.007059  0.390195   \n",
       "\n",
       "                       params  split0_test_score  split1_test_score  \\\n",
       "0   {'C': 0.6710420008665089}           0.836676           0.836676   \n",
       "1  {'C': 0.46313692728268685}           0.836676           0.836676   \n",
       "2  {'C': 0.26936837690536775}           0.836676           0.836676   \n",
       "3    {'C': 0.727788494004639}           0.836676           0.836676   \n",
       "4   {'C': 0.4727158692994875}           0.836676           0.836676   \n",
       "5   {'C': 0.8806689228115692}           0.836676           0.836676   \n",
       "6   {'C': 0.5107978730274954}           0.836676           0.836676   \n",
       "7   {'C': 0.6608413699539728}           0.836676           0.836676   \n",
       "8   {'C': 0.8412624225402167}           0.836676           0.836676   \n",
       "9   {'C': 0.3901946107624773}           0.836676           0.836676   \n",
       "\n",
       "   split2_test_score  split3_test_score  split4_test_score  mean_test_score  \\\n",
       "0           0.836676           0.838109           0.838109         0.837249   \n",
       "1           0.836676           0.838109           0.838109         0.837249   \n",
       "2           0.836676           0.838109           0.838109         0.837249   \n",
       "3           0.836676           0.838109           0.838109         0.837249   \n",
       "4           0.836676           0.838109           0.838109         0.837249   \n",
       "5           0.836676           0.838109           0.838109         0.837249   \n",
       "6           0.836676           0.838109           0.838109         0.837249   \n",
       "7           0.836676           0.838109           0.838109         0.837249   \n",
       "8           0.836676           0.838109           0.838109         0.837249   \n",
       "9           0.836676           0.838109           0.838109         0.837249   \n",
       "\n",
       "   std_test_score  rank_test_score  \n",
       "0        0.000702                1  \n",
       "1        0.000702                1  \n",
       "2        0.000702                1  \n",
       "3        0.000702                1  \n",
       "4        0.000702                1  \n",
       "5        0.000702                1  \n",
       "6        0.000702                1  \n",
       "7        0.000702                1  \n",
       "8        0.000702                1  \n",
       "9        0.000702                1  "
      ]
     },
     "execution_count": 146,
     "metadata": {},
     "output_type": "execute_result"
    }
   ],
   "source": [
    "result = rsv.cv_results_\n",
    "df = pd.DataFrame(result)\n",
    "df"
   ]
  },
  {
   "cell_type": "code",
   "execution_count": 147,
   "metadata": {},
   "outputs": [
    {
     "data": {
      "image/png": "[encoded data removed]",
      "text/plain": [
       "<Figure size 576x432 with 1 Axes>"
      ]
     },
     "metadata": {
      "needs_background": "light"
     },
     "output_type": "display_data"
    }
   ],
   "source": [
    "plt.figure(figsize=(8,6))\n",
    "plt.xlabel(\"C\",fontsize=15)\n",
    "plt.ylabel(\"f1_weighted\")\n",
    "plt.title('f1_weighted v/s C')\n",
    "plt.plot(df['param_C'],df['mean_test_score'],linestyle='dashed', marker='o', markerfacecolor='red', markersize=6)\n",
    "plt.show()"
   ]
  },
  {
   "cell_type": "code",
   "execution_count": null,
   "metadata": {},
   "outputs": [],
   "source": []
  },
  {
   "cell_type": "markdown",
   "metadata": {},
   "source": [
    "### Finding the accuracy in Test data using calculated optimal C"
   ]
  },
  {
   "cell_type": "code",
   "execution_count": 148,
   "metadata": {},
   "outputs": [],
   "source": [
    "LR = LogisticRegression(penalty='l1',C=0.022783420273545185,solver='liblinear')\n",
    "LR.fit(sent_vectors_train,Y_train)\n",
    "y_pred = LR.predict(sent_vectors_test)"
   ]
  },
  {
   "cell_type": "code",
   "execution_count": 149,
   "metadata": {},
   "outputs": [
    {
     "name": "stdout",
     "output_type": "stream",
     "text": [
      "Accuracy on test set: 83.957%\n",
      "Precision on test set: 0.420\n",
      "Recall on test set: 0.500\n",
      "F1-Score on test set: 0.456\n"
     ]
    },
    {
     "name": "stderr",
     "output_type": "stream",
     "text": [
      "C:\\Users\\hp\\Anaconda3\\lib\\site-packages\\sklearn\\metrics\\_classification.py:1248: UndefinedMetricWarning: Precision is ill-defined and being set to 0.0 in labels with no predicted samples. Use `zero_division` parameter to control this behavior.\n",
      "  _warn_prf(average, modifier, msg_start, len(result))\n"
     ]
    }
   ],
   "source": [
    "print(\"Accuracy on test set: %0.3f%%\"%(accuracy_score(Y_test, y_pred)*100))\n",
    "print(\"Precision on test set: %0.3f\"%(precision_score(Y_test, y_pred,average='macro')))\n",
    "print(\"Recall on test set: %0.3f\"%(recall_score(Y_test, y_pred,average='macro')))\n",
    "print(\"F1-Score on test set: %0.3f\"%(f1_score(Y_test, y_pred,average='macro')))"
   ]
  },
  {
   "cell_type": "code",
   "execution_count": null,
   "metadata": {},
   "outputs": [],
   "source": []
  },
  {
   "cell_type": "code",
   "execution_count": 150,
   "metadata": {},
   "outputs": [],
   "source": [
    "# Ploting Heatmap"
   ]
  },
  {
   "cell_type": "code",
   "execution_count": 151,
   "metadata": {
    "scrolled": false
   },
   "outputs": [
    {
     "data": {
      "text/plain": [
       "<matplotlib.axes._subplots.AxesSubplot at 0x1d045b61a20>"
      ]
     },
     "execution_count": 151,
     "metadata": {},
     "output_type": "execute_result"
    },
    {
     "data": {
      "image/png": "[encoded data removed]",
      "text/plain": [
       "<Figure size 432x288 with 2 Axes>"
      ]
     },
     "metadata": {
      "needs_background": "light"
     },
     "output_type": "display_data"
    }
   ],
   "source": [
    "cnf = confusion_matrix(Y_test, y_pred)\n",
    "sns.heatmap(cnf,annot=True,fmt='d',annot_kws={'size':20})"
   ]
  },
  {
   "cell_type": "code",
   "execution_count": null,
   "metadata": {},
   "outputs": [],
   "source": []
  },
  {
   "cell_type": "markdown",
   "metadata": {},
   "source": [
    "#  Summary"
   ]
  },
  {
   "cell_type": "code",
   "execution_count": 154,
   "metadata": {},
   "outputs": [],
   "source": [
    "from prettytable import PrettyTable"
   ]
  },
  {
   "cell_type": "code",
   "execution_count": 158,
   "metadata": {},
   "outputs": [
    {
     "name": "stdout",
     "output_type": "stream",
     "text": [
      "+-------------+-------------------+--------------+---------------+\n",
      "|    Model    | hyper parameter-C | F1score test | Accuracy Test |\n",
      "+-------------+-------------------+--------------+---------------+\n",
      "|   Unigram   |        100        |    0.845     |     88.23     |\n",
      "|    Bigram   |         1         |    0.808     |     88.03     |\n",
      "|    TF-IDF   |        100        |    0.8489    |     87.76     |\n",
      "| Av Word2Vec |        100        |    0.7953    |     84.35     |\n",
      "+-------------+-------------------+--------------+---------------+\n"
     ]
    }
   ],
   "source": [
    "z = PrettyTable()\n",
    "z.field_names = [\"Model\",\"hyper parameter-C\",\"F1score test\", \"Accuracy Test\"]\n",
    "z.add_row([\"Unigram\",100,0.845, 88.23])\n",
    "z.add_row([\"Bigram\",1,0.808,88.03])\n",
    "z.add_row([\"TF-IDF\",100,0.8489,87.76])\n",
    "z.add_row([\"Av Word2Vec\",100,0.7953,84.35])\n",
    "print(z)"
   ]
  },
  {
   "cell_type": "code",
   "execution_count": null,
   "metadata": {},
   "outputs": [],
   "source": []
  }
 ],
 "metadata": {
  "kernelspec": {
   "display_name": "Python 3",
   "language": "python",
   "name": "python3"
  },
  "language_info": {
   "codemirror_mode": {
    "name": "ipython",
    "version": 3
   },
   "file_extension": ".py",
   "mimetype": "text/x-python",
   "name": "python",
   "nbconvert_exporter": "python",
   "pygments_lexer": "ipython3",
   "version": "3.7.3"
  }
 },
 "nbformat": 4,
 "nbformat_minor": 2
}
