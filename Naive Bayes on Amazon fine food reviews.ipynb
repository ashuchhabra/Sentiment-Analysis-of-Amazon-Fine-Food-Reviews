{
 "cells": [
  {
   "cell_type": "code",
   "execution_count": 7,
   "metadata": {},
   "outputs": [],
   "source": [
    "%matplotlib inline\n",
    "import warnings\n",
    "warnings.filterwarnings(\"ignore\")\n",
    "\n",
    "import sqlite3\n",
    "import pandas as pd\n",
    "import numpy as np\n",
    "from bs4 import BeautifulSoup\n",
    "import matplotlib.pyplot as plt\n",
    "import seaborn as sns\n",
    "from sklearn.feature_extraction.text import TfidfTransformer\n",
    "from sklearn.feature_extraction.text import TfidfVectorizer\n",
    "\n",
    "from sklearn.feature_extraction.text import CountVectorizer\n",
    "from sklearn.metrics import confusion_matrix\n",
    "from sklearn import metrics\n",
    "from sklearn.metrics import roc_curve, auc\n",
    "from nltk.stem.porter import PorterStemmer\n",
    "\n",
    "from nltk.corpus import stopwords\n",
    "from gensim.models import Word2Vec\n",
    "\n",
    "from sklearn.preprocessing import StandardScaler\n",
    "from tqdm import tqdm\n",
    "\n",
    "from sklearn.model_selection import train_test_split\n",
    "\n",
    "import seaborn as sns\n",
    "from sklearn.metrics import accuracy_score\n",
    "from sklearn.metrics import confusion_matrix\n",
    "from sklearn.metrics import precision_score\n",
    "from sklearn.metrics import f1_score\n",
    "from sklearn.metrics import recall_score"
   ]
  },
  {
   "cell_type": "code",
   "execution_count": null,
   "metadata": {},
   "outputs": [],
   "source": []
  },
  {
   "cell_type": "code",
   "execution_count": 6,
   "metadata": {},
   "outputs": [],
   "source": [
    "from six import StringIO"
   ]
  },
  {
   "cell_type": "code",
   "execution_count": 3,
   "metadata": {},
   "outputs": [
    {
     "name": "stdout",
     "output_type": "stream",
     "text": [
      "Requirement already satisfied: six in c:\\users\\hp\\anaconda3\\lib\\site-packages (1.13.0)\n",
      "Note: you may need to restart the kernel to use updated packages.\n"
     ]
    }
   ],
   "source": [
    "pip install six"
   ]
  },
  {
   "cell_type": "code",
   "execution_count": 7,
   "metadata": {},
   "outputs": [],
   "source": [
    "from IPython.display import Image"
   ]
  },
  {
   "cell_type": "code",
   "execution_count": 8,
   "metadata": {},
   "outputs": [],
   "source": [
    "from sklearn.tree import export_graphviz"
   ]
  },
  {
   "cell_type": "code",
   "execution_count": 10,
   "metadata": {},
   "outputs": [
    {
     "name": "stdout",
     "output_type": "stream",
     "text": [
      "Collecting pydotplus\n",
      "  Downloading https://files.pythonhosted.org/packages/60/bf/62567830b700d9f6930e9ab6831d6ba256f7b0b730acb37278b0ccdffacf/pydotplus-2.0.2.tar.gz (278kB)\n",
      "Requirement already satisfied: pyparsing>=2.0.1 in c:\\users\\hp\\anaconda3\\lib\\site-packages (from pydotplus) (2.4.6)\n",
      "Building wheels for collected packages: pydotplus\n",
      "  Building wheel for pydotplus (setup.py): started\n",
      "  Building wheel for pydotplus (setup.py): finished with status 'done'\n",
      "  Created wheel for pydotplus: filename=pydotplus-2.0.2-cp37-none-any.whl size=24573 sha256=b4ba2aa1bd305790782b8308788b457c41a1c121a98588ee84c3b96c83b79caa\n",
      "  Stored in directory: C:\\Users\\hp\\AppData\\Local\\pip\\Cache\\wheels\\35\\7b\\ab\\66fb7b2ac1f6df87475b09dc48e707b6e0de80a6d8444e3628\n",
      "Successfully built pydotplus\n",
      "Installing collected packages: pydotplus\n",
      "Successfully installed pydotplus-2.0.2\n",
      "Note: you may need to restart the kernel to use updated packages.\n"
     ]
    }
   ],
   "source": [
    "pip install pydotplus"
   ]
  },
  {
   "cell_type": "code",
   "execution_count": 8,
   "metadata": {},
   "outputs": [],
   "source": [
    "con = sqlite3.connect('database.sqlite')"
   ]
  },
  {
   "cell_type": "code",
   "execution_count": 9,
   "metadata": {},
   "outputs": [],
   "source": [
    "filtered_data=pd.read_sql_query(\"\"\"Select * FROM Reviews WHERE Score !=3 LIMIT 5000 \"\"\",con)"
   ]
  },
  {
   "cell_type": "code",
   "execution_count": 10,
   "metadata": {},
   "outputs": [
    {
     "data": {
      "text/html": [
       "<div>\n",
       "<style scoped>\n",
       "    .dataframe tbody tr th:only-of-type {\n",
       "        vertical-align: middle;\n",
       "    }\n",
       "\n",
       "    .dataframe tbody tr th {\n",
       "        vertical-align: top;\n",
       "    }\n",
       "\n",
       "    .dataframe thead th {\n",
       "        text-align: right;\n",
       "    }\n",
       "</style>\n",
       "<table border=\"1\" class=\"dataframe\">\n",
       "  <thead>\n",
       "    <tr style=\"text-align: right;\">\n",
       "      <th></th>\n",
       "      <th>Id</th>\n",
       "      <th>ProductId</th>\n",
       "      <th>UserId</th>\n",
       "      <th>ProfileName</th>\n",
       "      <th>HelpfulnessNumerator</th>\n",
       "      <th>HelpfulnessDenominator</th>\n",
       "      <th>Score</th>\n",
       "      <th>Time</th>\n",
       "      <th>Summary</th>\n",
       "      <th>Text</th>\n",
       "    </tr>\n",
       "  </thead>\n",
       "  <tbody>\n",
       "    <tr>\n",
       "      <th>0</th>\n",
       "      <td>1</td>\n",
       "      <td>B001E4KFG0</td>\n",
       "      <td>A3SGXH7AUHU8GW</td>\n",
       "      <td>delmartian</td>\n",
       "      <td>1</td>\n",
       "      <td>1</td>\n",
       "      <td>5</td>\n",
       "      <td>1303862400</td>\n",
       "      <td>Good Quality Dog Food</td>\n",
       "      <td>I have bought several of the Vitality canned d...</td>\n",
       "    </tr>\n",
       "    <tr>\n",
       "      <th>1</th>\n",
       "      <td>2</td>\n",
       "      <td>B00813GRG4</td>\n",
       "      <td>A1D87F6ZCVE5NK</td>\n",
       "      <td>dll pa</td>\n",
       "      <td>0</td>\n",
       "      <td>0</td>\n",
       "      <td>1</td>\n",
       "      <td>1346976000</td>\n",
       "      <td>Not as Advertised</td>\n",
       "      <td>Product arrived labeled as Jumbo Salted Peanut...</td>\n",
       "    </tr>\n",
       "    <tr>\n",
       "      <th>2</th>\n",
       "      <td>3</td>\n",
       "      <td>B000LQOCH0</td>\n",
       "      <td>ABXLMWJIXXAIN</td>\n",
       "      <td>Natalia Corres \"Natalia Corres\"</td>\n",
       "      <td>1</td>\n",
       "      <td>1</td>\n",
       "      <td>4</td>\n",
       "      <td>1219017600</td>\n",
       "      <td>\"Delight\" says it all</td>\n",
       "      <td>This is a confection that has been around a fe...</td>\n",
       "    </tr>\n",
       "    <tr>\n",
       "      <th>3</th>\n",
       "      <td>4</td>\n",
       "      <td>B000UA0QIQ</td>\n",
       "      <td>A395BORC6FGVXV</td>\n",
       "      <td>Karl</td>\n",
       "      <td>3</td>\n",
       "      <td>3</td>\n",
       "      <td>2</td>\n",
       "      <td>1307923200</td>\n",
       "      <td>Cough Medicine</td>\n",
       "      <td>If you are looking for the secret ingredient i...</td>\n",
       "    </tr>\n",
       "    <tr>\n",
       "      <th>4</th>\n",
       "      <td>5</td>\n",
       "      <td>B006K2ZZ7K</td>\n",
       "      <td>A1UQRSCLF8GW1T</td>\n",
       "      <td>Michael D. Bigham \"M. Wassir\"</td>\n",
       "      <td>0</td>\n",
       "      <td>0</td>\n",
       "      <td>5</td>\n",
       "      <td>1350777600</td>\n",
       "      <td>Great taffy</td>\n",
       "      <td>Great taffy at a great price.  There was a wid...</td>\n",
       "    </tr>\n",
       "  </tbody>\n",
       "</table>\n",
       "</div>"
      ],
      "text/plain": [
       "   Id   ProductId          UserId                      ProfileName  \\\n",
       "0   1  B001E4KFG0  A3SGXH7AUHU8GW                       delmartian   \n",
       "1   2  B00813GRG4  A1D87F6ZCVE5NK                           dll pa   \n",
       "2   3  B000LQOCH0   ABXLMWJIXXAIN  Natalia Corres \"Natalia Corres\"   \n",
       "3   4  B000UA0QIQ  A395BORC6FGVXV                             Karl   \n",
       "4   5  B006K2ZZ7K  A1UQRSCLF8GW1T    Michael D. Bigham \"M. Wassir\"   \n",
       "\n",
       "   HelpfulnessNumerator  HelpfulnessDenominator  Score        Time  \\\n",
       "0                     1                       1      5  1303862400   \n",
       "1                     0                       0      1  1346976000   \n",
       "2                     1                       1      4  1219017600   \n",
       "3                     3                       3      2  1307923200   \n",
       "4                     0                       0      5  1350777600   \n",
       "\n",
       "                 Summary                                               Text  \n",
       "0  Good Quality Dog Food  I have bought several of the Vitality canned d...  \n",
       "1      Not as Advertised  Product arrived labeled as Jumbo Salted Peanut...  \n",
       "2  \"Delight\" says it all  This is a confection that has been around a fe...  \n",
       "3         Cough Medicine  If you are looking for the secret ingredient i...  \n",
       "4            Great taffy  Great taffy at a great price.  There was a wid...  "
      ]
     },
     "execution_count": 10,
     "metadata": {},
     "output_type": "execute_result"
    }
   ],
   "source": [
    "filtered_data.head()"
   ]
  },
  {
   "cell_type": "code",
   "execution_count": 11,
   "metadata": {},
   "outputs": [],
   "source": [
    "def partition(x):\n",
    "    if x<3:\n",
    "        return 0\n",
    "    return 1\n",
    "actualScore = filtered_data['Score']\n",
    "positiveNegative = actualScore.map(partition)\n",
    "filtered_data['Score'] = positiveNegative"
   ]
  },
  {
   "cell_type": "code",
   "execution_count": 12,
   "metadata": {},
   "outputs": [
    {
     "data": {
      "text/html": [
       "<div>\n",
       "<style scoped>\n",
       "    .dataframe tbody tr th:only-of-type {\n",
       "        vertical-align: middle;\n",
       "    }\n",
       "\n",
       "    .dataframe tbody tr th {\n",
       "        vertical-align: top;\n",
       "    }\n",
       "\n",
       "    .dataframe thead th {\n",
       "        text-align: right;\n",
       "    }\n",
       "</style>\n",
       "<table border=\"1\" class=\"dataframe\">\n",
       "  <thead>\n",
       "    <tr style=\"text-align: right;\">\n",
       "      <th></th>\n",
       "      <th>Id</th>\n",
       "      <th>ProductId</th>\n",
       "      <th>UserId</th>\n",
       "      <th>ProfileName</th>\n",
       "      <th>HelpfulnessNumerator</th>\n",
       "      <th>HelpfulnessDenominator</th>\n",
       "      <th>Score</th>\n",
       "      <th>Time</th>\n",
       "      <th>Summary</th>\n",
       "      <th>Text</th>\n",
       "    </tr>\n",
       "  </thead>\n",
       "  <tbody>\n",
       "    <tr>\n",
       "      <th>0</th>\n",
       "      <td>1</td>\n",
       "      <td>B001E4KFG0</td>\n",
       "      <td>A3SGXH7AUHU8GW</td>\n",
       "      <td>delmartian</td>\n",
       "      <td>1</td>\n",
       "      <td>1</td>\n",
       "      <td>1</td>\n",
       "      <td>1303862400</td>\n",
       "      <td>Good Quality Dog Food</td>\n",
       "      <td>I have bought several of the Vitality canned d...</td>\n",
       "    </tr>\n",
       "    <tr>\n",
       "      <th>1</th>\n",
       "      <td>2</td>\n",
       "      <td>B00813GRG4</td>\n",
       "      <td>A1D87F6ZCVE5NK</td>\n",
       "      <td>dll pa</td>\n",
       "      <td>0</td>\n",
       "      <td>0</td>\n",
       "      <td>0</td>\n",
       "      <td>1346976000</td>\n",
       "      <td>Not as Advertised</td>\n",
       "      <td>Product arrived labeled as Jumbo Salted Peanut...</td>\n",
       "    </tr>\n",
       "    <tr>\n",
       "      <th>2</th>\n",
       "      <td>3</td>\n",
       "      <td>B000LQOCH0</td>\n",
       "      <td>ABXLMWJIXXAIN</td>\n",
       "      <td>Natalia Corres \"Natalia Corres\"</td>\n",
       "      <td>1</td>\n",
       "      <td>1</td>\n",
       "      <td>1</td>\n",
       "      <td>1219017600</td>\n",
       "      <td>\"Delight\" says it all</td>\n",
       "      <td>This is a confection that has been around a fe...</td>\n",
       "    </tr>\n",
       "    <tr>\n",
       "      <th>3</th>\n",
       "      <td>4</td>\n",
       "      <td>B000UA0QIQ</td>\n",
       "      <td>A395BORC6FGVXV</td>\n",
       "      <td>Karl</td>\n",
       "      <td>3</td>\n",
       "      <td>3</td>\n",
       "      <td>0</td>\n",
       "      <td>1307923200</td>\n",
       "      <td>Cough Medicine</td>\n",
       "      <td>If you are looking for the secret ingredient i...</td>\n",
       "    </tr>\n",
       "    <tr>\n",
       "      <th>4</th>\n",
       "      <td>5</td>\n",
       "      <td>B006K2ZZ7K</td>\n",
       "      <td>A1UQRSCLF8GW1T</td>\n",
       "      <td>Michael D. Bigham \"M. Wassir\"</td>\n",
       "      <td>0</td>\n",
       "      <td>0</td>\n",
       "      <td>1</td>\n",
       "      <td>1350777600</td>\n",
       "      <td>Great taffy</td>\n",
       "      <td>Great taffy at a great price.  There was a wid...</td>\n",
       "    </tr>\n",
       "  </tbody>\n",
       "</table>\n",
       "</div>"
      ],
      "text/plain": [
       "   Id   ProductId          UserId                      ProfileName  \\\n",
       "0   1  B001E4KFG0  A3SGXH7AUHU8GW                       delmartian   \n",
       "1   2  B00813GRG4  A1D87F6ZCVE5NK                           dll pa   \n",
       "2   3  B000LQOCH0   ABXLMWJIXXAIN  Natalia Corres \"Natalia Corres\"   \n",
       "3   4  B000UA0QIQ  A395BORC6FGVXV                             Karl   \n",
       "4   5  B006K2ZZ7K  A1UQRSCLF8GW1T    Michael D. Bigham \"M. Wassir\"   \n",
       "\n",
       "   HelpfulnessNumerator  HelpfulnessDenominator  Score        Time  \\\n",
       "0                     1                       1      1  1303862400   \n",
       "1                     0                       0      0  1346976000   \n",
       "2                     1                       1      1  1219017600   \n",
       "3                     3                       3      0  1307923200   \n",
       "4                     0                       0      1  1350777600   \n",
       "\n",
       "                 Summary                                               Text  \n",
       "0  Good Quality Dog Food  I have bought several of the Vitality canned d...  \n",
       "1      Not as Advertised  Product arrived labeled as Jumbo Salted Peanut...  \n",
       "2  \"Delight\" says it all  This is a confection that has been around a fe...  \n",
       "3         Cough Medicine  If you are looking for the secret ingredient i...  \n",
       "4            Great taffy  Great taffy at a great price.  There was a wid...  "
      ]
     },
     "execution_count": 12,
     "metadata": {},
     "output_type": "execute_result"
    }
   ],
   "source": [
    "filtered_data.head()"
   ]
  },
  {
   "cell_type": "code",
   "execution_count": 13,
   "metadata": {},
   "outputs": [
    {
     "name": "stdout",
     "output_type": "stream",
     "text": [
      "Number of data points in our data (5000, 10)\n"
     ]
    }
   ],
   "source": [
    "print(\"Number of data points in our data\", filtered_data.shape)"
   ]
  },
  {
   "cell_type": "code",
   "execution_count": 14,
   "metadata": {},
   "outputs": [],
   "source": [
    "sorted_data=filtered_data.sort_values('ProductId',axis=0,ascending=True,kind='quicksort', na_position='last')"
   ]
  },
  {
   "cell_type": "code",
   "execution_count": 15,
   "metadata": {},
   "outputs": [
    {
     "data": {
      "text/plain": [
       "pandas.core.frame.DataFrame"
      ]
     },
     "execution_count": 15,
     "metadata": {},
     "output_type": "execute_result"
    }
   ],
   "source": [
    "type(sorted_data)"
   ]
  },
  {
   "cell_type": "code",
   "execution_count": 16,
   "metadata": {},
   "outputs": [],
   "source": [
    "final = sorted_data.drop_duplicates(subset={\"UserId\",\"ProfileName\",\"Time\",\"Text\"},keep='first',inplace = False)"
   ]
  },
  {
   "cell_type": "code",
   "execution_count": 17,
   "metadata": {},
   "outputs": [
    {
     "data": {
      "text/plain": [
       "4986"
      ]
     },
     "execution_count": 17,
     "metadata": {},
     "output_type": "execute_result"
    }
   ],
   "source": [
    "len(final)"
   ]
  },
  {
   "cell_type": "code",
   "execution_count": 18,
   "metadata": {},
   "outputs": [],
   "source": [
    "display = pd.read_sql_query(\"\"\"Select * From Reviews Where Score!=3 and HelpfulnessNumerator > HelpfulnessDenominator\"\"\",con)"
   ]
  },
  {
   "cell_type": "code",
   "execution_count": 19,
   "metadata": {},
   "outputs": [
    {
     "data": {
      "text/html": [
       "<div>\n",
       "<style scoped>\n",
       "    .dataframe tbody tr th:only-of-type {\n",
       "        vertical-align: middle;\n",
       "    }\n",
       "\n",
       "    .dataframe tbody tr th {\n",
       "        vertical-align: top;\n",
       "    }\n",
       "\n",
       "    .dataframe thead th {\n",
       "        text-align: right;\n",
       "    }\n",
       "</style>\n",
       "<table border=\"1\" class=\"dataframe\">\n",
       "  <thead>\n",
       "    <tr style=\"text-align: right;\">\n",
       "      <th></th>\n",
       "      <th>Id</th>\n",
       "      <th>ProductId</th>\n",
       "      <th>UserId</th>\n",
       "      <th>ProfileName</th>\n",
       "      <th>HelpfulnessNumerator</th>\n",
       "      <th>HelpfulnessDenominator</th>\n",
       "      <th>Score</th>\n",
       "      <th>Time</th>\n",
       "      <th>Summary</th>\n",
       "      <th>Text</th>\n",
       "    </tr>\n",
       "  </thead>\n",
       "  <tbody>\n",
       "    <tr>\n",
       "      <th>0</th>\n",
       "      <td>44737</td>\n",
       "      <td>B001EQ55RW</td>\n",
       "      <td>A2V0I904FH7ABY</td>\n",
       "      <td>Ram</td>\n",
       "      <td>3</td>\n",
       "      <td>2</td>\n",
       "      <td>4</td>\n",
       "      <td>1212883200</td>\n",
       "      <td>Pure cocoa taste with crunchy almonds inside</td>\n",
       "      <td>It was almost a 'love at first bite' - the per...</td>\n",
       "    </tr>\n",
       "    <tr>\n",
       "      <th>1</th>\n",
       "      <td>64422</td>\n",
       "      <td>B000MIDROQ</td>\n",
       "      <td>A161DK06JJMCYF</td>\n",
       "      <td>J. E. Stephens \"Jeanne\"</td>\n",
       "      <td>3</td>\n",
       "      <td>1</td>\n",
       "      <td>5</td>\n",
       "      <td>1224892800</td>\n",
       "      <td>Bought This for My Son at College</td>\n",
       "      <td>My son loves spaghetti so I didn't hesitate or...</td>\n",
       "    </tr>\n",
       "  </tbody>\n",
       "</table>\n",
       "</div>"
      ],
      "text/plain": [
       "      Id   ProductId          UserId              ProfileName  \\\n",
       "0  44737  B001EQ55RW  A2V0I904FH7ABY                      Ram   \n",
       "1  64422  B000MIDROQ  A161DK06JJMCYF  J. E. Stephens \"Jeanne\"   \n",
       "\n",
       "   HelpfulnessNumerator  HelpfulnessDenominator  Score        Time  \\\n",
       "0                     3                       2      4  1212883200   \n",
       "1                     3                       1      5  1224892800   \n",
       "\n",
       "                                        Summary  \\\n",
       "0  Pure cocoa taste with crunchy almonds inside   \n",
       "1             Bought This for My Son at College   \n",
       "\n",
       "                                                Text  \n",
       "0  It was almost a 'love at first bite' - the per...  \n",
       "1  My son loves spaghetti so I didn't hesitate or...  "
      ]
     },
     "execution_count": 19,
     "metadata": {},
     "output_type": "execute_result"
    }
   ],
   "source": [
    "display"
   ]
  },
  {
   "cell_type": "code",
   "execution_count": null,
   "metadata": {},
   "outputs": [],
   "source": []
  },
  {
   "cell_type": "code",
   "execution_count": 20,
   "metadata": {},
   "outputs": [],
   "source": [
    "final=final[final.HelpfulnessNumerator<=final.HelpfulnessDenominator]"
   ]
  },
  {
   "cell_type": "code",
   "execution_count": 21,
   "metadata": {},
   "outputs": [
    {
     "name": "stdout",
     "output_type": "stream",
     "text": [
      "(4986, 10)\n"
     ]
    }
   ],
   "source": [
    "print(final.shape)"
   ]
  },
  {
   "cell_type": "code",
   "execution_count": 22,
   "metadata": {},
   "outputs": [
    {
     "name": "stdout",
     "output_type": "stream",
     "text": [
      "Why is this $[...] when the same product is available for $[...] here?<br />http://www.amazon.com/VICTOR-FLY-MAGNET-BAIT-REFILL/dp/B00004RBDY<br /><br />The Victor M380 and M502 traps are unreal, of course -- total fly genocide. Pretty stinky, but only right nearby.\n"
     ]
    }
   ],
   "source": [
    "sent_0 = final['Text'].values[0]\n",
    "print(sent_0)"
   ]
  },
  {
   "cell_type": "code",
   "execution_count": 23,
   "metadata": {},
   "outputs": [],
   "source": [
    "#Removing html tags"
   ]
  },
  {
   "cell_type": "code",
   "execution_count": 24,
   "metadata": {},
   "outputs": [],
   "source": [
    "import re\n",
    "sent_0 = re.sub(r\"http\\S+\", \"\", sent_0)"
   ]
  },
  {
   "cell_type": "code",
   "execution_count": 25,
   "metadata": {},
   "outputs": [
    {
     "name": "stdout",
     "output_type": "stream",
     "text": [
      "Why is this $[...] when the same product is available for $[...] here?<br /> /><br />The Victor M380 and M502 traps are unreal, of course -- total fly genocide. Pretty stinky, but only right nearby.\n"
     ]
    }
   ],
   "source": [
    "print(sent_0)"
   ]
  },
  {
   "cell_type": "code",
   "execution_count": 26,
   "metadata": {},
   "outputs": [],
   "source": [
    "soup = BeautifulSoup(sent_0, 'lxml')"
   ]
  },
  {
   "cell_type": "code",
   "execution_count": null,
   "metadata": {},
   "outputs": [],
   "source": []
  },
  {
   "cell_type": "code",
   "execution_count": 27,
   "metadata": {},
   "outputs": [],
   "source": [
    "import re\n",
    "\n",
    "def decontracted(phrase):\n",
    "    # specific\n",
    "    phrase = re.sub(r\"won't\", \"will not\", phrase)\n",
    "    phrase = re.sub(r\"can\\'t\", \"can not\", phrase)\n",
    "\n",
    "    # general\n",
    "    phrase = re.sub(r\"n\\'t\", \" not\", phrase)\n",
    "    phrase = re.sub(r\"\\'re\", \" are\", phrase)\n",
    "    phrase = re.sub(r\"\\'s\", \" is\", phrase)\n",
    "    phrase = re.sub(r\"\\'d\", \" would\", phrase)\n",
    "    phrase = re.sub(r\"\\'ll\", \" will\", phrase)\n",
    "    phrase = re.sub(r\"\\'t\", \" not\", phrase)\n",
    "    phrase = re.sub(r\"\\'ve\", \" have\", phrase)\n",
    "    phrase = re.sub(r\"\\'m\", \" am\", phrase)\n",
    "    return phrase"
   ]
  },
  {
   "cell_type": "code",
   "execution_count": null,
   "metadata": {},
   "outputs": [],
   "source": []
  },
  {
   "cell_type": "code",
   "execution_count": 28,
   "metadata": {},
   "outputs": [],
   "source": [
    "stopwords= set(['br', 'the', 'i', 'me', 'my', 'myself', 'we', 'our', 'ours', 'ourselves', 'you', \"you're\", \"you've\",\\\n",
    "            \"you'll\", \"you'd\", 'your', 'yours', 'yourself', 'yourselves', 'he', 'him', 'his', 'himself', \\\n",
    "            'she', \"she's\", 'her', 'hers', 'herself', 'it', \"it's\", 'its', 'itself', 'they', 'them', 'their',\\\n",
    "            'theirs', 'themselves', 'what', 'which', 'who', 'whom', 'this', 'that', \"that'll\", 'these', 'those', \\\n",
    "            'am', 'is', 'are', 'was', 'were', 'be', 'been', 'being', 'have', 'has', 'had', 'having', 'do', 'does', \\\n",
    "            'did', 'doing', 'a', 'an', 'the', 'and', 'but', 'if', 'or', 'because', 'as', 'until', 'while', 'of', \\\n",
    "            'at', 'by', 'for', 'with', 'about', 'against', 'between', 'into', 'through', 'during', 'before', 'after',\\\n",
    "            'above', 'below', 'to', 'from', 'up', 'down', 'in', 'out', 'on', 'off', 'over', 'under', 'again', 'further',\\\n",
    "            'then', 'once', 'here', 'there', 'when', 'where', 'why', 'how', 'all', 'any', 'both', 'each', 'few', 'more',\\\n",
    "            'most', 'other', 'some', 'such', 'only', 'own', 'same', 'so', 'than', 'too', 'very', \\\n",
    "            's', 't', 'can', 'will', 'just', 'don', \"don't\", 'should', \"should've\", 'now', 'd', 'll', 'm', 'o', 're', \\\n",
    "            've', 'y', 'ain', 'aren', \"aren't\", 'couldn', \"couldn't\", 'didn', \"didn't\", 'doesn', \"doesn't\", 'hadn',\\\n",
    "            \"hadn't\", 'hasn', \"hasn't\", 'haven', \"haven't\", 'isn', \"isn't\", 'ma', 'mightn', \"mightn't\", 'mustn',\\\n",
    "            \"mustn't\", 'needn', \"needn't\", 'shan', \"shan't\", 'shouldn', \"shouldn't\", 'wasn', \"wasn't\", 'weren', \"weren't\", \\\n",
    "            'won', \"won't\", 'wouldn', \"wouldn't\"])"
   ]
  },
  {
   "cell_type": "code",
   "execution_count": null,
   "metadata": {},
   "outputs": [],
   "source": []
  },
  {
   "cell_type": "code",
   "execution_count": 29,
   "metadata": {},
   "outputs": [
    {
     "name": "stderr",
     "output_type": "stream",
     "text": [
      "100%|████████████████████████████████████████████████████████████████████████████| 4986/4986 [00:03<00:00, 1583.97it/s]\n"
     ]
    }
   ],
   "source": [
    "from tqdm import tqdm\n",
    "\n",
    "preprocessed_reviews = []\n",
    "for sentance in tqdm(final['Text'].values):\n",
    "    sentance = re.sub(r\"http\\S+\", \"\", sentance)\n",
    "    sentance = BeautifulSoup(sentance, 'lxml').get_text()\n",
    "    sentance = decontracted(sentance)\n",
    "    sentance = re.sub(\"\\S*\\d\\S*\", \"\", sentance).strip()\n",
    "    sentance = re.sub('[^A-Za-z]+', ' ', sentance)\n",
    "    sentance = ' '.join(e.lower() for e in sentance.split() if e.lower() not in stopwords)\n",
    "    preprocessed_reviews.append(sentance.strip())"
   ]
  },
  {
   "cell_type": "code",
   "execution_count": 30,
   "metadata": {},
   "outputs": [
    {
     "data": {
      "text/plain": [
       "'wow far two two star reviews one obviously no idea ordering wants crispy cookies hey sorry reviews nobody good beyond reminding us look ordering chocolate oatmeal cookies not like combination not order type cookie find combo quite nice really oatmeal sort calms rich chocolate flavor gives cookie sort coconut type consistency let also remember tastes differ given opinion soft chewy cookies advertised not crispy cookies blurb would say crispy rather chewy happen like raw cookie dough however not see taste like raw cookie dough soft however confusion yes stick together soft cookies tend not individually wrapped would add cost oh yeah chocolate chip cookies tend somewhat sweet want something hard crisp suggest nabiso ginger snaps want cookie soft chewy tastes like combination chocolate oatmeal give try place second order'"
      ]
     },
     "execution_count": 30,
     "metadata": {},
     "output_type": "execute_result"
    }
   ],
   "source": [
    "preprocessed_reviews[1500]"
   ]
  },
  {
   "cell_type": "code",
   "execution_count": 31,
   "metadata": {},
   "outputs": [
    {
     "data": {
      "text/plain": [
       "4986"
      ]
     },
     "execution_count": 31,
     "metadata": {},
     "output_type": "execute_result"
    }
   ],
   "source": [
    "len(preprocessed_reviews)"
   ]
  },
  {
   "cell_type": "code",
   "execution_count": 32,
   "metadata": {},
   "outputs": [
    {
     "data": {
      "text/plain": [
       "list"
      ]
     },
     "execution_count": 32,
     "metadata": {},
     "output_type": "execute_result"
    }
   ],
   "source": [
    "type(preprocessed_reviews)"
   ]
  },
  {
   "cell_type": "code",
   "execution_count": 33,
   "metadata": {},
   "outputs": [
    {
     "data": {
      "text/plain": [
       "(5000, 10)"
      ]
     },
     "execution_count": 33,
     "metadata": {},
     "output_type": "execute_result"
    }
   ],
   "source": [
    "filtered_data.shape"
   ]
  },
  {
   "cell_type": "code",
   "execution_count": 34,
   "metadata": {},
   "outputs": [],
   "source": [
    "# Adding preprocessed text to the original dataframe"
   ]
  },
  {
   "cell_type": "code",
   "execution_count": 35,
   "metadata": {},
   "outputs": [],
   "source": [
    "final['preprocessed reviews'] = preprocessed_reviews"
   ]
  },
  {
   "cell_type": "code",
   "execution_count": 36,
   "metadata": {},
   "outputs": [
    {
     "data": {
      "text/html": [
       "<div>\n",
       "<style scoped>\n",
       "    .dataframe tbody tr th:only-of-type {\n",
       "        vertical-align: middle;\n",
       "    }\n",
       "\n",
       "    .dataframe tbody tr th {\n",
       "        vertical-align: top;\n",
       "    }\n",
       "\n",
       "    .dataframe thead th {\n",
       "        text-align: right;\n",
       "    }\n",
       "</style>\n",
       "<table border=\"1\" class=\"dataframe\">\n",
       "  <thead>\n",
       "    <tr style=\"text-align: right;\">\n",
       "      <th></th>\n",
       "      <th>Id</th>\n",
       "      <th>ProductId</th>\n",
       "      <th>UserId</th>\n",
       "      <th>ProfileName</th>\n",
       "      <th>HelpfulnessNumerator</th>\n",
       "      <th>HelpfulnessDenominator</th>\n",
       "      <th>Score</th>\n",
       "      <th>Time</th>\n",
       "      <th>Summary</th>\n",
       "      <th>Text</th>\n",
       "      <th>preprocessed reviews</th>\n",
       "    </tr>\n",
       "  </thead>\n",
       "  <tbody>\n",
       "    <tr>\n",
       "      <th>2546</th>\n",
       "      <td>2774</td>\n",
       "      <td>B00002NCJC</td>\n",
       "      <td>A196AJHU9EASJN</td>\n",
       "      <td>Alex Chaffee</td>\n",
       "      <td>0</td>\n",
       "      <td>0</td>\n",
       "      <td>1</td>\n",
       "      <td>1282953600</td>\n",
       "      <td>thirty bucks?</td>\n",
       "      <td>Why is this $[...] when the same product is av...</td>\n",
       "      <td>product available victor traps unreal course t...</td>\n",
       "    </tr>\n",
       "    <tr>\n",
       "      <th>2547</th>\n",
       "      <td>2775</td>\n",
       "      <td>B00002NCJC</td>\n",
       "      <td>A13RRPGE79XFFH</td>\n",
       "      <td>reader48</td>\n",
       "      <td>0</td>\n",
       "      <td>0</td>\n",
       "      <td>1</td>\n",
       "      <td>1281052800</td>\n",
       "      <td>Flies Begone</td>\n",
       "      <td>We have used the Victor fly bait for 3 seasons...</td>\n",
       "      <td>used victor fly bait seasons ca not beat great...</td>\n",
       "    </tr>\n",
       "    <tr>\n",
       "      <th>1145</th>\n",
       "      <td>1244</td>\n",
       "      <td>B00002Z754</td>\n",
       "      <td>A3B8RCEI0FXFI6</td>\n",
       "      <td>B G Chase</td>\n",
       "      <td>10</td>\n",
       "      <td>10</td>\n",
       "      <td>1</td>\n",
       "      <td>962236800</td>\n",
       "      <td>WOW Make your own 'slickers' !</td>\n",
       "      <td>I just received my shipment and could hardly w...</td>\n",
       "      <td>received shipment could hardly wait try produc...</td>\n",
       "    </tr>\n",
       "    <tr>\n",
       "      <th>1146</th>\n",
       "      <td>1245</td>\n",
       "      <td>B00002Z754</td>\n",
       "      <td>A29Z5PI9BW2PU3</td>\n",
       "      <td>Robbie</td>\n",
       "      <td>7</td>\n",
       "      <td>7</td>\n",
       "      <td>1</td>\n",
       "      <td>961718400</td>\n",
       "      <td>Great Product</td>\n",
       "      <td>This was a really good idea and the final prod...</td>\n",
       "      <td>really good idea final product outstanding use...</td>\n",
       "    </tr>\n",
       "    <tr>\n",
       "      <th>2942</th>\n",
       "      <td>3204</td>\n",
       "      <td>B000084DVR</td>\n",
       "      <td>A1UGDJP1ZJWVPF</td>\n",
       "      <td>T. Moore \"thoughtful reader\"</td>\n",
       "      <td>1</td>\n",
       "      <td>1</td>\n",
       "      <td>1</td>\n",
       "      <td>1177977600</td>\n",
       "      <td>Good stuff!</td>\n",
       "      <td>I'm glad my 45lb cocker/standard poodle puppy ...</td>\n",
       "      <td>glad cocker standard poodle puppy loves stuff ...</td>\n",
       "    </tr>\n",
       "  </tbody>\n",
       "</table>\n",
       "</div>"
      ],
      "text/plain": [
       "        Id   ProductId          UserId                   ProfileName  \\\n",
       "2546  2774  B00002NCJC  A196AJHU9EASJN                  Alex Chaffee   \n",
       "2547  2775  B00002NCJC  A13RRPGE79XFFH                      reader48   \n",
       "1145  1244  B00002Z754  A3B8RCEI0FXFI6                     B G Chase   \n",
       "1146  1245  B00002Z754  A29Z5PI9BW2PU3                        Robbie   \n",
       "2942  3204  B000084DVR  A1UGDJP1ZJWVPF  T. Moore \"thoughtful reader\"   \n",
       "\n",
       "      HelpfulnessNumerator  HelpfulnessDenominator  Score        Time  \\\n",
       "2546                     0                       0      1  1282953600   \n",
       "2547                     0                       0      1  1281052800   \n",
       "1145                    10                      10      1   962236800   \n",
       "1146                     7                       7      1   961718400   \n",
       "2942                     1                       1      1  1177977600   \n",
       "\n",
       "                             Summary  \\\n",
       "2546                   thirty bucks?   \n",
       "2547                    Flies Begone   \n",
       "1145  WOW Make your own 'slickers' !   \n",
       "1146                   Great Product   \n",
       "2942                     Good stuff!   \n",
       "\n",
       "                                                   Text  \\\n",
       "2546  Why is this $[...] when the same product is av...   \n",
       "2547  We have used the Victor fly bait for 3 seasons...   \n",
       "1145  I just received my shipment and could hardly w...   \n",
       "1146  This was a really good idea and the final prod...   \n",
       "2942  I'm glad my 45lb cocker/standard poodle puppy ...   \n",
       "\n",
       "                                   preprocessed reviews  \n",
       "2546  product available victor traps unreal course t...  \n",
       "2547  used victor fly bait seasons ca not beat great...  \n",
       "1145  received shipment could hardly wait try produc...  \n",
       "1146  really good idea final product outstanding use...  \n",
       "2942  glad cocker standard poodle puppy loves stuff ...  "
      ]
     },
     "execution_count": 36,
     "metadata": {},
     "output_type": "execute_result"
    }
   ],
   "source": [
    "final.head()"
   ]
  },
  {
   "cell_type": "code",
   "execution_count": null,
   "metadata": {},
   "outputs": [],
   "source": []
  },
  {
   "cell_type": "markdown",
   "metadata": {},
   "source": [
    "## Applying Train test split"
   ]
  },
  {
   "cell_type": "code",
   "execution_count": 37,
   "metadata": {},
   "outputs": [],
   "source": [
    "X = final['preprocessed reviews']\n",
    "Y = final['Score']"
   ]
  },
  {
   "cell_type": "code",
   "execution_count": 38,
   "metadata": {},
   "outputs": [
    {
     "name": "stdout",
     "output_type": "stream",
     "text": [
      "(4986,) (4986,)\n"
     ]
    }
   ],
   "source": [
    "print(X.shape,Y.shape)"
   ]
  },
  {
   "cell_type": "code",
   "execution_count": 39,
   "metadata": {},
   "outputs": [],
   "source": [
    "X_train,X_test,Y_train,Y_test = train_test_split(X,Y,test_size=0.3)"
   ]
  },
  {
   "cell_type": "code",
   "execution_count": 48,
   "metadata": {},
   "outputs": [
    {
     "name": "stdout",
     "output_type": "stream",
     "text": [
      "(3490,) (1496,) (3490,) (1496,)\n"
     ]
    }
   ],
   "source": [
    "print(X_train.shape,X_test.shape,Y_train.shape,Y_test.shape)"
   ]
  },
  {
   "cell_type": "code",
   "execution_count": null,
   "metadata": {},
   "outputs": [],
   "source": []
  },
  {
   "cell_type": "markdown",
   "metadata": {},
   "source": [
    "### 1. Bag of Words - Unigrams"
   ]
  },
  {
   "cell_type": "code",
   "execution_count": 41,
   "metadata": {},
   "outputs": [],
   "source": [
    "bow = CountVectorizer()\n",
    "x_tr_uni = bow.fit_transform(X_train)\n",
    "x_test_uni = bow.transform(X_test)"
   ]
  },
  {
   "cell_type": "markdown",
   "metadata": {},
   "source": [
    "### Multinomial Naive Bayes"
   ]
  },
  {
   "cell_type": "markdown",
   "metadata": {},
   "source": [
    "### GridSearch to find optimal value of alpha"
   ]
  },
  {
   "cell_type": "code",
   "execution_count": 46,
   "metadata": {},
   "outputs": [],
   "source": [
    "from sklearn.model_selection import GridSearchCV"
   ]
  },
  {
   "cell_type": "code",
   "execution_count": 59,
   "metadata": {},
   "outputs": [
    {
     "name": "stdout",
     "output_type": "stream",
     "text": [
      "Fitting 5 folds for each of 15 candidates, totalling 75 fits\n",
      "Best HyperParameter:  {'alpha': 1}\n",
      "0.8679083094555875\n"
     ]
    }
   ],
   "source": [
    "NB = MultinomialNB()\n",
    "\n",
    "alpha_value = {'alpha':[1000,500,100,50,10,5,1,0.5,0.1,0.05,0.01,0.005,0.001,0.0005,0.0001]}\n",
    "gsv = GridSearchCV(NB,alpha_value,cv=5,verbose=1,scoring='f1_micro')\n",
    "gsv.fit(x_tr_uni,Y_train)\n",
    "\n",
    "print(\"Best HyperParameter: \",gsv.best_params_)\n",
    "print(gsv.best_score_)\n",
    "optimal_alpha=gsv.best_params_['alpha']"
   ]
  },
  {
   "cell_type": "code",
   "execution_count": 50,
   "metadata": {},
   "outputs": [],
   "source": [
    "df = pd.DataFrame(gsv.cv_results_)"
   ]
  },
  {
   "cell_type": "code",
   "execution_count": 51,
   "metadata": {},
   "outputs": [
    {
     "data": {
      "text/html": [
       "<div>\n",
       "<style scoped>\n",
       "    .dataframe tbody tr th:only-of-type {\n",
       "        vertical-align: middle;\n",
       "    }\n",
       "\n",
       "    .dataframe tbody tr th {\n",
       "        vertical-align: top;\n",
       "    }\n",
       "\n",
       "    .dataframe thead th {\n",
       "        text-align: right;\n",
       "    }\n",
       "</style>\n",
       "<table border=\"1\" class=\"dataframe\">\n",
       "  <thead>\n",
       "    <tr style=\"text-align: right;\">\n",
       "      <th></th>\n",
       "      <th>mean_fit_time</th>\n",
       "      <th>std_fit_time</th>\n",
       "      <th>mean_score_time</th>\n",
       "      <th>std_score_time</th>\n",
       "      <th>param_alpha</th>\n",
       "      <th>params</th>\n",
       "      <th>split0_test_score</th>\n",
       "      <th>split1_test_score</th>\n",
       "      <th>split2_test_score</th>\n",
       "      <th>split3_test_score</th>\n",
       "      <th>split4_test_score</th>\n",
       "      <th>mean_test_score</th>\n",
       "      <th>std_test_score</th>\n",
       "      <th>rank_test_score</th>\n",
       "    </tr>\n",
       "  </thead>\n",
       "  <tbody>\n",
       "    <tr>\n",
       "      <th>0</th>\n",
       "      <td>0.007007</td>\n",
       "      <td>0.001672</td>\n",
       "      <td>0.002992</td>\n",
       "      <td>0.000904</td>\n",
       "      <td>1000</td>\n",
       "      <td>{'alpha': 1000}</td>\n",
       "      <td>0.842407</td>\n",
       "      <td>0.842407</td>\n",
       "      <td>0.842407</td>\n",
       "      <td>0.842407</td>\n",
       "      <td>0.842407</td>\n",
       "      <td>0.842407</td>\n",
       "      <td>0.000000</td>\n",
       "      <td>11</td>\n",
       "    </tr>\n",
       "    <tr>\n",
       "      <th>1</th>\n",
       "      <td>0.007000</td>\n",
       "      <td>0.000020</td>\n",
       "      <td>0.003401</td>\n",
       "      <td>0.000490</td>\n",
       "      <td>500</td>\n",
       "      <td>{'alpha': 500}</td>\n",
       "      <td>0.842407</td>\n",
       "      <td>0.842407</td>\n",
       "      <td>0.842407</td>\n",
       "      <td>0.842407</td>\n",
       "      <td>0.842407</td>\n",
       "      <td>0.842407</td>\n",
       "      <td>0.000000</td>\n",
       "      <td>11</td>\n",
       "    </tr>\n",
       "    <tr>\n",
       "      <th>2</th>\n",
       "      <td>0.005205</td>\n",
       "      <td>0.001165</td>\n",
       "      <td>0.002600</td>\n",
       "      <td>0.000489</td>\n",
       "      <td>100</td>\n",
       "      <td>{'alpha': 100}</td>\n",
       "      <td>0.840974</td>\n",
       "      <td>0.842407</td>\n",
       "      <td>0.842407</td>\n",
       "      <td>0.842407</td>\n",
       "      <td>0.842407</td>\n",
       "      <td>0.842120</td>\n",
       "      <td>0.000573</td>\n",
       "      <td>14</td>\n",
       "    </tr>\n",
       "    <tr>\n",
       "      <th>3</th>\n",
       "      <td>0.004485</td>\n",
       "      <td>0.000607</td>\n",
       "      <td>0.002599</td>\n",
       "      <td>0.000480</td>\n",
       "      <td>50</td>\n",
       "      <td>{'alpha': 50}</td>\n",
       "      <td>0.840974</td>\n",
       "      <td>0.842407</td>\n",
       "      <td>0.842407</td>\n",
       "      <td>0.842407</td>\n",
       "      <td>0.842407</td>\n",
       "      <td>0.842120</td>\n",
       "      <td>0.000573</td>\n",
       "      <td>14</td>\n",
       "    </tr>\n",
       "    <tr>\n",
       "      <th>4</th>\n",
       "      <td>0.005600</td>\n",
       "      <td>0.000801</td>\n",
       "      <td>0.003206</td>\n",
       "      <td>0.000399</td>\n",
       "      <td>10</td>\n",
       "      <td>{'alpha': 10}</td>\n",
       "      <td>0.840974</td>\n",
       "      <td>0.842407</td>\n",
       "      <td>0.843840</td>\n",
       "      <td>0.842407</td>\n",
       "      <td>0.842407</td>\n",
       "      <td>0.842407</td>\n",
       "      <td>0.000906</td>\n",
       "      <td>11</td>\n",
       "    </tr>\n",
       "    <tr>\n",
       "      <th>5</th>\n",
       "      <td>0.006196</td>\n",
       "      <td>0.000397</td>\n",
       "      <td>0.003596</td>\n",
       "      <td>0.001203</td>\n",
       "      <td>5</td>\n",
       "      <td>{'alpha': 5}</td>\n",
       "      <td>0.842407</td>\n",
       "      <td>0.843840</td>\n",
       "      <td>0.848138</td>\n",
       "      <td>0.845272</td>\n",
       "      <td>0.843840</td>\n",
       "      <td>0.844699</td>\n",
       "      <td>0.001943</td>\n",
       "      <td>10</td>\n",
       "    </tr>\n",
       "    <tr>\n",
       "      <th>6</th>\n",
       "      <td>0.005800</td>\n",
       "      <td>0.001153</td>\n",
       "      <td>0.002603</td>\n",
       "      <td>0.000504</td>\n",
       "      <td>1</td>\n",
       "      <td>{'alpha': 1}</td>\n",
       "      <td>0.858166</td>\n",
       "      <td>0.856734</td>\n",
       "      <td>0.876791</td>\n",
       "      <td>0.878223</td>\n",
       "      <td>0.869628</td>\n",
       "      <td>0.867908</td>\n",
       "      <td>0.009034</td>\n",
       "      <td>1</td>\n",
       "    </tr>\n",
       "    <tr>\n",
       "      <th>7</th>\n",
       "      <td>0.005202</td>\n",
       "      <td>0.000384</td>\n",
       "      <td>0.002599</td>\n",
       "      <td>0.000798</td>\n",
       "      <td>0.5</td>\n",
       "      <td>{'alpha': 0.5}</td>\n",
       "      <td>0.861032</td>\n",
       "      <td>0.851003</td>\n",
       "      <td>0.873926</td>\n",
       "      <td>0.871060</td>\n",
       "      <td>0.871060</td>\n",
       "      <td>0.865616</td>\n",
       "      <td>0.008519</td>\n",
       "      <td>2</td>\n",
       "    </tr>\n",
       "    <tr>\n",
       "      <th>8</th>\n",
       "      <td>0.004410</td>\n",
       "      <td>0.000483</td>\n",
       "      <td>0.003178</td>\n",
       "      <td>0.000746</td>\n",
       "      <td>0.1</td>\n",
       "      <td>{'alpha': 0.1}</td>\n",
       "      <td>0.853868</td>\n",
       "      <td>0.859599</td>\n",
       "      <td>0.872493</td>\n",
       "      <td>0.866762</td>\n",
       "      <td>0.859599</td>\n",
       "      <td>0.862464</td>\n",
       "      <td>0.006471</td>\n",
       "      <td>5</td>\n",
       "    </tr>\n",
       "    <tr>\n",
       "      <th>9</th>\n",
       "      <td>0.004611</td>\n",
       "      <td>0.000488</td>\n",
       "      <td>0.002778</td>\n",
       "      <td>0.000742</td>\n",
       "      <td>0.05</td>\n",
       "      <td>{'alpha': 0.05}</td>\n",
       "      <td>0.851003</td>\n",
       "      <td>0.863897</td>\n",
       "      <td>0.862464</td>\n",
       "      <td>0.863897</td>\n",
       "      <td>0.863897</td>\n",
       "      <td>0.861032</td>\n",
       "      <td>0.005045</td>\n",
       "      <td>6</td>\n",
       "    </tr>\n",
       "    <tr>\n",
       "      <th>10</th>\n",
       "      <td>0.004600</td>\n",
       "      <td>0.000503</td>\n",
       "      <td>0.003000</td>\n",
       "      <td>0.000624</td>\n",
       "      <td>0.01</td>\n",
       "      <td>{'alpha': 0.01}</td>\n",
       "      <td>0.853868</td>\n",
       "      <td>0.879656</td>\n",
       "      <td>0.866762</td>\n",
       "      <td>0.859599</td>\n",
       "      <td>0.863897</td>\n",
       "      <td>0.864756</td>\n",
       "      <td>0.008625</td>\n",
       "      <td>3</td>\n",
       "    </tr>\n",
       "    <tr>\n",
       "      <th>11</th>\n",
       "      <td>0.004994</td>\n",
       "      <td>0.000011</td>\n",
       "      <td>0.002417</td>\n",
       "      <td>0.000476</td>\n",
       "      <td>0.005</td>\n",
       "      <td>{'alpha': 0.005}</td>\n",
       "      <td>0.851003</td>\n",
       "      <td>0.876791</td>\n",
       "      <td>0.868195</td>\n",
       "      <td>0.858166</td>\n",
       "      <td>0.859599</td>\n",
       "      <td>0.862751</td>\n",
       "      <td>0.008896</td>\n",
       "      <td>4</td>\n",
       "    </tr>\n",
       "    <tr>\n",
       "      <th>12</th>\n",
       "      <td>0.005009</td>\n",
       "      <td>0.000630</td>\n",
       "      <td>0.002405</td>\n",
       "      <td>0.000481</td>\n",
       "      <td>0.001</td>\n",
       "      <td>{'alpha': 0.001}</td>\n",
       "      <td>0.851003</td>\n",
       "      <td>0.868195</td>\n",
       "      <td>0.861032</td>\n",
       "      <td>0.855301</td>\n",
       "      <td>0.853868</td>\n",
       "      <td>0.857880</td>\n",
       "      <td>0.006105</td>\n",
       "      <td>7</td>\n",
       "    </tr>\n",
       "    <tr>\n",
       "      <th>13</th>\n",
       "      <td>0.005203</td>\n",
       "      <td>0.000980</td>\n",
       "      <td>0.002399</td>\n",
       "      <td>0.000488</td>\n",
       "      <td>0.0005</td>\n",
       "      <td>{'alpha': 0.0005}</td>\n",
       "      <td>0.848138</td>\n",
       "      <td>0.868195</td>\n",
       "      <td>0.856734</td>\n",
       "      <td>0.852436</td>\n",
       "      <td>0.858166</td>\n",
       "      <td>0.856734</td>\n",
       "      <td>0.006720</td>\n",
       "      <td>8</td>\n",
       "    </tr>\n",
       "    <tr>\n",
       "      <th>14</th>\n",
       "      <td>0.005199</td>\n",
       "      <td>0.000749</td>\n",
       "      <td>0.002400</td>\n",
       "      <td>0.000490</td>\n",
       "      <td>0.0001</td>\n",
       "      <td>{'alpha': 0.0001}</td>\n",
       "      <td>0.851003</td>\n",
       "      <td>0.862464</td>\n",
       "      <td>0.853868</td>\n",
       "      <td>0.852436</td>\n",
       "      <td>0.851003</td>\n",
       "      <td>0.854155</td>\n",
       "      <td>0.004288</td>\n",
       "      <td>9</td>\n",
       "    </tr>\n",
       "  </tbody>\n",
       "</table>\n",
       "</div>"
      ],
      "text/plain": [
       "    mean_fit_time  std_fit_time  mean_score_time  std_score_time param_alpha  \\\n",
       "0        0.007007      0.001672         0.002992        0.000904        1000   \n",
       "1        0.007000      0.000020         0.003401        0.000490         500   \n",
       "2        0.005205      0.001165         0.002600        0.000489         100   \n",
       "3        0.004485      0.000607         0.002599        0.000480          50   \n",
       "4        0.005600      0.000801         0.003206        0.000399          10   \n",
       "5        0.006196      0.000397         0.003596        0.001203           5   \n",
       "6        0.005800      0.001153         0.002603        0.000504           1   \n",
       "7        0.005202      0.000384         0.002599        0.000798         0.5   \n",
       "8        0.004410      0.000483         0.003178        0.000746         0.1   \n",
       "9        0.004611      0.000488         0.002778        0.000742        0.05   \n",
       "10       0.004600      0.000503         0.003000        0.000624        0.01   \n",
       "11       0.004994      0.000011         0.002417        0.000476       0.005   \n",
       "12       0.005009      0.000630         0.002405        0.000481       0.001   \n",
       "13       0.005203      0.000980         0.002399        0.000488      0.0005   \n",
       "14       0.005199      0.000749         0.002400        0.000490      0.0001   \n",
       "\n",
       "               params  split0_test_score  split1_test_score  \\\n",
       "0     {'alpha': 1000}           0.842407           0.842407   \n",
       "1      {'alpha': 500}           0.842407           0.842407   \n",
       "2      {'alpha': 100}           0.840974           0.842407   \n",
       "3       {'alpha': 50}           0.840974           0.842407   \n",
       "4       {'alpha': 10}           0.840974           0.842407   \n",
       "5        {'alpha': 5}           0.842407           0.843840   \n",
       "6        {'alpha': 1}           0.858166           0.856734   \n",
       "7      {'alpha': 0.5}           0.861032           0.851003   \n",
       "8      {'alpha': 0.1}           0.853868           0.859599   \n",
       "9     {'alpha': 0.05}           0.851003           0.863897   \n",
       "10    {'alpha': 0.01}           0.853868           0.879656   \n",
       "11   {'alpha': 0.005}           0.851003           0.876791   \n",
       "12   {'alpha': 0.001}           0.851003           0.868195   \n",
       "13  {'alpha': 0.0005}           0.848138           0.868195   \n",
       "14  {'alpha': 0.0001}           0.851003           0.862464   \n",
       "\n",
       "    split2_test_score  split3_test_score  split4_test_score  mean_test_score  \\\n",
       "0            0.842407           0.842407           0.842407         0.842407   \n",
       "1            0.842407           0.842407           0.842407         0.842407   \n",
       "2            0.842407           0.842407           0.842407         0.842120   \n",
       "3            0.842407           0.842407           0.842407         0.842120   \n",
       "4            0.843840           0.842407           0.842407         0.842407   \n",
       "5            0.848138           0.845272           0.843840         0.844699   \n",
       "6            0.876791           0.878223           0.869628         0.867908   \n",
       "7            0.873926           0.871060           0.871060         0.865616   \n",
       "8            0.872493           0.866762           0.859599         0.862464   \n",
       "9            0.862464           0.863897           0.863897         0.861032   \n",
       "10           0.866762           0.859599           0.863897         0.864756   \n",
       "11           0.868195           0.858166           0.859599         0.862751   \n",
       "12           0.861032           0.855301           0.853868         0.857880   \n",
       "13           0.856734           0.852436           0.858166         0.856734   \n",
       "14           0.853868           0.852436           0.851003         0.854155   \n",
       "\n",
       "    std_test_score  rank_test_score  \n",
       "0         0.000000               11  \n",
       "1         0.000000               11  \n",
       "2         0.000573               14  \n",
       "3         0.000573               14  \n",
       "4         0.000906               11  \n",
       "5         0.001943               10  \n",
       "6         0.009034                1  \n",
       "7         0.008519                2  \n",
       "8         0.006471                5  \n",
       "9         0.005045                6  \n",
       "10        0.008625                3  \n",
       "11        0.008896                4  \n",
       "12        0.006105                7  \n",
       "13        0.006720                8  \n",
       "14        0.004288                9  "
      ]
     },
     "execution_count": 51,
     "metadata": {},
     "output_type": "execute_result"
    }
   ],
   "source": [
    "df"
   ]
  },
  {
   "cell_type": "code",
   "execution_count": 52,
   "metadata": {},
   "outputs": [
    {
     "data": {
      "image/png": "[encoded data removed]",
      "text/plain": [
       "<Figure size 576x576 with 1 Axes>"
      ]
     },
     "metadata": {},
     "output_type": "display_data"
    }
   ],
   "source": [
    "x= df['param_alpha']\n",
    "y= df['mean_test_score']\n",
    "\n",
    "plt.figure(figsize=(8,8))\n",
    "plt.xlim(-30,1100)\n",
    "plt.ylim(0.8,0.9)\n",
    "plt.xlabel(r\"$\\alpha$\",fontsize=15)\n",
    "plt.ylabel(\"accuracy\")\n",
    "plt.title(r'Accuracy v/s $\\alpha$')\n",
    "plt.plot(x,y,linestyle='dashed', marker='o', markerfacecolor='red', markersize=10)\n",
    "plt.show()"
   ]
  },
  {
   "cell_type": "markdown",
   "metadata": {},
   "source": [
    "### Finding the F1 Score of Test data using optimal alpha"
   ]
  },
  {
   "cell_type": "code",
   "execution_count": 71,
   "metadata": {},
   "outputs": [
    {
     "name": "stdout",
     "output_type": "stream",
     "text": [
      "Accuracy on test set: 87.032%\n",
      "Precision on test set: 0.834\n",
      "Recall on test set: 0.659\n",
      "F1-Score on test set: 0.699\n"
     ]
    },
    {
     "data": {
      "text/plain": [
       "<matplotlib.axes._subplots.AxesSubplot at 0x1e4e4575ac8>"
      ]
     },
     "execution_count": 71,
     "metadata": {},
     "output_type": "execute_result"
    },
    {
     "data": {
      "image/png": "[encoded data removed]",
      "text/plain": [
       "<Figure size 432x288 with 2 Axes>"
      ]
     },
     "metadata": {},
     "output_type": "display_data"
    }
   ],
   "source": [
    "NB = MultinomialNB(1)   # Taking alpha = 1 \n",
    "NB.fit(x_tr_uni,Y_train)\n",
    "\n",
    "y_pred = NB.predict(x_test_uni)\n",
    "\n",
    "print(\"Accuracy on test set: %0.3f%%\"%(accuracy_score(Y_test, y_pred)*100))\n",
    "print(\"Precision on test set: %0.3f\"%(precision_score(Y_test, y_pred,average='macro')))\n",
    "print(\"Recall on test set: %0.3f\"%(recall_score(Y_test, y_pred,average='macro')))\n",
    "print(\"F1-Score on test set: %0.3f\"%(f1_score(Y_test, y_pred,average='macro')))\n",
    "df_cm = pd.DataFrame(confusion_matrix(Y_test, y_pred),index = class_label, columns = class_label)\n",
    "\n",
    "sns.set(font_scale=1.4)\n",
    "sns.heatmap(df_cm, annot=True,annot_kws={\"size\": 16}, fmt='g')"
   ]
  },
  {
   "cell_type": "code",
   "execution_count": null,
   "metadata": {},
   "outputs": [],
   "source": []
  },
  {
   "cell_type": "markdown",
   "metadata": {},
   "source": [
    "### 2. Bag of Words - Bigrams"
   ]
  },
  {
   "cell_type": "code",
   "execution_count": 72,
   "metadata": {},
   "outputs": [],
   "source": [
    "bi_gram = CountVectorizer(ngram_range=(1,2))\n",
    "x_tr_bi = bi_gram.fit_transform(X_train)\n",
    "x_test_bi = bi_gram.transform(X_test)"
   ]
  },
  {
   "cell_type": "markdown",
   "metadata": {},
   "source": [
    "### GridSearch to find optimal value of alpha"
   ]
  },
  {
   "cell_type": "code",
   "execution_count": 73,
   "metadata": {},
   "outputs": [
    {
     "name": "stdout",
     "output_type": "stream",
     "text": [
      "Fitting 5 folds for each of 15 candidates, totalling 75 fits\n",
      "Best HyperParameter:  {'alpha': 1}\n",
      "0.8710601719197708\n"
     ]
    }
   ],
   "source": [
    "NB = MultinomialNB()\n",
    "\n",
    "alpha_value = {'alpha':[1000,500,100,50,10,5,1,0.5,0.1,0.05,0.01,0.005,0.001,0.0005,0.0001]}\n",
    "gsv = GridSearchCV(NB,alpha_value,cv=5,verbose=1,scoring='f1_micro')\n",
    "gsv.fit(x_tr_bi,Y_train)\n",
    "\n",
    "print(\"Best HyperParameter: \",gsv.best_params_)\n",
    "print(gsv.best_score_)\n",
    "optimal_alpha=gsv.best_params_['alpha']"
   ]
  },
  {
   "cell_type": "code",
   "execution_count": null,
   "metadata": {},
   "outputs": [],
   "source": []
  },
  {
   "cell_type": "code",
   "execution_count": 74,
   "metadata": {},
   "outputs": [],
   "source": [
    "df = pd.DataFrame(gsv.cv_results_)"
   ]
  },
  {
   "cell_type": "code",
   "execution_count": 75,
   "metadata": {},
   "outputs": [
    {
     "data": {
      "text/html": [
       "<div>\n",
       "<style scoped>\n",
       "    .dataframe tbody tr th:only-of-type {\n",
       "        vertical-align: middle;\n",
       "    }\n",
       "\n",
       "    .dataframe tbody tr th {\n",
       "        vertical-align: top;\n",
       "    }\n",
       "\n",
       "    .dataframe thead th {\n",
       "        text-align: right;\n",
       "    }\n",
       "</style>\n",
       "<table border=\"1\" class=\"dataframe\">\n",
       "  <thead>\n",
       "    <tr style=\"text-align: right;\">\n",
       "      <th></th>\n",
       "      <th>mean_fit_time</th>\n",
       "      <th>std_fit_time</th>\n",
       "      <th>mean_score_time</th>\n",
       "      <th>std_score_time</th>\n",
       "      <th>param_alpha</th>\n",
       "      <th>params</th>\n",
       "      <th>split0_test_score</th>\n",
       "      <th>split1_test_score</th>\n",
       "      <th>split2_test_score</th>\n",
       "      <th>split3_test_score</th>\n",
       "      <th>split4_test_score</th>\n",
       "      <th>mean_test_score</th>\n",
       "      <th>std_test_score</th>\n",
       "      <th>rank_test_score</th>\n",
       "    </tr>\n",
       "  </thead>\n",
       "  <tbody>\n",
       "    <tr>\n",
       "      <th>0</th>\n",
       "      <td>0.018200</td>\n",
       "      <td>0.002992</td>\n",
       "      <td>0.005004</td>\n",
       "      <td>0.000632</td>\n",
       "      <td>1000</td>\n",
       "      <td>{'alpha': 1000}</td>\n",
       "      <td>0.842407</td>\n",
       "      <td>0.842407</td>\n",
       "      <td>0.842407</td>\n",
       "      <td>0.842407</td>\n",
       "      <td>0.842407</td>\n",
       "      <td>0.842407</td>\n",
       "      <td>0.000000</td>\n",
       "      <td>3</td>\n",
       "    </tr>\n",
       "    <tr>\n",
       "      <th>1</th>\n",
       "      <td>0.015393</td>\n",
       "      <td>0.001859</td>\n",
       "      <td>0.005001</td>\n",
       "      <td>0.001095</td>\n",
       "      <td>500</td>\n",
       "      <td>{'alpha': 500}</td>\n",
       "      <td>0.842407</td>\n",
       "      <td>0.842407</td>\n",
       "      <td>0.842407</td>\n",
       "      <td>0.842407</td>\n",
       "      <td>0.842407</td>\n",
       "      <td>0.842407</td>\n",
       "      <td>0.000000</td>\n",
       "      <td>3</td>\n",
       "    </tr>\n",
       "    <tr>\n",
       "      <th>2</th>\n",
       "      <td>0.020008</td>\n",
       "      <td>0.003264</td>\n",
       "      <td>0.004793</td>\n",
       "      <td>0.000753</td>\n",
       "      <td>100</td>\n",
       "      <td>{'alpha': 100}</td>\n",
       "      <td>0.842407</td>\n",
       "      <td>0.842407</td>\n",
       "      <td>0.842407</td>\n",
       "      <td>0.842407</td>\n",
       "      <td>0.842407</td>\n",
       "      <td>0.842407</td>\n",
       "      <td>0.000000</td>\n",
       "      <td>3</td>\n",
       "    </tr>\n",
       "    <tr>\n",
       "      <th>3</th>\n",
       "      <td>0.017407</td>\n",
       "      <td>0.002503</td>\n",
       "      <td>0.005006</td>\n",
       "      <td>0.000632</td>\n",
       "      <td>50</td>\n",
       "      <td>{'alpha': 50}</td>\n",
       "      <td>0.842407</td>\n",
       "      <td>0.842407</td>\n",
       "      <td>0.842407</td>\n",
       "      <td>0.842407</td>\n",
       "      <td>0.842407</td>\n",
       "      <td>0.842407</td>\n",
       "      <td>0.000000</td>\n",
       "      <td>3</td>\n",
       "    </tr>\n",
       "    <tr>\n",
       "      <th>4</th>\n",
       "      <td>0.016600</td>\n",
       "      <td>0.001204</td>\n",
       "      <td>0.005593</td>\n",
       "      <td>0.000488</td>\n",
       "      <td>10</td>\n",
       "      <td>{'alpha': 10}</td>\n",
       "      <td>0.840974</td>\n",
       "      <td>0.842407</td>\n",
       "      <td>0.842407</td>\n",
       "      <td>0.842407</td>\n",
       "      <td>0.842407</td>\n",
       "      <td>0.842120</td>\n",
       "      <td>0.000573</td>\n",
       "      <td>8</td>\n",
       "    </tr>\n",
       "    <tr>\n",
       "      <th>5</th>\n",
       "      <td>0.015221</td>\n",
       "      <td>0.000987</td>\n",
       "      <td>0.004585</td>\n",
       "      <td>0.000490</td>\n",
       "      <td>5</td>\n",
       "      <td>{'alpha': 5}</td>\n",
       "      <td>0.840974</td>\n",
       "      <td>0.842407</td>\n",
       "      <td>0.843840</td>\n",
       "      <td>0.842407</td>\n",
       "      <td>0.842407</td>\n",
       "      <td>0.842407</td>\n",
       "      <td>0.000906</td>\n",
       "      <td>3</td>\n",
       "    </tr>\n",
       "    <tr>\n",
       "      <th>6</th>\n",
       "      <td>0.014593</td>\n",
       "      <td>0.000798</td>\n",
       "      <td>0.004406</td>\n",
       "      <td>0.000484</td>\n",
       "      <td>1</td>\n",
       "      <td>{'alpha': 1}</td>\n",
       "      <td>0.859599</td>\n",
       "      <td>0.871060</td>\n",
       "      <td>0.873926</td>\n",
       "      <td>0.868195</td>\n",
       "      <td>0.882521</td>\n",
       "      <td>0.871060</td>\n",
       "      <td>0.007472</td>\n",
       "      <td>1</td>\n",
       "    </tr>\n",
       "    <tr>\n",
       "      <th>7</th>\n",
       "      <td>0.013800</td>\n",
       "      <td>0.000400</td>\n",
       "      <td>0.004400</td>\n",
       "      <td>0.000488</td>\n",
       "      <td>0.5</td>\n",
       "      <td>{'alpha': 0.5}</td>\n",
       "      <td>0.812321</td>\n",
       "      <td>0.802292</td>\n",
       "      <td>0.805158</td>\n",
       "      <td>0.812321</td>\n",
       "      <td>0.790831</td>\n",
       "      <td>0.804585</td>\n",
       "      <td>0.007930</td>\n",
       "      <td>11</td>\n",
       "    </tr>\n",
       "    <tr>\n",
       "      <th>8</th>\n",
       "      <td>0.015390</td>\n",
       "      <td>0.002058</td>\n",
       "      <td>0.005787</td>\n",
       "      <td>0.001179</td>\n",
       "      <td>0.1</td>\n",
       "      <td>{'alpha': 0.1}</td>\n",
       "      <td>0.581662</td>\n",
       "      <td>0.573066</td>\n",
       "      <td>0.578797</td>\n",
       "      <td>0.577364</td>\n",
       "      <td>0.551576</td>\n",
       "      <td>0.572493</td>\n",
       "      <td>0.010820</td>\n",
       "      <td>15</td>\n",
       "    </tr>\n",
       "    <tr>\n",
       "      <th>9</th>\n",
       "      <td>0.022598</td>\n",
       "      <td>0.002879</td>\n",
       "      <td>0.007200</td>\n",
       "      <td>0.001327</td>\n",
       "      <td>0.05</td>\n",
       "      <td>{'alpha': 0.05}</td>\n",
       "      <td>0.598854</td>\n",
       "      <td>0.584527</td>\n",
       "      <td>0.597421</td>\n",
       "      <td>0.585960</td>\n",
       "      <td>0.551576</td>\n",
       "      <td>0.583668</td>\n",
       "      <td>0.017063</td>\n",
       "      <td>14</td>\n",
       "    </tr>\n",
       "    <tr>\n",
       "      <th>10</th>\n",
       "      <td>0.016604</td>\n",
       "      <td>0.002237</td>\n",
       "      <td>0.004800</td>\n",
       "      <td>0.000747</td>\n",
       "      <td>0.01</td>\n",
       "      <td>{'alpha': 0.01}</td>\n",
       "      <td>0.717765</td>\n",
       "      <td>0.702006</td>\n",
       "      <td>0.693410</td>\n",
       "      <td>0.714900</td>\n",
       "      <td>0.670487</td>\n",
       "      <td>0.699713</td>\n",
       "      <td>0.017063</td>\n",
       "      <td>13</td>\n",
       "    </tr>\n",
       "    <tr>\n",
       "      <th>11</th>\n",
       "      <td>0.021609</td>\n",
       "      <td>0.003577</td>\n",
       "      <td>0.006602</td>\n",
       "      <td>0.000796</td>\n",
       "      <td>0.005</td>\n",
       "      <td>{'alpha': 0.005}</td>\n",
       "      <td>0.746418</td>\n",
       "      <td>0.753582</td>\n",
       "      <td>0.737822</td>\n",
       "      <td>0.765043</td>\n",
       "      <td>0.737822</td>\n",
       "      <td>0.748138</td>\n",
       "      <td>0.010307</td>\n",
       "      <td>12</td>\n",
       "    </tr>\n",
       "    <tr>\n",
       "      <th>12</th>\n",
       "      <td>0.018804</td>\n",
       "      <td>0.002487</td>\n",
       "      <td>0.005395</td>\n",
       "      <td>0.001018</td>\n",
       "      <td>0.001</td>\n",
       "      <td>{'alpha': 0.001}</td>\n",
       "      <td>0.815186</td>\n",
       "      <td>0.818052</td>\n",
       "      <td>0.813754</td>\n",
       "      <td>0.828080</td>\n",
       "      <td>0.806590</td>\n",
       "      <td>0.816332</td>\n",
       "      <td>0.006983</td>\n",
       "      <td>10</td>\n",
       "    </tr>\n",
       "    <tr>\n",
       "      <th>13</th>\n",
       "      <td>0.015399</td>\n",
       "      <td>0.000801</td>\n",
       "      <td>0.004401</td>\n",
       "      <td>0.000490</td>\n",
       "      <td>0.0005</td>\n",
       "      <td>{'alpha': 0.0005}</td>\n",
       "      <td>0.836676</td>\n",
       "      <td>0.826648</td>\n",
       "      <td>0.829513</td>\n",
       "      <td>0.851003</td>\n",
       "      <td>0.825215</td>\n",
       "      <td>0.833811</td>\n",
       "      <td>0.009460</td>\n",
       "      <td>9</td>\n",
       "    </tr>\n",
       "    <tr>\n",
       "      <th>14</th>\n",
       "      <td>0.016002</td>\n",
       "      <td>0.002097</td>\n",
       "      <td>0.004598</td>\n",
       "      <td>0.000488</td>\n",
       "      <td>0.0001</td>\n",
       "      <td>{'alpha': 0.0001}</td>\n",
       "      <td>0.853868</td>\n",
       "      <td>0.846705</td>\n",
       "      <td>0.849570</td>\n",
       "      <td>0.862464</td>\n",
       "      <td>0.856734</td>\n",
       "      <td>0.853868</td>\n",
       "      <td>0.005512</td>\n",
       "      <td>2</td>\n",
       "    </tr>\n",
       "  </tbody>\n",
       "</table>\n",
       "</div>"
      ],
      "text/plain": [
       "    mean_fit_time  std_fit_time  mean_score_time  std_score_time param_alpha  \\\n",
       "0        0.018200      0.002992         0.005004        0.000632        1000   \n",
       "1        0.015393      0.001859         0.005001        0.001095         500   \n",
       "2        0.020008      0.003264         0.004793        0.000753         100   \n",
       "3        0.017407      0.002503         0.005006        0.000632          50   \n",
       "4        0.016600      0.001204         0.005593        0.000488          10   \n",
       "5        0.015221      0.000987         0.004585        0.000490           5   \n",
       "6        0.014593      0.000798         0.004406        0.000484           1   \n",
       "7        0.013800      0.000400         0.004400        0.000488         0.5   \n",
       "8        0.015390      0.002058         0.005787        0.001179         0.1   \n",
       "9        0.022598      0.002879         0.007200        0.001327        0.05   \n",
       "10       0.016604      0.002237         0.004800        0.000747        0.01   \n",
       "11       0.021609      0.003577         0.006602        0.000796       0.005   \n",
       "12       0.018804      0.002487         0.005395        0.001018       0.001   \n",
       "13       0.015399      0.000801         0.004401        0.000490      0.0005   \n",
       "14       0.016002      0.002097         0.004598        0.000488      0.0001   \n",
       "\n",
       "               params  split0_test_score  split1_test_score  \\\n",
       "0     {'alpha': 1000}           0.842407           0.842407   \n",
       "1      {'alpha': 500}           0.842407           0.842407   \n",
       "2      {'alpha': 100}           0.842407           0.842407   \n",
       "3       {'alpha': 50}           0.842407           0.842407   \n",
       "4       {'alpha': 10}           0.840974           0.842407   \n",
       "5        {'alpha': 5}           0.840974           0.842407   \n",
       "6        {'alpha': 1}           0.859599           0.871060   \n",
       "7      {'alpha': 0.5}           0.812321           0.802292   \n",
       "8      {'alpha': 0.1}           0.581662           0.573066   \n",
       "9     {'alpha': 0.05}           0.598854           0.584527   \n",
       "10    {'alpha': 0.01}           0.717765           0.702006   \n",
       "11   {'alpha': 0.005}           0.746418           0.753582   \n",
       "12   {'alpha': 0.001}           0.815186           0.818052   \n",
       "13  {'alpha': 0.0005}           0.836676           0.826648   \n",
       "14  {'alpha': 0.0001}           0.853868           0.846705   \n",
       "\n",
       "    split2_test_score  split3_test_score  split4_test_score  mean_test_score  \\\n",
       "0            0.842407           0.842407           0.842407         0.842407   \n",
       "1            0.842407           0.842407           0.842407         0.842407   \n",
       "2            0.842407           0.842407           0.842407         0.842407   \n",
       "3            0.842407           0.842407           0.842407         0.842407   \n",
       "4            0.842407           0.842407           0.842407         0.842120   \n",
       "5            0.843840           0.842407           0.842407         0.842407   \n",
       "6            0.873926           0.868195           0.882521         0.871060   \n",
       "7            0.805158           0.812321           0.790831         0.804585   \n",
       "8            0.578797           0.577364           0.551576         0.572493   \n",
       "9            0.597421           0.585960           0.551576         0.583668   \n",
       "10           0.693410           0.714900           0.670487         0.699713   \n",
       "11           0.737822           0.765043           0.737822         0.748138   \n",
       "12           0.813754           0.828080           0.806590         0.816332   \n",
       "13           0.829513           0.851003           0.825215         0.833811   \n",
       "14           0.849570           0.862464           0.856734         0.853868   \n",
       "\n",
       "    std_test_score  rank_test_score  \n",
       "0         0.000000                3  \n",
       "1         0.000000                3  \n",
       "2         0.000000                3  \n",
       "3         0.000000                3  \n",
       "4         0.000573                8  \n",
       "5         0.000906                3  \n",
       "6         0.007472                1  \n",
       "7         0.007930               11  \n",
       "8         0.010820               15  \n",
       "9         0.017063               14  \n",
       "10        0.017063               13  \n",
       "11        0.010307               12  \n",
       "12        0.006983               10  \n",
       "13        0.009460                9  \n",
       "14        0.005512                2  "
      ]
     },
     "execution_count": 75,
     "metadata": {},
     "output_type": "execute_result"
    }
   ],
   "source": [
    "df"
   ]
  },
  {
   "cell_type": "code",
   "execution_count": 76,
   "metadata": {},
   "outputs": [
    {
     "data": {
      "image/png": "[encoded data removed]",
      "text/plain": [
       "<Figure size 576x576 with 1 Axes>"
      ]
     },
     "metadata": {},
     "output_type": "display_data"
    }
   ],
   "source": [
    "x= df['param_alpha']\n",
    "y= df['mean_test_score']\n",
    "\n",
    "plt.figure(figsize=(8,8))\n",
    "plt.xlim(-30,1100)\n",
    "plt.ylim(0.8,0.9)\n",
    "plt.xlabel(r\"$\\alpha$\",fontsize=15)\n",
    "plt.ylabel(\"accuracy\")\n",
    "plt.title(r'Accuracy v/s $\\alpha$')\n",
    "plt.plot(x,y,linestyle='dashed', marker='o', markerfacecolor='red', markersize=10)\n",
    "plt.show()"
   ]
  },
  {
   "cell_type": "code",
   "execution_count": null,
   "metadata": {},
   "outputs": [],
   "source": []
  },
  {
   "cell_type": "markdown",
   "metadata": {},
   "source": [
    "### Finding the F1 Score of Test data using optimal alpha"
   ]
  },
  {
   "cell_type": "code",
   "execution_count": 77,
   "metadata": {},
   "outputs": [
    {
     "name": "stdout",
     "output_type": "stream",
     "text": [
      "Accuracy on test set: 87.032%\n",
      "Precision on test set: 0.834\n",
      "Recall on test set: 0.659\n",
      "F1-Score on test set: 0.699\n"
     ]
    },
    {
     "data": {
      "text/plain": [
       "<matplotlib.axes._subplots.AxesSubplot at 0x1e4e4bbc748>"
      ]
     },
     "execution_count": 77,
     "metadata": {},
     "output_type": "execute_result"
    },
    {
     "data": {
      "image/png": "[encoded data removed]",
      "text/plain": [
       "<Figure size 432x288 with 2 Axes>"
      ]
     },
     "metadata": {},
     "output_type": "display_data"
    }
   ],
   "source": [
    "NB = MultinomialNB(1)   # Taking alpha = 1 \n",
    "NB.fit(x_tr_uni,Y_train)\n",
    "\n",
    "y_pred = NB.predict(x_test_uni)\n",
    "\n",
    "print(\"Accuracy on test set: %0.3f%%\"%(accuracy_score(Y_test, y_pred)*100))\n",
    "print(\"Precision on test set: %0.3f\"%(precision_score(Y_test, y_pred,average='macro')))\n",
    "print(\"Recall on test set: %0.3f\"%(recall_score(Y_test, y_pred,average='macro')))\n",
    "print(\"F1-Score on test set: %0.3f\"%(f1_score(Y_test, y_pred,average='macro')))\n",
    "df_cm = pd.DataFrame(confusion_matrix(Y_test, y_pred),index = class_label, columns = class_label)\n",
    "\n",
    "sns.set(font_scale=1.4)\n",
    "sns.heatmap(df_cm, annot=True,annot_kws={\"size\": 16}, fmt='g')"
   ]
  },
  {
   "cell_type": "code",
   "execution_count": null,
   "metadata": {},
   "outputs": [],
   "source": []
  },
  {
   "cell_type": "markdown",
   "metadata": {},
   "source": [
    "### 3. TF-IDF"
   ]
  },
  {
   "cell_type": "code",
   "execution_count": 107,
   "metadata": {},
   "outputs": [],
   "source": [
    "tf_idf_vect  = TfidfVectorizer()\n",
    "x_tr_tfidf   = tf_idf_vect.fit_transform(X_train)\n",
    "x_test_tfidf = tf_idf_vect.transform(X_test)"
   ]
  },
  {
   "cell_type": "markdown",
   "metadata": {},
   "source": [
    "### GridSearch to find optimal value of alpha"
   ]
  },
  {
   "cell_type": "code",
   "execution_count": 108,
   "metadata": {
    "scrolled": true
   },
   "outputs": [
    {
     "name": "stdout",
     "output_type": "stream",
     "text": [
      "Fitting 5 folds for each of 15 candidates, totalling 75 fits\n",
      "Best HyperParameter:  {'alpha': 0.01}\n",
      "0.8650429799426934\n"
     ]
    }
   ],
   "source": [
    "NB = MultinomialNB()\n",
    "\n",
    "alpha_value = {'alpha':[1000,500,100,50,10,5,1,0.5,0.1,0.05,0.01,0.005,0.001,0.0005,0.0001]}\n",
    "gsv = GridSearchCV(NB,alpha_value,cv=5,verbose=1,scoring='f1_micro')\n",
    "gsv.fit(x_tr_tfidf,Y_train)\n",
    "\n",
    "print(\"Best HyperParameter: \",gsv.best_params_)\n",
    "print(gsv.best_score_)\n",
    "optimal_alpha=gsv.best_params_['alpha']"
   ]
  },
  {
   "cell_type": "code",
   "execution_count": null,
   "metadata": {},
   "outputs": [],
   "source": []
  },
  {
   "cell_type": "code",
   "execution_count": 109,
   "metadata": {},
   "outputs": [],
   "source": [
    "df = pd.DataFrame(gsv.cv_results_)"
   ]
  },
  {
   "cell_type": "code",
   "execution_count": 110,
   "metadata": {},
   "outputs": [
    {
     "data": {
      "text/html": [
       "<div>\n",
       "<style scoped>\n",
       "    .dataframe tbody tr th:only-of-type {\n",
       "        vertical-align: middle;\n",
       "    }\n",
       "\n",
       "    .dataframe tbody tr th {\n",
       "        vertical-align: top;\n",
       "    }\n",
       "\n",
       "    .dataframe thead th {\n",
       "        text-align: right;\n",
       "    }\n",
       "</style>\n",
       "<table border=\"1\" class=\"dataframe\">\n",
       "  <thead>\n",
       "    <tr style=\"text-align: right;\">\n",
       "      <th></th>\n",
       "      <th>mean_fit_time</th>\n",
       "      <th>std_fit_time</th>\n",
       "      <th>mean_score_time</th>\n",
       "      <th>std_score_time</th>\n",
       "      <th>param_alpha</th>\n",
       "      <th>params</th>\n",
       "      <th>split0_test_score</th>\n",
       "      <th>split1_test_score</th>\n",
       "      <th>split2_test_score</th>\n",
       "      <th>split3_test_score</th>\n",
       "      <th>split4_test_score</th>\n",
       "      <th>mean_test_score</th>\n",
       "      <th>std_test_score</th>\n",
       "      <th>rank_test_score</th>\n",
       "    </tr>\n",
       "  </thead>\n",
       "  <tbody>\n",
       "    <tr>\n",
       "      <th>0</th>\n",
       "      <td>0.006999</td>\n",
       "      <td>0.000893</td>\n",
       "      <td>0.002400</td>\n",
       "      <td>0.000491</td>\n",
       "      <td>1000</td>\n",
       "      <td>{'alpha': 1000}</td>\n",
       "      <td>0.842407</td>\n",
       "      <td>0.842407</td>\n",
       "      <td>0.842407</td>\n",
       "      <td>0.842407</td>\n",
       "      <td>0.842407</td>\n",
       "      <td>0.842407</td>\n",
       "      <td>0.000000</td>\n",
       "      <td>8</td>\n",
       "    </tr>\n",
       "    <tr>\n",
       "      <th>1</th>\n",
       "      <td>0.007809</td>\n",
       "      <td>0.001331</td>\n",
       "      <td>0.004000</td>\n",
       "      <td>0.000635</td>\n",
       "      <td>500</td>\n",
       "      <td>{'alpha': 500}</td>\n",
       "      <td>0.842407</td>\n",
       "      <td>0.842407</td>\n",
       "      <td>0.842407</td>\n",
       "      <td>0.842407</td>\n",
       "      <td>0.842407</td>\n",
       "      <td>0.842407</td>\n",
       "      <td>0.000000</td>\n",
       "      <td>8</td>\n",
       "    </tr>\n",
       "    <tr>\n",
       "      <th>2</th>\n",
       "      <td>0.004801</td>\n",
       "      <td>0.000400</td>\n",
       "      <td>0.002399</td>\n",
       "      <td>0.000491</td>\n",
       "      <td>100</td>\n",
       "      <td>{'alpha': 100}</td>\n",
       "      <td>0.842407</td>\n",
       "      <td>0.842407</td>\n",
       "      <td>0.842407</td>\n",
       "      <td>0.842407</td>\n",
       "      <td>0.842407</td>\n",
       "      <td>0.842407</td>\n",
       "      <td>0.000000</td>\n",
       "      <td>8</td>\n",
       "    </tr>\n",
       "    <tr>\n",
       "      <th>3</th>\n",
       "      <td>0.005001</td>\n",
       "      <td>0.000632</td>\n",
       "      <td>0.002200</td>\n",
       "      <td>0.000401</td>\n",
       "      <td>50</td>\n",
       "      <td>{'alpha': 50}</td>\n",
       "      <td>0.842407</td>\n",
       "      <td>0.842407</td>\n",
       "      <td>0.842407</td>\n",
       "      <td>0.842407</td>\n",
       "      <td>0.842407</td>\n",
       "      <td>0.842407</td>\n",
       "      <td>0.000000</td>\n",
       "      <td>8</td>\n",
       "    </tr>\n",
       "    <tr>\n",
       "      <th>4</th>\n",
       "      <td>0.006199</td>\n",
       "      <td>0.001166</td>\n",
       "      <td>0.003202</td>\n",
       "      <td>0.000750</td>\n",
       "      <td>10</td>\n",
       "      <td>{'alpha': 10}</td>\n",
       "      <td>0.842407</td>\n",
       "      <td>0.842407</td>\n",
       "      <td>0.842407</td>\n",
       "      <td>0.842407</td>\n",
       "      <td>0.842407</td>\n",
       "      <td>0.842407</td>\n",
       "      <td>0.000000</td>\n",
       "      <td>8</td>\n",
       "    </tr>\n",
       "    <tr>\n",
       "      <th>5</th>\n",
       "      <td>0.004999</td>\n",
       "      <td>0.000004</td>\n",
       "      <td>0.003200</td>\n",
       "      <td>0.000399</td>\n",
       "      <td>5</td>\n",
       "      <td>{'alpha': 5}</td>\n",
       "      <td>0.842407</td>\n",
       "      <td>0.842407</td>\n",
       "      <td>0.842407</td>\n",
       "      <td>0.842407</td>\n",
       "      <td>0.842407</td>\n",
       "      <td>0.842407</td>\n",
       "      <td>0.000000</td>\n",
       "      <td>8</td>\n",
       "    </tr>\n",
       "    <tr>\n",
       "      <th>6</th>\n",
       "      <td>0.005396</td>\n",
       "      <td>0.000791</td>\n",
       "      <td>0.002603</td>\n",
       "      <td>0.000494</td>\n",
       "      <td>1</td>\n",
       "      <td>{'alpha': 1}</td>\n",
       "      <td>0.840974</td>\n",
       "      <td>0.842407</td>\n",
       "      <td>0.842407</td>\n",
       "      <td>0.842407</td>\n",
       "      <td>0.842407</td>\n",
       "      <td>0.842120</td>\n",
       "      <td>0.000573</td>\n",
       "      <td>15</td>\n",
       "    </tr>\n",
       "    <tr>\n",
       "      <th>7</th>\n",
       "      <td>0.006201</td>\n",
       "      <td>0.000979</td>\n",
       "      <td>0.003402</td>\n",
       "      <td>0.001016</td>\n",
       "      <td>0.5</td>\n",
       "      <td>{'alpha': 0.5}</td>\n",
       "      <td>0.842407</td>\n",
       "      <td>0.842407</td>\n",
       "      <td>0.843840</td>\n",
       "      <td>0.840974</td>\n",
       "      <td>0.842407</td>\n",
       "      <td>0.842407</td>\n",
       "      <td>0.000906</td>\n",
       "      <td>8</td>\n",
       "    </tr>\n",
       "    <tr>\n",
       "      <th>8</th>\n",
       "      <td>0.006797</td>\n",
       "      <td>0.001469</td>\n",
       "      <td>0.003801</td>\n",
       "      <td>0.001166</td>\n",
       "      <td>0.1</td>\n",
       "      <td>{'alpha': 0.1}</td>\n",
       "      <td>0.848138</td>\n",
       "      <td>0.849570</td>\n",
       "      <td>0.865330</td>\n",
       "      <td>0.866762</td>\n",
       "      <td>0.869628</td>\n",
       "      <td>0.859885</td>\n",
       "      <td>0.009124</td>\n",
       "      <td>4</td>\n",
       "    </tr>\n",
       "    <tr>\n",
       "      <th>9</th>\n",
       "      <td>0.005404</td>\n",
       "      <td>0.000490</td>\n",
       "      <td>0.002997</td>\n",
       "      <td>0.000636</td>\n",
       "      <td>0.05</td>\n",
       "      <td>{'alpha': 0.05}</td>\n",
       "      <td>0.855301</td>\n",
       "      <td>0.856734</td>\n",
       "      <td>0.872493</td>\n",
       "      <td>0.869628</td>\n",
       "      <td>0.865330</td>\n",
       "      <td>0.863897</td>\n",
       "      <td>0.006841</td>\n",
       "      <td>2</td>\n",
       "    </tr>\n",
       "    <tr>\n",
       "      <th>10</th>\n",
       "      <td>0.005801</td>\n",
       "      <td>0.000749</td>\n",
       "      <td>0.003000</td>\n",
       "      <td>0.000633</td>\n",
       "      <td>0.01</td>\n",
       "      <td>{'alpha': 0.01}</td>\n",
       "      <td>0.855301</td>\n",
       "      <td>0.866762</td>\n",
       "      <td>0.873926</td>\n",
       "      <td>0.862464</td>\n",
       "      <td>0.866762</td>\n",
       "      <td>0.865043</td>\n",
       "      <td>0.006105</td>\n",
       "      <td>1</td>\n",
       "    </tr>\n",
       "    <tr>\n",
       "      <th>11</th>\n",
       "      <td>0.006202</td>\n",
       "      <td>0.000980</td>\n",
       "      <td>0.003198</td>\n",
       "      <td>0.000978</td>\n",
       "      <td>0.005</td>\n",
       "      <td>{'alpha': 0.005}</td>\n",
       "      <td>0.856734</td>\n",
       "      <td>0.862464</td>\n",
       "      <td>0.869628</td>\n",
       "      <td>0.863897</td>\n",
       "      <td>0.862464</td>\n",
       "      <td>0.863037</td>\n",
       "      <td>0.004113</td>\n",
       "      <td>3</td>\n",
       "    </tr>\n",
       "    <tr>\n",
       "      <th>12</th>\n",
       "      <td>0.005198</td>\n",
       "      <td>0.000400</td>\n",
       "      <td>0.003000</td>\n",
       "      <td>0.000633</td>\n",
       "      <td>0.001</td>\n",
       "      <td>{'alpha': 0.001}</td>\n",
       "      <td>0.848138</td>\n",
       "      <td>0.861032</td>\n",
       "      <td>0.866762</td>\n",
       "      <td>0.858166</td>\n",
       "      <td>0.859599</td>\n",
       "      <td>0.858739</td>\n",
       "      <td>0.006051</td>\n",
       "      <td>5</td>\n",
       "    </tr>\n",
       "    <tr>\n",
       "      <th>13</th>\n",
       "      <td>0.005600</td>\n",
       "      <td>0.000491</td>\n",
       "      <td>0.002802</td>\n",
       "      <td>0.000405</td>\n",
       "      <td>0.0005</td>\n",
       "      <td>{'alpha': 0.0005}</td>\n",
       "      <td>0.846705</td>\n",
       "      <td>0.859599</td>\n",
       "      <td>0.861032</td>\n",
       "      <td>0.853868</td>\n",
       "      <td>0.858166</td>\n",
       "      <td>0.855874</td>\n",
       "      <td>0.005173</td>\n",
       "      <td>6</td>\n",
       "    </tr>\n",
       "    <tr>\n",
       "      <th>14</th>\n",
       "      <td>0.008198</td>\n",
       "      <td>0.001600</td>\n",
       "      <td>0.003802</td>\n",
       "      <td>0.000977</td>\n",
       "      <td>0.0001</td>\n",
       "      <td>{'alpha': 0.0001}</td>\n",
       "      <td>0.845272</td>\n",
       "      <td>0.853868</td>\n",
       "      <td>0.851003</td>\n",
       "      <td>0.842407</td>\n",
       "      <td>0.851003</td>\n",
       "      <td>0.848711</td>\n",
       "      <td>0.004211</td>\n",
       "      <td>7</td>\n",
       "    </tr>\n",
       "  </tbody>\n",
       "</table>\n",
       "</div>"
      ],
      "text/plain": [
       "    mean_fit_time  std_fit_time  mean_score_time  std_score_time param_alpha  \\\n",
       "0        0.006999      0.000893         0.002400        0.000491        1000   \n",
       "1        0.007809      0.001331         0.004000        0.000635         500   \n",
       "2        0.004801      0.000400         0.002399        0.000491         100   \n",
       "3        0.005001      0.000632         0.002200        0.000401          50   \n",
       "4        0.006199      0.001166         0.003202        0.000750          10   \n",
       "5        0.004999      0.000004         0.003200        0.000399           5   \n",
       "6        0.005396      0.000791         0.002603        0.000494           1   \n",
       "7        0.006201      0.000979         0.003402        0.001016         0.5   \n",
       "8        0.006797      0.001469         0.003801        0.001166         0.1   \n",
       "9        0.005404      0.000490         0.002997        0.000636        0.05   \n",
       "10       0.005801      0.000749         0.003000        0.000633        0.01   \n",
       "11       0.006202      0.000980         0.003198        0.000978       0.005   \n",
       "12       0.005198      0.000400         0.003000        0.000633       0.001   \n",
       "13       0.005600      0.000491         0.002802        0.000405      0.0005   \n",
       "14       0.008198      0.001600         0.003802        0.000977      0.0001   \n",
       "\n",
       "               params  split0_test_score  split1_test_score  \\\n",
       "0     {'alpha': 1000}           0.842407           0.842407   \n",
       "1      {'alpha': 500}           0.842407           0.842407   \n",
       "2      {'alpha': 100}           0.842407           0.842407   \n",
       "3       {'alpha': 50}           0.842407           0.842407   \n",
       "4       {'alpha': 10}           0.842407           0.842407   \n",
       "5        {'alpha': 5}           0.842407           0.842407   \n",
       "6        {'alpha': 1}           0.840974           0.842407   \n",
       "7      {'alpha': 0.5}           0.842407           0.842407   \n",
       "8      {'alpha': 0.1}           0.848138           0.849570   \n",
       "9     {'alpha': 0.05}           0.855301           0.856734   \n",
       "10    {'alpha': 0.01}           0.855301           0.866762   \n",
       "11   {'alpha': 0.005}           0.856734           0.862464   \n",
       "12   {'alpha': 0.001}           0.848138           0.861032   \n",
       "13  {'alpha': 0.0005}           0.846705           0.859599   \n",
       "14  {'alpha': 0.0001}           0.845272           0.853868   \n",
       "\n",
       "    split2_test_score  split3_test_score  split4_test_score  mean_test_score  \\\n",
       "0            0.842407           0.842407           0.842407         0.842407   \n",
       "1            0.842407           0.842407           0.842407         0.842407   \n",
       "2            0.842407           0.842407           0.842407         0.842407   \n",
       "3            0.842407           0.842407           0.842407         0.842407   \n",
       "4            0.842407           0.842407           0.842407         0.842407   \n",
       "5            0.842407           0.842407           0.842407         0.842407   \n",
       "6            0.842407           0.842407           0.842407         0.842120   \n",
       "7            0.843840           0.840974           0.842407         0.842407   \n",
       "8            0.865330           0.866762           0.869628         0.859885   \n",
       "9            0.872493           0.869628           0.865330         0.863897   \n",
       "10           0.873926           0.862464           0.866762         0.865043   \n",
       "11           0.869628           0.863897           0.862464         0.863037   \n",
       "12           0.866762           0.858166           0.859599         0.858739   \n",
       "13           0.861032           0.853868           0.858166         0.855874   \n",
       "14           0.851003           0.842407           0.851003         0.848711   \n",
       "\n",
       "    std_test_score  rank_test_score  \n",
       "0         0.000000                8  \n",
       "1         0.000000                8  \n",
       "2         0.000000                8  \n",
       "3         0.000000                8  \n",
       "4         0.000000                8  \n",
       "5         0.000000                8  \n",
       "6         0.000573               15  \n",
       "7         0.000906                8  \n",
       "8         0.009124                4  \n",
       "9         0.006841                2  \n",
       "10        0.006105                1  \n",
       "11        0.004113                3  \n",
       "12        0.006051                5  \n",
       "13        0.005173                6  \n",
       "14        0.004211                7  "
      ]
     },
     "execution_count": 110,
     "metadata": {},
     "output_type": "execute_result"
    }
   ],
   "source": [
    "df"
   ]
  },
  {
   "cell_type": "code",
   "execution_count": null,
   "metadata": {},
   "outputs": [],
   "source": []
  },
  {
   "cell_type": "code",
   "execution_count": 111,
   "metadata": {},
   "outputs": [
    {
     "data": {
      "image/png": "[encoded data removed]",
      "text/plain": [
       "<Figure size 576x576 with 1 Axes>"
      ]
     },
     "metadata": {},
     "output_type": "display_data"
    }
   ],
   "source": [
    "x= df['param_alpha']\n",
    "y= df['mean_test_score']\n",
    "\n",
    "plt.figure(figsize=(8,8))\n",
    "plt.xlim(-30,1100)\n",
    "plt.ylim(0.8,0.9)\n",
    "plt.xlabel(r\"$\\alpha$\",fontsize=15)\n",
    "plt.ylabel(\"accuracy\")\n",
    "plt.title(r'Accuracy v/s $\\alpha$')\n",
    "plt.plot(x,y,linestyle='dashed', marker='o', markerfacecolor='red', markersize=10)\n",
    "plt.show()"
   ]
  },
  {
   "cell_type": "markdown",
   "metadata": {},
   "source": [
    "### Finding the F1 Score of Test data using optimal alpha"
   ]
  },
  {
   "cell_type": "code",
   "execution_count": 113,
   "metadata": {},
   "outputs": [
    {
     "name": "stdout",
     "output_type": "stream",
     "text": [
      "Accuracy on test set: 86.765%\n",
      "Precision on test set: 0.791\n",
      "Recall on test set: 0.688\n",
      "F1-Score on test set: 0.721\n"
     ]
    },
    {
     "data": {
      "text/plain": [
       "<matplotlib.axes._subplots.AxesSubplot at 0x1e4e7c10470>"
      ]
     },
     "execution_count": 113,
     "metadata": {},
     "output_type": "execute_result"
    },
    {
     "data": {
      "image/png": "[encoded data removed]",
      "text/plain": [
       "<Figure size 432x288 with 2 Axes>"
      ]
     },
     "metadata": {},
     "output_type": "display_data"
    }
   ],
   "source": [
    "NB = MultinomialNB(0.01)\n",
    "NB.fit(x_tr_uni,Y_train)\n",
    "\n",
    "y_pred = NB.predict(x_test_uni)\n",
    "\n",
    "print(\"Accuracy on test set: %0.3f%%\"%(accuracy_score(Y_test, y_pred)*100))\n",
    "print(\"Precision on test set: %0.3f\"%(precision_score(Y_test, y_pred,average='macro')))\n",
    "print(\"Recall on test set: %0.3f\"%(recall_score(Y_test, y_pred,average='macro')))\n",
    "print(\"F1-Score on test set: %0.3f\"%(f1_score(Y_test, y_pred,average='macro')))\n",
    "df_cm = pd.DataFrame(confusion_matrix(Y_test, y_pred),index = class_label, columns = class_label)\n",
    "\n",
    "sns.set(font_scale=1.4)\n",
    "sns.heatmap(df_cm, annot=True,annot_kws={\"size\": 16}, fmt='g')"
   ]
  },
  {
   "cell_type": "code",
   "execution_count": null,
   "metadata": {},
   "outputs": [],
   "source": []
  },
  {
   "cell_type": "code",
   "execution_count": 84,
   "metadata": {},
   "outputs": [],
   "source": [
    "from prettytable import PrettyTable"
   ]
  },
  {
   "cell_type": "code",
   "execution_count": 114,
   "metadata": {},
   "outputs": [
    {
     "name": "stdout",
     "output_type": "stream",
     "text": [
      "+---------+-------------------------+--------------+---------------+\n",
      "|  Model  | Optimal hyper parameter | F1score test | accuracy Test |\n",
      "+---------+-------------------------+--------------+---------------+\n",
      "| Unigram |            1            |    0.699     |     87.032    |\n",
      "|  Bigram |            1            |    0.699     |     87.032    |\n",
      "|  Tfidf  |           0.01          |    0.721     |     86.765    |\n",
      "+---------+-------------------------+--------------+---------------+\n"
     ]
    }
   ],
   "source": [
    "z = PrettyTable()\n",
    "z.field_names = [\"Model\",\"Optimal hyper parameter\",\"F1score test\",\"accuracy Test\"]\n",
    "z.add_row([\"Unigram\",1,0.699,87.032])\n",
    "z.add_row([\"Bigram\",1,0.699,87.032])\n",
    "z.add_row([\"Tfidf\",0.01,0.721,86.765])\n",
    "print(z)"
   ]
  },
  {
   "cell_type": "code",
   "execution_count": null,
   "metadata": {},
   "outputs": [],
   "source": []
  }
 ],
 "metadata": {
  "kernelspec": {
   "display_name": "Python 3",
   "language": "python",
   "name": "python3"
  },
  "language_info": {
   "codemirror_mode": {
    "name": "ipython",
    "version": 3
   },
   "file_extension": ".py",
   "mimetype": "text/x-python",
   "name": "python",
   "nbconvert_exporter": "python",
   "pygments_lexer": "ipython3",
   "version": "3.7.3"
  }
 },
 "nbformat": 4,
 "nbformat_minor": 2
}
