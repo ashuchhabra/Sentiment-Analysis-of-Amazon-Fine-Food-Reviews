{
 "cells": [
  {
   "cell_type": "markdown",
   "metadata": {},
   "source": [
    "## Sentiment Analysis of Amazon Fine Food Reviews using Logistic Regression (L2)"
   ]
  },
  {
   "cell_type": "markdown",
   "metadata": {},
   "source": [
    "## Importing Libraries"
   ]
  },
  {
   "cell_type": "code",
   "execution_count": 1,
   "metadata": {
    "scrolled": true
   },
   "outputs": [
    {
     "name": "stderr",
     "output_type": "stream",
     "text": [
      "C:\\Users\\hp\\Anaconda3\\lib\\site-packages\\statsmodels\\tools\\_testing.py:19: FutureWarning: pandas.util.testing is deprecated. Use the functions in the public API at pandas.testing instead.\n",
      "  import pandas.util.testing as tm\n"
     ]
    }
   ],
   "source": [
    "import pandas as pd\n",
    "import numpy as np\n",
    "import sqlite3\n",
    "import seaborn as sns\n",
    "\n",
    "from sklearn.linear_model import LogisticRegression\n",
    "from sklearn.model_selection import GridSearchCV\n",
    "from sklearn.model_selection import RandomizedSearchCV\n",
    "import matplotlib.pyplot as plt\n",
    "\n",
    "import random\n",
    "from scipy.stats import uniform\n",
    "\n",
    "from sklearn.feature_extraction.text import TfidfTransformer\n",
    "from sklearn.feature_extraction.text import TfidfVectorizer"
   ]
  },
  {
   "cell_type": "code",
   "execution_count": 2,
   "metadata": {},
   "outputs": [],
   "source": [
    "con = sqlite3.connect('database.sqlite')"
   ]
  },
  {
   "cell_type": "code",
   "execution_count": 3,
   "metadata": {},
   "outputs": [],
   "source": [
    "filtered_data=pd.read_sql_query(\"\"\"Select * FROM Reviews WHERE Score !=3 LIMIT 5000 \"\"\",con)"
   ]
  },
  {
   "cell_type": "code",
   "execution_count": 4,
   "metadata": {},
   "outputs": [
    {
     "data": {
      "text/html": [
       "<div>\n",
       "<style scoped>\n",
       "    .dataframe tbody tr th:only-of-type {\n",
       "        vertical-align: middle;\n",
       "    }\n",
       "\n",
       "    .dataframe tbody tr th {\n",
       "        vertical-align: top;\n",
       "    }\n",
       "\n",
       "    .dataframe thead th {\n",
       "        text-align: right;\n",
       "    }\n",
       "</style>\n",
       "<table border=\"1\" class=\"dataframe\">\n",
       "  <thead>\n",
       "    <tr style=\"text-align: right;\">\n",
       "      <th></th>\n",
       "      <th>Id</th>\n",
       "      <th>ProductId</th>\n",
       "      <th>UserId</th>\n",
       "      <th>ProfileName</th>\n",
       "      <th>HelpfulnessNumerator</th>\n",
       "      <th>HelpfulnessDenominator</th>\n",
       "      <th>Score</th>\n",
       "      <th>Time</th>\n",
       "      <th>Summary</th>\n",
       "      <th>Text</th>\n",
       "    </tr>\n",
       "  </thead>\n",
       "  <tbody>\n",
       "    <tr>\n",
       "      <th>0</th>\n",
       "      <td>1</td>\n",
       "      <td>B001E4KFG0</td>\n",
       "      <td>A3SGXH7AUHU8GW</td>\n",
       "      <td>delmartian</td>\n",
       "      <td>1</td>\n",
       "      <td>1</td>\n",
       "      <td>5</td>\n",
       "      <td>1303862400</td>\n",
       "      <td>Good Quality Dog Food</td>\n",
       "      <td>I have bought several of the Vitality canned d...</td>\n",
       "    </tr>\n",
       "    <tr>\n",
       "      <th>1</th>\n",
       "      <td>2</td>\n",
       "      <td>B00813GRG4</td>\n",
       "      <td>A1D87F6ZCVE5NK</td>\n",
       "      <td>dll pa</td>\n",
       "      <td>0</td>\n",
       "      <td>0</td>\n",
       "      <td>1</td>\n",
       "      <td>1346976000</td>\n",
       "      <td>Not as Advertised</td>\n",
       "      <td>Product arrived labeled as Jumbo Salted Peanut...</td>\n",
       "    </tr>\n",
       "    <tr>\n",
       "      <th>2</th>\n",
       "      <td>3</td>\n",
       "      <td>B000LQOCH0</td>\n",
       "      <td>ABXLMWJIXXAIN</td>\n",
       "      <td>Natalia Corres \"Natalia Corres\"</td>\n",
       "      <td>1</td>\n",
       "      <td>1</td>\n",
       "      <td>4</td>\n",
       "      <td>1219017600</td>\n",
       "      <td>\"Delight\" says it all</td>\n",
       "      <td>This is a confection that has been around a fe...</td>\n",
       "    </tr>\n",
       "    <tr>\n",
       "      <th>3</th>\n",
       "      <td>4</td>\n",
       "      <td>B000UA0QIQ</td>\n",
       "      <td>A395BORC6FGVXV</td>\n",
       "      <td>Karl</td>\n",
       "      <td>3</td>\n",
       "      <td>3</td>\n",
       "      <td>2</td>\n",
       "      <td>1307923200</td>\n",
       "      <td>Cough Medicine</td>\n",
       "      <td>If you are looking for the secret ingredient i...</td>\n",
       "    </tr>\n",
       "    <tr>\n",
       "      <th>4</th>\n",
       "      <td>5</td>\n",
       "      <td>B006K2ZZ7K</td>\n",
       "      <td>A1UQRSCLF8GW1T</td>\n",
       "      <td>Michael D. Bigham \"M. Wassir\"</td>\n",
       "      <td>0</td>\n",
       "      <td>0</td>\n",
       "      <td>5</td>\n",
       "      <td>1350777600</td>\n",
       "      <td>Great taffy</td>\n",
       "      <td>Great taffy at a great price.  There was a wid...</td>\n",
       "    </tr>\n",
       "  </tbody>\n",
       "</table>\n",
       "</div>"
      ],
      "text/plain": [
       "   Id   ProductId          UserId                      ProfileName  \\\n",
       "0   1  B001E4KFG0  A3SGXH7AUHU8GW                       delmartian   \n",
       "1   2  B00813GRG4  A1D87F6ZCVE5NK                           dll pa   \n",
       "2   3  B000LQOCH0   ABXLMWJIXXAIN  Natalia Corres \"Natalia Corres\"   \n",
       "3   4  B000UA0QIQ  A395BORC6FGVXV                             Karl   \n",
       "4   5  B006K2ZZ7K  A1UQRSCLF8GW1T    Michael D. Bigham \"M. Wassir\"   \n",
       "\n",
       "   HelpfulnessNumerator  HelpfulnessDenominator  Score        Time  \\\n",
       "0                     1                       1      5  1303862400   \n",
       "1                     0                       0      1  1346976000   \n",
       "2                     1                       1      4  1219017600   \n",
       "3                     3                       3      2  1307923200   \n",
       "4                     0                       0      5  1350777600   \n",
       "\n",
       "                 Summary                                               Text  \n",
       "0  Good Quality Dog Food  I have bought several of the Vitality canned d...  \n",
       "1      Not as Advertised  Product arrived labeled as Jumbo Salted Peanut...  \n",
       "2  \"Delight\" says it all  This is a confection that has been around a fe...  \n",
       "3         Cough Medicine  If you are looking for the secret ingredient i...  \n",
       "4            Great taffy  Great taffy at a great price.  There was a wid...  "
      ]
     },
     "execution_count": 4,
     "metadata": {},
     "output_type": "execute_result"
    }
   ],
   "source": [
    "filtered_data.head()"
   ]
  },
  {
   "cell_type": "code",
   "execution_count": 5,
   "metadata": {},
   "outputs": [],
   "source": [
    "def partition(x):\n",
    "    if x<3:\n",
    "        return 0\n",
    "    return 1\n",
    "actualScore = filtered_data['Score']\n",
    "positiveNegative = actualScore.map(partition)\n",
    "filtered_data['Score'] = positiveNegative"
   ]
  },
  {
   "cell_type": "code",
   "execution_count": 6,
   "metadata": {},
   "outputs": [
    {
     "data": {
      "text/plain": [
       "pandas.core.series.Series"
      ]
     },
     "execution_count": 6,
     "metadata": {},
     "output_type": "execute_result"
    }
   ],
   "source": [
    "type(positiveNegative)"
   ]
  },
  {
   "cell_type": "code",
   "execution_count": 7,
   "metadata": {},
   "outputs": [
    {
     "data": {
      "text/plain": [
       "0    1\n",
       "1    0\n",
       "2    1\n",
       "3    0\n",
       "4    1\n",
       "Name: Score, dtype: int64"
      ]
     },
     "execution_count": 7,
     "metadata": {},
     "output_type": "execute_result"
    }
   ],
   "source": [
    "positiveNegative.head()"
   ]
  },
  {
   "cell_type": "code",
   "execution_count": 8,
   "metadata": {},
   "outputs": [
    {
     "data": {
      "text/html": [
       "<div>\n",
       "<style scoped>\n",
       "    .dataframe tbody tr th:only-of-type {\n",
       "        vertical-align: middle;\n",
       "    }\n",
       "\n",
       "    .dataframe tbody tr th {\n",
       "        vertical-align: top;\n",
       "    }\n",
       "\n",
       "    .dataframe thead th {\n",
       "        text-align: right;\n",
       "    }\n",
       "</style>\n",
       "<table border=\"1\" class=\"dataframe\">\n",
       "  <thead>\n",
       "    <tr style=\"text-align: right;\">\n",
       "      <th></th>\n",
       "      <th>Id</th>\n",
       "      <th>ProductId</th>\n",
       "      <th>UserId</th>\n",
       "      <th>ProfileName</th>\n",
       "      <th>HelpfulnessNumerator</th>\n",
       "      <th>HelpfulnessDenominator</th>\n",
       "      <th>Score</th>\n",
       "      <th>Time</th>\n",
       "      <th>Summary</th>\n",
       "      <th>Text</th>\n",
       "    </tr>\n",
       "  </thead>\n",
       "  <tbody>\n",
       "    <tr>\n",
       "      <th>0</th>\n",
       "      <td>1</td>\n",
       "      <td>B001E4KFG0</td>\n",
       "      <td>A3SGXH7AUHU8GW</td>\n",
       "      <td>delmartian</td>\n",
       "      <td>1</td>\n",
       "      <td>1</td>\n",
       "      <td>1</td>\n",
       "      <td>1303862400</td>\n",
       "      <td>Good Quality Dog Food</td>\n",
       "      <td>I have bought several of the Vitality canned d...</td>\n",
       "    </tr>\n",
       "    <tr>\n",
       "      <th>1</th>\n",
       "      <td>2</td>\n",
       "      <td>B00813GRG4</td>\n",
       "      <td>A1D87F6ZCVE5NK</td>\n",
       "      <td>dll pa</td>\n",
       "      <td>0</td>\n",
       "      <td>0</td>\n",
       "      <td>0</td>\n",
       "      <td>1346976000</td>\n",
       "      <td>Not as Advertised</td>\n",
       "      <td>Product arrived labeled as Jumbo Salted Peanut...</td>\n",
       "    </tr>\n",
       "    <tr>\n",
       "      <th>2</th>\n",
       "      <td>3</td>\n",
       "      <td>B000LQOCH0</td>\n",
       "      <td>ABXLMWJIXXAIN</td>\n",
       "      <td>Natalia Corres \"Natalia Corres\"</td>\n",
       "      <td>1</td>\n",
       "      <td>1</td>\n",
       "      <td>1</td>\n",
       "      <td>1219017600</td>\n",
       "      <td>\"Delight\" says it all</td>\n",
       "      <td>This is a confection that has been around a fe...</td>\n",
       "    </tr>\n",
       "    <tr>\n",
       "      <th>3</th>\n",
       "      <td>4</td>\n",
       "      <td>B000UA0QIQ</td>\n",
       "      <td>A395BORC6FGVXV</td>\n",
       "      <td>Karl</td>\n",
       "      <td>3</td>\n",
       "      <td>3</td>\n",
       "      <td>0</td>\n",
       "      <td>1307923200</td>\n",
       "      <td>Cough Medicine</td>\n",
       "      <td>If you are looking for the secret ingredient i...</td>\n",
       "    </tr>\n",
       "    <tr>\n",
       "      <th>4</th>\n",
       "      <td>5</td>\n",
       "      <td>B006K2ZZ7K</td>\n",
       "      <td>A1UQRSCLF8GW1T</td>\n",
       "      <td>Michael D. Bigham \"M. Wassir\"</td>\n",
       "      <td>0</td>\n",
       "      <td>0</td>\n",
       "      <td>1</td>\n",
       "      <td>1350777600</td>\n",
       "      <td>Great taffy</td>\n",
       "      <td>Great taffy at a great price.  There was a wid...</td>\n",
       "    </tr>\n",
       "  </tbody>\n",
       "</table>\n",
       "</div>"
      ],
      "text/plain": [
       "   Id   ProductId          UserId                      ProfileName  \\\n",
       "0   1  B001E4KFG0  A3SGXH7AUHU8GW                       delmartian   \n",
       "1   2  B00813GRG4  A1D87F6ZCVE5NK                           dll pa   \n",
       "2   3  B000LQOCH0   ABXLMWJIXXAIN  Natalia Corres \"Natalia Corres\"   \n",
       "3   4  B000UA0QIQ  A395BORC6FGVXV                             Karl   \n",
       "4   5  B006K2ZZ7K  A1UQRSCLF8GW1T    Michael D. Bigham \"M. Wassir\"   \n",
       "\n",
       "   HelpfulnessNumerator  HelpfulnessDenominator  Score        Time  \\\n",
       "0                     1                       1      1  1303862400   \n",
       "1                     0                       0      0  1346976000   \n",
       "2                     1                       1      1  1219017600   \n",
       "3                     3                       3      0  1307923200   \n",
       "4                     0                       0      1  1350777600   \n",
       "\n",
       "                 Summary                                               Text  \n",
       "0  Good Quality Dog Food  I have bought several of the Vitality canned d...  \n",
       "1      Not as Advertised  Product arrived labeled as Jumbo Salted Peanut...  \n",
       "2  \"Delight\" says it all  This is a confection that has been around a fe...  \n",
       "3         Cough Medicine  If you are looking for the secret ingredient i...  \n",
       "4            Great taffy  Great taffy at a great price.  There was a wid...  "
      ]
     },
     "execution_count": 8,
     "metadata": {},
     "output_type": "execute_result"
    }
   ],
   "source": [
    "filtered_data.head()"
   ]
  },
  {
   "cell_type": "code",
   "execution_count": 9,
   "metadata": {},
   "outputs": [
    {
     "name": "stdout",
     "output_type": "stream",
     "text": [
      "Number of data points in our data (5000, 10)\n"
     ]
    }
   ],
   "source": [
    "print(\"Number of data points in our data\", filtered_data.shape)"
   ]
  },
  {
   "cell_type": "code",
   "execution_count": 10,
   "metadata": {},
   "outputs": [],
   "source": [
    "sorted_data=filtered_data.sort_values('ProductId',axis=0,ascending=True,kind='quicksort', na_position='last')"
   ]
  },
  {
   "cell_type": "code",
   "execution_count": 11,
   "metadata": {},
   "outputs": [
    {
     "data": {
      "text/plain": [
       "pandas.core.frame.DataFrame"
      ]
     },
     "execution_count": 11,
     "metadata": {},
     "output_type": "execute_result"
    }
   ],
   "source": [
    "type(sorted_data)"
   ]
  },
  {
   "cell_type": "code",
   "execution_count": 12,
   "metadata": {
    "scrolled": true
   },
   "outputs": [
    {
     "data": {
      "text/html": [
       "<div>\n",
       "<style scoped>\n",
       "    .dataframe tbody tr th:only-of-type {\n",
       "        vertical-align: middle;\n",
       "    }\n",
       "\n",
       "    .dataframe tbody tr th {\n",
       "        vertical-align: top;\n",
       "    }\n",
       "\n",
       "    .dataframe thead th {\n",
       "        text-align: right;\n",
       "    }\n",
       "</style>\n",
       "<table border=\"1\" class=\"dataframe\">\n",
       "  <thead>\n",
       "    <tr style=\"text-align: right;\">\n",
       "      <th></th>\n",
       "      <th>Id</th>\n",
       "      <th>ProductId</th>\n",
       "      <th>UserId</th>\n",
       "      <th>ProfileName</th>\n",
       "      <th>HelpfulnessNumerator</th>\n",
       "      <th>HelpfulnessDenominator</th>\n",
       "      <th>Score</th>\n",
       "      <th>Time</th>\n",
       "      <th>Summary</th>\n",
       "      <th>Text</th>\n",
       "    </tr>\n",
       "  </thead>\n",
       "  <tbody>\n",
       "    <tr>\n",
       "      <th>2546</th>\n",
       "      <td>2774</td>\n",
       "      <td>B00002NCJC</td>\n",
       "      <td>A196AJHU9EASJN</td>\n",
       "      <td>Alex Chaffee</td>\n",
       "      <td>0</td>\n",
       "      <td>0</td>\n",
       "      <td>1</td>\n",
       "      <td>1282953600</td>\n",
       "      <td>thirty bucks?</td>\n",
       "      <td>Why is this $[...] when the same product is av...</td>\n",
       "    </tr>\n",
       "    <tr>\n",
       "      <th>2547</th>\n",
       "      <td>2775</td>\n",
       "      <td>B00002NCJC</td>\n",
       "      <td>A13RRPGE79XFFH</td>\n",
       "      <td>reader48</td>\n",
       "      <td>0</td>\n",
       "      <td>0</td>\n",
       "      <td>1</td>\n",
       "      <td>1281052800</td>\n",
       "      <td>Flies Begone</td>\n",
       "      <td>We have used the Victor fly bait for 3 seasons...</td>\n",
       "    </tr>\n",
       "    <tr>\n",
       "      <th>1145</th>\n",
       "      <td>1244</td>\n",
       "      <td>B00002Z754</td>\n",
       "      <td>A3B8RCEI0FXFI6</td>\n",
       "      <td>B G Chase</td>\n",
       "      <td>10</td>\n",
       "      <td>10</td>\n",
       "      <td>1</td>\n",
       "      <td>962236800</td>\n",
       "      <td>WOW Make your own 'slickers' !</td>\n",
       "      <td>I just received my shipment and could hardly w...</td>\n",
       "    </tr>\n",
       "    <tr>\n",
       "      <th>1146</th>\n",
       "      <td>1245</td>\n",
       "      <td>B00002Z754</td>\n",
       "      <td>A29Z5PI9BW2PU3</td>\n",
       "      <td>Robbie</td>\n",
       "      <td>7</td>\n",
       "      <td>7</td>\n",
       "      <td>1</td>\n",
       "      <td>961718400</td>\n",
       "      <td>Great Product</td>\n",
       "      <td>This was a really good idea and the final prod...</td>\n",
       "    </tr>\n",
       "    <tr>\n",
       "      <th>2942</th>\n",
       "      <td>3204</td>\n",
       "      <td>B000084DVR</td>\n",
       "      <td>A1UGDJP1ZJWVPF</td>\n",
       "      <td>T. Moore \"thoughtful reader\"</td>\n",
       "      <td>1</td>\n",
       "      <td>1</td>\n",
       "      <td>1</td>\n",
       "      <td>1177977600</td>\n",
       "      <td>Good stuff!</td>\n",
       "      <td>I'm glad my 45lb cocker/standard poodle puppy ...</td>\n",
       "    </tr>\n",
       "  </tbody>\n",
       "</table>\n",
       "</div>"
      ],
      "text/plain": [
       "        Id   ProductId          UserId                   ProfileName  \\\n",
       "2546  2774  B00002NCJC  A196AJHU9EASJN                  Alex Chaffee   \n",
       "2547  2775  B00002NCJC  A13RRPGE79XFFH                      reader48   \n",
       "1145  1244  B00002Z754  A3B8RCEI0FXFI6                     B G Chase   \n",
       "1146  1245  B00002Z754  A29Z5PI9BW2PU3                        Robbie   \n",
       "2942  3204  B000084DVR  A1UGDJP1ZJWVPF  T. Moore \"thoughtful reader\"   \n",
       "\n",
       "      HelpfulnessNumerator  HelpfulnessDenominator  Score        Time  \\\n",
       "2546                     0                       0      1  1282953600   \n",
       "2547                     0                       0      1  1281052800   \n",
       "1145                    10                      10      1   962236800   \n",
       "1146                     7                       7      1   961718400   \n",
       "2942                     1                       1      1  1177977600   \n",
       "\n",
       "                             Summary  \\\n",
       "2546                   thirty bucks?   \n",
       "2547                    Flies Begone   \n",
       "1145  WOW Make your own 'slickers' !   \n",
       "1146                   Great Product   \n",
       "2942                     Good stuff!   \n",
       "\n",
       "                                                   Text  \n",
       "2546  Why is this $[...] when the same product is av...  \n",
       "2547  We have used the Victor fly bait for 3 seasons...  \n",
       "1145  I just received my shipment and could hardly w...  \n",
       "1146  This was a really good idea and the final prod...  \n",
       "2942  I'm glad my 45lb cocker/standard poodle puppy ...  "
      ]
     },
     "execution_count": 12,
     "metadata": {},
     "output_type": "execute_result"
    }
   ],
   "source": [
    "sorted_data.head()"
   ]
  },
  {
   "cell_type": "code",
   "execution_count": 13,
   "metadata": {},
   "outputs": [
    {
     "data": {
      "text/plain": [
       "5000"
      ]
     },
     "execution_count": 13,
     "metadata": {},
     "output_type": "execute_result"
    }
   ],
   "source": [
    "len(sorted_data)"
   ]
  },
  {
   "cell_type": "code",
   "execution_count": 14,
   "metadata": {},
   "outputs": [],
   "source": [
    "final = sorted_data.drop_duplicates(subset={\"UserId\",\"ProfileName\",\"Time\",\"Text\"},keep='first',inplace = False)"
   ]
  },
  {
   "cell_type": "code",
   "execution_count": 15,
   "metadata": {},
   "outputs": [
    {
     "data": {
      "text/plain": [
       "4986"
      ]
     },
     "execution_count": 15,
     "metadata": {},
     "output_type": "execute_result"
    }
   ],
   "source": [
    "len(final)"
   ]
  },
  {
   "cell_type": "code",
   "execution_count": 16,
   "metadata": {},
   "outputs": [],
   "source": [
    "# 14 duplicate enteries have been deleted."
   ]
  },
  {
   "cell_type": "code",
   "execution_count": 17,
   "metadata": {},
   "outputs": [],
   "source": [
    "display = pd.read_sql_query(\"\"\"Select * From Reviews Where Score!=3 and HelpfulnessNumerator > HelpfulnessDenominator\"\"\",con)"
   ]
  },
  {
   "cell_type": "code",
   "execution_count": 18,
   "metadata": {},
   "outputs": [
    {
     "data": {
      "text/html": [
       "<div>\n",
       "<style scoped>\n",
       "    .dataframe tbody tr th:only-of-type {\n",
       "        vertical-align: middle;\n",
       "    }\n",
       "\n",
       "    .dataframe tbody tr th {\n",
       "        vertical-align: top;\n",
       "    }\n",
       "\n",
       "    .dataframe thead th {\n",
       "        text-align: right;\n",
       "    }\n",
       "</style>\n",
       "<table border=\"1\" class=\"dataframe\">\n",
       "  <thead>\n",
       "    <tr style=\"text-align: right;\">\n",
       "      <th></th>\n",
       "      <th>Id</th>\n",
       "      <th>ProductId</th>\n",
       "      <th>UserId</th>\n",
       "      <th>ProfileName</th>\n",
       "      <th>HelpfulnessNumerator</th>\n",
       "      <th>HelpfulnessDenominator</th>\n",
       "      <th>Score</th>\n",
       "      <th>Time</th>\n",
       "      <th>Summary</th>\n",
       "      <th>Text</th>\n",
       "    </tr>\n",
       "  </thead>\n",
       "  <tbody>\n",
       "    <tr>\n",
       "      <th>0</th>\n",
       "      <td>44737</td>\n",
       "      <td>B001EQ55RW</td>\n",
       "      <td>A2V0I904FH7ABY</td>\n",
       "      <td>Ram</td>\n",
       "      <td>3</td>\n",
       "      <td>2</td>\n",
       "      <td>4</td>\n",
       "      <td>1212883200</td>\n",
       "      <td>Pure cocoa taste with crunchy almonds inside</td>\n",
       "      <td>It was almost a 'love at first bite' - the per...</td>\n",
       "    </tr>\n",
       "    <tr>\n",
       "      <th>1</th>\n",
       "      <td>64422</td>\n",
       "      <td>B000MIDROQ</td>\n",
       "      <td>A161DK06JJMCYF</td>\n",
       "      <td>J. E. Stephens \"Jeanne\"</td>\n",
       "      <td>3</td>\n",
       "      <td>1</td>\n",
       "      <td>5</td>\n",
       "      <td>1224892800</td>\n",
       "      <td>Bought This for My Son at College</td>\n",
       "      <td>My son loves spaghetti so I didn't hesitate or...</td>\n",
       "    </tr>\n",
       "  </tbody>\n",
       "</table>\n",
       "</div>"
      ],
      "text/plain": [
       "      Id   ProductId          UserId              ProfileName  \\\n",
       "0  44737  B001EQ55RW  A2V0I904FH7ABY                      Ram   \n",
       "1  64422  B000MIDROQ  A161DK06JJMCYF  J. E. Stephens \"Jeanne\"   \n",
       "\n",
       "   HelpfulnessNumerator  HelpfulnessDenominator  Score        Time  \\\n",
       "0                     3                       2      4  1212883200   \n",
       "1                     3                       1      5  1224892800   \n",
       "\n",
       "                                        Summary  \\\n",
       "0  Pure cocoa taste with crunchy almonds inside   \n",
       "1             Bought This for My Son at College   \n",
       "\n",
       "                                                Text  \n",
       "0  It was almost a 'love at first bite' - the per...  \n",
       "1  My son loves spaghetti so I didn't hesitate or...  "
      ]
     },
     "execution_count": 18,
     "metadata": {},
     "output_type": "execute_result"
    }
   ],
   "source": [
    "display"
   ]
  },
  {
   "cell_type": "code",
   "execution_count": null,
   "metadata": {},
   "outputs": [],
   "source": []
  },
  {
   "cell_type": "code",
   "execution_count": 19,
   "metadata": {},
   "outputs": [],
   "source": [
    "final=final[final.HelpfulnessNumerator<=final.HelpfulnessDenominator]"
   ]
  },
  {
   "cell_type": "code",
   "execution_count": 20,
   "metadata": {},
   "outputs": [
    {
     "name": "stdout",
     "output_type": "stream",
     "text": [
      "(4986, 10)\n"
     ]
    }
   ],
   "source": [
    "print(final.shape)"
   ]
  },
  {
   "cell_type": "code",
   "execution_count": 21,
   "metadata": {},
   "outputs": [
    {
     "data": {
      "text/html": [
       "<div>\n",
       "<style scoped>\n",
       "    .dataframe tbody tr th:only-of-type {\n",
       "        vertical-align: middle;\n",
       "    }\n",
       "\n",
       "    .dataframe tbody tr th {\n",
       "        vertical-align: top;\n",
       "    }\n",
       "\n",
       "    .dataframe thead th {\n",
       "        text-align: right;\n",
       "    }\n",
       "</style>\n",
       "<table border=\"1\" class=\"dataframe\">\n",
       "  <thead>\n",
       "    <tr style=\"text-align: right;\">\n",
       "      <th></th>\n",
       "      <th>Id</th>\n",
       "      <th>ProductId</th>\n",
       "      <th>UserId</th>\n",
       "      <th>ProfileName</th>\n",
       "      <th>HelpfulnessNumerator</th>\n",
       "      <th>HelpfulnessDenominator</th>\n",
       "      <th>Score</th>\n",
       "      <th>Time</th>\n",
       "      <th>Summary</th>\n",
       "      <th>Text</th>\n",
       "    </tr>\n",
       "  </thead>\n",
       "  <tbody>\n",
       "    <tr>\n",
       "      <th>2546</th>\n",
       "      <td>2774</td>\n",
       "      <td>B00002NCJC</td>\n",
       "      <td>A196AJHU9EASJN</td>\n",
       "      <td>Alex Chaffee</td>\n",
       "      <td>0</td>\n",
       "      <td>0</td>\n",
       "      <td>1</td>\n",
       "      <td>1282953600</td>\n",
       "      <td>thirty bucks?</td>\n",
       "      <td>Why is this $[...] when the same product is av...</td>\n",
       "    </tr>\n",
       "  </tbody>\n",
       "</table>\n",
       "</div>"
      ],
      "text/plain": [
       "        Id   ProductId          UserId   ProfileName  HelpfulnessNumerator  \\\n",
       "2546  2774  B00002NCJC  A196AJHU9EASJN  Alex Chaffee                     0   \n",
       "\n",
       "      HelpfulnessDenominator  Score        Time        Summary  \\\n",
       "2546                       0      1  1282953600  thirty bucks?   \n",
       "\n",
       "                                                   Text  \n",
       "2546  Why is this $[...] when the same product is av...  "
      ]
     },
     "execution_count": 21,
     "metadata": {},
     "output_type": "execute_result"
    }
   ],
   "source": [
    "final.head(1)"
   ]
  },
  {
   "cell_type": "code",
   "execution_count": 22,
   "metadata": {},
   "outputs": [
    {
     "data": {
      "text/plain": [
       "1    4178\n",
       "0     808\n",
       "Name: Score, dtype: int64"
      ]
     },
     "execution_count": 22,
     "metadata": {},
     "output_type": "execute_result"
    }
   ],
   "source": [
    "final[\"Score\"].value_counts()"
   ]
  },
  {
   "cell_type": "code",
   "execution_count": 23,
   "metadata": {},
   "outputs": [
    {
     "name": "stdout",
     "output_type": "stream",
     "text": [
      "Why is this $[...] when the same product is available for $[...] here?<br />http://www.amazon.com/VICTOR-FLY-MAGNET-BAIT-REFILL/dp/B00004RBDY<br /><br />The Victor M380 and M502 traps are unreal, of course -- total fly genocide. Pretty stinky, but only right nearby.\n"
     ]
    }
   ],
   "source": [
    "sent_0 = final['Text'].values[0]\n",
    "print(sent_0)"
   ]
  },
  {
   "cell_type": "code",
   "execution_count": 24,
   "metadata": {},
   "outputs": [],
   "source": [
    "#Removing html tags"
   ]
  },
  {
   "cell_type": "code",
   "execution_count": 25,
   "metadata": {},
   "outputs": [],
   "source": [
    "import re\n",
    "sent_0 = re.sub(r\"http\\S+\", \"\", sent_0)"
   ]
  },
  {
   "cell_type": "code",
   "execution_count": 26,
   "metadata": {},
   "outputs": [
    {
     "name": "stdout",
     "output_type": "stream",
     "text": [
      "Why is this $[...] when the same product is available for $[...] here?<br /> /><br />The Victor M380 and M502 traps are unreal, of course -- total fly genocide. Pretty stinky, but only right nearby.\n"
     ]
    }
   ],
   "source": [
    "print(sent_0)"
   ]
  },
  {
   "cell_type": "code",
   "execution_count": null,
   "metadata": {},
   "outputs": [],
   "source": []
  },
  {
   "cell_type": "code",
   "execution_count": 27,
   "metadata": {},
   "outputs": [],
   "source": [
    "from bs4 import BeautifulSoup"
   ]
  },
  {
   "cell_type": "code",
   "execution_count": 28,
   "metadata": {},
   "outputs": [],
   "source": [
    "# Data parsing is a process when one data format is transformed into another, more readable data format."
   ]
  },
  {
   "cell_type": "code",
   "execution_count": 29,
   "metadata": {},
   "outputs": [],
   "source": [
    "soup = BeautifulSoup(sent_0, 'lxml')"
   ]
  },
  {
   "cell_type": "code",
   "execution_count": 30,
   "metadata": {},
   "outputs": [
    {
     "name": "stdout",
     "output_type": "stream",
     "text": [
      "<html><body><p>Why is this $[...] when the same product is available for $[...] here?<br/> /&gt;<br/>The Victor M380 and M502 traps are unreal, of course -- total fly genocide. Pretty stinky, but only right nearby.</p></body></html>\n"
     ]
    }
   ],
   "source": [
    "print(soup)"
   ]
  },
  {
   "cell_type": "code",
   "execution_count": 31,
   "metadata": {},
   "outputs": [
    {
     "name": "stdout",
     "output_type": "stream",
     "text": [
      "Why is this $[...] when the same product is available for $[...] here? />The Victor M380 and M502 traps are unreal, of course -- total fly genocide. Pretty stinky, but only right nearby.\n"
     ]
    }
   ],
   "source": [
    "text = soup.get_text()\n",
    "print(text)"
   ]
  },
  {
   "cell_type": "code",
   "execution_count": null,
   "metadata": {},
   "outputs": [],
   "source": []
  },
  {
   "cell_type": "code",
   "execution_count": 32,
   "metadata": {},
   "outputs": [],
   "source": [
    "import re\n",
    "\n",
    "def decontracted(phrase):\n",
    "    # specific\n",
    "    phrase = re.sub(r\"won't\", \"will not\", phrase)\n",
    "    phrase = re.sub(r\"can\\'t\", \"can not\", phrase)\n",
    "\n",
    "    # general\n",
    "    phrase = re.sub(r\"n\\'t\", \" not\", phrase)\n",
    "    phrase = re.sub(r\"\\'re\", \" are\", phrase)\n",
    "    phrase = re.sub(r\"\\'s\", \" is\", phrase)\n",
    "    phrase = re.sub(r\"\\'d\", \" would\", phrase)\n",
    "    phrase = re.sub(r\"\\'ll\", \" will\", phrase)\n",
    "    phrase = re.sub(r\"\\'t\", \" not\", phrase)\n",
    "    phrase = re.sub(r\"\\'ve\", \" have\", phrase)\n",
    "    phrase = re.sub(r\"\\'m\", \" am\", phrase)\n",
    "    return phrase"
   ]
  },
  {
   "cell_type": "code",
   "execution_count": 33,
   "metadata": {},
   "outputs": [
    {
     "name": "stdout",
     "output_type": "stream",
     "text": [
      "Wow.  So far, two two-star reviews.  One obviously had no idea what they were ordering; the other wants crispy cookies.  Hey, I'm sorry; but these reviews do nobody any good beyond reminding us to look  before ordering.<br /><br />These are chocolate-oatmeal cookies.  If you don't like that combination, don't order this type of cookie.  I find the combo quite nice, really.  The oatmeal sort of \"calms\" the rich chocolate flavor and gives the cookie sort of a coconut-type consistency.  Now let's also remember that tastes differ; so, I've given my opinion.<br /><br />Then, these are soft, chewy cookies -- as advertised.  They are not \"crispy\" cookies, or the blurb would say \"crispy,\" rather than \"chewy.\"  I happen to like raw cookie dough; however, I don't see where these taste like raw cookie dough.  Both are soft, however, so is this the confusion?  And, yes, they stick together.  Soft cookies tend to do that.  They aren't individually wrapped, which would add to the cost.  Oh yeah, chocolate chip cookies tend to be somewhat sweet.<br /><br />So, if you want something hard and crisp, I suggest Nabiso's Ginger Snaps.  If you want a cookie that's soft, chewy and tastes like a combination of chocolate and oatmeal, give these a try.  I'm here to place my second order.\n"
     ]
    }
   ],
   "source": [
    "sent_1500 = final['Text'].values[1500]\n",
    "print(final['Text'].values[1500])"
   ]
  },
  {
   "cell_type": "code",
   "execution_count": 34,
   "metadata": {},
   "outputs": [],
   "source": [
    "sent_1500 = decontracted(sent_1500)"
   ]
  },
  {
   "cell_type": "code",
   "execution_count": 35,
   "metadata": {},
   "outputs": [
    {
     "name": "stdout",
     "output_type": "stream",
     "text": [
      "Wow.  So far, two two-star reviews.  One obviously had no idea what they were ordering; the other wants crispy cookies.  Hey, I am sorry; but these reviews do nobody any good beyond reminding us to look  before ordering.<br /><br />These are chocolate-oatmeal cookies.  If you do not like that combination, do not order this type of cookie.  I find the combo quite nice, really.  The oatmeal sort of \"calms\" the rich chocolate flavor and gives the cookie sort of a coconut-type consistency.  Now let is also remember that tastes differ; so, I have given my opinion.<br /><br />Then, these are soft, chewy cookies -- as advertised.  They are not \"crispy\" cookies, or the blurb would say \"crispy,\" rather than \"chewy.\"  I happen to like raw cookie dough; however, I do not see where these taste like raw cookie dough.  Both are soft, however, so is this the confusion?  And, yes, they stick together.  Soft cookies tend to do that.  They are not individually wrapped, which would add to the cost.  Oh yeah, chocolate chip cookies tend to be somewhat sweet.<br /><br />So, if you want something hard and crisp, I suggest Nabiso is Ginger Snaps.  If you want a cookie that is soft, chewy and tastes like a combination of chocolate and oatmeal, give these a try.  I am here to place my second order.\n"
     ]
    }
   ],
   "source": [
    "print(sent_1500)"
   ]
  },
  {
   "cell_type": "code",
   "execution_count": 36,
   "metadata": {},
   "outputs": [],
   "source": [
    "#remove words with numbers python"
   ]
  },
  {
   "cell_type": "code",
   "execution_count": 37,
   "metadata": {},
   "outputs": [
    {
     "name": "stdout",
     "output_type": "stream",
     "text": [
      "Why is this $[...] when the same product is available for $[...] here?<br /> /><br />The Victor M380 and M502 traps are unreal, of course -- total fly genocide. Pretty stinky, but only right nearby.\n"
     ]
    }
   ],
   "source": [
    "print(sent_0)"
   ]
  },
  {
   "cell_type": "code",
   "execution_count": 38,
   "metadata": {},
   "outputs": [
    {
     "name": "stdout",
     "output_type": "stream",
     "text": [
      "Why is this $[...] when the same product is available for $[...] here?<br /> /><br />The Victor  and  traps are unreal, of course -- total fly genocide. Pretty stinky, but only right nearby.\n"
     ]
    }
   ],
   "source": [
    "sent_0 = re.sub(\"\\S*\\d\\S*\", \"\", sent_0).strip()\n",
    "print(sent_0)"
   ]
  },
  {
   "cell_type": "code",
   "execution_count": 39,
   "metadata": {},
   "outputs": [],
   "source": [
    "stopwords= set(['br', 'the', 'i', 'me', 'my', 'myself', 'we', 'our', 'ours', 'ourselves', 'you', \"you're\", \"you've\",\\\n",
    "            \"you'll\", \"you'd\", 'your', 'yours', 'yourself', 'yourselves', 'he', 'him', 'his', 'himself', \\\n",
    "            'she', \"she's\", 'her', 'hers', 'herself', 'it', \"it's\", 'its', 'itself', 'they', 'them', 'their',\\\n",
    "            'theirs', 'themselves', 'what', 'which', 'who', 'whom', 'this', 'that', \"that'll\", 'these', 'those', \\\n",
    "            'am', 'is', 'are', 'was', 'were', 'be', 'been', 'being', 'have', 'has', 'had', 'having', 'do', 'does', \\\n",
    "            'did', 'doing', 'a', 'an', 'the', 'and', 'but', 'if', 'or', 'because', 'as', 'until', 'while', 'of', \\\n",
    "            'at', 'by', 'for', 'with', 'about', 'against', 'between', 'into', 'through', 'during', 'before', 'after',\\\n",
    "            'above', 'below', 'to', 'from', 'up', 'down', 'in', 'out', 'on', 'off', 'over', 'under', 'again', 'further',\\\n",
    "            'then', 'once', 'here', 'there', 'when', 'where', 'why', 'how', 'all', 'any', 'both', 'each', 'few', 'more',\\\n",
    "            'most', 'other', 'some', 'such', 'only', 'own', 'same', 'so', 'than', 'too', 'very', \\\n",
    "            's', 't', 'can', 'will', 'just', 'don', \"don't\", 'should', \"should've\", 'now', 'd', 'll', 'm', 'o', 're', \\\n",
    "            've', 'y', 'ain', 'aren', \"aren't\", 'couldn', \"couldn't\", 'didn', \"didn't\", 'doesn', \"doesn't\", 'hadn',\\\n",
    "            \"hadn't\", 'hasn', \"hasn't\", 'haven', \"haven't\", 'isn', \"isn't\", 'ma', 'mightn', \"mightn't\", 'mustn',\\\n",
    "            \"mustn't\", 'needn', \"needn't\", 'shan', \"shan't\", 'shouldn', \"shouldn't\", 'wasn', \"wasn't\", 'weren', \"weren't\", \\\n",
    "            'won', \"won't\", 'wouldn', \"wouldn't\"])"
   ]
  },
  {
   "cell_type": "code",
   "execution_count": 40,
   "metadata": {},
   "outputs": [
    {
     "name": "stderr",
     "output_type": "stream",
     "text": [
      "100%|████████████████████████████████████████████████████████████████████████████| 4986/4986 [00:03<00:00, 1353.42it/s]\n"
     ]
    }
   ],
   "source": [
    "from tqdm import tqdm\n",
    "\n",
    "preprocessed_reviews = []\n",
    "for sentance in tqdm(final['Text'].values):\n",
    "    sentance = re.sub(r\"http\\S+\", \"\", sentance)\n",
    "    sentance = BeautifulSoup(sentance, 'lxml').get_text()\n",
    "    sentance = decontracted(sentance)\n",
    "    sentance = re.sub(\"\\S*\\d\\S*\", \"\", sentance).strip()\n",
    "    sentance = re.sub('[^A-Za-z]+', ' ', sentance)\n",
    "    sentance = ' '.join(e.lower() for e in sentance.split() if e.lower() not in stopwords)\n",
    "    preprocessed_reviews.append(sentance.strip())\n",
    "    "
   ]
  },
  {
   "cell_type": "code",
   "execution_count": 41,
   "metadata": {},
   "outputs": [
    {
     "data": {
      "text/plain": [
       "'wow far two two star reviews one obviously no idea ordering wants crispy cookies hey sorry reviews nobody good beyond reminding us look ordering chocolate oatmeal cookies not like combination not order type cookie find combo quite nice really oatmeal sort calms rich chocolate flavor gives cookie sort coconut type consistency let also remember tastes differ given opinion soft chewy cookies advertised not crispy cookies blurb would say crispy rather chewy happen like raw cookie dough however not see taste like raw cookie dough soft however confusion yes stick together soft cookies tend not individually wrapped would add cost oh yeah chocolate chip cookies tend somewhat sweet want something hard crisp suggest nabiso ginger snaps want cookie soft chewy tastes like combination chocolate oatmeal give try place second order'"
      ]
     },
     "execution_count": 41,
     "metadata": {},
     "output_type": "execute_result"
    }
   ],
   "source": [
    "preprocessed_reviews[1500]"
   ]
  },
  {
   "cell_type": "code",
   "execution_count": 42,
   "metadata": {},
   "outputs": [
    {
     "data": {
      "text/plain": [
       "4986"
      ]
     },
     "execution_count": 42,
     "metadata": {},
     "output_type": "execute_result"
    }
   ],
   "source": [
    "len(preprocessed_reviews)"
   ]
  },
  {
   "cell_type": "code",
   "execution_count": 43,
   "metadata": {},
   "outputs": [
    {
     "data": {
      "text/plain": [
       "list"
      ]
     },
     "execution_count": 43,
     "metadata": {},
     "output_type": "execute_result"
    }
   ],
   "source": [
    "type(preprocessed_reviews)"
   ]
  },
  {
   "cell_type": "code",
   "execution_count": 44,
   "metadata": {},
   "outputs": [
    {
     "data": {
      "text/plain": [
       "(5000, 10)"
      ]
     },
     "execution_count": 44,
     "metadata": {},
     "output_type": "execute_result"
    }
   ],
   "source": [
    "filtered_data.shape"
   ]
  },
  {
   "cell_type": "code",
   "execution_count": null,
   "metadata": {},
   "outputs": [],
   "source": []
  },
  {
   "cell_type": "code",
   "execution_count": 45,
   "metadata": {},
   "outputs": [],
   "source": [
    "# Adding preprocessed text to the original dataframe"
   ]
  },
  {
   "cell_type": "code",
   "execution_count": 46,
   "metadata": {},
   "outputs": [],
   "source": [
    "final['preprocessed reviews'] = preprocessed_reviews"
   ]
  },
  {
   "cell_type": "code",
   "execution_count": 47,
   "metadata": {},
   "outputs": [
    {
     "data": {
      "text/html": [
       "<div>\n",
       "<style scoped>\n",
       "    .dataframe tbody tr th:only-of-type {\n",
       "        vertical-align: middle;\n",
       "    }\n",
       "\n",
       "    .dataframe tbody tr th {\n",
       "        vertical-align: top;\n",
       "    }\n",
       "\n",
       "    .dataframe thead th {\n",
       "        text-align: right;\n",
       "    }\n",
       "</style>\n",
       "<table border=\"1\" class=\"dataframe\">\n",
       "  <thead>\n",
       "    <tr style=\"text-align: right;\">\n",
       "      <th></th>\n",
       "      <th>Id</th>\n",
       "      <th>ProductId</th>\n",
       "      <th>UserId</th>\n",
       "      <th>ProfileName</th>\n",
       "      <th>HelpfulnessNumerator</th>\n",
       "      <th>HelpfulnessDenominator</th>\n",
       "      <th>Score</th>\n",
       "      <th>Time</th>\n",
       "      <th>Summary</th>\n",
       "      <th>Text</th>\n",
       "      <th>preprocessed reviews</th>\n",
       "    </tr>\n",
       "  </thead>\n",
       "  <tbody>\n",
       "    <tr>\n",
       "      <th>2546</th>\n",
       "      <td>2774</td>\n",
       "      <td>B00002NCJC</td>\n",
       "      <td>A196AJHU9EASJN</td>\n",
       "      <td>Alex Chaffee</td>\n",
       "      <td>0</td>\n",
       "      <td>0</td>\n",
       "      <td>1</td>\n",
       "      <td>1282953600</td>\n",
       "      <td>thirty bucks?</td>\n",
       "      <td>Why is this $[...] when the same product is av...</td>\n",
       "      <td>product available victor traps unreal course t...</td>\n",
       "    </tr>\n",
       "    <tr>\n",
       "      <th>2547</th>\n",
       "      <td>2775</td>\n",
       "      <td>B00002NCJC</td>\n",
       "      <td>A13RRPGE79XFFH</td>\n",
       "      <td>reader48</td>\n",
       "      <td>0</td>\n",
       "      <td>0</td>\n",
       "      <td>1</td>\n",
       "      <td>1281052800</td>\n",
       "      <td>Flies Begone</td>\n",
       "      <td>We have used the Victor fly bait for 3 seasons...</td>\n",
       "      <td>used victor fly bait seasons ca not beat great...</td>\n",
       "    </tr>\n",
       "    <tr>\n",
       "      <th>1145</th>\n",
       "      <td>1244</td>\n",
       "      <td>B00002Z754</td>\n",
       "      <td>A3B8RCEI0FXFI6</td>\n",
       "      <td>B G Chase</td>\n",
       "      <td>10</td>\n",
       "      <td>10</td>\n",
       "      <td>1</td>\n",
       "      <td>962236800</td>\n",
       "      <td>WOW Make your own 'slickers' !</td>\n",
       "      <td>I just received my shipment and could hardly w...</td>\n",
       "      <td>received shipment could hardly wait try produc...</td>\n",
       "    </tr>\n",
       "    <tr>\n",
       "      <th>1146</th>\n",
       "      <td>1245</td>\n",
       "      <td>B00002Z754</td>\n",
       "      <td>A29Z5PI9BW2PU3</td>\n",
       "      <td>Robbie</td>\n",
       "      <td>7</td>\n",
       "      <td>7</td>\n",
       "      <td>1</td>\n",
       "      <td>961718400</td>\n",
       "      <td>Great Product</td>\n",
       "      <td>This was a really good idea and the final prod...</td>\n",
       "      <td>really good idea final product outstanding use...</td>\n",
       "    </tr>\n",
       "    <tr>\n",
       "      <th>2942</th>\n",
       "      <td>3204</td>\n",
       "      <td>B000084DVR</td>\n",
       "      <td>A1UGDJP1ZJWVPF</td>\n",
       "      <td>T. Moore \"thoughtful reader\"</td>\n",
       "      <td>1</td>\n",
       "      <td>1</td>\n",
       "      <td>1</td>\n",
       "      <td>1177977600</td>\n",
       "      <td>Good stuff!</td>\n",
       "      <td>I'm glad my 45lb cocker/standard poodle puppy ...</td>\n",
       "      <td>glad cocker standard poodle puppy loves stuff ...</td>\n",
       "    </tr>\n",
       "  </tbody>\n",
       "</table>\n",
       "</div>"
      ],
      "text/plain": [
       "        Id   ProductId          UserId                   ProfileName  \\\n",
       "2546  2774  B00002NCJC  A196AJHU9EASJN                  Alex Chaffee   \n",
       "2547  2775  B00002NCJC  A13RRPGE79XFFH                      reader48   \n",
       "1145  1244  B00002Z754  A3B8RCEI0FXFI6                     B G Chase   \n",
       "1146  1245  B00002Z754  A29Z5PI9BW2PU3                        Robbie   \n",
       "2942  3204  B000084DVR  A1UGDJP1ZJWVPF  T. Moore \"thoughtful reader\"   \n",
       "\n",
       "      HelpfulnessNumerator  HelpfulnessDenominator  Score        Time  \\\n",
       "2546                     0                       0      1  1282953600   \n",
       "2547                     0                       0      1  1281052800   \n",
       "1145                    10                      10      1   962236800   \n",
       "1146                     7                       7      1   961718400   \n",
       "2942                     1                       1      1  1177977600   \n",
       "\n",
       "                             Summary  \\\n",
       "2546                   thirty bucks?   \n",
       "2547                    Flies Begone   \n",
       "1145  WOW Make your own 'slickers' !   \n",
       "1146                   Great Product   \n",
       "2942                     Good stuff!   \n",
       "\n",
       "                                                   Text  \\\n",
       "2546  Why is this $[...] when the same product is av...   \n",
       "2547  We have used the Victor fly bait for 3 seasons...   \n",
       "1145  I just received my shipment and could hardly w...   \n",
       "1146  This was a really good idea and the final prod...   \n",
       "2942  I'm glad my 45lb cocker/standard poodle puppy ...   \n",
       "\n",
       "                                   preprocessed reviews  \n",
       "2546  product available victor traps unreal course t...  \n",
       "2547  used victor fly bait seasons ca not beat great...  \n",
       "1145  received shipment could hardly wait try produc...  \n",
       "1146  really good idea final product outstanding use...  \n",
       "2942  glad cocker standard poodle puppy loves stuff ...  "
      ]
     },
     "execution_count": 47,
     "metadata": {},
     "output_type": "execute_result"
    }
   ],
   "source": [
    "final.head()"
   ]
  },
  {
   "cell_type": "code",
   "execution_count": null,
   "metadata": {},
   "outputs": [],
   "source": []
  },
  {
   "cell_type": "code",
   "execution_count": 48,
   "metadata": {},
   "outputs": [],
   "source": [
    "# Applying Train test split"
   ]
  },
  {
   "cell_type": "code",
   "execution_count": 49,
   "metadata": {},
   "outputs": [],
   "source": [
    "X = final['preprocessed reviews']\n",
    "Y = final['Score']"
   ]
  },
  {
   "cell_type": "code",
   "execution_count": 50,
   "metadata": {},
   "outputs": [
    {
     "name": "stdout",
     "output_type": "stream",
     "text": [
      "(4986,) (4986,)\n"
     ]
    }
   ],
   "source": [
    "print(X.shape,Y.shape)"
   ]
  },
  {
   "cell_type": "code",
   "execution_count": 51,
   "metadata": {},
   "outputs": [],
   "source": [
    "# Splitting the Data"
   ]
  },
  {
   "cell_type": "code",
   "execution_count": 52,
   "metadata": {},
   "outputs": [],
   "source": [
    "from sklearn.model_selection import train_test_split"
   ]
  },
  {
   "cell_type": "code",
   "execution_count": 53,
   "metadata": {},
   "outputs": [],
   "source": [
    "X_train,X_test,Y_train,Y_test = train_test_split(X,Y,test_size=0.3)"
   ]
  },
  {
   "cell_type": "code",
   "execution_count": 54,
   "metadata": {},
   "outputs": [
    {
     "name": "stdout",
     "output_type": "stream",
     "text": [
      "(3490,) (1496,) (3490,) (1496,)\n"
     ]
    }
   ],
   "source": [
    "print(X_train.shape,X_test.shape,Y_train.shape,Y_test.shape)"
   ]
  },
  {
   "cell_type": "code",
   "execution_count": null,
   "metadata": {},
   "outputs": [],
   "source": []
  },
  {
   "cell_type": "markdown",
   "metadata": {},
   "source": [
    "### Bag of Words (Unigrams)"
   ]
  },
  {
   "cell_type": "code",
   "execution_count": 153,
   "metadata": {},
   "outputs": [],
   "source": [
    "from sklearn.feature_extraction.text import CountVectorizer"
   ]
  },
  {
   "cell_type": "code",
   "execution_count": 154,
   "metadata": {},
   "outputs": [],
   "source": [
    "bow = CountVectorizer() # ngram_range=(1,1) --> unigram"
   ]
  },
  {
   "cell_type": "code",
   "execution_count": 155,
   "metadata": {},
   "outputs": [],
   "source": [
    "x_train_uni = bow.fit_transform(X_train)\n",
    "x_test_uni = bow.transform(X_test)"
   ]
  },
  {
   "cell_type": "code",
   "execution_count": 156,
   "metadata": {},
   "outputs": [],
   "source": [
    "# Data Standardization\n",
    "\n",
    "# StandardScaler : (mean = 0 & SD = 1) It transforms the data in such a manner that it has mean as 0 and standard deviation as 1. In short, it standardizes the data. Standardization is useful for data which has negative values. It arranges the data in a standard normal distribution. It is more useful in classification than regression\n",
    "# Standardization scales each input variable separately by subtracting the mean (called centering) and dividing by the standard deviation to shift the distribution to have a mean of zero and a standard deviation of one.\n",
    "# Normalizer : It squeezes the data between 0 and 1. It performs normalization\n",
    "\n",
    "# In other words Normalizer acts row-wise and StandardScaler column-wise. Normalizer does not remove the mean and scale by deviation but scales the whole row to unit norm."
   ]
  },
  {
   "cell_type": "code",
   "execution_count": 157,
   "metadata": {},
   "outputs": [],
   "source": [
    "from sklearn.preprocessing import StandardScaler\n",
    "x_train_uni = StandardScaler(with_mean= False).fit_transform(x_train_uni)\n",
    "x_test_uni = StandardScaler(with_mean= False).fit_transform(x_test_uni)"
   ]
  },
  {
   "cell_type": "code",
   "execution_count": null,
   "metadata": {},
   "outputs": [],
   "source": []
  },
  {
   "cell_type": "markdown",
   "metadata": {},
   "source": [
    "### Hyperparameter tuning using Grid Search CV to find the optimal C for Logistic Regression"
   ]
  },
  {
   "cell_type": "code",
   "execution_count": 158,
   "metadata": {},
   "outputs": [],
   "source": [
    "# https://scikit-learn.org/stable/modules/generated/sklearn.model_selection.GridSearchCV.html"
   ]
  },
  {
   "cell_type": "code",
   "execution_count": 159,
   "metadata": {},
   "outputs": [
    {
     "name": "stdout",
     "output_type": "stream",
     "text": [
      "Fitting 5 folds for each of 5 candidates, totalling 25 fits\n"
     ]
    },
    {
     "name": "stderr",
     "output_type": "stream",
     "text": [
      "[Parallel(n_jobs=-1)]: Using backend LokyBackend with 4 concurrent workers.\n",
      "[Parallel(n_jobs=-1)]: Done  18 out of  25 | elapsed:    1.2s remaining:    0.4s\n",
      "[Parallel(n_jobs=-1)]: Done  25 out of  25 | elapsed:    1.7s finished\n"
     ]
    },
    {
     "name": "stdout",
     "output_type": "stream",
     "text": [
      "Best HyperParameter:  {'C': 1}\n",
      "0.8627729500306431\n"
     ]
    }
   ],
   "source": [
    "LR = LogisticRegression(penalty ='l2',solver='liblinear')\n",
    "C_values = [{'C':[10**-4,10**-2,10**0,10**2,10**4]}]\n",
    "gsv = GridSearchCV(LR,C_values,cv=5,verbose=1,scoring='f1_weighted',n_jobs=-1)\n",
    "# verbose = Controls the verbosity: the higher, the more messages.\n",
    "# scoring = 'f1_weighted' = F1 score Calculate metrics for each label, and find their average weighted by support (the number of true instances for each label).\n",
    "# n_jobs = -1 = Number of jobs to run in parallel, -1 means using all processors.\n",
    "\n",
    "gsv.fit(x_train_uni,Y_train)\n",
    "print(\"Best HyperParameter: \",gsv.best_params_)\n",
    "print(gsv.best_score_)\n",
    "optimal_C=gsv.best_params_"
   ]
  },
  {
   "cell_type": "code",
   "execution_count": null,
   "metadata": {},
   "outputs": [],
   "source": []
  },
  {
   "cell_type": "code",
   "execution_count": 160,
   "metadata": {},
   "outputs": [],
   "source": [
    "result = gsv.cv_results_"
   ]
  },
  {
   "cell_type": "code",
   "execution_count": 161,
   "metadata": {},
   "outputs": [
    {
     "name": "stdout",
     "output_type": "stream",
     "text": [
      "{'mean_fit_time': array([0.05880194, 0.16800413, 0.28125243, 0.38376942, 0.42476892]), 'std_fit_time': array([0.02334545, 0.0265454 , 0.03875816, 0.05199938, 0.06208113]), 'mean_score_time': array([0.00399733, 0.00400071, 0.00513587, 0.00964999, 0.00659814]), 'std_score_time': array([0.00089448, 0.0006331 , 0.00542824, 0.0119656 , 0.00546314]), 'param_C': masked_array(data=[0.0001, 0.01, 1, 100, 10000],\n",
      "             mask=[False, False, False, False, False],\n",
      "       fill_value='?',\n",
      "            dtype=object), 'params': [{'C': 0.0001}, {'C': 0.01}, {'C': 1}, {'C': 100}, {'C': 10000}], 'split0_test_score': array([0.77920171, 0.85222547, 0.86062011, 0.8490599 , 0.83076506]), 'split1_test_score': array([0.78254251, 0.87253526, 0.88430481, 0.84930196, 0.83381089]), 'split2_test_score': array([0.78254251, 0.84400769, 0.84874184, 0.84573974, 0.84097533]), 'split3_test_score': array([0.7703503 , 0.8562269 , 0.86667872, 0.85092419, 0.8510522 ]), 'split4_test_score': array([0.79342374, 0.84448238, 0.85351927, 0.84910226, 0.83863989]), 'mean_test_score': array([0.78161216, 0.85389554, 0.86277295, 0.84882561, 0.83904868]), 'std_test_score': array([0.00740114, 0.01041192, 0.01237751, 0.00169026, 0.00698594]), 'rank_test_score': array([5, 2, 1, 3, 4])}\n"
     ]
    }
   ],
   "source": [
    "print(result)"
   ]
  },
  {
   "cell_type": "code",
   "execution_count": 162,
   "metadata": {},
   "outputs": [
    {
     "name": "stdout",
     "output_type": "stream",
     "text": [
      "<class 'dict'>\n"
     ]
    }
   ],
   "source": [
    "print(type(result))"
   ]
  },
  {
   "cell_type": "code",
   "execution_count": 163,
   "metadata": {},
   "outputs": [],
   "source": [
    "df = pd.DataFrame(result)"
   ]
  },
  {
   "cell_type": "code",
   "execution_count": 164,
   "metadata": {
    "scrolled": false
   },
   "outputs": [
    {
     "data": {
      "text/html": [
       "<div>\n",
       "<style scoped>\n",
       "    .dataframe tbody tr th:only-of-type {\n",
       "        vertical-align: middle;\n",
       "    }\n",
       "\n",
       "    .dataframe tbody tr th {\n",
       "        vertical-align: top;\n",
       "    }\n",
       "\n",
       "    .dataframe thead th {\n",
       "        text-align: right;\n",
       "    }\n",
       "</style>\n",
       "<table border=\"1\" class=\"dataframe\">\n",
       "  <thead>\n",
       "    <tr style=\"text-align: right;\">\n",
       "      <th></th>\n",
       "      <th>mean_fit_time</th>\n",
       "      <th>std_fit_time</th>\n",
       "      <th>mean_score_time</th>\n",
       "      <th>std_score_time</th>\n",
       "      <th>param_C</th>\n",
       "      <th>params</th>\n",
       "      <th>split0_test_score</th>\n",
       "      <th>split1_test_score</th>\n",
       "      <th>split2_test_score</th>\n",
       "      <th>split3_test_score</th>\n",
       "      <th>split4_test_score</th>\n",
       "      <th>mean_test_score</th>\n",
       "      <th>std_test_score</th>\n",
       "      <th>rank_test_score</th>\n",
       "    </tr>\n",
       "  </thead>\n",
       "  <tbody>\n",
       "    <tr>\n",
       "      <th>0</th>\n",
       "      <td>0.058802</td>\n",
       "      <td>0.023345</td>\n",
       "      <td>0.003997</td>\n",
       "      <td>0.000894</td>\n",
       "      <td>0.0001</td>\n",
       "      <td>{'C': 0.0001}</td>\n",
       "      <td>0.779202</td>\n",
       "      <td>0.782543</td>\n",
       "      <td>0.782543</td>\n",
       "      <td>0.770350</td>\n",
       "      <td>0.793424</td>\n",
       "      <td>0.781612</td>\n",
       "      <td>0.007401</td>\n",
       "      <td>5</td>\n",
       "    </tr>\n",
       "    <tr>\n",
       "      <th>1</th>\n",
       "      <td>0.168004</td>\n",
       "      <td>0.026545</td>\n",
       "      <td>0.004001</td>\n",
       "      <td>0.000633</td>\n",
       "      <td>0.01</td>\n",
       "      <td>{'C': 0.01}</td>\n",
       "      <td>0.852225</td>\n",
       "      <td>0.872535</td>\n",
       "      <td>0.844008</td>\n",
       "      <td>0.856227</td>\n",
       "      <td>0.844482</td>\n",
       "      <td>0.853896</td>\n",
       "      <td>0.010412</td>\n",
       "      <td>2</td>\n",
       "    </tr>\n",
       "    <tr>\n",
       "      <th>2</th>\n",
       "      <td>0.281252</td>\n",
       "      <td>0.038758</td>\n",
       "      <td>0.005136</td>\n",
       "      <td>0.005428</td>\n",
       "      <td>1</td>\n",
       "      <td>{'C': 1}</td>\n",
       "      <td>0.860620</td>\n",
       "      <td>0.884305</td>\n",
       "      <td>0.848742</td>\n",
       "      <td>0.866679</td>\n",
       "      <td>0.853519</td>\n",
       "      <td>0.862773</td>\n",
       "      <td>0.012378</td>\n",
       "      <td>1</td>\n",
       "    </tr>\n",
       "    <tr>\n",
       "      <th>3</th>\n",
       "      <td>0.383769</td>\n",
       "      <td>0.051999</td>\n",
       "      <td>0.009650</td>\n",
       "      <td>0.011966</td>\n",
       "      <td>100</td>\n",
       "      <td>{'C': 100}</td>\n",
       "      <td>0.849060</td>\n",
       "      <td>0.849302</td>\n",
       "      <td>0.845740</td>\n",
       "      <td>0.850924</td>\n",
       "      <td>0.849102</td>\n",
       "      <td>0.848826</td>\n",
       "      <td>0.001690</td>\n",
       "      <td>3</td>\n",
       "    </tr>\n",
       "    <tr>\n",
       "      <th>4</th>\n",
       "      <td>0.424769</td>\n",
       "      <td>0.062081</td>\n",
       "      <td>0.006598</td>\n",
       "      <td>0.005463</td>\n",
       "      <td>10000</td>\n",
       "      <td>{'C': 10000}</td>\n",
       "      <td>0.830765</td>\n",
       "      <td>0.833811</td>\n",
       "      <td>0.840975</td>\n",
       "      <td>0.851052</td>\n",
       "      <td>0.838640</td>\n",
       "      <td>0.839049</td>\n",
       "      <td>0.006986</td>\n",
       "      <td>4</td>\n",
       "    </tr>\n",
       "  </tbody>\n",
       "</table>\n",
       "</div>"
      ],
      "text/plain": [
       "   mean_fit_time  std_fit_time  mean_score_time  std_score_time param_C  \\\n",
       "0       0.058802      0.023345         0.003997        0.000894  0.0001   \n",
       "1       0.168004      0.026545         0.004001        0.000633    0.01   \n",
       "2       0.281252      0.038758         0.005136        0.005428       1   \n",
       "3       0.383769      0.051999         0.009650        0.011966     100   \n",
       "4       0.424769      0.062081         0.006598        0.005463   10000   \n",
       "\n",
       "          params  split0_test_score  split1_test_score  split2_test_score  \\\n",
       "0  {'C': 0.0001}           0.779202           0.782543           0.782543   \n",
       "1    {'C': 0.01}           0.852225           0.872535           0.844008   \n",
       "2       {'C': 1}           0.860620           0.884305           0.848742   \n",
       "3     {'C': 100}           0.849060           0.849302           0.845740   \n",
       "4   {'C': 10000}           0.830765           0.833811           0.840975   \n",
       "\n",
       "   split3_test_score  split4_test_score  mean_test_score  std_test_score  \\\n",
       "0           0.770350           0.793424         0.781612        0.007401   \n",
       "1           0.856227           0.844482         0.853896        0.010412   \n",
       "2           0.866679           0.853519         0.862773        0.012378   \n",
       "3           0.850924           0.849102         0.848826        0.001690   \n",
       "4           0.851052           0.838640         0.839049        0.006986   \n",
       "\n",
       "   rank_test_score  \n",
       "0                5  \n",
       "1                2  \n",
       "2                1  \n",
       "3                3  \n",
       "4                4  "
      ]
     },
     "execution_count": 164,
     "metadata": {},
     "output_type": "execute_result"
    }
   ],
   "source": [
    "df"
   ]
  },
  {
   "cell_type": "code",
   "execution_count": 165,
   "metadata": {},
   "outputs": [
    {
     "name": "stdout",
     "output_type": "stream",
     "text": [
      "{'C': 1}\n"
     ]
    }
   ],
   "source": [
    "print(gsv.best_params_)"
   ]
  },
  {
   "cell_type": "code",
   "execution_count": 166,
   "metadata": {},
   "outputs": [
    {
     "name": "stdout",
     "output_type": "stream",
     "text": [
      "5\n"
     ]
    }
   ],
   "source": [
    "print(gsv.n_splits_)"
   ]
  },
  {
   "cell_type": "code",
   "execution_count": 167,
   "metadata": {},
   "outputs": [],
   "source": [
    "# Plotting graph for different hyperparameter value combinations and the f1_weighted score computed by 5 fold CV"
   ]
  },
  {
   "cell_type": "code",
   "execution_count": 168,
   "metadata": {},
   "outputs": [
    {
     "data": {
      "text/html": [
       "<div>\n",
       "<style scoped>\n",
       "    .dataframe tbody tr th:only-of-type {\n",
       "        vertical-align: middle;\n",
       "    }\n",
       "\n",
       "    .dataframe tbody tr th {\n",
       "        vertical-align: top;\n",
       "    }\n",
       "\n",
       "    .dataframe thead th {\n",
       "        text-align: right;\n",
       "    }\n",
       "</style>\n",
       "<table border=\"1\" class=\"dataframe\">\n",
       "  <thead>\n",
       "    <tr style=\"text-align: right;\">\n",
       "      <th></th>\n",
       "      <th>mean_fit_time</th>\n",
       "      <th>std_fit_time</th>\n",
       "      <th>mean_score_time</th>\n",
       "      <th>std_score_time</th>\n",
       "      <th>param_C</th>\n",
       "      <th>params</th>\n",
       "      <th>split0_test_score</th>\n",
       "      <th>split1_test_score</th>\n",
       "      <th>split2_test_score</th>\n",
       "      <th>split3_test_score</th>\n",
       "      <th>split4_test_score</th>\n",
       "      <th>mean_test_score</th>\n",
       "      <th>std_test_score</th>\n",
       "      <th>rank_test_score</th>\n",
       "    </tr>\n",
       "  </thead>\n",
       "  <tbody>\n",
       "    <tr>\n",
       "      <th>0</th>\n",
       "      <td>0.058802</td>\n",
       "      <td>0.023345</td>\n",
       "      <td>0.003997</td>\n",
       "      <td>0.000894</td>\n",
       "      <td>0.0001</td>\n",
       "      <td>{'C': 0.0001}</td>\n",
       "      <td>0.779202</td>\n",
       "      <td>0.782543</td>\n",
       "      <td>0.782543</td>\n",
       "      <td>0.770350</td>\n",
       "      <td>0.793424</td>\n",
       "      <td>0.781612</td>\n",
       "      <td>0.007401</td>\n",
       "      <td>5</td>\n",
       "    </tr>\n",
       "    <tr>\n",
       "      <th>1</th>\n",
       "      <td>0.168004</td>\n",
       "      <td>0.026545</td>\n",
       "      <td>0.004001</td>\n",
       "      <td>0.000633</td>\n",
       "      <td>0.01</td>\n",
       "      <td>{'C': 0.01}</td>\n",
       "      <td>0.852225</td>\n",
       "      <td>0.872535</td>\n",
       "      <td>0.844008</td>\n",
       "      <td>0.856227</td>\n",
       "      <td>0.844482</td>\n",
       "      <td>0.853896</td>\n",
       "      <td>0.010412</td>\n",
       "      <td>2</td>\n",
       "    </tr>\n",
       "    <tr>\n",
       "      <th>2</th>\n",
       "      <td>0.281252</td>\n",
       "      <td>0.038758</td>\n",
       "      <td>0.005136</td>\n",
       "      <td>0.005428</td>\n",
       "      <td>1</td>\n",
       "      <td>{'C': 1}</td>\n",
       "      <td>0.860620</td>\n",
       "      <td>0.884305</td>\n",
       "      <td>0.848742</td>\n",
       "      <td>0.866679</td>\n",
       "      <td>0.853519</td>\n",
       "      <td>0.862773</td>\n",
       "      <td>0.012378</td>\n",
       "      <td>1</td>\n",
       "    </tr>\n",
       "    <tr>\n",
       "      <th>3</th>\n",
       "      <td>0.383769</td>\n",
       "      <td>0.051999</td>\n",
       "      <td>0.009650</td>\n",
       "      <td>0.011966</td>\n",
       "      <td>100</td>\n",
       "      <td>{'C': 100}</td>\n",
       "      <td>0.849060</td>\n",
       "      <td>0.849302</td>\n",
       "      <td>0.845740</td>\n",
       "      <td>0.850924</td>\n",
       "      <td>0.849102</td>\n",
       "      <td>0.848826</td>\n",
       "      <td>0.001690</td>\n",
       "      <td>3</td>\n",
       "    </tr>\n",
       "    <tr>\n",
       "      <th>4</th>\n",
       "      <td>0.424769</td>\n",
       "      <td>0.062081</td>\n",
       "      <td>0.006598</td>\n",
       "      <td>0.005463</td>\n",
       "      <td>10000</td>\n",
       "      <td>{'C': 10000}</td>\n",
       "      <td>0.830765</td>\n",
       "      <td>0.833811</td>\n",
       "      <td>0.840975</td>\n",
       "      <td>0.851052</td>\n",
       "      <td>0.838640</td>\n",
       "      <td>0.839049</td>\n",
       "      <td>0.006986</td>\n",
       "      <td>4</td>\n",
       "    </tr>\n",
       "  </tbody>\n",
       "</table>\n",
       "</div>"
      ],
      "text/plain": [
       "   mean_fit_time  std_fit_time  mean_score_time  std_score_time param_C  \\\n",
       "0       0.058802      0.023345         0.003997        0.000894  0.0001   \n",
       "1       0.168004      0.026545         0.004001        0.000633    0.01   \n",
       "2       0.281252      0.038758         0.005136        0.005428       1   \n",
       "3       0.383769      0.051999         0.009650        0.011966     100   \n",
       "4       0.424769      0.062081         0.006598        0.005463   10000   \n",
       "\n",
       "          params  split0_test_score  split1_test_score  split2_test_score  \\\n",
       "0  {'C': 0.0001}           0.779202           0.782543           0.782543   \n",
       "1    {'C': 0.01}           0.852225           0.872535           0.844008   \n",
       "2       {'C': 1}           0.860620           0.884305           0.848742   \n",
       "3     {'C': 100}           0.849060           0.849302           0.845740   \n",
       "4   {'C': 10000}           0.830765           0.833811           0.840975   \n",
       "\n",
       "   split3_test_score  split4_test_score  mean_test_score  std_test_score  \\\n",
       "0           0.770350           0.793424         0.781612        0.007401   \n",
       "1           0.856227           0.844482         0.853896        0.010412   \n",
       "2           0.866679           0.853519         0.862773        0.012378   \n",
       "3           0.850924           0.849102         0.848826        0.001690   \n",
       "4           0.851052           0.838640         0.839049        0.006986   \n",
       "\n",
       "   rank_test_score  \n",
       "0                5  \n",
       "1                2  \n",
       "2                1  \n",
       "3                3  \n",
       "4                4  "
      ]
     },
     "execution_count": 168,
     "metadata": {},
     "output_type": "execute_result"
    }
   ],
   "source": [
    "df"
   ]
  },
  {
   "cell_type": "code",
   "execution_count": 169,
   "metadata": {},
   "outputs": [
    {
     "data": {
      "image/png": "[encoded data removed]",
      "text/plain": [
       "<Figure size 576x432 with 1 Axes>"
      ]
     },
     "metadata": {
      "needs_background": "light"
     },
     "output_type": "display_data"
    }
   ],
   "source": [
    "plt.figure(figsize=(8,6))\n",
    "plt.xlabel(\"C\",fontsize=15)\n",
    "plt.ylabel(\"f1_weighted\")\n",
    "plt.title('f1_weighted v/s C')\n",
    "plt.plot(df['param_C'],df['mean_test_score'],linestyle='dashed', marker='o', markerfacecolor='red', markersize=6)\n",
    "plt.show()"
   ]
  },
  {
   "cell_type": "code",
   "execution_count": null,
   "metadata": {},
   "outputs": [],
   "source": []
  },
  {
   "cell_type": "markdown",
   "metadata": {},
   "source": [
    "### Finding the accuracy in Test data using calculated optimal C"
   ]
  },
  {
   "cell_type": "code",
   "execution_count": 170,
   "metadata": {},
   "outputs": [],
   "source": [
    "from sklearn.metrics import accuracy_score\n",
    "from sklearn.metrics import confusion_matrix\n",
    "from sklearn.metrics import precision_score\n",
    "from sklearn.metrics import f1_score\n",
    "from sklearn.metrics import recall_score"
   ]
  },
  {
   "cell_type": "code",
   "execution_count": 171,
   "metadata": {},
   "outputs": [],
   "source": [
    "LR = LogisticRegression(penalty='l2',C=1,solver='liblinear')\n",
    "LR.fit(x_train_uni,Y_train)\n",
    "y_pred = LR.predict(x_test_uni)"
   ]
  },
  {
   "cell_type": "markdown",
   "metadata": {},
   "source": [
    "### Plotting Heatmap"
   ]
  },
  {
   "cell_type": "code",
   "execution_count": 172,
   "metadata": {},
   "outputs": [],
   "source": [
    "cnf = confusion_matrix(Y_test, y_pred)"
   ]
  },
  {
   "cell_type": "code",
   "execution_count": 173,
   "metadata": {},
   "outputs": [
    {
     "data": {
      "text/plain": [
       "<matplotlib.axes._subplots.AxesSubplot at 0x221a3ba66a0>"
      ]
     },
     "execution_count": 173,
     "metadata": {},
     "output_type": "execute_result"
    },
    {
     "data": {
      "image/png": "[encoded data removed]",
      "text/plain": [
       "<Figure size 432x288 with 2 Axes>"
      ]
     },
     "metadata": {
      "needs_background": "light"
     },
     "output_type": "display_data"
    }
   ],
   "source": [
    "sns.heatmap(cnf,annot=True,fmt='d',annot_kws={'size':20})\n",
    "# fmt : String formatting code to use when adding annotations. d--> decimal, s-->string\n",
    "# annot: If True, write the data value in each cell. "
   ]
  },
  {
   "cell_type": "code",
   "execution_count": 174,
   "metadata": {},
   "outputs": [
    {
     "name": "stdout",
     "output_type": "stream",
     "text": [
      "Accuracy on test set: 86.765%\n",
      "Precision on test set: 0.812\n",
      "Recall on test set: 0.671\n",
      "F1-Score on test set: 0.708\n"
     ]
    }
   ],
   "source": [
    "print(\"Accuracy on test set: %0.3f%%\"%(accuracy_score(Y_test, y_pred)*100))\n",
    "print(\"Precision on test set: %0.3f\"%(precision_score(Y_test, y_pred,average='macro')))\n",
    "print(\"Recall on test set: %0.3f\"%(recall_score(Y_test, y_pred,average='macro')))\n",
    "print(\"F1-Score on test set: %0.3f\"%(f1_score(Y_test, y_pred,average='macro')))"
   ]
  },
  {
   "cell_type": "code",
   "execution_count": 175,
   "metadata": {},
   "outputs": [
    {
     "data": {
      "text/plain": [
       "pandas.core.series.Series"
      ]
     },
     "execution_count": 175,
     "metadata": {},
     "output_type": "execute_result"
    }
   ],
   "source": [
    "type(Y_test)"
   ]
  },
  {
   "cell_type": "code",
   "execution_count": 176,
   "metadata": {},
   "outputs": [
    {
     "data": {
      "text/plain": [
       "numpy.ndarray"
      ]
     },
     "execution_count": 176,
     "metadata": {},
     "output_type": "execute_result"
    }
   ],
   "source": [
    "type(y_pred)"
   ]
  },
  {
   "cell_type": "code",
   "execution_count": null,
   "metadata": {},
   "outputs": [],
   "source": []
  },
  {
   "cell_type": "markdown",
   "metadata": {},
   "source": [
    "### Hyperparameter tuning using Random Search CV to find the optimal C for Logistic Regression"
   ]
  },
  {
   "cell_type": "code",
   "execution_count": 178,
   "metadata": {},
   "outputs": [
    {
     "name": "stdout",
     "output_type": "stream",
     "text": [
      "Fitting 5 folds for each of 10 candidates, totalling 50 fits\n"
     ]
    },
    {
     "name": "stderr",
     "output_type": "stream",
     "text": [
      "[Parallel(n_jobs=-1)]: Using backend LokyBackend with 4 concurrent workers.\n",
      "[Parallel(n_jobs=-1)]: Done  42 tasks      | elapsed:    4.5s\n",
      "[Parallel(n_jobs=-1)]: Done  50 out of  50 | elapsed:    5.2s finished\n"
     ]
    },
    {
     "name": "stdout",
     "output_type": "stream",
     "text": [
      "Best HyperParameter:  {'C': 0.7432751578543351}\n",
      "0.8793696275071634\n"
     ]
    }
   ],
   "source": [
    "LR = LogisticRegression()\n",
    "C_value = {'C':uniform()}\n",
    "rsv = RandomizedSearchCV(LR, param_distributions = C_value , cv=5,verbose=1, scoring='f1_micro', n_jobs=-1)\n",
    "\n",
    "rsv.fit(x_train_uni,Y_train)\n",
    "\n",
    "print(\"Best HyperParameter: \",rsv.best_params_)\n",
    "print(rsv.best_score_)\n",
    "optimal_C=rsv.best_score_"
   ]
  },
  {
   "cell_type": "code",
   "execution_count": 179,
   "metadata": {},
   "outputs": [
    {
     "name": "stdout",
     "output_type": "stream",
     "text": [
      "0.8793696275071634\n"
     ]
    }
   ],
   "source": [
    "print(optimal_C)"
   ]
  },
  {
   "cell_type": "code",
   "execution_count": 180,
   "metadata": {},
   "outputs": [],
   "source": [
    "result = rsv.cv_results_"
   ]
  },
  {
   "cell_type": "code",
   "execution_count": 181,
   "metadata": {},
   "outputs": [],
   "source": [
    "df = pd.DataFrame(result)"
   ]
  },
  {
   "cell_type": "code",
   "execution_count": 182,
   "metadata": {},
   "outputs": [
    {
     "data": {
      "text/html": [
       "<div>\n",
       "<style scoped>\n",
       "    .dataframe tbody tr th:only-of-type {\n",
       "        vertical-align: middle;\n",
       "    }\n",
       "\n",
       "    .dataframe tbody tr th {\n",
       "        vertical-align: top;\n",
       "    }\n",
       "\n",
       "    .dataframe thead th {\n",
       "        text-align: right;\n",
       "    }\n",
       "</style>\n",
       "<table border=\"1\" class=\"dataframe\">\n",
       "  <thead>\n",
       "    <tr style=\"text-align: right;\">\n",
       "      <th></th>\n",
       "      <th>mean_fit_time</th>\n",
       "      <th>std_fit_time</th>\n",
       "      <th>mean_score_time</th>\n",
       "      <th>std_score_time</th>\n",
       "      <th>param_C</th>\n",
       "      <th>params</th>\n",
       "      <th>split0_test_score</th>\n",
       "      <th>split1_test_score</th>\n",
       "      <th>split2_test_score</th>\n",
       "      <th>split3_test_score</th>\n",
       "      <th>split4_test_score</th>\n",
       "      <th>mean_test_score</th>\n",
       "      <th>std_test_score</th>\n",
       "      <th>rank_test_score</th>\n",
       "    </tr>\n",
       "  </thead>\n",
       "  <tbody>\n",
       "    <tr>\n",
       "      <th>0</th>\n",
       "      <td>0.467644</td>\n",
       "      <td>0.045319</td>\n",
       "      <td>0.003399</td>\n",
       "      <td>0.000486</td>\n",
       "      <td>0.16009</td>\n",
       "      <td>{'C': 0.1600899855093948}</td>\n",
       "      <td>0.875358</td>\n",
       "      <td>0.882521</td>\n",
       "      <td>0.869628</td>\n",
       "      <td>0.885387</td>\n",
       "      <td>0.872493</td>\n",
       "      <td>0.877077</td>\n",
       "      <td>0.005969</td>\n",
       "      <td>10</td>\n",
       "    </tr>\n",
       "    <tr>\n",
       "      <th>1</th>\n",
       "      <td>0.407401</td>\n",
       "      <td>0.037414</td>\n",
       "      <td>0.002399</td>\n",
       "      <td>0.002058</td>\n",
       "      <td>0.458123</td>\n",
       "      <td>{'C': 0.45812345228530416}</td>\n",
       "      <td>0.876791</td>\n",
       "      <td>0.886819</td>\n",
       "      <td>0.868195</td>\n",
       "      <td>0.886819</td>\n",
       "      <td>0.876791</td>\n",
       "      <td>0.879083</td>\n",
       "      <td>0.007054</td>\n",
       "      <td>6</td>\n",
       "    </tr>\n",
       "    <tr>\n",
       "      <th>2</th>\n",
       "      <td>0.363642</td>\n",
       "      <td>0.022899</td>\n",
       "      <td>0.001801</td>\n",
       "      <td>0.001471</td>\n",
       "      <td>0.326917</td>\n",
       "      <td>{'C': 0.3269172563690548}</td>\n",
       "      <td>0.876791</td>\n",
       "      <td>0.885387</td>\n",
       "      <td>0.869628</td>\n",
       "      <td>0.886819</td>\n",
       "      <td>0.876791</td>\n",
       "      <td>0.879083</td>\n",
       "      <td>0.006317</td>\n",
       "      <td>6</td>\n",
       "    </tr>\n",
       "    <tr>\n",
       "      <th>3</th>\n",
       "      <td>0.419606</td>\n",
       "      <td>0.015623</td>\n",
       "      <td>0.003399</td>\n",
       "      <td>0.000490</td>\n",
       "      <td>0.743275</td>\n",
       "      <td>{'C': 0.7432751578543351}</td>\n",
       "      <td>0.876791</td>\n",
       "      <td>0.886819</td>\n",
       "      <td>0.863897</td>\n",
       "      <td>0.889685</td>\n",
       "      <td>0.879656</td>\n",
       "      <td>0.879370</td>\n",
       "      <td>0.009034</td>\n",
       "      <td>1</td>\n",
       "    </tr>\n",
       "    <tr>\n",
       "      <th>4</th>\n",
       "      <td>0.405872</td>\n",
       "      <td>0.042294</td>\n",
       "      <td>0.002800</td>\n",
       "      <td>0.002315</td>\n",
       "      <td>0.900453</td>\n",
       "      <td>{'C': 0.9004532291965287}</td>\n",
       "      <td>0.875358</td>\n",
       "      <td>0.891117</td>\n",
       "      <td>0.863897</td>\n",
       "      <td>0.886819</td>\n",
       "      <td>0.879656</td>\n",
       "      <td>0.879370</td>\n",
       "      <td>0.009477</td>\n",
       "      <td>1</td>\n",
       "    </tr>\n",
       "    <tr>\n",
       "      <th>5</th>\n",
       "      <td>0.384287</td>\n",
       "      <td>0.024385</td>\n",
       "      <td>0.005721</td>\n",
       "      <td>0.005308</td>\n",
       "      <td>0.63561</td>\n",
       "      <td>{'C': 0.6356098240787952}</td>\n",
       "      <td>0.878223</td>\n",
       "      <td>0.885387</td>\n",
       "      <td>0.863897</td>\n",
       "      <td>0.888252</td>\n",
       "      <td>0.878223</td>\n",
       "      <td>0.878797</td>\n",
       "      <td>0.008432</td>\n",
       "      <td>8</td>\n",
       "    </tr>\n",
       "    <tr>\n",
       "      <th>6</th>\n",
       "      <td>0.378572</td>\n",
       "      <td>0.026346</td>\n",
       "      <td>0.002399</td>\n",
       "      <td>0.002060</td>\n",
       "      <td>0.265916</td>\n",
       "      <td>{'C': 0.2659162805040176}</td>\n",
       "      <td>0.876791</td>\n",
       "      <td>0.886819</td>\n",
       "      <td>0.869628</td>\n",
       "      <td>0.886819</td>\n",
       "      <td>0.876791</td>\n",
       "      <td>0.879370</td>\n",
       "      <td>0.006621</td>\n",
       "      <td>5</td>\n",
       "    </tr>\n",
       "    <tr>\n",
       "      <th>7</th>\n",
       "      <td>0.353008</td>\n",
       "      <td>0.041226</td>\n",
       "      <td>0.004631</td>\n",
       "      <td>0.005558</td>\n",
       "      <td>0.972701</td>\n",
       "      <td>{'C': 0.9727011587647876}</td>\n",
       "      <td>0.875358</td>\n",
       "      <td>0.891117</td>\n",
       "      <td>0.863897</td>\n",
       "      <td>0.886819</td>\n",
       "      <td>0.879656</td>\n",
       "      <td>0.879370</td>\n",
       "      <td>0.009477</td>\n",
       "      <td>1</td>\n",
       "    </tr>\n",
       "    <tr>\n",
       "      <th>8</th>\n",
       "      <td>0.447005</td>\n",
       "      <td>0.029414</td>\n",
       "      <td>0.004196</td>\n",
       "      <td>0.000399</td>\n",
       "      <td>0.937093</td>\n",
       "      <td>{'C': 0.9370934949094095}</td>\n",
       "      <td>0.875358</td>\n",
       "      <td>0.891117</td>\n",
       "      <td>0.863897</td>\n",
       "      <td>0.886819</td>\n",
       "      <td>0.879656</td>\n",
       "      <td>0.879370</td>\n",
       "      <td>0.009477</td>\n",
       "      <td>1</td>\n",
       "    </tr>\n",
       "    <tr>\n",
       "      <th>9</th>\n",
       "      <td>0.335097</td>\n",
       "      <td>0.038524</td>\n",
       "      <td>0.003922</td>\n",
       "      <td>0.006046</td>\n",
       "      <td>0.171475</td>\n",
       "      <td>{'C': 0.1714749848087842}</td>\n",
       "      <td>0.876791</td>\n",
       "      <td>0.882521</td>\n",
       "      <td>0.869628</td>\n",
       "      <td>0.885387</td>\n",
       "      <td>0.872493</td>\n",
       "      <td>0.877364</td>\n",
       "      <td>0.005914</td>\n",
       "      <td>9</td>\n",
       "    </tr>\n",
       "  </tbody>\n",
       "</table>\n",
       "</div>"
      ],
      "text/plain": [
       "   mean_fit_time  std_fit_time  mean_score_time  std_score_time   param_C  \\\n",
       "0       0.467644      0.045319         0.003399        0.000486   0.16009   \n",
       "1       0.407401      0.037414         0.002399        0.002058  0.458123   \n",
       "2       0.363642      0.022899         0.001801        0.001471  0.326917   \n",
       "3       0.419606      0.015623         0.003399        0.000490  0.743275   \n",
       "4       0.405872      0.042294         0.002800        0.002315  0.900453   \n",
       "5       0.384287      0.024385         0.005721        0.005308   0.63561   \n",
       "6       0.378572      0.026346         0.002399        0.002060  0.265916   \n",
       "7       0.353008      0.041226         0.004631        0.005558  0.972701   \n",
       "8       0.447005      0.029414         0.004196        0.000399  0.937093   \n",
       "9       0.335097      0.038524         0.003922        0.006046  0.171475   \n",
       "\n",
       "                       params  split0_test_score  split1_test_score  \\\n",
       "0   {'C': 0.1600899855093948}           0.875358           0.882521   \n",
       "1  {'C': 0.45812345228530416}           0.876791           0.886819   \n",
       "2   {'C': 0.3269172563690548}           0.876791           0.885387   \n",
       "3   {'C': 0.7432751578543351}           0.876791           0.886819   \n",
       "4   {'C': 0.9004532291965287}           0.875358           0.891117   \n",
       "5   {'C': 0.6356098240787952}           0.878223           0.885387   \n",
       "6   {'C': 0.2659162805040176}           0.876791           0.886819   \n",
       "7   {'C': 0.9727011587647876}           0.875358           0.891117   \n",
       "8   {'C': 0.9370934949094095}           0.875358           0.891117   \n",
       "9   {'C': 0.1714749848087842}           0.876791           0.882521   \n",
       "\n",
       "   split2_test_score  split3_test_score  split4_test_score  mean_test_score  \\\n",
       "0           0.869628           0.885387           0.872493         0.877077   \n",
       "1           0.868195           0.886819           0.876791         0.879083   \n",
       "2           0.869628           0.886819           0.876791         0.879083   \n",
       "3           0.863897           0.889685           0.879656         0.879370   \n",
       "4           0.863897           0.886819           0.879656         0.879370   \n",
       "5           0.863897           0.888252           0.878223         0.878797   \n",
       "6           0.869628           0.886819           0.876791         0.879370   \n",
       "7           0.863897           0.886819           0.879656         0.879370   \n",
       "8           0.863897           0.886819           0.879656         0.879370   \n",
       "9           0.869628           0.885387           0.872493         0.877364   \n",
       "\n",
       "   std_test_score  rank_test_score  \n",
       "0        0.005969               10  \n",
       "1        0.007054                6  \n",
       "2        0.006317                6  \n",
       "3        0.009034                1  \n",
       "4        0.009477                1  \n",
       "5        0.008432                8  \n",
       "6        0.006621                5  \n",
       "7        0.009477                1  \n",
       "8        0.009477                1  \n",
       "9        0.005914                9  "
      ]
     },
     "execution_count": 182,
     "metadata": {},
     "output_type": "execute_result"
    }
   ],
   "source": [
    "df"
   ]
  },
  {
   "cell_type": "code",
   "execution_count": 183,
   "metadata": {},
   "outputs": [
    {
     "data": {
      "image/png": "[encoded data removed]",
      "text/plain": [
       "<Figure size 576x432 with 1 Axes>"
      ]
     },
     "metadata": {
      "needs_background": "light"
     },
     "output_type": "display_data"
    }
   ],
   "source": [
    "plt.figure(figsize=(8,6))\n",
    "plt.xlabel(\"C\",fontsize=15)\n",
    "plt.ylabel(\"f1_weighted\")\n",
    "plt.title('f1_weighted v/s C')\n",
    "plt.plot(df['param_C'],df['mean_test_score'],linestyle='dashed', marker='o', markerfacecolor='red', markersize=8)\n",
    "plt.show()"
   ]
  },
  {
   "cell_type": "code",
   "execution_count": null,
   "metadata": {},
   "outputs": [],
   "source": []
  },
  {
   "cell_type": "markdown",
   "metadata": {},
   "source": [
    "### Finding the accuracy in Test data using calculated optimal C"
   ]
  },
  {
   "cell_type": "code",
   "execution_count": 184,
   "metadata": {
    "scrolled": true
   },
   "outputs": [],
   "source": [
    "LR = LogisticRegression(penalty='l2',C=0.41888926425184225,solver='liblinear')\n",
    "LR.fit(x_train_uni,Y_train)\n",
    "y_pred = LR.predict(x_test_uni)"
   ]
  },
  {
   "cell_type": "code",
   "execution_count": 185,
   "metadata": {},
   "outputs": [
    {
     "name": "stdout",
     "output_type": "stream",
     "text": [
      "Accuracy on test set: 86.965%\n",
      "Precision on test set: 0.824\n",
      "Recall on test set: 0.669\n",
      "F1-Score on test set: 0.708\n"
     ]
    }
   ],
   "source": [
    "print(\"Accuracy on test set: %0.3f%%\"%(accuracy_score(Y_test, y_pred)*100))\n",
    "print(\"Precision on test set: %0.3f\"%(precision_score(Y_test, y_pred,average='macro')))\n",
    "print(\"Recall on test set: %0.3f\"%(recall_score(Y_test, y_pred,average='macro')))\n",
    "print(\"F1-Score on test set: %0.3f\"%(f1_score(Y_test, y_pred,average='macro')))"
   ]
  },
  {
   "cell_type": "code",
   "execution_count": null,
   "metadata": {},
   "outputs": [],
   "source": []
  },
  {
   "cell_type": "code",
   "execution_count": 186,
   "metadata": {},
   "outputs": [],
   "source": [
    "# Plotting Heatmap"
   ]
  },
  {
   "cell_type": "code",
   "execution_count": 187,
   "metadata": {},
   "outputs": [
    {
     "data": {
      "text/plain": [
       "<matplotlib.axes._subplots.AxesSubplot at 0x221a3b9fc18>"
      ]
     },
     "execution_count": 187,
     "metadata": {},
     "output_type": "execute_result"
    },
    {
     "data": {
      "image/png": "[encoded data removed]",
      "text/plain": [
       "<Figure size 432x288 with 2 Axes>"
      ]
     },
     "metadata": {
      "needs_background": "light"
     },
     "output_type": "display_data"
    }
   ],
   "source": [
    "cnf = confusion_matrix(Y_test, y_pred)\n",
    "sns.heatmap(cnf,annot=True,fmt='d',annot_kws={'size':20})"
   ]
  },
  {
   "cell_type": "code",
   "execution_count": null,
   "metadata": {},
   "outputs": [],
   "source": []
  },
  {
   "cell_type": "markdown",
   "metadata": {},
   "source": [
    "## Bi-Grams"
   ]
  },
  {
   "cell_type": "code",
   "execution_count": 188,
   "metadata": {},
   "outputs": [],
   "source": [
    "bi_gram = CountVectorizer(ngram_range=(1,2))\n",
    "x_tr_bi = bi_gram.fit_transform(X_train)\n",
    "x_test_bi = bi_gram.transform(X_test)\n",
    "\n",
    "x_tr_bi = StandardScaler(with_mean = False).fit_transform(x_tr_bi)\n",
    "x_test_bi = StandardScaler(with_mean = False).fit_transform(x_test_bi)"
   ]
  },
  {
   "cell_type": "code",
   "execution_count": null,
   "metadata": {},
   "outputs": [],
   "source": []
  },
  {
   "cell_type": "markdown",
   "metadata": {},
   "source": [
    "### Hyperparameter tuning using Grid Search CV to find the optimal C for Logistic Regression"
   ]
  },
  {
   "cell_type": "code",
   "execution_count": 190,
   "metadata": {},
   "outputs": [
    {
     "name": "stdout",
     "output_type": "stream",
     "text": [
      "Fitting 5 folds for each of 5 candidates, totalling 25 fits\n"
     ]
    },
    {
     "name": "stderr",
     "output_type": "stream",
     "text": [
      "[Parallel(n_jobs=-1)]: Using backend LokyBackend with 4 concurrent workers.\n",
      "[Parallel(n_jobs=-1)]: Done  25 out of  25 | elapsed:   13.5s finished\n"
     ]
    },
    {
     "name": "stdout",
     "output_type": "stream",
     "text": [
      "Best HyperParameter:  {'C': 0.01}\n",
      "0.7817237490010351\n"
     ]
    }
   ],
   "source": [
    "LR = LogisticRegression(penalty ='l2',solver='liblinear')\n",
    "C_values = [{'C': [10**-4, 10**-2, 10**0, 10**2, 10**4]}]\n",
    "gsv = GridSearchCV(LR,C_values,cv=5,verbose=1,scoring='f1_weighted',n_jobs=-1)\n",
    "# verbose = Controls the verbosity: the higher, the more messages.\n",
    "# scoring = 'f1_weighted' = F1 score Calculate metrics for each label, and find their average weighted by support (the number of true instances for each label).\n",
    "# n_jobs = -1 = Number of jobs to run in parallel, -1 means using all processors.\n",
    "\n",
    "gsv.fit(x_tr_bi,Y_train)\n",
    "print(\"Best HyperParameter: \",gsv.best_params_)\n",
    "print(gsv.best_score_)\n",
    "optimal_C=gsv.best_score_"
   ]
  },
  {
   "cell_type": "code",
   "execution_count": null,
   "metadata": {},
   "outputs": [],
   "source": []
  },
  {
   "cell_type": "code",
   "execution_count": 191,
   "metadata": {},
   "outputs": [
    {
     "data": {
      "text/plain": [
       "{'mean_fit_time': array([0.4709363 , 1.20448165, 1.9990684 , 3.64737535, 2.82332711]),\n",
       " 'std_fit_time': array([0.02280287, 0.04043118, 0.12743581, 0.59225248, 0.77443612]),\n",
       " 'mean_score_time': array([0.0053977 , 0.00779963, 0.00812607, 0.00625119, 0.00932899]),\n",
       " 'std_score_time': array([0.00135591, 0.007647  , 0.00387282, 0.00765612, 0.00555694]),\n",
       " 'param_C': masked_array(data=[0.0001, 0.01, 1, 100, 10000],\n",
       "              mask=[False, False, False, False, False],\n",
       "        fill_value='?',\n",
       "             dtype=object),\n",
       " 'params': [{'C': 0.0001}, {'C': 0.01}, {'C': 1}, {'C': 100}, {'C': 10000}],\n",
       " 'split0_test_score': array([0.77920171, 0.78254251, 0.77843954, 0.75519001, 0.75519001]),\n",
       " 'split1_test_score': array([0.77581205, 0.78583579, 0.77581205, 0.74776835, 0.7437522 ]),\n",
       " 'split2_test_score': array([0.77920171, 0.77920171, 0.77581205, 0.77581205, 0.77581205]),\n",
       " 'split3_test_score': array([0.77717855, 0.78051936, 0.77717855, 0.76505372, 0.7592085 ]),\n",
       " 'split4_test_score': array([0.77378931, 0.78051936, 0.77378931, 0.7755737 , 0.77294834]),\n",
       " 'mean_test_score': array([0.77703666, 0.78172375, 0.7762063 , 0.76387957, 0.76138222]),\n",
       " 'std_test_score': array([0.00207075, 0.00231694, 0.00155469, 0.0110959 , 0.0117973 ]),\n",
       " 'rank_test_score': array([2, 1, 3, 4, 5])}"
      ]
     },
     "execution_count": 191,
     "metadata": {},
     "output_type": "execute_result"
    }
   ],
   "source": [
    "gsv.cv_results_"
   ]
  },
  {
   "cell_type": "code",
   "execution_count": 192,
   "metadata": {},
   "outputs": [],
   "source": [
    "df = pd.DataFrame(gsv.cv_results_)"
   ]
  },
  {
   "cell_type": "code",
   "execution_count": 193,
   "metadata": {},
   "outputs": [
    {
     "data": {
      "text/html": [
       "<div>\n",
       "<style scoped>\n",
       "    .dataframe tbody tr th:only-of-type {\n",
       "        vertical-align: middle;\n",
       "    }\n",
       "\n",
       "    .dataframe tbody tr th {\n",
       "        vertical-align: top;\n",
       "    }\n",
       "\n",
       "    .dataframe thead th {\n",
       "        text-align: right;\n",
       "    }\n",
       "</style>\n",
       "<table border=\"1\" class=\"dataframe\">\n",
       "  <thead>\n",
       "    <tr style=\"text-align: right;\">\n",
       "      <th></th>\n",
       "      <th>mean_fit_time</th>\n",
       "      <th>std_fit_time</th>\n",
       "      <th>mean_score_time</th>\n",
       "      <th>std_score_time</th>\n",
       "      <th>param_C</th>\n",
       "      <th>params</th>\n",
       "      <th>split0_test_score</th>\n",
       "      <th>split1_test_score</th>\n",
       "      <th>split2_test_score</th>\n",
       "      <th>split3_test_score</th>\n",
       "      <th>split4_test_score</th>\n",
       "      <th>mean_test_score</th>\n",
       "      <th>std_test_score</th>\n",
       "      <th>rank_test_score</th>\n",
       "    </tr>\n",
       "  </thead>\n",
       "  <tbody>\n",
       "    <tr>\n",
       "      <th>0</th>\n",
       "      <td>0.470936</td>\n",
       "      <td>0.022803</td>\n",
       "      <td>0.005398</td>\n",
       "      <td>0.001356</td>\n",
       "      <td>0.0001</td>\n",
       "      <td>{'C': 0.0001}</td>\n",
       "      <td>0.779202</td>\n",
       "      <td>0.775812</td>\n",
       "      <td>0.779202</td>\n",
       "      <td>0.777179</td>\n",
       "      <td>0.773789</td>\n",
       "      <td>0.777037</td>\n",
       "      <td>0.002071</td>\n",
       "      <td>2</td>\n",
       "    </tr>\n",
       "    <tr>\n",
       "      <th>1</th>\n",
       "      <td>1.204482</td>\n",
       "      <td>0.040431</td>\n",
       "      <td>0.007800</td>\n",
       "      <td>0.007647</td>\n",
       "      <td>0.01</td>\n",
       "      <td>{'C': 0.01}</td>\n",
       "      <td>0.782543</td>\n",
       "      <td>0.785836</td>\n",
       "      <td>0.779202</td>\n",
       "      <td>0.780519</td>\n",
       "      <td>0.780519</td>\n",
       "      <td>0.781724</td>\n",
       "      <td>0.002317</td>\n",
       "      <td>1</td>\n",
       "    </tr>\n",
       "    <tr>\n",
       "      <th>2</th>\n",
       "      <td>1.999068</td>\n",
       "      <td>0.127436</td>\n",
       "      <td>0.008126</td>\n",
       "      <td>0.003873</td>\n",
       "      <td>1</td>\n",
       "      <td>{'C': 1}</td>\n",
       "      <td>0.778440</td>\n",
       "      <td>0.775812</td>\n",
       "      <td>0.775812</td>\n",
       "      <td>0.777179</td>\n",
       "      <td>0.773789</td>\n",
       "      <td>0.776206</td>\n",
       "      <td>0.001555</td>\n",
       "      <td>3</td>\n",
       "    </tr>\n",
       "    <tr>\n",
       "      <th>3</th>\n",
       "      <td>3.647375</td>\n",
       "      <td>0.592252</td>\n",
       "      <td>0.006251</td>\n",
       "      <td>0.007656</td>\n",
       "      <td>100</td>\n",
       "      <td>{'C': 100}</td>\n",
       "      <td>0.755190</td>\n",
       "      <td>0.747768</td>\n",
       "      <td>0.775812</td>\n",
       "      <td>0.765054</td>\n",
       "      <td>0.775574</td>\n",
       "      <td>0.763880</td>\n",
       "      <td>0.011096</td>\n",
       "      <td>4</td>\n",
       "    </tr>\n",
       "    <tr>\n",
       "      <th>4</th>\n",
       "      <td>2.823327</td>\n",
       "      <td>0.774436</td>\n",
       "      <td>0.009329</td>\n",
       "      <td>0.005557</td>\n",
       "      <td>10000</td>\n",
       "      <td>{'C': 10000}</td>\n",
       "      <td>0.755190</td>\n",
       "      <td>0.743752</td>\n",
       "      <td>0.775812</td>\n",
       "      <td>0.759208</td>\n",
       "      <td>0.772948</td>\n",
       "      <td>0.761382</td>\n",
       "      <td>0.011797</td>\n",
       "      <td>5</td>\n",
       "    </tr>\n",
       "  </tbody>\n",
       "</table>\n",
       "</div>"
      ],
      "text/plain": [
       "   mean_fit_time  std_fit_time  mean_score_time  std_score_time param_C  \\\n",
       "0       0.470936      0.022803         0.005398        0.001356  0.0001   \n",
       "1       1.204482      0.040431         0.007800        0.007647    0.01   \n",
       "2       1.999068      0.127436         0.008126        0.003873       1   \n",
       "3       3.647375      0.592252         0.006251        0.007656     100   \n",
       "4       2.823327      0.774436         0.009329        0.005557   10000   \n",
       "\n",
       "          params  split0_test_score  split1_test_score  split2_test_score  \\\n",
       "0  {'C': 0.0001}           0.779202           0.775812           0.779202   \n",
       "1    {'C': 0.01}           0.782543           0.785836           0.779202   \n",
       "2       {'C': 1}           0.778440           0.775812           0.775812   \n",
       "3     {'C': 100}           0.755190           0.747768           0.775812   \n",
       "4   {'C': 10000}           0.755190           0.743752           0.775812   \n",
       "\n",
       "   split3_test_score  split4_test_score  mean_test_score  std_test_score  \\\n",
       "0           0.777179           0.773789         0.777037        0.002071   \n",
       "1           0.780519           0.780519         0.781724        0.002317   \n",
       "2           0.777179           0.773789         0.776206        0.001555   \n",
       "3           0.765054           0.775574         0.763880        0.011096   \n",
       "4           0.759208           0.772948         0.761382        0.011797   \n",
       "\n",
       "   rank_test_score  \n",
       "0                2  \n",
       "1                1  \n",
       "2                3  \n",
       "3                4  \n",
       "4                5  "
      ]
     },
     "execution_count": 193,
     "metadata": {},
     "output_type": "execute_result"
    }
   ],
   "source": [
    "df"
   ]
  },
  {
   "cell_type": "code",
   "execution_count": 194,
   "metadata": {},
   "outputs": [
    {
     "data": {
      "image/png": "[encoded data removed]",
      "text/plain": [
       "<Figure size 576x432 with 1 Axes>"
      ]
     },
     "metadata": {
      "needs_background": "light"
     },
     "output_type": "display_data"
    }
   ],
   "source": [
    "plt.figure(figsize=(8,6))\n",
    "plt.xlabel(\"C\",fontsize=15)\n",
    "plt.ylabel(\"f1_weighted\")\n",
    "plt.title('f1_weighted v/s C')\n",
    "plt.plot(df['param_C'],df['mean_test_score'],linestyle='dashed', marker='o', markerfacecolor='red', markersize=8)\n",
    "plt.show()"
   ]
  },
  {
   "cell_type": "code",
   "execution_count": null,
   "metadata": {},
   "outputs": [],
   "source": []
  },
  {
   "cell_type": "markdown",
   "metadata": {},
   "source": [
    "### Finding the accuracy in Test data using optimal C\n"
   ]
  },
  {
   "cell_type": "code",
   "execution_count": 195,
   "metadata": {},
   "outputs": [],
   "source": [
    "LR = LogisticRegression(penalty='l2',C=0.01,solver='liblinear')\n",
    "LR.fit(x_train_uni,Y_train)\n",
    "y_pred = LR.predict(x_test_uni)"
   ]
  },
  {
   "cell_type": "code",
   "execution_count": 196,
   "metadata": {},
   "outputs": [
    {
     "name": "stdout",
     "output_type": "stream",
     "text": [
      "Accuracy on test set: 86.765%\n",
      "Precision on test set: 0.861\n",
      "Recall on test set: 0.640\n",
      "F1-Score on test set: 0.680\n"
     ]
    }
   ],
   "source": [
    "print(\"Accuracy on test set: %0.3f%%\"%(accuracy_score(Y_test, y_pred)*100))\n",
    "print(\"Precision on test set: %0.3f\"%(precision_score(Y_test, y_pred,average='macro')))\n",
    "print(\"Recall on test set: %0.3f\"%(recall_score(Y_test, y_pred,average='macro')))\n",
    "print(\"F1-Score on test set: %0.3f\"%(f1_score(Y_test, y_pred,average='macro')))"
   ]
  },
  {
   "cell_type": "code",
   "execution_count": 197,
   "metadata": {},
   "outputs": [],
   "source": [
    "# Plotting Heatmap"
   ]
  },
  {
   "cell_type": "code",
   "execution_count": 198,
   "metadata": {},
   "outputs": [
    {
     "data": {
      "text/plain": [
       "<matplotlib.axes._subplots.AxesSubplot at 0x221a58b4940>"
      ]
     },
     "execution_count": 198,
     "metadata": {},
     "output_type": "execute_result"
    },
    {
     "data": {
      "image/png": "[encoded data removed]",
      "text/plain": [
       "<Figure size 432x288 with 2 Axes>"
      ]
     },
     "metadata": {
      "needs_background": "light"
     },
     "output_type": "display_data"
    }
   ],
   "source": [
    "cnf = confusion_matrix(Y_test, y_pred)\n",
    "sns.heatmap(cnf,annot=True,fmt='d',annot_kws={'size':20})"
   ]
  },
  {
   "cell_type": "code",
   "execution_count": null,
   "metadata": {},
   "outputs": [],
   "source": []
  },
  {
   "cell_type": "markdown",
   "metadata": {},
   "source": [
    "### Hyperparameter tuning using Random Search CV to find the optimal C for Logistic Regression"
   ]
  },
  {
   "cell_type": "code",
   "execution_count": 200,
   "metadata": {},
   "outputs": [
    {
     "name": "stdout",
     "output_type": "stream",
     "text": [
      "Fitting 5 folds for each of 10 candidates, totalling 50 fits\n"
     ]
    },
    {
     "name": "stderr",
     "output_type": "stream",
     "text": [
      "[Parallel(n_jobs=-1)]: Using backend LokyBackend with 4 concurrent workers.\n",
      "[Parallel(n_jobs=-1)]: Done  42 tasks      | elapsed:   21.5s\n",
      "[Parallel(n_jobs=-1)]: Done  50 out of  50 | elapsed:   24.8s finished\n"
     ]
    },
    {
     "name": "stdout",
     "output_type": "stream",
     "text": [
      "Best HyperParameter:  {'C': 0.8670592220438696}\n",
      "0.7762063004479631\n"
     ]
    }
   ],
   "source": [
    "LR = LogisticRegression(penalty ='l2',solver='liblinear')\n",
    "C_values = {'C': uniform()} \n",
    "gsv = RandomizedSearchCV(LR,C_values,cv=5,verbose=1,scoring='f1_weighted',n_jobs=-1)\n",
    "# verbose = Controls the verbosity: the higher, the more messages.\n",
    "# scoring = 'f1_weighted' = F1 score Calculate metrics for each label, and find their average weighted by support (the number of true instances for each label).\n",
    "# n_jobs = -1 = Number of jobs to run in parallel, -1 means using all processors.\n",
    "\n",
    "gsv.fit(x_tr_bi,Y_train)\n",
    "print(\"Best HyperParameter: \",gsv.best_params_)\n",
    "print(gsv.best_score_)\n",
    "optimal_C=gsv.best_score_"
   ]
  },
  {
   "cell_type": "code",
   "execution_count": 201,
   "metadata": {},
   "outputs": [
    {
     "data": {
      "text/html": [
       "<div>\n",
       "<style scoped>\n",
       "    .dataframe tbody tr th:only-of-type {\n",
       "        vertical-align: middle;\n",
       "    }\n",
       "\n",
       "    .dataframe tbody tr th {\n",
       "        vertical-align: top;\n",
       "    }\n",
       "\n",
       "    .dataframe thead th {\n",
       "        text-align: right;\n",
       "    }\n",
       "</style>\n",
       "<table border=\"1\" class=\"dataframe\">\n",
       "  <thead>\n",
       "    <tr style=\"text-align: right;\">\n",
       "      <th></th>\n",
       "      <th>mean_fit_time</th>\n",
       "      <th>std_fit_time</th>\n",
       "      <th>mean_score_time</th>\n",
       "      <th>std_score_time</th>\n",
       "      <th>param_C</th>\n",
       "      <th>params</th>\n",
       "      <th>split0_test_score</th>\n",
       "      <th>split1_test_score</th>\n",
       "      <th>split2_test_score</th>\n",
       "      <th>split3_test_score</th>\n",
       "      <th>split4_test_score</th>\n",
       "      <th>mean_test_score</th>\n",
       "      <th>std_test_score</th>\n",
       "      <th>rank_test_score</th>\n",
       "    </tr>\n",
       "  </thead>\n",
       "  <tbody>\n",
       "    <tr>\n",
       "      <th>0</th>\n",
       "      <td>1.968582</td>\n",
       "      <td>0.071331</td>\n",
       "      <td>0.007249</td>\n",
       "      <td>0.007074</td>\n",
       "      <td>0.782762</td>\n",
       "      <td>{'C': 0.7827624307149678}</td>\n",
       "      <td>0.77844</td>\n",
       "      <td>0.772372</td>\n",
       "      <td>0.775812</td>\n",
       "      <td>0.777179</td>\n",
       "      <td>0.773789</td>\n",
       "      <td>0.775518</td>\n",
       "      <td>0.002203</td>\n",
       "      <td>5</td>\n",
       "    </tr>\n",
       "    <tr>\n",
       "      <th>1</th>\n",
       "      <td>1.808633</td>\n",
       "      <td>0.082203</td>\n",
       "      <td>0.009215</td>\n",
       "      <td>0.004011</td>\n",
       "      <td>0.454048</td>\n",
       "      <td>{'C': 0.45404806235827333}</td>\n",
       "      <td>0.77844</td>\n",
       "      <td>0.772372</td>\n",
       "      <td>0.775812</td>\n",
       "      <td>0.777179</td>\n",
       "      <td>0.770350</td>\n",
       "      <td>0.774831</td>\n",
       "      <td>0.003021</td>\n",
       "      <td>6</td>\n",
       "    </tr>\n",
       "    <tr>\n",
       "      <th>2</th>\n",
       "      <td>2.045873</td>\n",
       "      <td>0.175473</td>\n",
       "      <td>0.005605</td>\n",
       "      <td>0.001018</td>\n",
       "      <td>0.867059</td>\n",
       "      <td>{'C': 0.8670592220438696}</td>\n",
       "      <td>0.77844</td>\n",
       "      <td>0.775812</td>\n",
       "      <td>0.775812</td>\n",
       "      <td>0.777179</td>\n",
       "      <td>0.773789</td>\n",
       "      <td>0.776206</td>\n",
       "      <td>0.001555</td>\n",
       "      <td>1</td>\n",
       "    </tr>\n",
       "    <tr>\n",
       "      <th>3</th>\n",
       "      <td>1.850205</td>\n",
       "      <td>0.063165</td>\n",
       "      <td>0.000215</td>\n",
       "      <td>0.000430</td>\n",
       "      <td>0.67018</td>\n",
       "      <td>{'C': 0.6701804197759299}</td>\n",
       "      <td>0.77844</td>\n",
       "      <td>0.772372</td>\n",
       "      <td>0.775812</td>\n",
       "      <td>0.777179</td>\n",
       "      <td>0.770350</td>\n",
       "      <td>0.774831</td>\n",
       "      <td>0.003021</td>\n",
       "      <td>6</td>\n",
       "    </tr>\n",
       "    <tr>\n",
       "      <th>4</th>\n",
       "      <td>1.899997</td>\n",
       "      <td>0.109422</td>\n",
       "      <td>0.006252</td>\n",
       "      <td>0.007657</td>\n",
       "      <td>0.98354</td>\n",
       "      <td>{'C': 0.9835404772074736}</td>\n",
       "      <td>0.77844</td>\n",
       "      <td>0.775812</td>\n",
       "      <td>0.775812</td>\n",
       "      <td>0.777179</td>\n",
       "      <td>0.773789</td>\n",
       "      <td>0.776206</td>\n",
       "      <td>0.001555</td>\n",
       "      <td>1</td>\n",
       "    </tr>\n",
       "    <tr>\n",
       "      <th>5</th>\n",
       "      <td>1.846587</td>\n",
       "      <td>0.055376</td>\n",
       "      <td>0.006248</td>\n",
       "      <td>0.007653</td>\n",
       "      <td>0.732995</td>\n",
       "      <td>{'C': 0.7329954210626083}</td>\n",
       "      <td>0.77844</td>\n",
       "      <td>0.772372</td>\n",
       "      <td>0.775812</td>\n",
       "      <td>0.777179</td>\n",
       "      <td>0.770350</td>\n",
       "      <td>0.774831</td>\n",
       "      <td>0.003021</td>\n",
       "      <td>6</td>\n",
       "    </tr>\n",
       "    <tr>\n",
       "      <th>6</th>\n",
       "      <td>1.863615</td>\n",
       "      <td>0.042575</td>\n",
       "      <td>0.003124</td>\n",
       "      <td>0.006248</td>\n",
       "      <td>0.633665</td>\n",
       "      <td>{'C': 0.6336651018874644}</td>\n",
       "      <td>0.77844</td>\n",
       "      <td>0.772372</td>\n",
       "      <td>0.775812</td>\n",
       "      <td>0.777179</td>\n",
       "      <td>0.770350</td>\n",
       "      <td>0.774831</td>\n",
       "      <td>0.003021</td>\n",
       "      <td>6</td>\n",
       "    </tr>\n",
       "    <tr>\n",
       "      <th>7</th>\n",
       "      <td>2.089713</td>\n",
       "      <td>0.128666</td>\n",
       "      <td>0.004200</td>\n",
       "      <td>0.002135</td>\n",
       "      <td>0.915614</td>\n",
       "      <td>{'C': 0.915614127564562}</td>\n",
       "      <td>0.77844</td>\n",
       "      <td>0.775812</td>\n",
       "      <td>0.775812</td>\n",
       "      <td>0.777179</td>\n",
       "      <td>0.773789</td>\n",
       "      <td>0.776206</td>\n",
       "      <td>0.001555</td>\n",
       "      <td>1</td>\n",
       "    </tr>\n",
       "    <tr>\n",
       "      <th>8</th>\n",
       "      <td>2.071001</td>\n",
       "      <td>0.045945</td>\n",
       "      <td>0.008805</td>\n",
       "      <td>0.004620</td>\n",
       "      <td>0.618681</td>\n",
       "      <td>{'C': 0.6186814391111088}</td>\n",
       "      <td>0.77844</td>\n",
       "      <td>0.772372</td>\n",
       "      <td>0.775812</td>\n",
       "      <td>0.777179</td>\n",
       "      <td>0.770350</td>\n",
       "      <td>0.774831</td>\n",
       "      <td>0.003021</td>\n",
       "      <td>6</td>\n",
       "    </tr>\n",
       "    <tr>\n",
       "      <th>9</th>\n",
       "      <td>1.801785</td>\n",
       "      <td>0.517814</td>\n",
       "      <td>0.004402</td>\n",
       "      <td>0.004457</td>\n",
       "      <td>0.873506</td>\n",
       "      <td>{'C': 0.8735057299937554}</td>\n",
       "      <td>0.77844</td>\n",
       "      <td>0.775812</td>\n",
       "      <td>0.775812</td>\n",
       "      <td>0.777179</td>\n",
       "      <td>0.773789</td>\n",
       "      <td>0.776206</td>\n",
       "      <td>0.001555</td>\n",
       "      <td>1</td>\n",
       "    </tr>\n",
       "  </tbody>\n",
       "</table>\n",
       "</div>"
      ],
      "text/plain": [
       "   mean_fit_time  std_fit_time  mean_score_time  std_score_time   param_C  \\\n",
       "0       1.968582      0.071331         0.007249        0.007074  0.782762   \n",
       "1       1.808633      0.082203         0.009215        0.004011  0.454048   \n",
       "2       2.045873      0.175473         0.005605        0.001018  0.867059   \n",
       "3       1.850205      0.063165         0.000215        0.000430   0.67018   \n",
       "4       1.899997      0.109422         0.006252        0.007657   0.98354   \n",
       "5       1.846587      0.055376         0.006248        0.007653  0.732995   \n",
       "6       1.863615      0.042575         0.003124        0.006248  0.633665   \n",
       "7       2.089713      0.128666         0.004200        0.002135  0.915614   \n",
       "8       2.071001      0.045945         0.008805        0.004620  0.618681   \n",
       "9       1.801785      0.517814         0.004402        0.004457  0.873506   \n",
       "\n",
       "                       params  split0_test_score  split1_test_score  \\\n",
       "0   {'C': 0.7827624307149678}            0.77844           0.772372   \n",
       "1  {'C': 0.45404806235827333}            0.77844           0.772372   \n",
       "2   {'C': 0.8670592220438696}            0.77844           0.775812   \n",
       "3   {'C': 0.6701804197759299}            0.77844           0.772372   \n",
       "4   {'C': 0.9835404772074736}            0.77844           0.775812   \n",
       "5   {'C': 0.7329954210626083}            0.77844           0.772372   \n",
       "6   {'C': 0.6336651018874644}            0.77844           0.772372   \n",
       "7    {'C': 0.915614127564562}            0.77844           0.775812   \n",
       "8   {'C': 0.6186814391111088}            0.77844           0.772372   \n",
       "9   {'C': 0.8735057299937554}            0.77844           0.775812   \n",
       "\n",
       "   split2_test_score  split3_test_score  split4_test_score  mean_test_score  \\\n",
       "0           0.775812           0.777179           0.773789         0.775518   \n",
       "1           0.775812           0.777179           0.770350         0.774831   \n",
       "2           0.775812           0.777179           0.773789         0.776206   \n",
       "3           0.775812           0.777179           0.770350         0.774831   \n",
       "4           0.775812           0.777179           0.773789         0.776206   \n",
       "5           0.775812           0.777179           0.770350         0.774831   \n",
       "6           0.775812           0.777179           0.770350         0.774831   \n",
       "7           0.775812           0.777179           0.773789         0.776206   \n",
       "8           0.775812           0.777179           0.770350         0.774831   \n",
       "9           0.775812           0.777179           0.773789         0.776206   \n",
       "\n",
       "   std_test_score  rank_test_score  \n",
       "0        0.002203                5  \n",
       "1        0.003021                6  \n",
       "2        0.001555                1  \n",
       "3        0.003021                6  \n",
       "4        0.001555                1  \n",
       "5        0.003021                6  \n",
       "6        0.003021                6  \n",
       "7        0.001555                1  \n",
       "8        0.003021                6  \n",
       "9        0.001555                1  "
      ]
     },
     "execution_count": 201,
     "metadata": {},
     "output_type": "execute_result"
    }
   ],
   "source": [
    "result = gsv.cv_results_\n",
    "df = pd.DataFrame(result)\n",
    "df"
   ]
  },
  {
   "cell_type": "code",
   "execution_count": null,
   "metadata": {},
   "outputs": [],
   "source": []
  },
  {
   "cell_type": "code",
   "execution_count": 202,
   "metadata": {},
   "outputs": [
    {
     "data": {
      "image/png": "[encoded data removed]",
      "text/plain": [
       "<Figure size 576x432 with 1 Axes>"
      ]
     },
     "metadata": {
      "needs_background": "light"
     },
     "output_type": "display_data"
    }
   ],
   "source": [
    "plt.figure(figsize=(8,6))\n",
    "plt.xlabel(\"C\",fontsize=15)\n",
    "plt.ylabel(\"f1_weighted\")\n",
    "plt.title('f1_weighted v/s C')\n",
    "plt.plot(df['param_C'],df['mean_test_score'],linestyle='dashed', marker='o', markerfacecolor='red', markersize=6)\n",
    "plt.show()"
   ]
  },
  {
   "cell_type": "code",
   "execution_count": null,
   "metadata": {},
   "outputs": [],
   "source": []
  },
  {
   "cell_type": "markdown",
   "metadata": {},
   "source": [
    "### Finding the accuracy in Test data using calculated optimal C"
   ]
  },
  {
   "cell_type": "code",
   "execution_count": 203,
   "metadata": {},
   "outputs": [],
   "source": [
    "LR = LogisticRegression(penalty='l2',C=0.012211551668795173,solver='liblinear')\n",
    "LR.fit(x_train_uni,Y_train)\n",
    "y_pred = LR.predict(x_test_uni)"
   ]
  },
  {
   "cell_type": "code",
   "execution_count": 204,
   "metadata": {
    "scrolled": true
   },
   "outputs": [
    {
     "name": "stdout",
     "output_type": "stream",
     "text": [
      "Accuracy on test set: 86.832%\n",
      "Precision on test set: 0.859\n",
      "Recall on test set: 0.644\n",
      "F1-Score on test set: 0.684\n"
     ]
    }
   ],
   "source": [
    "print(\"Accuracy on test set: %0.3f%%\"%(accuracy_score(Y_test, y_pred)*100))\n",
    "print(\"Precision on test set: %0.3f\"%(precision_score(Y_test, y_pred,average='macro')))\n",
    "print(\"Recall on test set: %0.3f\"%(recall_score(Y_test, y_pred,average='macro')))\n",
    "print(\"F1-Score on test set: %0.3f\"%(f1_score(Y_test, y_pred,average='macro')))"
   ]
  },
  {
   "cell_type": "code",
   "execution_count": null,
   "metadata": {},
   "outputs": [],
   "source": []
  },
  {
   "cell_type": "code",
   "execution_count": 205,
   "metadata": {},
   "outputs": [],
   "source": [
    "### Plotting Heatmap"
   ]
  },
  {
   "cell_type": "code",
   "execution_count": 206,
   "metadata": {},
   "outputs": [
    {
     "data": {
      "text/plain": [
       "<matplotlib.axes._subplots.AxesSubplot at 0x221a467a438>"
      ]
     },
     "execution_count": 206,
     "metadata": {},
     "output_type": "execute_result"
    },
    {
     "data": {
      "image/png": "[encoded data removed]",
      "text/plain": [
       "<Figure size 432x288 with 2 Axes>"
      ]
     },
     "metadata": {
      "needs_background": "light"
     },
     "output_type": "display_data"
    }
   ],
   "source": [
    "cnf = confusion_matrix(Y_test, y_pred)\n",
    "sns.heatmap(cnf,annot=True,fmt='d',annot_kws={'size':20})"
   ]
  },
  {
   "cell_type": "code",
   "execution_count": null,
   "metadata": {},
   "outputs": [],
   "source": []
  },
  {
   "cell_type": "markdown",
   "metadata": {},
   "source": [
    "## TF-IDF"
   ]
  },
  {
   "cell_type": "code",
   "execution_count": 207,
   "metadata": {},
   "outputs": [],
   "source": [
    "tf_idf_vect = TfidfVectorizer()\n",
    "x_tr_tfidf = tf_idf_vect.fit_transform(X_train)\n",
    "x_test_tfidf = tf_idf_vect.transform(X_test)\n",
    "\n",
    "x_tr_tfidf = StandardScaler(with_mean = False).fit_transform(x_tr_tfidf)\n",
    "x_test_tfidf = StandardScaler(with_mean = False).fit_transform(x_test_tfidf)"
   ]
  },
  {
   "cell_type": "markdown",
   "metadata": {},
   "source": [
    "### Hyperparameter tuning using Grid Search CV to find the optimal C for Logistic Regression"
   ]
  },
  {
   "cell_type": "code",
   "execution_count": 208,
   "metadata": {},
   "outputs": [
    {
     "name": "stdout",
     "output_type": "stream",
     "text": [
      "Fitting 5 folds for each of 5 candidates, totalling 25 fits\n"
     ]
    },
    {
     "name": "stderr",
     "output_type": "stream",
     "text": [
      "[Parallel(n_jobs=-1)]: Using backend LokyBackend with 4 concurrent workers.\n",
      "[Parallel(n_jobs=-1)]: Done  18 out of  25 | elapsed:    1.0s remaining:    0.3s\n",
      "[Parallel(n_jobs=-1)]: Done  25 out of  25 | elapsed:    1.3s finished\n"
     ]
    },
    {
     "name": "stdout",
     "output_type": "stream",
     "text": [
      "Best HyperParameter:  {'C': 100}\n",
      "0.8554024707080302\n"
     ]
    }
   ],
   "source": [
    "LR = LogisticRegression(penalty ='l2',solver='liblinear')\n",
    "C_values = [{'C':[10**-4,10**-2,10**0,10**2,10**4]}]\n",
    "gsv = GridSearchCV(LR,C_values,cv=5,verbose=1,scoring='f1_weighted',n_jobs=-1)\n",
    "gsv.fit(x_tr_tfidf,Y_train)\n",
    "print(\"Best HyperParameter: \",gsv.best_params_)\n",
    "print(gsv.best_score_)\n",
    "optimal_C=gsv.best_score_"
   ]
  },
  {
   "cell_type": "code",
   "execution_count": null,
   "metadata": {},
   "outputs": [],
   "source": []
  },
  {
   "cell_type": "code",
   "execution_count": 209,
   "metadata": {},
   "outputs": [
    {
     "data": {
      "text/html": [
       "<div>\n",
       "<style scoped>\n",
       "    .dataframe tbody tr th:only-of-type {\n",
       "        vertical-align: middle;\n",
       "    }\n",
       "\n",
       "    .dataframe tbody tr th {\n",
       "        vertical-align: top;\n",
       "    }\n",
       "\n",
       "    .dataframe thead th {\n",
       "        text-align: right;\n",
       "    }\n",
       "</style>\n",
       "<table border=\"1\" class=\"dataframe\">\n",
       "  <thead>\n",
       "    <tr style=\"text-align: right;\">\n",
       "      <th></th>\n",
       "      <th>mean_fit_time</th>\n",
       "      <th>std_fit_time</th>\n",
       "      <th>mean_score_time</th>\n",
       "      <th>std_score_time</th>\n",
       "      <th>param_C</th>\n",
       "      <th>params</th>\n",
       "      <th>split0_test_score</th>\n",
       "      <th>split1_test_score</th>\n",
       "      <th>split2_test_score</th>\n",
       "      <th>split3_test_score</th>\n",
       "      <th>split4_test_score</th>\n",
       "      <th>mean_test_score</th>\n",
       "      <th>std_test_score</th>\n",
       "      <th>rank_test_score</th>\n",
       "    </tr>\n",
       "  </thead>\n",
       "  <tbody>\n",
       "    <tr>\n",
       "      <th>0</th>\n",
       "      <td>0.040596</td>\n",
       "      <td>0.011192</td>\n",
       "      <td>0.003803</td>\n",
       "      <td>0.000402</td>\n",
       "      <td>0.0001</td>\n",
       "      <td>{'C': 0.0001}</td>\n",
       "      <td>0.772372</td>\n",
       "      <td>0.779202</td>\n",
       "      <td>0.775812</td>\n",
       "      <td>0.770350</td>\n",
       "      <td>0.780519</td>\n",
       "      <td>0.775651</td>\n",
       "      <td>0.003878</td>\n",
       "      <td>5</td>\n",
       "    </tr>\n",
       "    <tr>\n",
       "      <th>1</th>\n",
       "      <td>0.118308</td>\n",
       "      <td>0.012293</td>\n",
       "      <td>0.010654</td>\n",
       "      <td>0.007841</td>\n",
       "      <td>0.01</td>\n",
       "      <td>{'C': 0.01}</td>\n",
       "      <td>0.841740</td>\n",
       "      <td>0.864959</td>\n",
       "      <td>0.832748</td>\n",
       "      <td>0.850273</td>\n",
       "      <td>0.834077</td>\n",
       "      <td>0.844760</td>\n",
       "      <td>0.011882</td>\n",
       "      <td>4</td>\n",
       "    </tr>\n",
       "    <tr>\n",
       "      <th>2</th>\n",
       "      <td>0.217413</td>\n",
       "      <td>0.025700</td>\n",
       "      <td>0.003797</td>\n",
       "      <td>0.000408</td>\n",
       "      <td>1</td>\n",
       "      <td>{'C': 1}</td>\n",
       "      <td>0.846442</td>\n",
       "      <td>0.874685</td>\n",
       "      <td>0.842980</td>\n",
       "      <td>0.857334</td>\n",
       "      <td>0.845707</td>\n",
       "      <td>0.853430</td>\n",
       "      <td>0.011702</td>\n",
       "      <td>3</td>\n",
       "    </tr>\n",
       "    <tr>\n",
       "      <th>3</th>\n",
       "      <td>0.290619</td>\n",
       "      <td>0.022268</td>\n",
       "      <td>0.006992</td>\n",
       "      <td>0.007019</td>\n",
       "      <td>100</td>\n",
       "      <td>{'C': 100}</td>\n",
       "      <td>0.845109</td>\n",
       "      <td>0.868840</td>\n",
       "      <td>0.845352</td>\n",
       "      <td>0.858257</td>\n",
       "      <td>0.859454</td>\n",
       "      <td>0.855402</td>\n",
       "      <td>0.009078</td>\n",
       "      <td>1</td>\n",
       "    </tr>\n",
       "    <tr>\n",
       "      <th>4</th>\n",
       "      <td>0.293313</td>\n",
       "      <td>0.027812</td>\n",
       "      <td>0.002601</td>\n",
       "      <td>0.002154</td>\n",
       "      <td>10000</td>\n",
       "      <td>{'C': 10000}</td>\n",
       "      <td>0.845740</td>\n",
       "      <td>0.864551</td>\n",
       "      <td>0.849898</td>\n",
       "      <td>0.857630</td>\n",
       "      <td>0.858076</td>\n",
       "      <td>0.855179</td>\n",
       "      <td>0.006621</td>\n",
       "      <td>2</td>\n",
       "    </tr>\n",
       "  </tbody>\n",
       "</table>\n",
       "</div>"
      ],
      "text/plain": [
       "   mean_fit_time  std_fit_time  mean_score_time  std_score_time param_C  \\\n",
       "0       0.040596      0.011192         0.003803        0.000402  0.0001   \n",
       "1       0.118308      0.012293         0.010654        0.007841    0.01   \n",
       "2       0.217413      0.025700         0.003797        0.000408       1   \n",
       "3       0.290619      0.022268         0.006992        0.007019     100   \n",
       "4       0.293313      0.027812         0.002601        0.002154   10000   \n",
       "\n",
       "          params  split0_test_score  split1_test_score  split2_test_score  \\\n",
       "0  {'C': 0.0001}           0.772372           0.779202           0.775812   \n",
       "1    {'C': 0.01}           0.841740           0.864959           0.832748   \n",
       "2       {'C': 1}           0.846442           0.874685           0.842980   \n",
       "3     {'C': 100}           0.845109           0.868840           0.845352   \n",
       "4   {'C': 10000}           0.845740           0.864551           0.849898   \n",
       "\n",
       "   split3_test_score  split4_test_score  mean_test_score  std_test_score  \\\n",
       "0           0.770350           0.780519         0.775651        0.003878   \n",
       "1           0.850273           0.834077         0.844760        0.011882   \n",
       "2           0.857334           0.845707         0.853430        0.011702   \n",
       "3           0.858257           0.859454         0.855402        0.009078   \n",
       "4           0.857630           0.858076         0.855179        0.006621   \n",
       "\n",
       "   rank_test_score  \n",
       "0                5  \n",
       "1                4  \n",
       "2                3  \n",
       "3                1  \n",
       "4                2  "
      ]
     },
     "execution_count": 209,
     "metadata": {},
     "output_type": "execute_result"
    }
   ],
   "source": [
    "result = gsv.cv_results_\n",
    "df = pd.DataFrame(result)\n",
    "df"
   ]
  },
  {
   "cell_type": "code",
   "execution_count": null,
   "metadata": {},
   "outputs": [],
   "source": []
  },
  {
   "cell_type": "code",
   "execution_count": 210,
   "metadata": {},
   "outputs": [
    {
     "data": {
      "image/png": "[encoded data removed]",
      "text/plain": [
       "<Figure size 576x432 with 1 Axes>"
      ]
     },
     "metadata": {
      "needs_background": "light"
     },
     "output_type": "display_data"
    }
   ],
   "source": [
    "plt.figure(figsize=(8,6))\n",
    "plt.xlabel(\"C\",fontsize=15)\n",
    "plt.ylabel(\"f1_weighted\")\n",
    "plt.title('f1_weighted v/s C')\n",
    "plt.plot(df['param_C'],df['mean_test_score'],linestyle='dashed', marker='o', markerfacecolor='red', markersize=6)\n",
    "plt.show()"
   ]
  },
  {
   "cell_type": "code",
   "execution_count": null,
   "metadata": {},
   "outputs": [],
   "source": []
  },
  {
   "cell_type": "markdown",
   "metadata": {},
   "source": [
    "### Finding the accuracy in Test data using calculated optimal C"
   ]
  },
  {
   "cell_type": "code",
   "execution_count": 211,
   "metadata": {},
   "outputs": [],
   "source": [
    "LR = LogisticRegression(penalty='l2',C=100,solver='liblinear')\n",
    "LR.fit(x_tr_tfidf,Y_train)\n",
    "y_pred = LR.predict(x_test_tfidf)"
   ]
  },
  {
   "cell_type": "code",
   "execution_count": 212,
   "metadata": {},
   "outputs": [
    {
     "name": "stdout",
     "output_type": "stream",
     "text": [
      "Accuracy on test set: 85.963%\n",
      "Precision on test set: 0.788\n",
      "Recall on test set: 0.655\n",
      "F1-Score on test set: 0.689\n"
     ]
    }
   ],
   "source": [
    "print(\"Accuracy on test set: %0.3f%%\"%(accuracy_score(Y_test, y_pred)*100))\n",
    "print(\"Precision on test set: %0.3f\"%(precision_score(Y_test, y_pred,average='macro')))\n",
    "print(\"Recall on test set: %0.3f\"%(recall_score(Y_test, y_pred,average='macro')))\n",
    "print(\"F1-Score on test set: %0.3f\"%(f1_score(Y_test, y_pred,average='macro')))"
   ]
  },
  {
   "cell_type": "code",
   "execution_count": 213,
   "metadata": {},
   "outputs": [],
   "source": [
    "### Plotting Heatmap"
   ]
  },
  {
   "cell_type": "code",
   "execution_count": 214,
   "metadata": {},
   "outputs": [
    {
     "data": {
      "text/plain": [
       "<matplotlib.axes._subplots.AxesSubplot at 0x221a4f01860>"
      ]
     },
     "execution_count": 214,
     "metadata": {},
     "output_type": "execute_result"
    },
    {
     "data": {
      "image/png": "[encoded data removed]",
      "text/plain": [
       "<Figure size 432x288 with 2 Axes>"
      ]
     },
     "metadata": {
      "needs_background": "light"
     },
     "output_type": "display_data"
    }
   ],
   "source": [
    "cnf = confusion_matrix(Y_test, y_pred)\n",
    "sns.heatmap(cnf,annot=True,fmt='d',annot_kws={'size':20})"
   ]
  },
  {
   "cell_type": "code",
   "execution_count": null,
   "metadata": {},
   "outputs": [],
   "source": []
  },
  {
   "cell_type": "markdown",
   "metadata": {},
   "source": [
    "## RandomSearch CV"
   ]
  },
  {
   "cell_type": "markdown",
   "metadata": {},
   "source": [
    "### Hyperparameter tuning using Random Search CV to find the optimal C for Logistic Regression"
   ]
  },
  {
   "cell_type": "code",
   "execution_count": 215,
   "metadata": {},
   "outputs": [],
   "source": [
    "LR = LogisticRegression(penalty ='l2',solver='liblinear')\n",
    "C_value = {'C':uniform()}\n",
    "rsv = RandomizedSearchCV(LR, param_distributions = C_value , cv=5,verbose=1, scoring='f1_micro', n_jobs=-1)"
   ]
  },
  {
   "cell_type": "code",
   "execution_count": 216,
   "metadata": {},
   "outputs": [
    {
     "name": "stdout",
     "output_type": "stream",
     "text": [
      "Fitting 5 folds for each of 10 candidates, totalling 50 fits\n"
     ]
    },
    {
     "name": "stderr",
     "output_type": "stream",
     "text": [
      "[Parallel(n_jobs=-1)]: Using backend LokyBackend with 4 concurrent workers.\n",
      "[Parallel(n_jobs=-1)]: Done  50 out of  50 | elapsed:    2.2s finished\n"
     ]
    },
    {
     "data": {
      "text/plain": [
       "RandomizedSearchCV(cv=5, error_score=nan,\n",
       "                   estimator=LogisticRegression(C=1.0, class_weight=None,\n",
       "                                                dual=False, fit_intercept=True,\n",
       "                                                intercept_scaling=1,\n",
       "                                                l1_ratio=None, max_iter=100,\n",
       "                                                multi_class='auto', n_jobs=None,\n",
       "                                                penalty='l2', random_state=None,\n",
       "                                                solver='liblinear', tol=0.0001,\n",
       "                                                verbose=0, warm_start=False),\n",
       "                   iid='deprecated', n_iter=10, n_jobs=-1,\n",
       "                   param_distributions={'C': <scipy.stats._distn_infrastructure.rv_frozen object at 0x00000221A4C9B748>},\n",
       "                   pre_dispatch='2*n_jobs', random_state=None, refit=True,\n",
       "                   return_train_score=False, scoring='f1_micro', verbose=1)"
      ]
     },
     "execution_count": 216,
     "metadata": {},
     "output_type": "execute_result"
    }
   ],
   "source": [
    "rsv.fit(x_tr_tfidf,Y_train)"
   ]
  },
  {
   "cell_type": "code",
   "execution_count": 218,
   "metadata": {},
   "outputs": [
    {
     "name": "stdout",
     "output_type": "stream",
     "text": [
      "Best HyperParameter:  {'C': 0.017555708077011567}\n",
      "0.8790830945558741\n"
     ]
    }
   ],
   "source": [
    "print(\"Best HyperParameter: \",rsv.best_params_)\n",
    "print(rsv.best_score_)\n",
    "optimal_C=rsv.best_score_"
   ]
  },
  {
   "cell_type": "code",
   "execution_count": 219,
   "metadata": {},
   "outputs": [
    {
     "data": {
      "text/html": [
       "<div>\n",
       "<style scoped>\n",
       "    .dataframe tbody tr th:only-of-type {\n",
       "        vertical-align: middle;\n",
       "    }\n",
       "\n",
       "    .dataframe tbody tr th {\n",
       "        vertical-align: top;\n",
       "    }\n",
       "\n",
       "    .dataframe thead th {\n",
       "        text-align: right;\n",
       "    }\n",
       "</style>\n",
       "<table border=\"1\" class=\"dataframe\">\n",
       "  <thead>\n",
       "    <tr style=\"text-align: right;\">\n",
       "      <th></th>\n",
       "      <th>mean_fit_time</th>\n",
       "      <th>std_fit_time</th>\n",
       "      <th>mean_score_time</th>\n",
       "      <th>std_score_time</th>\n",
       "      <th>param_C</th>\n",
       "      <th>params</th>\n",
       "      <th>split0_test_score</th>\n",
       "      <th>split1_test_score</th>\n",
       "      <th>split2_test_score</th>\n",
       "      <th>split3_test_score</th>\n",
       "      <th>split4_test_score</th>\n",
       "      <th>mean_test_score</th>\n",
       "      <th>std_test_score</th>\n",
       "      <th>rank_test_score</th>\n",
       "    </tr>\n",
       "  </thead>\n",
       "  <tbody>\n",
       "    <tr>\n",
       "      <th>0</th>\n",
       "      <td>0.118673</td>\n",
       "      <td>0.016370</td>\n",
       "      <td>0.003605</td>\n",
       "      <td>0.000492</td>\n",
       "      <td>0.0175557</td>\n",
       "      <td>{'C': 0.017555708077011567}</td>\n",
       "      <td>0.875358</td>\n",
       "      <td>0.889685</td>\n",
       "      <td>0.871060</td>\n",
       "      <td>0.885387</td>\n",
       "      <td>0.873926</td>\n",
       "      <td>0.879083</td>\n",
       "      <td>0.007169</td>\n",
       "      <td>1</td>\n",
       "    </tr>\n",
       "    <tr>\n",
       "      <th>1</th>\n",
       "      <td>0.187699</td>\n",
       "      <td>0.014410</td>\n",
       "      <td>0.003400</td>\n",
       "      <td>0.000486</td>\n",
       "      <td>0.446865</td>\n",
       "      <td>{'C': 0.4468651371578325}</td>\n",
       "      <td>0.872493</td>\n",
       "      <td>0.893983</td>\n",
       "      <td>0.871060</td>\n",
       "      <td>0.882521</td>\n",
       "      <td>0.873926</td>\n",
       "      <td>0.878797</td>\n",
       "      <td>0.008577</td>\n",
       "      <td>3</td>\n",
       "    </tr>\n",
       "    <tr>\n",
       "      <th>2</th>\n",
       "      <td>0.182214</td>\n",
       "      <td>0.005827</td>\n",
       "      <td>0.003602</td>\n",
       "      <td>0.000488</td>\n",
       "      <td>0.568813</td>\n",
       "      <td>{'C': 0.5688131526089826}</td>\n",
       "      <td>0.869628</td>\n",
       "      <td>0.893983</td>\n",
       "      <td>0.871060</td>\n",
       "      <td>0.882521</td>\n",
       "      <td>0.873926</td>\n",
       "      <td>0.878223</td>\n",
       "      <td>0.009061</td>\n",
       "      <td>9</td>\n",
       "    </tr>\n",
       "    <tr>\n",
       "      <th>3</th>\n",
       "      <td>0.207827</td>\n",
       "      <td>0.009521</td>\n",
       "      <td>0.008525</td>\n",
       "      <td>0.005965</td>\n",
       "      <td>0.904369</td>\n",
       "      <td>{'C': 0.9043688968278424}</td>\n",
       "      <td>0.869628</td>\n",
       "      <td>0.893983</td>\n",
       "      <td>0.871060</td>\n",
       "      <td>0.882521</td>\n",
       "      <td>0.873926</td>\n",
       "      <td>0.878223</td>\n",
       "      <td>0.009061</td>\n",
       "      <td>9</td>\n",
       "    </tr>\n",
       "    <tr>\n",
       "      <th>4</th>\n",
       "      <td>0.167969</td>\n",
       "      <td>0.027275</td>\n",
       "      <td>0.009451</td>\n",
       "      <td>0.006353</td>\n",
       "      <td>0.342419</td>\n",
       "      <td>{'C': 0.3424187975183983}</td>\n",
       "      <td>0.872493</td>\n",
       "      <td>0.893983</td>\n",
       "      <td>0.871060</td>\n",
       "      <td>0.882521</td>\n",
       "      <td>0.872493</td>\n",
       "      <td>0.878510</td>\n",
       "      <td>0.008757</td>\n",
       "      <td>7</td>\n",
       "    </tr>\n",
       "    <tr>\n",
       "      <th>5</th>\n",
       "      <td>0.121875</td>\n",
       "      <td>0.011692</td>\n",
       "      <td>0.003129</td>\n",
       "      <td>0.006258</td>\n",
       "      <td>0.0920985</td>\n",
       "      <td>{'C': 0.09209848318400471}</td>\n",
       "      <td>0.873926</td>\n",
       "      <td>0.892550</td>\n",
       "      <td>0.871060</td>\n",
       "      <td>0.881089</td>\n",
       "      <td>0.875358</td>\n",
       "      <td>0.878797</td>\n",
       "      <td>0.007613</td>\n",
       "      <td>3</td>\n",
       "    </tr>\n",
       "    <tr>\n",
       "      <th>6</th>\n",
       "      <td>0.186974</td>\n",
       "      <td>0.018377</td>\n",
       "      <td>0.004996</td>\n",
       "      <td>0.006287</td>\n",
       "      <td>0.675527</td>\n",
       "      <td>{'C': 0.6755268594663467}</td>\n",
       "      <td>0.871060</td>\n",
       "      <td>0.893983</td>\n",
       "      <td>0.871060</td>\n",
       "      <td>0.882521</td>\n",
       "      <td>0.873926</td>\n",
       "      <td>0.878510</td>\n",
       "      <td>0.008804</td>\n",
       "      <td>7</td>\n",
       "    </tr>\n",
       "    <tr>\n",
       "      <th>7</th>\n",
       "      <td>0.166264</td>\n",
       "      <td>0.016212</td>\n",
       "      <td>0.004404</td>\n",
       "      <td>0.001016</td>\n",
       "      <td>0.127826</td>\n",
       "      <td>{'C': 0.12782649321424022}</td>\n",
       "      <td>0.872493</td>\n",
       "      <td>0.893983</td>\n",
       "      <td>0.872493</td>\n",
       "      <td>0.882521</td>\n",
       "      <td>0.873926</td>\n",
       "      <td>0.879083</td>\n",
       "      <td>0.008334</td>\n",
       "      <td>1</td>\n",
       "    </tr>\n",
       "    <tr>\n",
       "      <th>8</th>\n",
       "      <td>0.186517</td>\n",
       "      <td>0.009716</td>\n",
       "      <td>0.005198</td>\n",
       "      <td>0.006307</td>\n",
       "      <td>0.419761</td>\n",
       "      <td>{'C': 0.41976138900990023}</td>\n",
       "      <td>0.872493</td>\n",
       "      <td>0.893983</td>\n",
       "      <td>0.871060</td>\n",
       "      <td>0.882521</td>\n",
       "      <td>0.873926</td>\n",
       "      <td>0.878797</td>\n",
       "      <td>0.008577</td>\n",
       "      <td>3</td>\n",
       "    </tr>\n",
       "    <tr>\n",
       "      <th>9</th>\n",
       "      <td>0.108272</td>\n",
       "      <td>0.032713</td>\n",
       "      <td>0.003940</td>\n",
       "      <td>0.006052</td>\n",
       "      <td>0.0880342</td>\n",
       "      <td>{'C': 0.08803424249763558}</td>\n",
       "      <td>0.873926</td>\n",
       "      <td>0.892550</td>\n",
       "      <td>0.871060</td>\n",
       "      <td>0.881089</td>\n",
       "      <td>0.875358</td>\n",
       "      <td>0.878797</td>\n",
       "      <td>0.007613</td>\n",
       "      <td>3</td>\n",
       "    </tr>\n",
       "  </tbody>\n",
       "</table>\n",
       "</div>"
      ],
      "text/plain": [
       "   mean_fit_time  std_fit_time  mean_score_time  std_score_time    param_C  \\\n",
       "0       0.118673      0.016370         0.003605        0.000492  0.0175557   \n",
       "1       0.187699      0.014410         0.003400        0.000486   0.446865   \n",
       "2       0.182214      0.005827         0.003602        0.000488   0.568813   \n",
       "3       0.207827      0.009521         0.008525        0.005965   0.904369   \n",
       "4       0.167969      0.027275         0.009451        0.006353   0.342419   \n",
       "5       0.121875      0.011692         0.003129        0.006258  0.0920985   \n",
       "6       0.186974      0.018377         0.004996        0.006287   0.675527   \n",
       "7       0.166264      0.016212         0.004404        0.001016   0.127826   \n",
       "8       0.186517      0.009716         0.005198        0.006307   0.419761   \n",
       "9       0.108272      0.032713         0.003940        0.006052  0.0880342   \n",
       "\n",
       "                        params  split0_test_score  split1_test_score  \\\n",
       "0  {'C': 0.017555708077011567}           0.875358           0.889685   \n",
       "1    {'C': 0.4468651371578325}           0.872493           0.893983   \n",
       "2    {'C': 0.5688131526089826}           0.869628           0.893983   \n",
       "3    {'C': 0.9043688968278424}           0.869628           0.893983   \n",
       "4    {'C': 0.3424187975183983}           0.872493           0.893983   \n",
       "5   {'C': 0.09209848318400471}           0.873926           0.892550   \n",
       "6    {'C': 0.6755268594663467}           0.871060           0.893983   \n",
       "7   {'C': 0.12782649321424022}           0.872493           0.893983   \n",
       "8   {'C': 0.41976138900990023}           0.872493           0.893983   \n",
       "9   {'C': 0.08803424249763558}           0.873926           0.892550   \n",
       "\n",
       "   split2_test_score  split3_test_score  split4_test_score  mean_test_score  \\\n",
       "0           0.871060           0.885387           0.873926         0.879083   \n",
       "1           0.871060           0.882521           0.873926         0.878797   \n",
       "2           0.871060           0.882521           0.873926         0.878223   \n",
       "3           0.871060           0.882521           0.873926         0.878223   \n",
       "4           0.871060           0.882521           0.872493         0.878510   \n",
       "5           0.871060           0.881089           0.875358         0.878797   \n",
       "6           0.871060           0.882521           0.873926         0.878510   \n",
       "7           0.872493           0.882521           0.873926         0.879083   \n",
       "8           0.871060           0.882521           0.873926         0.878797   \n",
       "9           0.871060           0.881089           0.875358         0.878797   \n",
       "\n",
       "   std_test_score  rank_test_score  \n",
       "0        0.007169                1  \n",
       "1        0.008577                3  \n",
       "2        0.009061                9  \n",
       "3        0.009061                9  \n",
       "4        0.008757                7  \n",
       "5        0.007613                3  \n",
       "6        0.008804                7  \n",
       "7        0.008334                1  \n",
       "8        0.008577                3  \n",
       "9        0.007613                3  "
      ]
     },
     "execution_count": 219,
     "metadata": {},
     "output_type": "execute_result"
    }
   ],
   "source": [
    "result = rsv.cv_results_\n",
    "df = pd.DataFrame(result)\n",
    "df"
   ]
  },
  {
   "cell_type": "code",
   "execution_count": null,
   "metadata": {},
   "outputs": [],
   "source": []
  },
  {
   "cell_type": "code",
   "execution_count": 220,
   "metadata": {},
   "outputs": [
    {
     "data": {
      "image/png": "[encoded data removed]",
      "text/plain": [
       "<Figure size 576x432 with 1 Axes>"
      ]
     },
     "metadata": {
      "needs_background": "light"
     },
     "output_type": "display_data"
    }
   ],
   "source": [
    "plt.figure(figsize=(8,6))\n",
    "plt.xlabel(\"C\",fontsize=15)\n",
    "plt.ylabel(\"f1_weighted\")\n",
    "plt.title('f1_weighted v/s C')\n",
    "plt.plot(df['param_C'],df['mean_test_score'],linestyle='dashed', marker='o', markerfacecolor='red', markersize=6)\n",
    "plt.show()"
   ]
  },
  {
   "cell_type": "markdown",
   "metadata": {},
   "source": [
    "### Finding the accuracy in Test data using calculated optimal C"
   ]
  },
  {
   "cell_type": "code",
   "execution_count": 221,
   "metadata": {},
   "outputs": [],
   "source": [
    "LR = LogisticRegression(penalty='l2',C=0.017555708077011567,solver='liblinear')\n",
    "LR.fit(x_tr_tfidf,Y_train)\n",
    "y_pred = LR.predict(x_test_tfidf)"
   ]
  },
  {
   "cell_type": "code",
   "execution_count": 222,
   "metadata": {},
   "outputs": [
    {
     "name": "stdout",
     "output_type": "stream",
     "text": [
      "Accuracy on test set: 87.032%\n",
      "Precision on test set: 0.869\n",
      "Recall on test set: 0.646\n",
      "F1-Score on test set: 0.688\n"
     ]
    }
   ],
   "source": [
    "print(\"Accuracy on test set: %0.3f%%\"%(accuracy_score(Y_test, y_pred)*100))\n",
    "print(\"Precision on test set: %0.3f\"%(precision_score(Y_test, y_pred,average='macro')))\n",
    "print(\"Recall on test set: %0.3f\"%(recall_score(Y_test, y_pred,average='macro')))\n",
    "print(\"F1-Score on test set: %0.3f\"%(f1_score(Y_test, y_pred,average='macro')))"
   ]
  },
  {
   "cell_type": "markdown",
   "metadata": {},
   "source": [
    "### Plotting Heatmap"
   ]
  },
  {
   "cell_type": "code",
   "execution_count": 223,
   "metadata": {},
   "outputs": [
    {
     "data": {
      "text/plain": [
       "<matplotlib.axes._subplots.AxesSubplot at 0x221a559b278>"
      ]
     },
     "execution_count": 223,
     "metadata": {},
     "output_type": "execute_result"
    },
    {
     "data": {
      "image/png": "[encoded data removed]",
      "text/plain": [
       "<Figure size 432x288 with 2 Axes>"
      ]
     },
     "metadata": {
      "needs_background": "light"
     },
     "output_type": "display_data"
    }
   ],
   "source": [
    "cnf = confusion_matrix(Y_test, y_pred)\n",
    "sns.heatmap(cnf,annot=True,fmt='d',annot_kws={'size':20})"
   ]
  },
  {
   "cell_type": "code",
   "execution_count": null,
   "metadata": {},
   "outputs": [],
   "source": []
  },
  {
   "cell_type": "markdown",
   "metadata": {},
   "source": [
    "## Word2Vec"
   ]
  },
  {
   "cell_type": "code",
   "execution_count": 224,
   "metadata": {},
   "outputs": [],
   "source": [
    "from gensim.models import Word2Vec"
   ]
  },
  {
   "cell_type": "code",
   "execution_count": 225,
   "metadata": {
    "scrolled": true
   },
   "outputs": [
    {
     "data": {
      "text/plain": [
       "2503    love little white kernels popped corn good stu...\n",
       "1258    love wild cherry tic tacs impossible find stor...\n",
       "3945    bought day years found biscuits hard wheat glu...\n",
       "1761    herb savor weeks waiting write review herbs we...\n",
       "128     son acid reflux since birth every medication a...\n",
       "                              ...                        \n",
       "1120    excellent order nice able order omaha items am...\n",
       "3400    pure breed gsd problems years upset stomach ea...\n",
       "2273    amy brians coconut water yum vico plain tetra ...\n",
       "1555    good variety flavors makes helpful sample choi...\n",
       "3368    could not get work muffins decided try pancake...\n",
       "Name: preprocessed reviews, Length: 3490, dtype: object"
      ]
     },
     "execution_count": 225,
     "metadata": {},
     "output_type": "execute_result"
    }
   ],
   "source": [
    "X_train"
   ]
  },
  {
   "cell_type": "code",
   "execution_count": null,
   "metadata": {},
   "outputs": [],
   "source": []
  },
  {
   "cell_type": "code",
   "execution_count": 226,
   "metadata": {},
   "outputs": [],
   "source": [
    "i=0\n",
    "train_sent=[]\n",
    "for sent in X_train:\n",
    "    train_sent.append(sent.split())\n",
    "i=0\n",
    "test_sent=[]\n",
    "for sent in X_test:\n",
    "    test_sent.append(sent.split())"
   ]
  },
  {
   "cell_type": "code",
   "execution_count": null,
   "metadata": {},
   "outputs": [],
   "source": []
  },
  {
   "cell_type": "code",
   "execution_count": 227,
   "metadata": {},
   "outputs": [],
   "source": [
    "# For Train Set"
   ]
  },
  {
   "cell_type": "code",
   "execution_count": 228,
   "metadata": {},
   "outputs": [],
   "source": [
    "w2v_model_train=Word2Vec(train_sent,min_count=5,size=50, workers=4)"
   ]
  },
  {
   "cell_type": "code",
   "execution_count": 229,
   "metadata": {},
   "outputs": [
    {
     "name": "stdout",
     "output_type": "stream",
     "text": [
      "number of words that occured minimum 5 times  3107\n",
      "sample words  ['love', 'little', 'white', 'kernels', 'popped', 'corn', 'good', 'stuff', 'think', 'try', 'larger', 'kernel', 'pop', 'next', 'time', 'preference', 'wild', 'cherry', 'tic', 'tacs', 'impossible', 'find', 'stores', 'glad', 'get', 'amazon', 'price', 'excellent', 'great', 'low', 'calorie', 'treat', 'keep', 'buying', 'highly', 'recommend', 'purchase', 'bought', 'day', 'years', 'found', 'biscuits', 'hard', 'wheat', 'gluten', 'free', 'item', 'make', 'even', 'went']\n"
     ]
    }
   ],
   "source": [
    "w2v_words_train = list(w2v_model_train.wv.vocab)\n",
    "print(\"number of words that occured minimum 5 times \",len(w2v_words_train))\n",
    "print(\"sample words \", w2v_words_train[0:50])"
   ]
  },
  {
   "cell_type": "code",
   "execution_count": 230,
   "metadata": {},
   "outputs": [
    {
     "data": {
      "text/plain": [
       "3490"
      ]
     },
     "execution_count": 230,
     "metadata": {},
     "output_type": "execute_result"
    }
   ],
   "source": [
    "len(train_sent)"
   ]
  },
  {
   "cell_type": "code",
   "execution_count": 231,
   "metadata": {},
   "outputs": [
    {
     "data": {
      "text/plain": [
       "list"
      ]
     },
     "execution_count": 231,
     "metadata": {},
     "output_type": "execute_result"
    }
   ],
   "source": [
    "type(train_sent)"
   ]
  },
  {
   "cell_type": "code",
   "execution_count": 232,
   "metadata": {},
   "outputs": [
    {
     "data": {
      "text/plain": [
       "1496"
      ]
     },
     "execution_count": 232,
     "metadata": {},
     "output_type": "execute_result"
    }
   ],
   "source": [
    "len(test_sent)"
   ]
  },
  {
   "cell_type": "markdown",
   "metadata": {},
   "source": [
    "## Avg Word2Vec"
   ]
  },
  {
   "cell_type": "code",
   "execution_count": 233,
   "metadata": {},
   "outputs": [
    {
     "name": "stderr",
     "output_type": "stream",
     "text": [
      "100%|█████████████████████████████████████████████████████████████████████████████| 3490/3490 [00:04<00:00, 750.38it/s]"
     ]
    },
    {
     "name": "stdout",
     "output_type": "stream",
     "text": [
      "3490\n",
      "50\n"
     ]
    },
    {
     "name": "stderr",
     "output_type": "stream",
     "text": [
      "\n"
     ]
    }
   ],
   "source": [
    "sent_vectors_train = []; # the avg-w2v for each sentence/review is stored in this list\n",
    "for sent in tqdm(train_sent): # for each review/sentence\n",
    "    sent_vec = np.zeros(50) # as word vectors are of zero length 50\n",
    "    cnt_words =0; # num of words with a valid vector in the sentence/review\n",
    "    for word in sent: # for each word in a review/sentence\n",
    "        if word in w2v_words_train:\n",
    "            vec = w2v_model_train.wv[word]\n",
    "            sent_vec += vec\n",
    "            cnt_words += 1\n",
    "    if cnt_words != 0:\n",
    "        sent_vec /= cnt_words\n",
    "    sent_vectors_train.append(sent_vec)\n",
    "print(len(sent_vectors_train))\n",
    "print(len(sent_vectors_train[0]))"
   ]
  },
  {
   "cell_type": "code",
   "execution_count": 234,
   "metadata": {},
   "outputs": [],
   "source": [
    "# For Test Set"
   ]
  },
  {
   "cell_type": "code",
   "execution_count": 235,
   "metadata": {},
   "outputs": [],
   "source": [
    "w2v_model_test=Word2Vec(test_sent,min_count=5,size=50, workers=4)"
   ]
  },
  {
   "cell_type": "code",
   "execution_count": 236,
   "metadata": {},
   "outputs": [
    {
     "name": "stdout",
     "output_type": "stream",
     "text": [
      "number of words that occured minimum 5 times  1845\n",
      "sample words  ['absolutely', 'treats', 'anything', 'one', 'get', 'away', 'go', 'anywhere', 'big', 'help', 'wonderful', 'treat', 'product', 'comes', 'natural', 'always', 'fresh', 'never', 'tasted', 'better', 'licorice', 'life', 'arrived', 'fast', 'box', 'price', 'great', 'purchase', 'another', 'case', 'good', 'tea', 'little', 'flavor', 'drinking', 'hot', 'cold', 'heard', 'mixed', 'reviews', 'feels', 'cheap', 'take', 'care', 'like', 'would', 'sounds', 'perfect', 'use', 'record']\n"
     ]
    }
   ],
   "source": [
    "w2v_words_test = list(w2v_model_test.wv.vocab)\n",
    "print(\"number of words that occured minimum 5 times \",len(w2v_words_test))\n",
    "print(\"sample words \", w2v_words_test[0:50])"
   ]
  },
  {
   "cell_type": "code",
   "execution_count": 237,
   "metadata": {},
   "outputs": [
    {
     "name": "stderr",
     "output_type": "stream",
     "text": [
      "100%|█████████████████████████████████████████████████████████████████████████████| 1496/1496 [00:01<00:00, 875.04it/s]"
     ]
    },
    {
     "name": "stdout",
     "output_type": "stream",
     "text": [
      "1496\n",
      "50\n"
     ]
    },
    {
     "name": "stderr",
     "output_type": "stream",
     "text": [
      "\n"
     ]
    }
   ],
   "source": [
    "sent_vectors_test = []; # the avg-w2v for each sentence/review is stored in this list\n",
    "for sent in tqdm(test_sent): # for each review/sentence\n",
    "    sent_vec = np.zeros(50) # as word vectors are of zero length 50\n",
    "    cnt_words =0; # num of words with a valid vector in the sentence/review\n",
    "    for word in sent: # for each word in a review/sentence\n",
    "        if word in w2v_words_test:\n",
    "            vec = w2v_model_test.wv[word]\n",
    "            sent_vec += vec\n",
    "            cnt_words += 1\n",
    "        else:\n",
    "            pass\n",
    "    if cnt_words != 0:\n",
    "        sent_vec /= cnt_words\n",
    "    sent_vectors_test.append(sent_vec)\n",
    "print(len(sent_vectors_test))\n",
    "print(len(sent_vectors_test[0]))"
   ]
  },
  {
   "cell_type": "code",
   "execution_count": null,
   "metadata": {},
   "outputs": [],
   "source": []
  },
  {
   "cell_type": "markdown",
   "metadata": {},
   "source": [
    "### Finding the optimal C using GridSearchcv"
   ]
  },
  {
   "cell_type": "code",
   "execution_count": 238,
   "metadata": {},
   "outputs": [
    {
     "name": "stdout",
     "output_type": "stream",
     "text": [
      "Fitting 5 folds for each of 5 candidates, totalling 25 fits\n"
     ]
    },
    {
     "name": "stderr",
     "output_type": "stream",
     "text": [
      "[Parallel(n_jobs=-1)]: Using backend LokyBackend with 4 concurrent workers.\n"
     ]
    },
    {
     "name": "stdout",
     "output_type": "stream",
     "text": [
      "Best HyperParameter:  {'C': 10000}\n",
      "0.8121807401263379\n"
     ]
    },
    {
     "name": "stderr",
     "output_type": "stream",
     "text": [
      "[Parallel(n_jobs=-1)]: Done  25 out of  25 | elapsed:    4.6s finished\n"
     ]
    }
   ],
   "source": [
    "LR = LogisticRegression(penalty ='l2',solver='liblinear')\n",
    "C_values = [{'C':[10**-4,10**-2,10**0,10**2,10**4]}]\n",
    "gsv = GridSearchCV(LR,C_values,cv=5,verbose=1,scoring='f1_weighted',n_jobs=-1)\n",
    "gsv.fit(sent_vectors_train,Y_train)\n",
    "print(\"Best HyperParameter: \",gsv.best_params_)\n",
    "print(gsv.best_score_)\n",
    "optimal_C=gsv.best_score_"
   ]
  },
  {
   "cell_type": "code",
   "execution_count": 239,
   "metadata": {},
   "outputs": [
    {
     "data": {
      "text/plain": [
       "3490"
      ]
     },
     "execution_count": 239,
     "metadata": {},
     "output_type": "execute_result"
    }
   ],
   "source": [
    "len(sent_vectors_train)"
   ]
  },
  {
   "cell_type": "code",
   "execution_count": 240,
   "metadata": {},
   "outputs": [
    {
     "data": {
      "text/plain": [
       "3490"
      ]
     },
     "execution_count": 240,
     "metadata": {},
     "output_type": "execute_result"
    }
   ],
   "source": [
    "len(Y_train)"
   ]
  },
  {
   "cell_type": "code",
   "execution_count": 241,
   "metadata": {},
   "outputs": [
    {
     "data": {
      "text/html": [
       "<div>\n",
       "<style scoped>\n",
       "    .dataframe tbody tr th:only-of-type {\n",
       "        vertical-align: middle;\n",
       "    }\n",
       "\n",
       "    .dataframe tbody tr th {\n",
       "        vertical-align: top;\n",
       "    }\n",
       "\n",
       "    .dataframe thead th {\n",
       "        text-align: right;\n",
       "    }\n",
       "</style>\n",
       "<table border=\"1\" class=\"dataframe\">\n",
       "  <thead>\n",
       "    <tr style=\"text-align: right;\">\n",
       "      <th></th>\n",
       "      <th>mean_fit_time</th>\n",
       "      <th>std_fit_time</th>\n",
       "      <th>mean_score_time</th>\n",
       "      <th>std_score_time</th>\n",
       "      <th>param_C</th>\n",
       "      <th>params</th>\n",
       "      <th>split0_test_score</th>\n",
       "      <th>split1_test_score</th>\n",
       "      <th>split2_test_score</th>\n",
       "      <th>split3_test_score</th>\n",
       "      <th>split4_test_score</th>\n",
       "      <th>mean_test_score</th>\n",
       "      <th>std_test_score</th>\n",
       "      <th>rank_test_score</th>\n",
       "    </tr>\n",
       "  </thead>\n",
       "  <tbody>\n",
       "    <tr>\n",
       "      <th>0</th>\n",
       "      <td>0.018100</td>\n",
       "      <td>0.003381</td>\n",
       "      <td>0.002602</td>\n",
       "      <td>0.001358</td>\n",
       "      <td>0.0001</td>\n",
       "      <td>{'C': 0.0001}</td>\n",
       "      <td>0.772372</td>\n",
       "      <td>0.772372</td>\n",
       "      <td>0.772372</td>\n",
       "      <td>0.770350</td>\n",
       "      <td>0.770350</td>\n",
       "      <td>0.771563</td>\n",
       "      <td>0.000991</td>\n",
       "      <td>3</td>\n",
       "    </tr>\n",
       "    <tr>\n",
       "      <th>1</th>\n",
       "      <td>0.017800</td>\n",
       "      <td>0.005689</td>\n",
       "      <td>0.000999</td>\n",
       "      <td>0.001999</td>\n",
       "      <td>0.01</td>\n",
       "      <td>{'C': 0.01}</td>\n",
       "      <td>0.772372</td>\n",
       "      <td>0.772372</td>\n",
       "      <td>0.772372</td>\n",
       "      <td>0.770350</td>\n",
       "      <td>0.770350</td>\n",
       "      <td>0.771563</td>\n",
       "      <td>0.000991</td>\n",
       "      <td>3</td>\n",
       "    </tr>\n",
       "    <tr>\n",
       "      <th>2</th>\n",
       "      <td>0.025001</td>\n",
       "      <td>0.007655</td>\n",
       "      <td>0.003126</td>\n",
       "      <td>0.006252</td>\n",
       "      <td>1</td>\n",
       "      <td>{'C': 1}</td>\n",
       "      <td>0.772372</td>\n",
       "      <td>0.771660</td>\n",
       "      <td>0.770234</td>\n",
       "      <td>0.768212</td>\n",
       "      <td>0.768212</td>\n",
       "      <td>0.770138</td>\n",
       "      <td>0.001717</td>\n",
       "      <td>5</td>\n",
       "    </tr>\n",
       "    <tr>\n",
       "      <th>3</th>\n",
       "      <td>0.076212</td>\n",
       "      <td>0.008611</td>\n",
       "      <td>0.001652</td>\n",
       "      <td>0.001414</td>\n",
       "      <td>100</td>\n",
       "      <td>{'C': 100}</td>\n",
       "      <td>0.772372</td>\n",
       "      <td>0.775812</td>\n",
       "      <td>0.769519</td>\n",
       "      <td>0.770350</td>\n",
       "      <td>0.771576</td>\n",
       "      <td>0.771926</td>\n",
       "      <td>0.002177</td>\n",
       "      <td>2</td>\n",
       "    </tr>\n",
       "    <tr>\n",
       "      <th>4</th>\n",
       "      <td>0.113277</td>\n",
       "      <td>0.023437</td>\n",
       "      <td>0.004326</td>\n",
       "      <td>0.005841</td>\n",
       "      <td>10000</td>\n",
       "      <td>{'C': 10000}</td>\n",
       "      <td>0.813605</td>\n",
       "      <td>0.823668</td>\n",
       "      <td>0.804370</td>\n",
       "      <td>0.819319</td>\n",
       "      <td>0.799941</td>\n",
       "      <td>0.812181</td>\n",
       "      <td>0.008897</td>\n",
       "      <td>1</td>\n",
       "    </tr>\n",
       "  </tbody>\n",
       "</table>\n",
       "</div>"
      ],
      "text/plain": [
       "   mean_fit_time  std_fit_time  mean_score_time  std_score_time param_C  \\\n",
       "0       0.018100      0.003381         0.002602        0.001358  0.0001   \n",
       "1       0.017800      0.005689         0.000999        0.001999    0.01   \n",
       "2       0.025001      0.007655         0.003126        0.006252       1   \n",
       "3       0.076212      0.008611         0.001652        0.001414     100   \n",
       "4       0.113277      0.023437         0.004326        0.005841   10000   \n",
       "\n",
       "          params  split0_test_score  split1_test_score  split2_test_score  \\\n",
       "0  {'C': 0.0001}           0.772372           0.772372           0.772372   \n",
       "1    {'C': 0.01}           0.772372           0.772372           0.772372   \n",
       "2       {'C': 1}           0.772372           0.771660           0.770234   \n",
       "3     {'C': 100}           0.772372           0.775812           0.769519   \n",
       "4   {'C': 10000}           0.813605           0.823668           0.804370   \n",
       "\n",
       "   split3_test_score  split4_test_score  mean_test_score  std_test_score  \\\n",
       "0           0.770350           0.770350         0.771563        0.000991   \n",
       "1           0.770350           0.770350         0.771563        0.000991   \n",
       "2           0.768212           0.768212         0.770138        0.001717   \n",
       "3           0.770350           0.771576         0.771926        0.002177   \n",
       "4           0.819319           0.799941         0.812181        0.008897   \n",
       "\n",
       "   rank_test_score  \n",
       "0                3  \n",
       "1                3  \n",
       "2                5  \n",
       "3                2  \n",
       "4                1  "
      ]
     },
     "execution_count": 241,
     "metadata": {},
     "output_type": "execute_result"
    }
   ],
   "source": [
    "result = gsv.cv_results_\n",
    "df = pd.DataFrame(result)\n",
    "df"
   ]
  },
  {
   "cell_type": "code",
   "execution_count": null,
   "metadata": {},
   "outputs": [],
   "source": []
  },
  {
   "cell_type": "code",
   "execution_count": 248,
   "metadata": {},
   "outputs": [
    {
     "data": {
      "image/png": "[encoded data removed]",
      "text/plain": [
       "<Figure size 576x432 with 1 Axes>"
      ]
     },
     "metadata": {
      "needs_background": "light"
     },
     "output_type": "display_data"
    }
   ],
   "source": [
    "plt.figure(figsize=(8,6))\n",
    "plt.xlabel(\"C\",fontsize=15)\n",
    "plt.ylabel(\"f1_weighted\")\n",
    "plt.title('f1_weighted v/s C')\n",
    "plt.plot(df['param_C'],df['mean_test_score'],linestyle='dashed', marker='o', markerfacecolor='red', markersize=6)\n",
    "plt.show()"
   ]
  },
  {
   "cell_type": "code",
   "execution_count": 249,
   "metadata": {},
   "outputs": [
    {
     "data": {
      "text/plain": [
       "1496"
      ]
     },
     "execution_count": 249,
     "metadata": {},
     "output_type": "execute_result"
    }
   ],
   "source": [
    "len(sent_vectors_test)"
   ]
  },
  {
   "cell_type": "code",
   "execution_count": 250,
   "metadata": {},
   "outputs": [
    {
     "data": {
      "text/plain": [
       "3490"
      ]
     },
     "execution_count": 250,
     "metadata": {},
     "output_type": "execute_result"
    }
   ],
   "source": [
    "len(sent_vectors_train)"
   ]
  },
  {
   "cell_type": "markdown",
   "metadata": {},
   "source": [
    "### Finding the accuracy in Test data using calculated optimal C"
   ]
  },
  {
   "cell_type": "code",
   "execution_count": 253,
   "metadata": {},
   "outputs": [],
   "source": [
    "LR = LogisticRegression(penalty='l2',C=10000,solver='liblinear')\n",
    "LR.fit(sent_vectors_train,Y_train)\n",
    "y_pred = LR.predict(sent_vectors_test)"
   ]
  },
  {
   "cell_type": "code",
   "execution_count": 254,
   "metadata": {},
   "outputs": [
    {
     "name": "stdout",
     "output_type": "stream",
     "text": [
      "Accuracy on test set: 17.714%\n",
      "Precision on test set: 0.587\n",
      "Recall on test set: 0.502\n",
      "F1-Score on test set: 0.152\n"
     ]
    }
   ],
   "source": [
    "print(\"Accuracy on test set: %0.3f%%\"%(accuracy_score(Y_test, y_pred)*100))\n",
    "print(\"Precision on test set: %0.3f\"%(precision_score(Y_test, y_pred,average='macro')))\n",
    "print(\"Recall on test set: %0.3f\"%(recall_score(Y_test, y_pred,average='macro')))\n",
    "print(\"F1-Score on test set: %0.3f\"%(f1_score(Y_test, y_pred,average='macro')))"
   ]
  },
  {
   "cell_type": "code",
   "execution_count": 255,
   "metadata": {},
   "outputs": [
    {
     "data": {
      "text/plain": [
       "<matplotlib.axes._subplots.AxesSubplot at 0x221a43f4cc0>"
      ]
     },
     "execution_count": 255,
     "metadata": {},
     "output_type": "execute_result"
    },
    {
     "data": {
      "image/png": "[encoded data removed]",
      "text/plain": [
       "<Figure size 432x288 with 2 Axes>"
      ]
     },
     "metadata": {
      "needs_background": "light"
     },
     "output_type": "display_data"
    }
   ],
   "source": [
    "cnf = confusion_matrix(Y_test, y_pred)\n",
    "sns.heatmap(cnf,annot=True,fmt='d',annot_kws={'size':20})"
   ]
  },
  {
   "cell_type": "code",
   "execution_count": null,
   "metadata": {},
   "outputs": [],
   "source": []
  },
  {
   "cell_type": "markdown",
   "metadata": {},
   "source": [
    "### Finding the optimal C using RandomSearchCv"
   ]
  },
  {
   "cell_type": "code",
   "execution_count": 257,
   "metadata": {},
   "outputs": [
    {
     "name": "stdout",
     "output_type": "stream",
     "text": [
      "Fitting 5 folds for each of 10 candidates, totalling 50 fits\n"
     ]
    },
    {
     "name": "stderr",
     "output_type": "stream",
     "text": [
      "[Parallel(n_jobs=-1)]: Using backend LokyBackend with 4 concurrent workers.\n",
      "[Parallel(n_jobs=-1)]: Done  42 tasks      | elapsed:    8.0s\n"
     ]
    },
    {
     "name": "stdout",
     "output_type": "stream",
     "text": [
      "Best HyperParameter:  {'C': 0.04616733058150002}\n",
      "0.8432664756446991\n"
     ]
    },
    {
     "name": "stderr",
     "output_type": "stream",
     "text": [
      "[Parallel(n_jobs=-1)]: Done  50 out of  50 | elapsed:    9.3s finished\n"
     ]
    }
   ],
   "source": [
    "LR = LogisticRegression()\n",
    "C_value = {'C':uniform()}\n",
    "rsv = RandomizedSearchCV(LR, param_distributions = C_value , cv=5,verbose=1, scoring='f1_micro', n_jobs=-1)\n",
    "\n",
    "rsv.fit(sent_vectors_train,Y_train)\n",
    "\n",
    "print(\"Best HyperParameter: \",rsv.best_params_)\n",
    "print(rsv.best_score_)\n",
    "optimal_C=rsv.best_score_"
   ]
  },
  {
   "cell_type": "code",
   "execution_count": 258,
   "metadata": {},
   "outputs": [
    {
     "data": {
      "text/html": [
       "<div>\n",
       "<style scoped>\n",
       "    .dataframe tbody tr th:only-of-type {\n",
       "        vertical-align: middle;\n",
       "    }\n",
       "\n",
       "    .dataframe tbody tr th {\n",
       "        vertical-align: top;\n",
       "    }\n",
       "\n",
       "    .dataframe thead th {\n",
       "        text-align: right;\n",
       "    }\n",
       "</style>\n",
       "<table border=\"1\" class=\"dataframe\">\n",
       "  <thead>\n",
       "    <tr style=\"text-align: right;\">\n",
       "      <th></th>\n",
       "      <th>mean_fit_time</th>\n",
       "      <th>std_fit_time</th>\n",
       "      <th>mean_score_time</th>\n",
       "      <th>std_score_time</th>\n",
       "      <th>param_C</th>\n",
       "      <th>params</th>\n",
       "      <th>split0_test_score</th>\n",
       "      <th>split1_test_score</th>\n",
       "      <th>split2_test_score</th>\n",
       "      <th>split3_test_score</th>\n",
       "      <th>split4_test_score</th>\n",
       "      <th>mean_test_score</th>\n",
       "      <th>std_test_score</th>\n",
       "      <th>rank_test_score</th>\n",
       "    </tr>\n",
       "  </thead>\n",
       "  <tbody>\n",
       "    <tr>\n",
       "      <th>0</th>\n",
       "      <td>0.051807</td>\n",
       "      <td>0.006852</td>\n",
       "      <td>0.002798</td>\n",
       "      <td>0.001720</td>\n",
       "      <td>0.849811</td>\n",
       "      <td>{'C': 0.8498111784689618}</td>\n",
       "      <td>0.84384</td>\n",
       "      <td>0.842407</td>\n",
       "      <td>0.839542</td>\n",
       "      <td>0.838109</td>\n",
       "      <td>0.838109</td>\n",
       "      <td>0.840401</td>\n",
       "      <td>0.002328</td>\n",
       "      <td>5</td>\n",
       "    </tr>\n",
       "    <tr>\n",
       "      <th>1</th>\n",
       "      <td>0.029578</td>\n",
       "      <td>0.009553</td>\n",
       "      <td>0.002203</td>\n",
       "      <td>0.001836</td>\n",
       "      <td>0.0461673</td>\n",
       "      <td>{'C': 0.04616733058150002}</td>\n",
       "      <td>0.84384</td>\n",
       "      <td>0.843840</td>\n",
       "      <td>0.843840</td>\n",
       "      <td>0.842407</td>\n",
       "      <td>0.842407</td>\n",
       "      <td>0.843266</td>\n",
       "      <td>0.000702</td>\n",
       "      <td>1</td>\n",
       "    </tr>\n",
       "    <tr>\n",
       "      <th>2</th>\n",
       "      <td>0.028128</td>\n",
       "      <td>0.005044</td>\n",
       "      <td>0.002422</td>\n",
       "      <td>0.001360</td>\n",
       "      <td>0.0590469</td>\n",
       "      <td>{'C': 0.059046895599854654}</td>\n",
       "      <td>0.84384</td>\n",
       "      <td>0.843840</td>\n",
       "      <td>0.843840</td>\n",
       "      <td>0.842407</td>\n",
       "      <td>0.842407</td>\n",
       "      <td>0.843266</td>\n",
       "      <td>0.000702</td>\n",
       "      <td>1</td>\n",
       "    </tr>\n",
       "    <tr>\n",
       "      <th>3</th>\n",
       "      <td>0.027199</td>\n",
       "      <td>0.002993</td>\n",
       "      <td>0.003198</td>\n",
       "      <td>0.000750</td>\n",
       "      <td>0.191376</td>\n",
       "      <td>{'C': 0.1913757134591747}</td>\n",
       "      <td>0.84384</td>\n",
       "      <td>0.842407</td>\n",
       "      <td>0.839542</td>\n",
       "      <td>0.838109</td>\n",
       "      <td>0.838109</td>\n",
       "      <td>0.840401</td>\n",
       "      <td>0.002328</td>\n",
       "      <td>5</td>\n",
       "    </tr>\n",
       "    <tr>\n",
       "      <th>4</th>\n",
       "      <td>0.024328</td>\n",
       "      <td>0.004595</td>\n",
       "      <td>0.002200</td>\n",
       "      <td>0.001326</td>\n",
       "      <td>0.0470363</td>\n",
       "      <td>{'C': 0.047036298765401274}</td>\n",
       "      <td>0.84384</td>\n",
       "      <td>0.843840</td>\n",
       "      <td>0.843840</td>\n",
       "      <td>0.842407</td>\n",
       "      <td>0.842407</td>\n",
       "      <td>0.843266</td>\n",
       "      <td>0.000702</td>\n",
       "      <td>1</td>\n",
       "    </tr>\n",
       "    <tr>\n",
       "      <th>5</th>\n",
       "      <td>0.042492</td>\n",
       "      <td>0.016171</td>\n",
       "      <td>0.002200</td>\n",
       "      <td>0.001939</td>\n",
       "      <td>0.878019</td>\n",
       "      <td>{'C': 0.8780194325052656}</td>\n",
       "      <td>0.84384</td>\n",
       "      <td>0.842407</td>\n",
       "      <td>0.839542</td>\n",
       "      <td>0.838109</td>\n",
       "      <td>0.838109</td>\n",
       "      <td>0.840401</td>\n",
       "      <td>0.002328</td>\n",
       "      <td>5</td>\n",
       "    </tr>\n",
       "    <tr>\n",
       "      <th>6</th>\n",
       "      <td>0.039634</td>\n",
       "      <td>0.005685</td>\n",
       "      <td>0.001599</td>\n",
       "      <td>0.001356</td>\n",
       "      <td>0.324621</td>\n",
       "      <td>{'C': 0.32462057529220134}</td>\n",
       "      <td>0.84384</td>\n",
       "      <td>0.842407</td>\n",
       "      <td>0.839542</td>\n",
       "      <td>0.838109</td>\n",
       "      <td>0.838109</td>\n",
       "      <td>0.840401</td>\n",
       "      <td>0.002328</td>\n",
       "      <td>5</td>\n",
       "    </tr>\n",
       "    <tr>\n",
       "      <th>7</th>\n",
       "      <td>0.025001</td>\n",
       "      <td>0.007653</td>\n",
       "      <td>0.006246</td>\n",
       "      <td>0.007649</td>\n",
       "      <td>0.153433</td>\n",
       "      <td>{'C': 0.15343318713391563}</td>\n",
       "      <td>0.84384</td>\n",
       "      <td>0.843840</td>\n",
       "      <td>0.839542</td>\n",
       "      <td>0.842407</td>\n",
       "      <td>0.838109</td>\n",
       "      <td>0.841547</td>\n",
       "      <td>0.002328</td>\n",
       "      <td>4</td>\n",
       "    </tr>\n",
       "    <tr>\n",
       "      <th>8</th>\n",
       "      <td>0.017303</td>\n",
       "      <td>0.003350</td>\n",
       "      <td>0.003527</td>\n",
       "      <td>0.006104</td>\n",
       "      <td>0.189384</td>\n",
       "      <td>{'C': 0.18938417270918306}</td>\n",
       "      <td>0.84384</td>\n",
       "      <td>0.842407</td>\n",
       "      <td>0.839542</td>\n",
       "      <td>0.838109</td>\n",
       "      <td>0.838109</td>\n",
       "      <td>0.840401</td>\n",
       "      <td>0.002328</td>\n",
       "      <td>5</td>\n",
       "    </tr>\n",
       "    <tr>\n",
       "      <th>9</th>\n",
       "      <td>0.032350</td>\n",
       "      <td>0.003436</td>\n",
       "      <td>0.004326</td>\n",
       "      <td>0.005806</td>\n",
       "      <td>0.938621</td>\n",
       "      <td>{'C': 0.9386210526618939}</td>\n",
       "      <td>0.84384</td>\n",
       "      <td>0.842407</td>\n",
       "      <td>0.839542</td>\n",
       "      <td>0.838109</td>\n",
       "      <td>0.838109</td>\n",
       "      <td>0.840401</td>\n",
       "      <td>0.002328</td>\n",
       "      <td>5</td>\n",
       "    </tr>\n",
       "  </tbody>\n",
       "</table>\n",
       "</div>"
      ],
      "text/plain": [
       "   mean_fit_time  std_fit_time  mean_score_time  std_score_time    param_C  \\\n",
       "0       0.051807      0.006852         0.002798        0.001720   0.849811   \n",
       "1       0.029578      0.009553         0.002203        0.001836  0.0461673   \n",
       "2       0.028128      0.005044         0.002422        0.001360  0.0590469   \n",
       "3       0.027199      0.002993         0.003198        0.000750   0.191376   \n",
       "4       0.024328      0.004595         0.002200        0.001326  0.0470363   \n",
       "5       0.042492      0.016171         0.002200        0.001939   0.878019   \n",
       "6       0.039634      0.005685         0.001599        0.001356   0.324621   \n",
       "7       0.025001      0.007653         0.006246        0.007649   0.153433   \n",
       "8       0.017303      0.003350         0.003527        0.006104   0.189384   \n",
       "9       0.032350      0.003436         0.004326        0.005806   0.938621   \n",
       "\n",
       "                        params  split0_test_score  split1_test_score  \\\n",
       "0    {'C': 0.8498111784689618}            0.84384           0.842407   \n",
       "1   {'C': 0.04616733058150002}            0.84384           0.843840   \n",
       "2  {'C': 0.059046895599854654}            0.84384           0.843840   \n",
       "3    {'C': 0.1913757134591747}            0.84384           0.842407   \n",
       "4  {'C': 0.047036298765401274}            0.84384           0.843840   \n",
       "5    {'C': 0.8780194325052656}            0.84384           0.842407   \n",
       "6   {'C': 0.32462057529220134}            0.84384           0.842407   \n",
       "7   {'C': 0.15343318713391563}            0.84384           0.843840   \n",
       "8   {'C': 0.18938417270918306}            0.84384           0.842407   \n",
       "9    {'C': 0.9386210526618939}            0.84384           0.842407   \n",
       "\n",
       "   split2_test_score  split3_test_score  split4_test_score  mean_test_score  \\\n",
       "0           0.839542           0.838109           0.838109         0.840401   \n",
       "1           0.843840           0.842407           0.842407         0.843266   \n",
       "2           0.843840           0.842407           0.842407         0.843266   \n",
       "3           0.839542           0.838109           0.838109         0.840401   \n",
       "4           0.843840           0.842407           0.842407         0.843266   \n",
       "5           0.839542           0.838109           0.838109         0.840401   \n",
       "6           0.839542           0.838109           0.838109         0.840401   \n",
       "7           0.839542           0.842407           0.838109         0.841547   \n",
       "8           0.839542           0.838109           0.838109         0.840401   \n",
       "9           0.839542           0.838109           0.838109         0.840401   \n",
       "\n",
       "   std_test_score  rank_test_score  \n",
       "0        0.002328                5  \n",
       "1        0.000702                1  \n",
       "2        0.000702                1  \n",
       "3        0.002328                5  \n",
       "4        0.000702                1  \n",
       "5        0.002328                5  \n",
       "6        0.002328                5  \n",
       "7        0.002328                4  \n",
       "8        0.002328                5  \n",
       "9        0.002328                5  "
      ]
     },
     "execution_count": 258,
     "metadata": {},
     "output_type": "execute_result"
    }
   ],
   "source": [
    "result = rsv.cv_results_\n",
    "df = pd.DataFrame(result)\n",
    "df"
   ]
  },
  {
   "cell_type": "code",
   "execution_count": 259,
   "metadata": {},
   "outputs": [
    {
     "data": {
      "image/png": "[encoded data removed]",
      "text/plain": [
       "<Figure size 576x432 with 1 Axes>"
      ]
     },
     "metadata": {
      "needs_background": "light"
     },
     "output_type": "display_data"
    }
   ],
   "source": [
    "plt.figure(figsize=(8,6))\n",
    "plt.xlabel(\"C\",fontsize=15)\n",
    "plt.ylabel(\"f1_weighted\")\n",
    "plt.title('f1_weighted v/s C')\n",
    "plt.plot(df['param_C'],df['mean_test_score'],linestyle='dashed', marker='o', markerfacecolor='red', markersize=6)\n",
    "plt.show()"
   ]
  },
  {
   "cell_type": "code",
   "execution_count": null,
   "metadata": {},
   "outputs": [],
   "source": []
  },
  {
   "cell_type": "markdown",
   "metadata": {},
   "source": [
    "### Finding the accuracy in Test data using calculated optimal C"
   ]
  },
  {
   "cell_type": "code",
   "execution_count": 260,
   "metadata": {},
   "outputs": [],
   "source": [
    "LR = LogisticRegression(penalty='l2',C=0.6801242601241545,solver='liblinear')\n",
    "LR.fit(sent_vectors_train,Y_train)\n",
    "y_pred = LR.predict(sent_vectors_test)"
   ]
  },
  {
   "cell_type": "code",
   "execution_count": 261,
   "metadata": {},
   "outputs": [
    {
     "name": "stdout",
     "output_type": "stream",
     "text": [
      "Accuracy on test set: 82.286%\n",
      "Precision on test set: 0.413\n",
      "Recall on test set: 0.498\n",
      "F1-Score on test set: 0.451\n"
     ]
    }
   ],
   "source": [
    "print(\"Accuracy on test set: %0.3f%%\"%(accuracy_score(Y_test, y_pred)*100))\n",
    "print(\"Precision on test set: %0.3f\"%(precision_score(Y_test, y_pred,average='macro')))\n",
    "print(\"Recall on test set: %0.3f\"%(recall_score(Y_test, y_pred,average='macro')))\n",
    "print(\"F1-Score on test set: %0.3f\"%(f1_score(Y_test, y_pred,average='macro')))"
   ]
  },
  {
   "cell_type": "code",
   "execution_count": null,
   "metadata": {},
   "outputs": [],
   "source": []
  },
  {
   "cell_type": "code",
   "execution_count": 262,
   "metadata": {},
   "outputs": [],
   "source": [
    "# Ploting Heatmap"
   ]
  },
  {
   "cell_type": "code",
   "execution_count": 263,
   "metadata": {
    "scrolled": false
   },
   "outputs": [
    {
     "data": {
      "text/plain": [
       "<matplotlib.axes._subplots.AxesSubplot at 0x221a5a242b0>"
      ]
     },
     "execution_count": 263,
     "metadata": {},
     "output_type": "execute_result"
    },
    {
     "data": {
      "image/png": "[encoded data removed]",
      "text/plain": [
       "<Figure size 432x288 with 2 Axes>"
      ]
     },
     "metadata": {
      "needs_background": "light"
     },
     "output_type": "display_data"
    }
   ],
   "source": [
    "cnf = confusion_matrix(Y_test, y_pred)\n",
    "sns.heatmap(cnf,annot=True,fmt='d',annot_kws={'size':20})"
   ]
  },
  {
   "cell_type": "code",
   "execution_count": null,
   "metadata": {},
   "outputs": [],
   "source": []
  },
  {
   "cell_type": "markdown",
   "metadata": {},
   "source": [
    "# Grid Search Summary"
   ]
  },
  {
   "cell_type": "markdown",
   "metadata": {},
   "source": [
    "| Model | hyper parameter   |F1score test|accuracy Test\n",
    "|------|------|------|------|\n",
    "|  unigram  | 1| 0.708|86.76%|\n",
    "| Bi-gram | 0.01|0.680| 86.76%|\n",
    "|  Tf-IDF | 100| 0.689| 85.96%|\n",
    "   | Av-Word2Vec | 10| 0.451| 82.28%|\n"
   ]
  },
  {
   "cell_type": "markdown",
   "metadata": {},
   "source": [
    "# Random Search Summary"
   ]
  },
  {
   "cell_type": "markdown",
   "metadata": {},
   "source": [
    "| Model | hyper parameter   |F1score test|accuracy Test\n",
    "|------|------|------|------|\n",
    "|  unigram  | 0.7432| 0.708|86.96%|\n",
    "| Bi-gram | 0.8670|0.684| 86.83%|\n",
    "|  Tf-IDF | 0.0175| 0.688| 87.03%|\n",
    "| Av-Word2Vec | 0.1078| 0.452| 82.55%|"
   ]
  },
  {
   "cell_type": "code",
   "execution_count": null,
   "metadata": {},
   "outputs": [],
   "source": []
  }
 ],
 "metadata": {
  "kernelspec": {
   "display_name": "Python 3",
   "language": "python",
   "name": "python3"
  },
  "language_info": {
   "codemirror_mode": {
    "name": "ipython",
    "version": 3
   },
   "file_extension": ".py",
   "mimetype": "text/x-python",
   "name": "python",
   "nbconvert_exporter": "python",
   "pygments_lexer": "ipython3",
   "version": "3.7.3"
  }
 },
 "nbformat": 4,
 "nbformat_minor": 2
}
